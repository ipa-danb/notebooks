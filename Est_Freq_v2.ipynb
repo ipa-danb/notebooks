{
 "cells": [
  {
   "cell_type": "code",
   "execution_count": 16,
   "metadata": {
    "collapsed": true
   },
   "outputs": [],
   "source": [
    "import numpy as np"
   ]
  },
  {
   "cell_type": "markdown",
   "metadata": {},
   "source": [
    "![alt text](https://abload.de/img/t249po2.png)\n"
   ]
  },
  {
   "cell_type": "code",
   "execution_count": 17,
   "metadata": {},
   "outputs": [
    {
     "name": "stdout",
     "output_type": "stream",
     "text": [
      "Time to reach breaking point:  16.2323498701  ms\n"
     ]
    }
   ],
   "source": [
    "K = 93.143*2                 # [N/mm] Spring constant\n",
    "M_bend_max = 94              # [Nm]   Max Torque from [1]\n",
    "l_orthosis = 0.25            # [m]    length of orthosis arm\n",
    "l_arm = 0.5                  # [m]    length of arm\n",
    "d_gel = 65.5/1000            # [m]    diameter orthosis joint\n",
    "Fr = 1852/2                  # [N]    Maximum force in the belt exerted by the motor -> maximum exerted force by the belt = 1/2\n",
    "                             #        based on calculations by orthosis designer\n",
    "\n",
    "r_bieg = (l_arm - l_orthosis + l_orthosis/2)/2  # [m]  radius for M_bend torque\n",
    "F_orthosis = M_bend_max/r_bieg                  # [N]  Maximum contact force exerted by orthosis \n",
    "M_orthosis = F_orthosis*l_orthosis/2            # [Nm] Maximum torque wrt to orthosis joint\n",
    "F_zug = M_orthosis/(d_gel/2)                    # [N]  Force in belt\n",
    "x_max = min(F_zug/(K),9.00)                     # [mm] Spring displacement \n",
    "\n",
    "m_spring = 0.5                                  # [kg] mass of springs \n",
    "                                \n",
    "a        = (Fr + Fr - min(891.843*2,F_zug))/(m_spring)  # acceleration \n",
    "# rough estimation based on (a_start + a_finish)/2, capped off at maximum counterforce of springs\n",
    "\n",
    "t        = np.sqrt(x_max/1000 *4 / a)\n",
    "print(\"Time to reach breaking point: \" , t*1000 , \" ms\")"
   ]
  },
  {
   "cell_type": "markdown",
   "metadata": {},
   "source": [
    "-> | EMG device | -> ? -> | PC | -> 1ms -> | Motor board | -> <<1ms -> | Motor | -> 7.85ms -> | Orthosis |"
   ]
  },
  {
   "cell_type": "code",
   "execution_count": 18,
   "metadata": {},
   "outputs": [
    {
     "name": "stdout",
     "output_type": "stream",
     "text": [
      "Estimated Frequency for EMG -> PC :  419.753627522\n"
     ]
    }
   ],
   "source": [
    "T_safety = 5   # [ms]\n",
    "T_motor = 7.85 # [ms]\n",
    "T_ronex = 1    # [ms]\n",
    "T_emg = t - (T_safety + T_motor + T_ronex)/1000  # [s] period time for EMG board\n",
    "print(\"Estimated Frequency for EMG -> PC : \", 1/(T_emg))"
   ]
  },
  {
   "cell_type": "markdown",
   "metadata": {},
   "source": [
    "[1] Pintar, F. A., & Yoganandan, N. (2002, March). Dynamic Bending Tolerance of the Human Forearm. Traffic Injury Prevention. Informa UK Limited. https://doi.org/10.1080/15389580210520"
   ]
  }
 ],
 "metadata": {
  "kernelspec": {
   "display_name": "Python 3",
   "language": "python",
   "name": "python3"
  },
  "language_info": {
   "codemirror_mode": {
    "name": "ipython",
    "version": 3
   },
   "file_extension": ".py",
   "mimetype": "text/x-python",
   "name": "python",
   "nbconvert_exporter": "python",
   "pygments_lexer": "ipython3",
   "version": "3.6.1"
  }
 },
 "nbformat": 4,
 "nbformat_minor": 2
}
