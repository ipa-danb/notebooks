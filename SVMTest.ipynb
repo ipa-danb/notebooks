{
 "cells": [
  {
   "cell_type": "code",
   "execution_count": 1,
   "metadata": {},
   "outputs": [
    {
     "name": "stderr",
     "output_type": "stream",
     "text": [
      "Using TensorFlow backend.\n"
     ]
    }
   ],
   "source": [
    "import pandas as pd\n",
    "import sys, getopt\n",
    "import numpy as np\n",
    "import pprint\n",
    "import os\n",
    "from datetime import datetime\n",
    "import glob\n",
    "import pandas as pd\n",
    "import emgimporter\n",
    "import pickle\n",
    "import time\n",
    "\n",
    "def augmentData(x,y,nb_roll,steps):\n",
    "    assert len(x.shape) > 1\n",
    "    x_cp = x\n",
    "    y_cp = y\n",
    "    for i in range(-nb_roll,nb_roll,steps):\n",
    "        x_cp = np.vstack((x_cp,np.roll(x,i,axis=1)))\n",
    "        y_cp = np.vstack((y_cp,y))\n",
    "\n",
    "    return x_cp,y_cp\n",
    "\n",
    "\n",
    "dic = { 1: 'Tasse aufnehmen',\n",
    "        2: 'Tasse halten',\n",
    "        3: 'Tasse abstellen',\n",
    "        4: 'Tasse hoch&runter',\n",
    "        8: 'Ruhe (Supination)',\n",
    "        9: 'Ruhe (Pronation)'\n",
    "      }\n",
    "its = ['cupv1','cupv2','kettlev1','data','loosev1','jascha','markus','Sirius']\n",
    "\n",
    "data_arch = {   0: (7,8,9),\n",
    "                1: (2,4),\n",
    "             }\n",
    "\n",
    "feed_dic = emgimporter.import_folder(its,dic,path=['emg_data','ipa_emg'])\n",
    "\n",
    "x,y = emgimporter.prep_data(feed_dic,data_arch)\n",
    "\n",
    "y_cut_train, y_cut_test, x_cut_train, x_cut_test = emgimporter.split_data(x,y,splitratio=0.05,shuffle=True)\n",
    "\n",
    "x,y = augmentData(x_cut_train,y_cut_train,2,1)\n"
   ]
  },
  {
   "cell_type": "code",
   "execution_count": 13,
   "metadata": {},
   "outputs": [],
   "source": [
    "# Prep Data for SVM classifier\n",
    "\n",
    "# Train data\n",
    "svm_y_train_ = y\n",
    "svm_y_train_[:,0] *= 0\n",
    "svm_y_train = np.sum(svm_y_train_,axis=1)\n",
    "\n",
    "# Test data\n",
    "svm_y_test_ = y_cut_test\n",
    "svm_y_test_[:,0] *= 0\n",
    "svm_y_test = np.sum(svm_y_test_,axis=1)\n"
   ]
  },
  {
   "cell_type": "code",
   "execution_count": 31,
   "metadata": {},
   "outputs": [
    {
     "name": "stdout",
     "output_type": "stream",
     "text": [
      "[LibSVM]"
     ]
    },
    {
     "data": {
      "text/plain": [
       "SVC(C=1.0, cache_size=200, class_weight=None, coef0=0.0,\n",
       "  decision_function_shape=None, degree=3, gamma='auto', kernel='rbf',\n",
       "  max_iter=-1, probability=False, random_state=None, shrinking=True,\n",
       "  tol=0.001, verbose=True)"
      ]
     },
     "execution_count": 31,
     "metadata": {},
     "output_type": "execute_result"
    }
   ],
   "source": [
    "# Train SVM Classifier\n",
    "# Default kernel: RBF w/ γ = 1/n_features\n",
    "\n",
    "from sklearn.svm import SVC\n",
    "clf = SVC(verbose=True)\n",
    "clf.fit(x/255,svm_y_train)"
   ]
  },
  {
   "cell_type": "code",
   "execution_count": 15,
   "metadata": {},
   "outputs": [
    {
     "name": "stdout",
     "output_type": "stream",
     "text": [
      "SVM Score:  0.737177445046\n"
     ]
    }
   ],
   "source": [
    "from sklearn.metrics import accuracy_score\n",
    "\n",
    "y_true = k2_test\n",
    "y_pred_svm = clf.predict(x_cut_test)\n",
    "svm_acc = accuracy_score(y_true,y_pred_svm)\n",
    "print(\"SVM Score: \", svm_acc)"
   ]
  },
  {
   "cell_type": "code",
   "execution_count": 18,
   "metadata": {},
   "outputs": [
    {
     "data": {
      "text/plain": [
       "KNeighborsClassifier(algorithm='auto', leaf_size=30, metric='minkowski',\n",
       "           metric_params=None, n_jobs=1, n_neighbors=2, p=2,\n",
       "           weights='distance')"
      ]
     },
     "execution_count": 18,
     "metadata": {},
     "output_type": "execute_result"
    }
   ],
   "source": [
    "from sklearn.neighbors import KNeighborsClassifier\n",
    "neigh = KNeighborsClassifier(n_neighbors=2, weights='distance')\n",
    "neigh.fit(x, svm_y_train) "
   ]
  },
  {
   "cell_type": "code",
   "execution_count": 19,
   "metadata": {},
   "outputs": [
    {
     "name": "stdout",
     "output_type": "stream",
     "text": [
      "KNN Score:  0.957948391207\n"
     ]
    }
   ],
   "source": [
    "y_pred_knn = neigh.predict(x_cut_test)\n",
    "knn_acc = accuracy_score(y_true,y_pred_knn)\n",
    "print(\"KNN Score: \", knn_acc)"
   ]
  },
  {
   "cell_type": "code",
   "execution_count": 29,
   "metadata": {},
   "outputs": [],
   "source": [
    "kernelDict = {'rbf':[{'gamma':2**f} for f in range(-15,3,1)],'linear':{},'polynomial':{'degree':2,'coef0':1}, 'sigmoid':{'coef0':1}}"
   ]
  },
  {
   "cell_type": "code",
   "execution_count": 28,
   "metadata": {},
   "outputs": [
    {
     "name": "stdout",
     "output_type": "stream",
     "text": [
      "[0, 1]\n"
     ]
    }
   ],
   "source": [
    "print([r for r in range(0,2,1)])"
   ]
  },
  {
   "cell_type": "code",
   "execution_count": 32,
   "metadata": {},
   "outputs": [],
   "source": [
    "a = 2**np.linspace(-15,3,20)\n",
    "b = 2**np.linspace(-5,15,20)"
   ]
  },
  {
   "cell_type": "code",
   "execution_count": 33,
   "metadata": {},
   "outputs": [
    {
     "data": {
      "text/plain": [
       "array([  3.05175781e-05,   5.88486327e-05,   1.13480878e-04,\n",
       "         2.18831078e-04,   4.21983346e-04,   8.13732428e-04,\n",
       "         1.56916255e-03,   3.02589774e-03,   5.83499594e-03,\n",
       "         1.12519261e-02,   2.16976741e-02,   4.18407532e-02,\n",
       "         8.06836999e-02,   1.55586574e-01,   3.00025680e-01,\n",
       "         5.78555119e-01,   1.11565792e+00,   2.15138117e+00,\n",
       "         4.14862018e+00,   8.00000000e+00])"
      ]
     },
     "execution_count": 33,
     "metadata": {},
     "output_type": "execute_result"
    }
   ],
   "source": [
    "a"
   ]
  },
  {
   "cell_type": "code",
   "execution_count": 34,
   "metadata": {},
   "outputs": [
    {
     "data": {
      "text/plain": [
       "(20,)"
      ]
     },
     "execution_count": 34,
     "metadata": {},
     "output_type": "execute_result"
    }
   ],
   "source": [
    "a.shape"
   ]
  },
  {
   "cell_type": "code",
   "execution_count": 35,
   "metadata": {
    "collapsed": true
   },
   "outputs": [],
   "source": [
    "cc = np.vstack((a,b))"
   ]
  },
  {
   "cell_type": "code",
   "execution_count": 57,
   "metadata": {},
   "outputs": [],
   "source": [
    "cc = np.array(range(0,9))"
   ]
  },
  {
   "cell_type": "code",
   "execution_count": 62,
   "metadata": {},
   "outputs": [],
   "source": [
    "cc =cc.reshape((3,3))"
   ]
  },
  {
   "cell_type": "code",
   "execution_count": 66,
   "metadata": {},
   "outputs": [],
   "source": [
    "kk = np.pad(cc,((0,0),(2,2)),'wrap')"
   ]
  },
  {
   "cell_type": "code",
   "execution_count": 74,
   "metadata": {},
   "outputs": [
    {
     "data": {
      "text/plain": [
       "(3, 7)"
      ]
     },
     "execution_count": 74,
     "metadata": {},
     "output_type": "execute_result"
    }
   ],
   "source": [
    "kk.shape"
   ]
  },
  {
   "cell_type": "code",
   "execution_count": 68,
   "metadata": {},
   "outputs": [
    {
     "data": {
      "text/plain": [
       "array([[1, 2, 0, 1, 2, 0, 1],\n",
       "       [4, 5, 3, 4, 5, 3, 4],\n",
       "       [7, 8, 6, 7, 8, 6, 7]])"
      ]
     },
     "execution_count": 68,
     "metadata": {},
     "output_type": "execute_result"
    }
   ],
   "source": [
    "kk"
   ]
  },
  {
   "cell_type": "code",
   "execution_count": 77,
   "metadata": {},
   "outputs": [],
   "source": [
    "a= [(0,0) for f in range(0,9)]"
   ]
  },
  {
   "cell_type": "code",
   "execution_count": 79,
   "metadata": {},
   "outputs": [],
   "source": [
    "axis = 2\n",
    "a[axis] = (2,2)"
   ]
  },
  {
   "cell_type": "code",
   "execution_count": 80,
   "metadata": {},
   "outputs": [
    {
     "data": {
      "text/plain": [
       "[(0, 0), (0, 0), (2, 2), (0, 0), (0, 0), (0, 0), (0, 0), (0, 0), (0, 0)]"
      ]
     },
     "execution_count": 80,
     "metadata": {},
     "output_type": "execute_result"
    }
   ],
   "source": [
    "a"
   ]
  },
  {
   "cell_type": "code",
   "execution_count": 81,
   "metadata": {},
   "outputs": [
    {
     "data": {
      "text/plain": [
       "2"
      ]
     },
     "execution_count": 81,
     "metadata": {},
     "output_type": "execute_result"
    }
   ],
   "source": [
    "len(kk.shape)"
   ]
  },
  {
   "cell_type": "code",
   "execution_count": 82,
   "metadata": {
    "collapsed": true
   },
   "outputs": [],
   "source": [
    "def padStuff(matrix,expsize=(2,2),axis=0,mode='wrap'):\n",
    "    dim = len(matrix.shape)\n",
    "    tup1 = [(0,0) for _ in range(0,dim)]\n",
    "    tup1[axis] = expsize\n",
    "    return np.pad(matrix,tup1,mode)"
   ]
  },
  {
   "cell_type": "code",
   "execution_count": 85,
   "metadata": {},
   "outputs": [
    {
     "data": {
      "text/plain": [
       "array([[0, 1, 1, 2, 0, 1, 2, 0, 1, 1, 2],\n",
       "       [3, 4, 4, 5, 3, 4, 5, 3, 4, 4, 5],\n",
       "       [6, 7, 7, 8, 6, 7, 8, 6, 7, 7, 8]])"
      ]
     },
     "execution_count": 85,
     "metadata": {},
     "output_type": "execute_result"
    }
   ],
   "source": [
    "padStuff(kk,axis=1)"
   ]
  },
  {
   "cell_type": "code",
   "execution_count": 86,
   "metadata": {},
   "outputs": [
    {
     "data": {
      "text/plain": [
       "array([[1, 2, 0, 1, 2, 0, 1],\n",
       "       [4, 5, 3, 4, 5, 3, 4],\n",
       "       [7, 8, 6, 7, 8, 6, 7]])"
      ]
     },
     "execution_count": 86,
     "metadata": {},
     "output_type": "execute_result"
    }
   ],
   "source": [
    "kk"
   ]
  },
  {
   "cell_type": "code",
   "execution_count": null,
   "metadata": {
    "collapsed": true
   },
   "outputs": [],
   "source": []
  }
 ],
 "metadata": {
  "kernelspec": {
   "display_name": "Python 3",
   "language": "python",
   "name": "python3"
  },
  "language_info": {
   "codemirror_mode": {
    "name": "ipython",
    "version": 3
   },
   "file_extension": ".py",
   "mimetype": "text/x-python",
   "name": "python",
   "nbconvert_exporter": "python",
   "pygments_lexer": "ipython3",
   "version": "3.6.1"
  }
 },
 "nbformat": 4,
 "nbformat_minor": 2
}
