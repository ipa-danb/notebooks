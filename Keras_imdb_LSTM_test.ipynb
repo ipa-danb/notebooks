{
 "cells": [
  {
   "cell_type": "code",
   "execution_count": 1,
   "metadata": {},
   "outputs": [
    {
     "name": "stderr",
     "output_type": "stream",
     "text": [
      "Using TensorFlow backend.\n"
     ]
    },
    {
     "name": "stdout",
     "output_type": "stream",
     "text": [
      "Loading data...\n",
      "25000 train sequences\n",
      "25000 test sequences\n",
      "Pad sequences (samples x time)\n",
      "x_train shape: (25000, 80)\n",
      "x_test shape: (25000, 80)\n",
      "Build model...\n",
      "Train...\n",
      "Train on 25000 samples, validate on 25000 samples\n",
      "Epoch 1/15\n",
      "25000/25000 [==============================] - 164s - loss: 0.4675 - acc: 0.7792 - val_loss: 0.3669 - val_acc: 0.8384\n",
      "Epoch 2/15\n",
      "25000/25000 [==============================] - 176s - loss: 0.2913 - acc: 0.8817 - val_loss: 0.3836 - val_acc: 0.8342\n",
      "Epoch 3/15\n",
      "25000/25000 [==============================] - 181s - loss: 0.2076 - acc: 0.9200 - val_loss: 0.4298 - val_acc: 0.8332\n",
      "Epoch 4/15\n",
      "25000/25000 [==============================] - 175s - loss: 0.1458 - acc: 0.9448 - val_loss: 0.5404 - val_acc: 0.8180\n",
      "Epoch 5/15\n",
      "25000/25000 [==============================] - 167s - loss: 0.0979 - acc: 0.9654 - val_loss: 0.5233 - val_acc: 0.8240\n",
      "Epoch 6/15\n",
      "25000/25000 [==============================] - 155s - loss: 0.0747 - acc: 0.9736 - val_loss: 0.6807 - val_acc: 0.8207\n",
      "Epoch 7/15\n",
      "25000/25000 [==============================] - 159s - loss: 0.0560 - acc: 0.9816 - val_loss: 0.6495 - val_acc: 0.8102\n",
      "Epoch 8/15\n",
      "25000/25000 [==============================] - 155s - loss: 0.0422 - acc: 0.9860 - val_loss: 0.7905 - val_acc: 0.8227\n",
      "Epoch 9/15\n",
      "25000/25000 [==============================] - 155s - loss: 0.0305 - acc: 0.9904 - val_loss: 0.7834 - val_acc: 0.8187\n",
      "Epoch 10/15\n",
      "25000/25000 [==============================] - 154s - loss: 0.0284 - acc: 0.9912 - val_loss: 0.9546 - val_acc: 0.7912\n",
      "Epoch 11/15\n",
      "25000/25000 [==============================] - 157s - loss: 0.0208 - acc: 0.9932 - val_loss: 0.9690 - val_acc: 0.8132\n",
      "Epoch 12/15\n",
      "25000/25000 [==============================] - 157s - loss: 0.0140 - acc: 0.9956 - val_loss: 1.0432 - val_acc: 0.8073\n",
      "Epoch 13/15\n",
      "25000/25000 [==============================] - 155s - loss: 0.0139 - acc: 0.9959 - val_loss: 1.0948 - val_acc: 0.8132\n",
      "Epoch 14/15\n",
      "25000/25000 [==============================] - 154s - loss: 0.0107 - acc: 0.9969 - val_loss: 1.0819 - val_acc: 0.8138\n",
      "Epoch 15/15\n",
      "25000/25000 [==============================] - 155s - loss: 0.0100 - acc: 0.9974 - val_loss: 1.0341 - val_acc: 0.8118\n",
      "25000/25000 [==============================] - 32s    \n",
      "Test score: 1.0341495291\n",
      "Test accuracy: 0.81184\n"
     ]
    }
   ],
   "source": [
    "from __future__ import print_function\n",
    "\n",
    "from keras.preprocessing import sequence\n",
    "from keras.models import Sequential\n",
    "from keras.layers import Dense, Embedding\n",
    "from keras.layers import LSTM\n",
    "from keras.datasets import imdb\n",
    "\n",
    "max_features = 200000\n",
    "maxlen = 80  # cut texts after this number of words (among top max_features most common words)\n",
    "batch_size = 32\n",
    "\n",
    "print('Loading data...')\n",
    "(x_train, y_train), (x_test, y_test) = imdb.load_data(num_words=max_features)\n",
    "print(len(x_train), 'train sequences')\n",
    "print(len(x_test), 'test sequences')\n",
    "\n",
    "print('Pad sequences (samples x time)')\n",
    "x_train = sequence.pad_sequences(x_train, maxlen=maxlen)\n",
    "x_test = sequence.pad_sequences(x_test, maxlen=maxlen)\n",
    "print('x_train shape:', x_train.shape)\n",
    "print('x_test shape:', x_test.shape)\n",
    "\n",
    "print('Build model...')\n",
    "model = Sequential()\n",
    "model.add(Embedding(max_features, 128))\n",
    "model.add(LSTM(128, dropout=0.2, recurrent_dropout=0.2))\n",
    "model.add(Dense(1, activation='sigmoid'))\n",
    "\n",
    "# try using different optimizers and different optimizer configs\n",
    "model.compile(loss='binary_crossentropy',\n",
    "              optimizer='adam',\n",
    "              metrics=['accuracy'])\n",
    "\n",
    "print('Train...')\n",
    "model.fit(x_train, y_train,\n",
    "          batch_size=batch_size,\n",
    "          epochs=15,\n",
    "          validation_data=(x_test, y_test))\n",
    "score, acc = model.evaluate(x_test, y_test,\n",
    "                            batch_size=batch_size)\n",
    "print('Test score:', score)\n",
    "print('Test accuracy:', acc)"
   ]
  },
  {
   "cell_type": "code",
   "execution_count": null,
   "metadata": {
    "collapsed": true
   },
   "outputs": [],
   "source": []
  }
 ],
 "metadata": {
  "kernelspec": {
   "display_name": "Python 3",
   "language": "python",
   "name": "python3"
  },
  "language_info": {
   "codemirror_mode": {
    "name": "ipython",
    "version": 3
   },
   "file_extension": ".py",
   "mimetype": "text/x-python",
   "name": "python",
   "nbconvert_exporter": "python",
   "pygments_lexer": "ipython3",
   "version": "3.6.1"
  }
 },
 "nbformat": 4,
 "nbformat_minor": 2
}
