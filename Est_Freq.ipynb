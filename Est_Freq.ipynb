{
 "cells": [
  {
   "cell_type": "code",
   "execution_count": 4,
   "metadata": {
    "collapsed": true
   },
   "outputs": [],
   "source": [
    "import numpy as np"
   ]
  },
  {
   "cell_type": "code",
   "execution_count": 1,
   "metadata": {
    "collapsed": true
   },
   "outputs": [],
   "source": [
    "JM    = 0.325      # kg/m^2   \n",
    "JRKvG = 0.335e-05  # kg/m^2   \n",
    "JAKvG = 0.176e-05  # kg/m^2   \n",
    "JRZ19 = 2.00e-11   # kg/m^2   \n",
    "JFL   = 1.00e-06   # kg/m^2   \n",
    "JZM   = 0.0228e-05 # kg/m^2   \n",
    "JRZ48 = 2.4e-09    # kg/m^2\n",
    "JSP   = 0.25e-05   # kg/m^2\n",
    "JLMu  = 2.45e-08   # kg/m^2"
   ]
  },
  {
   "cell_type": "code",
   "execution_count": 2,
   "metadata": {
    "collapsed": true
   },
   "outputs": [],
   "source": [
    "ig  = 2.5   # -\n",
    "isp = 51.52 # -"
   ]
  },
  {
   "cell_type": "code",
   "execution_count": 3,
   "metadata": {
    "collapsed": true
   },
   "outputs": [],
   "source": [
    "JgesPM = JM + JRKvG + JAKvG + 3*JRZ19 + JFL + JZM + JRZ48/ig**2 + JSP/ig**2 + JLMu/(ig**2 + isp**2)"
   ]
  },
  {
   "cell_type": "markdown",
   "metadata": {},
   "source": [
    "![alt text](https://abload.de/img/t249po2.png)\n"
   ]
  },
  {
   "cell_type": "code",
   "execution_count": 21,
   "metadata": {},
   "outputs": [
    {
     "name": "stdout",
     "output_type": "stream",
     "text": [
      "Time to reach breaking point:  3.06161183816  ms\n"
     ]
    }
   ],
   "source": [
    "K = 93.143*2                 # [N/mm] Spring constant\n",
    "M_bend_max = 94              # [Nm]   Max Torque from [1]\n",
    "l_orthosis = 0.25            # [m]    länge hebel\n",
    "l_arm = 0.5                  # [m]    länge arm\n",
    "d_gel = 65.5/1000            # [m]    durchmesser gelenk\n",
    "\n",
    "r_bieg = (l_arm - l_orthosis + l_orthosis/2)/2  # [m]  radius für das moment\n",
    "F_orthosis = M_bend_max/r_bieg                  # [N]  Maximale Kraft die wirken darf durch die orthese\n",
    "M_orthosis = F_orthosis*l_orthosis/2                   # [Nm] Maximales Drehmoment an der Orthese\n",
    "F_zug = M_orthosis/(d_gel/2)                           # [N]  Kraft im Seil\n",
    "x_max = min(F_zug/(K),9.00)                     # [mm] Spring displacement \n",
    "\n",
    "m_federn = 0.5                                  # kg\n",
    "Fr       = 1852\n",
    "a        = (Fr + Fr - min(891.843*2,F_zug))/(m_federn) \n",
    "t        = np.sqrt(x_max/1000 *4 / a)\n",
    "print(\"Time to reach breaking point: \" , t*1000 , \" ms\")"
   ]
  },
  {
   "cell_type": "markdown",
   "metadata": {},
   "source": [
    "-> | EMG device | -> ? -> | PC | -> 1ms -> | Motor board | ->"
   ]
  },
  {
   "cell_type": "code",
   "execution_count": 18,
   "metadata": {},
   "outputs": [
    {
     "name": "stdout",
     "output_type": "stream",
     "text": [
      "Estimated Frequency for EMG -> PC :  485.057362152\n"
     ]
    }
   ],
   "source": [
    "T_emg = t - 0.001 # [s] period time for EMG board\n",
    "print(\"Estimated Frequency for EMG -> PC : \", 1/(T_emg))"
   ]
  },
  {
   "cell_type": "markdown",
   "metadata": {},
   "source": [
    "[1] Pintar, F. A., & Yoganandan, N. (2002, March). Dynamic Bending Tolerance of the Human Forearm. Traffic Injury Prevention. Informa UK Limited. https://doi.org/10.1080/15389580210520"
   ]
  }
 ],
 "metadata": {
  "kernelspec": {
   "display_name": "Python 3",
   "language": "python",
   "name": "python3"
  }
 },
 "nbformat": 4,
 "nbformat_minor": 2
}
