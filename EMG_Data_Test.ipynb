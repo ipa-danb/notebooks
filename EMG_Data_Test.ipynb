{
 "cells": [
  {
   "cell_type": "code",
   "execution_count": 1,
   "metadata": {},
   "outputs": [],
   "source": [
    "import pandas as pd\n",
    "import numpy as np\n",
    "import pprint\n",
    "import os\n",
    "from datetime import datetime\n",
    "import glob\n",
    "import pandas as pd\n",
    "import emgimporter"
   ]
  },
  {
   "cell_type": "code",
   "execution_count": 2,
   "metadata": {},
   "outputs": [
    {
     "name": "stdout",
     "output_type": "stream",
     "text": [
      "('data_4', datetime.datetime(2017, 5, 23, 12, 46, 47), '/home/myo/emg_data/ipa_emg/data_4-20170523-124647')\n"
     ]
    }
   ],
   "source": [
    "path=['emg_data','ipa_emg']\n",
    "glob.glob(os.path.join(os.path.expanduser('~'),*path,'**'),recursive=True)\n",
    "fList = [(os.path.basename(f.split('-',1)[0]), datetime.strptime(f.split('-',1)[1],\"%Y%m%d-%H%M%S\"), f)\n",
    "          for f in glob.glob(os.path.join(os.path.expanduser('~'),*path,'**'),recursive=True)\n",
    "          if not f.startswith('.') and not os.path.isdir(f)]\n",
    "print(fList[2])"
   ]
  },
  {
   "cell_type": "code",
   "execution_count": 3,
   "metadata": {
    "scrolled": false
   },
   "outputs": [
    {
     "data": {
      "text/html": [
       "\n",
       "    <div class=\"bk-root\">\n",
       "        <a href=\"http://bokeh.pydata.org\" target=\"_blank\" class=\"bk-logo bk-logo-small bk-logo-notebook\"></a>\n",
       "        <span id=\"6fefa60c-b7b7-47e2-b3a7-c88298536078\">Loading BokehJS ...</span>\n",
       "    </div>"
      ]
     },
     "metadata": {},
     "output_type": "display_data"
    },
    {
     "data": {
      "application/javascript": [
       "\n",
       "(function(global) {\n",
       "  function now() {\n",
       "    return new Date();\n",
       "  }\n",
       "\n",
       "  var force = true;\n",
       "\n",
       "  if (typeof (window._bokeh_onload_callbacks) === \"undefined\" || force === true) {\n",
       "    window._bokeh_onload_callbacks = [];\n",
       "    window._bokeh_is_loading = undefined;\n",
       "  }\n",
       "\n",
       "\n",
       "  \n",
       "  if (typeof (window._bokeh_timeout) === \"undefined\" || force === true) {\n",
       "    window._bokeh_timeout = Date.now() + 5000;\n",
       "    window._bokeh_failed_load = false;\n",
       "  }\n",
       "\n",
       "  var NB_LOAD_WARNING = {'data': {'text/html':\n",
       "     \"<div style='background-color: #fdd'>\\n\"+\n",
       "     \"<p>\\n\"+\n",
       "     \"BokehJS does not appear to have successfully loaded. If loading BokehJS from CDN, this \\n\"+\n",
       "     \"may be due to a slow or bad network connection. Possible fixes:\\n\"+\n",
       "     \"</p>\\n\"+\n",
       "     \"<ul>\\n\"+\n",
       "     \"<li>re-rerun `output_notebook()` to attempt to load from CDN again, or</li>\\n\"+\n",
       "     \"<li>use INLINE resources instead, as so:</li>\\n\"+\n",
       "     \"</ul>\\n\"+\n",
       "     \"<code>\\n\"+\n",
       "     \"from bokeh.resources import INLINE\\n\"+\n",
       "     \"output_notebook(resources=INLINE)\\n\"+\n",
       "     \"</code>\\n\"+\n",
       "     \"</div>\"}};\n",
       "\n",
       "  function display_loaded() {\n",
       "    if (window.Bokeh !== undefined) {\n",
       "      var el = document.getElementById(\"6fefa60c-b7b7-47e2-b3a7-c88298536078\");\n",
       "      el.textContent = \"BokehJS \" + Bokeh.version + \" successfully loaded.\";\n",
       "    } else if (Date.now() < window._bokeh_timeout) {\n",
       "      setTimeout(display_loaded, 100)\n",
       "    }\n",
       "  }\n",
       "\n",
       "  function run_callbacks() {\n",
       "    window._bokeh_onload_callbacks.forEach(function(callback) { callback() });\n",
       "    delete window._bokeh_onload_callbacks\n",
       "    console.info(\"Bokeh: all callbacks have finished\");\n",
       "  }\n",
       "\n",
       "  function load_libs(js_urls, callback) {\n",
       "    window._bokeh_onload_callbacks.push(callback);\n",
       "    if (window._bokeh_is_loading > 0) {\n",
       "      console.log(\"Bokeh: BokehJS is being loaded, scheduling callback at\", now());\n",
       "      return null;\n",
       "    }\n",
       "    if (js_urls == null || js_urls.length === 0) {\n",
       "      run_callbacks();\n",
       "      return null;\n",
       "    }\n",
       "    console.log(\"Bokeh: BokehJS not loaded, scheduling load and callback at\", now());\n",
       "    window._bokeh_is_loading = js_urls.length;\n",
       "    for (var i = 0; i < js_urls.length; i++) {\n",
       "      var url = js_urls[i];\n",
       "      var s = document.createElement('script');\n",
       "      s.src = url;\n",
       "      s.async = false;\n",
       "      s.onreadystatechange = s.onload = function() {\n",
       "        window._bokeh_is_loading--;\n",
       "        if (window._bokeh_is_loading === 0) {\n",
       "          console.log(\"Bokeh: all BokehJS libraries loaded\");\n",
       "          run_callbacks()\n",
       "        }\n",
       "      };\n",
       "      s.onerror = function() {\n",
       "        console.warn(\"failed to load library \" + url);\n",
       "      };\n",
       "      console.log(\"Bokeh: injecting script tag for BokehJS library: \", url);\n",
       "      document.getElementsByTagName(\"head\")[0].appendChild(s);\n",
       "    }\n",
       "  };var element = document.getElementById(\"6fefa60c-b7b7-47e2-b3a7-c88298536078\");\n",
       "  if (element == null) {\n",
       "    console.log(\"Bokeh: ERROR: autoload.js configured with elementid '6fefa60c-b7b7-47e2-b3a7-c88298536078' but no matching script tag was found. \")\n",
       "    return false;\n",
       "  }\n",
       "\n",
       "  var js_urls = [\"https://cdn.pydata.org/bokeh/release/bokeh-0.12.5.min.js\", \"https://cdn.pydata.org/bokeh/release/bokeh-widgets-0.12.5.min.js\"];\n",
       "\n",
       "  var inline_js = [\n",
       "    function(Bokeh) {\n",
       "      Bokeh.set_log_level(\"info\");\n",
       "    },\n",
       "    \n",
       "    function(Bokeh) {\n",
       "      \n",
       "    },\n",
       "    \n",
       "    function(Bokeh) {\n",
       "      \n",
       "      document.getElementById(\"6fefa60c-b7b7-47e2-b3a7-c88298536078\").textContent = \"BokehJS is loading...\";\n",
       "    },\n",
       "    function(Bokeh) {\n",
       "      console.log(\"Bokeh: injecting CSS: https://cdn.pydata.org/bokeh/release/bokeh-0.12.5.min.css\");\n",
       "      Bokeh.embed.inject_css(\"https://cdn.pydata.org/bokeh/release/bokeh-0.12.5.min.css\");\n",
       "      console.log(\"Bokeh: injecting CSS: https://cdn.pydata.org/bokeh/release/bokeh-widgets-0.12.5.min.css\");\n",
       "      Bokeh.embed.inject_css(\"https://cdn.pydata.org/bokeh/release/bokeh-widgets-0.12.5.min.css\");\n",
       "    }\n",
       "  ];\n",
       "\n",
       "  function run_inline_js() {\n",
       "    \n",
       "    if ((window.Bokeh !== undefined) || (force === true)) {\n",
       "      for (var i = 0; i < inline_js.length; i++) {\n",
       "        inline_js[i](window.Bokeh);\n",
       "      }if (force === true) {\n",
       "        display_loaded();\n",
       "      }} else if (Date.now() < window._bokeh_timeout) {\n",
       "      setTimeout(run_inline_js, 100);\n",
       "    } else if (!window._bokeh_failed_load) {\n",
       "      console.log(\"Bokeh: BokehJS failed to load within specified timeout.\");\n",
       "      window._bokeh_failed_load = true;\n",
       "    } else if (force !== true) {\n",
       "      var cell = $(document.getElementById(\"6fefa60c-b7b7-47e2-b3a7-c88298536078\")).parents('.cell').data().cell;\n",
       "      cell.output_area.append_execute_result(NB_LOAD_WARNING)\n",
       "    }\n",
       "\n",
       "  }\n",
       "\n",
       "  if (window._bokeh_is_loading === 0) {\n",
       "    console.log(\"Bokeh: BokehJS loaded, going straight to plotting\");\n",
       "    run_inline_js();\n",
       "  } else {\n",
       "    load_libs(js_urls, function() {\n",
       "      console.log(\"Bokeh: BokehJS plotting callback run at\", now());\n",
       "      run_inline_js();\n",
       "    });\n",
       "  }\n",
       "}(this));"
      ]
     },
     "metadata": {},
     "output_type": "display_data"
    }
   ],
   "source": [
    "from bokeh.plotting import figure, show\n",
    "from bokeh.io import output_notebook\n",
    "from bokeh.layouts import column, row\n",
    "from bokeh.palettes import Spectral11, Category20, Set1\n",
    "from bokeh.models import Range1d\n",
    "output_notebook()\n",
    "\n",
    "def plotdf(dfs, numlines=None,pltflag=None):\n",
    "    # if just one pandas frame is given\n",
    "    try:\n",
    "        # get number of plottable columns if no exlicit numbers to plot are given\n",
    "        if numlines == None:\n",
    "            numlines = list(range(0,len(dfs.columns)))\n",
    "        \n",
    "        # create cut down color palette\n",
    "        mypalette = [Set1[len(dfs.columns)][i] for i in numlines]\n",
    "        \n",
    "        # Only one plot\n",
    "        if pltflag == None:\n",
    "            p = figure()\n",
    "            p.multi_line(xs = [dfs.index.values] *len(numlines),\n",
    "                         ys = [dfs[n].values for n,i in enumerate(dfs) if i in numlines],\n",
    "                         line_color = mypalette\n",
    "                        )\n",
    "            show(p)\n",
    "            \n",
    "        # Combined Plot\n",
    "        elif pltflag == 'columns':\n",
    "            pH = int(800/len(numlines))\n",
    "            plist = [figure(plot_height=pH, y_range=Range1d(dfs.values.min(),dfs.values.max()), title=str(f)) for f in numlines]\n",
    "            for i,p in enumerate(plist):\n",
    "                p.line( x = dfs.index.values,\n",
    "                        y = dfs[numlines[i]].values,\n",
    "                        line_color = mypalette[i])\n",
    "            show(column(*plist))\n",
    "    \n",
    "    # If list of emg data is given\n",
    "    except:\n",
    "        if numlines == None:\n",
    "            numlines = list(range(0,len(dfs[0].columns)))\n",
    "        \n",
    "        # create cut down color palette\n",
    "        mypalette = [Set1[len(dfs[0].columns)][i] for i in numlines]\n",
    "        \n",
    "        pH = int(800/len(numlines))\n",
    "        yranges = Range1d(min([f.values.min() for f in dfs]),max([f.values.max() for f in dfs]))\n",
    "        xranges = Range1d(min([f.index.values.min() for f in dfs]),max([f.index.values.max() for f in dfs]))\n",
    "        plist = [figure(plot_height=pH, y_range=yranges, x_range=xranges, title=str(f)) for f in numlines]\n",
    "        for i,p in enumerate(plist):\n",
    "            p.multi_line( xs =[f.index.values for f in dfs],\n",
    "                          ys = [f[numlines[i]].values for f in dfs],\n",
    "                          line_color = mypalette[i])\n",
    "        show(column(*plist))\n",
    "            \n"
   ]
  },
  {
   "cell_type": "code",
   "execution_count": 4,
   "metadata": {},
   "outputs": [],
   "source": [
    "dic = { 1: 'Tasse aufnehmen', \n",
    "        2: 'Tasse halten',\n",
    "        3: 'Tasse abstellen',\n",
    "        4: 'Tasse hoch&runter',\n",
    "        8: 'Ruhe (Supination)',\n",
    "        9: 'Ruhe (Pronation)'\n",
    "      }\n",
    "its = ['cupv1','cupv2','kettlev1']"
   ]
  },
  {
   "cell_type": "code",
   "execution_count": 5,
   "metadata": {},
   "outputs": [],
   "source": [
    "a = emgimporter.import_data(path=['emg_data','ipa_emg'])"
   ]
  },
  {
   "cell_type": "code",
   "execution_count": 6,
   "metadata": {},
   "outputs": [],
   "source": [
    "feed_dic = emgimporter.import_folder(its,dic,path=['emg_data','ipa_emg'])"
   ]
  },
  {
   "cell_type": "code",
   "execution_count": 7,
   "metadata": {
    "scrolled": true
   },
   "outputs": [
    {
     "name": "stdout",
     "output_type": "stream",
     "text": [
      "Database:  cupv1\n",
      "Gesture:   Tasse aufnehmen\n"
     ]
    },
    {
     "name": "stderr",
     "output_type": "stream",
     "text": [
      "/home/myo/anaconda3/envs/tensorflow/lib/python3.6/site-packages/bokeh/core/json_encoder.py:73: FutureWarning: pandas.tslib is deprecated and will be removed in a future version.\n",
      "You can access Timestamp as pandas.Timestamp\n",
      "  if pd and isinstance(obj, pd.tslib.Timestamp):\n"
     ]
    },
    {
     "data": {
      "text/html": [
       "\n",
       "\n",
       "    <div class=\"bk-root\">\n",
       "        <div class=\"bk-plotdiv\" id=\"10ba802d-bb1c-4795-b9a7-470d0e5c5fe3\"></div>\n",
       "    </div>\n",
       "<script type=\"text/javascript\">\n",
       "  \n",
       "  (function(global) {\n",
       "    function now() {\n",
       "      return new Date();\n",
       "    }\n",
       "  \n",
       "    var force = false;\n",
       "  \n",
       "    if (typeof (window._bokeh_onload_callbacks) === \"undefined\" || force === true) {\n",
       "      window._bokeh_onload_callbacks = [];\n",
       "      window._bokeh_is_loading = undefined;\n",
       "    }\n",
       "  \n",
       "  \n",
       "    \n",
       "    if (typeof (window._bokeh_timeout) === \"undefined\" || force === true) {\n",
       "      window._bokeh_timeout = Date.now() + 0;\n",
       "      window._bokeh_failed_load = false;\n",
       "    }\n",
       "  \n",
       "    var NB_LOAD_WARNING = {'data': {'text/html':\n",
       "       \"<div style='background-color: #fdd'>\\n\"+\n",
       "       \"<p>\\n\"+\n",
       "       \"BokehJS does not appear to have successfully loaded. If loading BokehJS from CDN, this \\n\"+\n",
       "       \"may be due to a slow or bad network connection. Possible fixes:\\n\"+\n",
       "       \"</p>\\n\"+\n",
       "       \"<ul>\\n\"+\n",
       "       \"<li>re-rerun `output_notebook()` to attempt to load from CDN again, or</li>\\n\"+\n",
       "       \"<li>use INLINE resources instead, as so:</li>\\n\"+\n",
       "       \"</ul>\\n\"+\n",
       "       \"<code>\\n\"+\n",
       "       \"from bokeh.resources import INLINE\\n\"+\n",
       "       \"output_notebook(resources=INLINE)\\n\"+\n",
       "       \"</code>\\n\"+\n",
       "       \"</div>\"}};\n",
       "  \n",
       "    function display_loaded() {\n",
       "      if (window.Bokeh !== undefined) {\n",
       "        var el = document.getElementById(\"10ba802d-bb1c-4795-b9a7-470d0e5c5fe3\");\n",
       "        el.textContent = \"BokehJS \" + Bokeh.version + \" successfully loaded.\";\n",
       "      } else if (Date.now() < window._bokeh_timeout) {\n",
       "        setTimeout(display_loaded, 100)\n",
       "      }\n",
       "    }\n",
       "  \n",
       "    function run_callbacks() {\n",
       "      window._bokeh_onload_callbacks.forEach(function(callback) { callback() });\n",
       "      delete window._bokeh_onload_callbacks\n",
       "      console.info(\"Bokeh: all callbacks have finished\");\n",
       "    }\n",
       "  \n",
       "    function load_libs(js_urls, callback) {\n",
       "      window._bokeh_onload_callbacks.push(callback);\n",
       "      if (window._bokeh_is_loading > 0) {\n",
       "        console.log(\"Bokeh: BokehJS is being loaded, scheduling callback at\", now());\n",
       "        return null;\n",
       "      }\n",
       "      if (js_urls == null || js_urls.length === 0) {\n",
       "        run_callbacks();\n",
       "        return null;\n",
       "      }\n",
       "      console.log(\"Bokeh: BokehJS not loaded, scheduling load and callback at\", now());\n",
       "      window._bokeh_is_loading = js_urls.length;\n",
       "      for (var i = 0; i < js_urls.length; i++) {\n",
       "        var url = js_urls[i];\n",
       "        var s = document.createElement('script');\n",
       "        s.src = url;\n",
       "        s.async = false;\n",
       "        s.onreadystatechange = s.onload = function() {\n",
       "          window._bokeh_is_loading--;\n",
       "          if (window._bokeh_is_loading === 0) {\n",
       "            console.log(\"Bokeh: all BokehJS libraries loaded\");\n",
       "            run_callbacks()\n",
       "          }\n",
       "        };\n",
       "        s.onerror = function() {\n",
       "          console.warn(\"failed to load library \" + url);\n",
       "        };\n",
       "        console.log(\"Bokeh: injecting script tag for BokehJS library: \", url);\n",
       "        document.getElementsByTagName(\"head\")[0].appendChild(s);\n",
       "      }\n",
       "    };var element = document.getElementById(\"10ba802d-bb1c-4795-b9a7-470d0e5c5fe3\");\n",
       "    if (element == null) {\n",
       "      console.log(\"Bokeh: ERROR: autoload.js configured with elementid '10ba802d-bb1c-4795-b9a7-470d0e5c5fe3' but no matching script tag was found. \")\n",
       "      return false;\n",
       "    }\n",
       "  \n",
       "    var js_urls = [];\n",
       "  \n",
       "    var inline_js = [\n",
       "      function(Bokeh) {\n",
       "        (function() {\n",
       "          var fn = function() {\n",
       "            var docs_json = {\"0a15e335-0d38-452f-82fb-25c0930a43ce\":{\"roots\":{\"references\":[{\"attributes\":{\"data_source\":{\"id\":\"65385f8b-d3df-419e-9971-7445b45bc2ab\",\"type\":\"ColumnDataSource\"},\"glyph\":{\"id\":\"68a35568-146f-4225-8bed-8b34b7da1b38\",\"type\":\"MultiLine\"},\"hover_glyph\":null,\"muted_glyph\":null,\"nonselection_glyph\":{\"id\":\"fbef8763-d557-4c37-9be7-e9af60b61444\",\"type\":\"MultiLine\"},\"selection_glyph\":null},\"id\":\"923051bd-db29-4be7-935a-a4102f004702\",\"type\":\"GlyphRenderer\"},{\"attributes\":{},\"id\":\"7c7ba1a1-1ec0-48f9-a8e0-a190b4fa38ee\",\"type\":\"BasicTickFormatter\"},{\"attributes\":{},\"id\":\"398e6720-942e-425b-b160-4871b020ad76\",\"type\":\"BasicTickFormatter\"},{\"attributes\":{\"plot\":{\"id\":\"f6599ef1-22dd-4859-937c-2c683924cc1d\",\"subtype\":\"Figure\",\"type\":\"Plot\"},\"ticker\":{\"id\":\"ed668d58-94a6-4dec-a4c1-56a0435ed7ff\",\"type\":\"BasicTicker\"}},\"id\":\"9f6c556e-81ec-4e73-abb2-ff3f0e1db09f\",\"type\":\"Grid\"},{\"attributes\":{},\"id\":\"ed668d58-94a6-4dec-a4c1-56a0435ed7ff\",\"type\":\"BasicTicker\"},{\"attributes\":{\"active_drag\":\"auto\",\"active_scroll\":\"auto\",\"active_tap\":\"auto\",\"tools\":[{\"id\":\"1c597e28-e019-49f3-bb1b-e2c8c132c9d4\",\"type\":\"PanTool\"},{\"id\":\"d40228ea-8d47-4938-9c7b-58916cf6abdf\",\"type\":\"WheelZoomTool\"},{\"id\":\"0cdf5b91-8777-4eaf-ad98-baca39e207a1\",\"type\":\"BoxZoomTool\"},{\"id\":\"15ba3d78-d188-46db-bb37-8ae7eeb93983\",\"type\":\"SaveTool\"},{\"id\":\"2748948d-1ce7-4eb6-b111-95798cc7b9b0\",\"type\":\"ResetTool\"},{\"id\":\"fee763f1-7fd5-4ea1-8298-0a483f1b9609\",\"type\":\"HelpTool\"}]},\"id\":\"2925c27e-bdd4-4c5b-80f4-03c878fd1b28\",\"type\":\"Toolbar\"},{\"attributes\":{\"plot\":{\"id\":\"9243102c-92b0-4961-bc74-bd5dc85d61f1\",\"subtype\":\"Figure\",\"type\":\"Plot\"}},\"id\":\"7f3a8d9c-49cd-4717-a7cc-df2701072e46\",\"type\":\"WheelZoomTool\"},{\"attributes\":{\"bottom_units\":\"screen\",\"fill_alpha\":{\"value\":0.5},\"fill_color\":{\"value\":\"lightgrey\"},\"left_units\":\"screen\",\"level\":\"overlay\",\"line_alpha\":{\"value\":1.0},\"line_color\":{\"value\":\"black\"},\"line_dash\":[4,4],\"line_width\":{\"value\":2},\"plot\":null,\"render_mode\":\"css\",\"right_units\":\"screen\",\"top_units\":\"screen\"},\"id\":\"679ea584-4fa3-4a89-b547-a942c266c9a5\",\"type\":\"BoxAnnotation\"},{\"attributes\":{\"overlay\":{\"id\":\"679ea584-4fa3-4a89-b547-a942c266c9a5\",\"type\":\"BoxAnnotation\"},\"plot\":{\"id\":\"9243102c-92b0-4961-bc74-bd5dc85d61f1\",\"subtype\":\"Figure\",\"type\":\"Plot\"}},\"id\":\"d2f91bcc-423f-4542-941a-1b4b3657fac8\",\"type\":\"BoxZoomTool\"},{\"attributes\":{\"plot\":{\"id\":\"9243102c-92b0-4961-bc74-bd5dc85d61f1\",\"subtype\":\"Figure\",\"type\":\"Plot\"}},\"id\":\"29f81123-299c-4790-afa4-5a9f2e3312a0\",\"type\":\"SaveTool\"},{\"attributes\":{\"plot\":{\"id\":\"9243102c-92b0-4961-bc74-bd5dc85d61f1\",\"subtype\":\"Figure\",\"type\":\"Plot\"}},\"id\":\"f59d05a8-4d05-42e4-b531-33783b8663be\",\"type\":\"ResetTool\"},{\"attributes\":{\"plot\":{\"id\":\"9243102c-92b0-4961-bc74-bd5dc85d61f1\",\"subtype\":\"Figure\",\"type\":\"Plot\"}},\"id\":\"75e894d0-cfa6-4396-98ca-fe7460c8cd46\",\"type\":\"HelpTool\"},{\"attributes\":{\"formatter\":{\"id\":\"7c7ba1a1-1ec0-48f9-a8e0-a190b4fa38ee\",\"type\":\"BasicTickFormatter\"},\"plot\":{\"id\":\"bbc2419d-dc07-4f19-a9eb-affb442029d6\",\"subtype\":\"Figure\",\"type\":\"Plot\"},\"ticker\":{\"id\":\"df3f4421-dc1e-4d12-b467-dc30800e02bc\",\"type\":\"BasicTicker\"}},\"id\":\"9fda6bd8-9426-4987-a824-f52e23c46249\",\"type\":\"LinearAxis\"},{\"attributes\":{\"bottom_units\":\"screen\",\"fill_alpha\":{\"value\":0.5},\"fill_color\":{\"value\":\"lightgrey\"},\"left_units\":\"screen\",\"level\":\"overlay\",\"line_alpha\":{\"value\":1.0},\"line_color\":{\"value\":\"black\"},\"line_dash\":[4,4],\"line_width\":{\"value\":2},\"plot\":null,\"render_mode\":\"css\",\"right_units\":\"screen\",\"top_units\":\"screen\"},\"id\":\"332f5a62-6497-474d-9e2f-b97783e208cd\",\"type\":\"BoxAnnotation\"},{\"attributes\":{\"formatter\":{\"id\":\"7a522ae7-b34b-490e-b49a-963fc0b7536b\",\"type\":\"BasicTickFormatter\"},\"plot\":{\"id\":\"7d5c34f2-eb4c-4372-8dcf-14b27388a68d\",\"subtype\":\"Figure\",\"type\":\"Plot\"},\"ticker\":{\"id\":\"554e2f24-7e39-4798-8e9b-88dfc0666422\",\"type\":\"BasicTicker\"}},\"id\":\"b0ddb61a-82fa-41bb-85eb-f23acafffc80\",\"type\":\"LinearAxis\"},{\"attributes\":{\"plot\":{\"id\":\"7d5c34f2-eb4c-4372-8dcf-14b27388a68d\",\"subtype\":\"Figure\",\"type\":\"Plot\"},\"ticker\":{\"id\":\"554e2f24-7e39-4798-8e9b-88dfc0666422\",\"type\":\"BasicTicker\"}},\"id\":\"bc03ce11-cc6a-42fb-998f-17492e0fc00a\",\"type\":\"Grid\"},{\"attributes\":{},\"id\":\"554e2f24-7e39-4798-8e9b-88dfc0666422\",\"type\":\"BasicTicker\"},{\"attributes\":{\"formatter\":{\"id\":\"e7a6cd29-1e98-4113-a06b-96f4ad3c1e8d\",\"type\":\"BasicTickFormatter\"},\"plot\":{\"id\":\"7d5c34f2-eb4c-4372-8dcf-14b27388a68d\",\"subtype\":\"Figure\",\"type\":\"Plot\"},\"ticker\":{\"id\":\"a9975daf-15c3-4099-b925-ed33879b07ee\",\"type\":\"BasicTicker\"}},\"id\":\"2a338cad-8450-420f-baa5-968db7b9afb7\",\"type\":\"LinearAxis\"},{\"attributes\":{},\"id\":\"a9975daf-15c3-4099-b925-ed33879b07ee\",\"type\":\"BasicTicker\"},{\"attributes\":{\"dimension\":1,\"plot\":{\"id\":\"7d5c34f2-eb4c-4372-8dcf-14b27388a68d\",\"subtype\":\"Figure\",\"type\":\"Plot\"},\"ticker\":{\"id\":\"a9975daf-15c3-4099-b925-ed33879b07ee\",\"type\":\"BasicTicker\"}},\"id\":\"74611538-687d-45d1-a742-e4063a370b3e\",\"type\":\"Grid\"},{\"attributes\":{},\"id\":\"879bde39-3be3-4290-b3dd-2803f053baca\",\"type\":\"ToolEvents\"},{\"attributes\":{\"plot\":null,\"text\":\"7\"},\"id\":\"60c5b72b-b02e-4dd7-ac12-35a2654eff5d\",\"type\":\"Title\"},{\"attributes\":{\"plot\":{\"id\":\"7d5c34f2-eb4c-4372-8dcf-14b27388a68d\",\"subtype\":\"Figure\",\"type\":\"Plot\"}},\"id\":\"8d3abd1c-ddc3-4dc3-8320-aa8909926015\",\"type\":\"PanTool\"},{\"attributes\":{\"active_drag\":\"auto\",\"active_scroll\":\"auto\",\"active_tap\":\"auto\",\"tools\":[{\"id\":\"c2216b53-4b32-4585-9613-9fcc7f866881\",\"type\":\"PanTool\"},{\"id\":\"3d90aed4-6aaf-490e-998e-8344fb2d7d8c\",\"type\":\"WheelZoomTool\"},{\"id\":\"60490b81-7a3d-4fb6-8b47-097592188f37\",\"type\":\"BoxZoomTool\"},{\"id\":\"392b74ce-42b4-4ade-b688-06cf2ada6543\",\"type\":\"SaveTool\"},{\"id\":\"42edae11-2fba-4f83-8e86-c88bdf5ef316\",\"type\":\"ResetTool\"},{\"id\":\"abe0c395-c49e-4170-bc5c-df96fc1e07a1\",\"type\":\"HelpTool\"}]},\"id\":\"3fac2251-4f15-45ee-91a8-acc2ddd5f505\",\"type\":\"Toolbar\"},{\"attributes\":{\"plot\":{\"id\":\"7d5c34f2-eb4c-4372-8dcf-14b27388a68d\",\"subtype\":\"Figure\",\"type\":\"Plot\"}},\"id\":\"57dc735d-3490-4a6d-a934-8b92b46a3d18\",\"type\":\"WheelZoomTool\"},{\"attributes\":{\"overlay\":{\"id\":\"332f5a62-6497-474d-9e2f-b97783e208cd\",\"type\":\"BoxAnnotation\"},\"plot\":{\"id\":\"7d5c34f2-eb4c-4372-8dcf-14b27388a68d\",\"subtype\":\"Figure\",\"type\":\"Plot\"}},\"id\":\"2043e2ee-1731-4802-8e65-babf6d2fce3c\",\"type\":\"BoxZoomTool\"},{\"attributes\":{\"plot\":{\"id\":\"7d5c34f2-eb4c-4372-8dcf-14b27388a68d\",\"subtype\":\"Figure\",\"type\":\"Plot\"}},\"id\":\"f19f3893-5de9-4bf1-bfb1-8ab6b8ffbc10\",\"type\":\"SaveTool\"},{\"attributes\":{\"plot\":{\"id\":\"bbc2419d-dc07-4f19-a9eb-affb442029d6\",\"subtype\":\"Figure\",\"type\":\"Plot\"},\"ticker\":{\"id\":\"df3f4421-dc1e-4d12-b467-dc30800e02bc\",\"type\":\"BasicTicker\"}},\"id\":\"bdef4e18-5b26-422a-94f5-d7d9cfac7e73\",\"type\":\"Grid\"},{\"attributes\":{},\"id\":\"df3f4421-dc1e-4d12-b467-dc30800e02bc\",\"type\":\"BasicTicker\"},{\"attributes\":{\"formatter\":{\"id\":\"398e6720-942e-425b-b160-4871b020ad76\",\"type\":\"BasicTickFormatter\"},\"plot\":{\"id\":\"bbc2419d-dc07-4f19-a9eb-affb442029d6\",\"subtype\":\"Figure\",\"type\":\"Plot\"},\"ticker\":{\"id\":\"4b3baafd-1095-4784-afe4-1e05da2c3709\",\"type\":\"BasicTicker\"}},\"id\":\"b7991178-4168-448f-98e8-4f62a9c904e4\",\"type\":\"LinearAxis\"},{\"attributes\":{},\"id\":\"4b3baafd-1095-4784-afe4-1e05da2c3709\",\"type\":\"BasicTicker\"},{\"attributes\":{\"dimension\":1,\"plot\":{\"id\":\"bbc2419d-dc07-4f19-a9eb-affb442029d6\",\"subtype\":\"Figure\",\"type\":\"Plot\"},\"ticker\":{\"id\":\"4b3baafd-1095-4784-afe4-1e05da2c3709\",\"type\":\"BasicTicker\"}},\"id\":\"0e186921-eab6-4862-bb74-15d36efb6b9f\",\"type\":\"Grid\"},{\"attributes\":{\"callback\":null,\"column_names\":[\"xs\",\"ys\"],\"data\":{\"xs\":[[0,1,2,3,4,5,6,7,8,9,10,11,12,13,14,15,16,17,18,19,20,21,22,23,24,25,26,27,28,29,30,31,32,33,34,35,36,37,38,39,40,41,42,43,44,45,46,47,48,49,50,51,52,53,54,55,56,57,58,59,60,61,62,63,64,65,66,67,68,69,70,71,72,73,74,75,76,77,78,79,80,81,82,83,84,85,86,87,88,89,90,91,92,93,94,95,96,97,98,99,100,101,102,103,104],[0,1,2,3,4,5,6,7,8,9,10,11,12,13,14,15,16,17,18,19,20,21,22,23,24,25,26,27,28,29,30,31,32,33,34,35,36,37,38,39,40,41,42,43,44,45,46,47,48,49,50,51,52,53,54,55,56,57,58,59,60,61,62,63,64,65,66,67,68,69,70,71,72,73,74,75,76,77,78,79,80,81,82,83,84,85,86,87,88,89,90,91,92,93,94,95,96,97,98,99,100,101,102,103,104,105,106,107,108,109,110,111,112,113,114,115,116,117,118,119,120,121,122,123,124,125,126,127,128,129,130,131,132,133,134,135,136,137,138,139,140,141,142,143,144,145,146,147,148,149,150,151,152,153,154,155,156,157,158,159,160,161,162,163,164,165,166],[0,1,2,3,4,5,6,7,8,9,10,11,12,13,14,15,16,17,18,19,20,21,22,23,24,25,26,27,28,29,30,31,32,33,34,35,36,37,38,39,40,41,42,43,44,45,46,47,48,49,50,51,52,53,54,55,56,57,58,59,60,61,62,63,64,65,66,67,68,69,70,71,72,73,74,75,76,77,78,79,80,81,82,83,84,85,86,87,88,89,90,91,92,93,94,95,96,97,98,99,100,101,102,103,104,105,106,107,108,109,110,111,112,113,114],[0,1,2,3,4,5,6,7,8,9,10,11,12,13,14,15,16,17,18,19,20,21,22,23,24,25,26,27,28,29,30,31,32,33,34,35,36,37,38,39,40,41,42,43,44,45,46,47,48,49,50,51,52,53,54,55,56,57,58,59,60,61,62,63,64,65,66,67,68,69,70,71,72,73,74,75,76,77,78,79,80,81,82,83,84,85,86,87,88,89,90,91,92,93,94,95,96,97,98,99,100,101,102,103,104,105,106,107,108,109,110,111,112,113,114,115,116,117,118,119,120,121,122,123,124,125,126,127,128,129,130,131,132,133,134,135,136,137,138,139,140,141,142,143,144,145,146,147,148,149,150,151,152,153,154,155,156,157,158,159,160,161,162,163,164,165,166,167,168,169,170,171,172,173,174,175,176,177,178,179,180,181,182,183,184,185,186,187,188,189,190,191,192,193,194,195,196,197,198,199,200,201,202,203,204,205,206,207,208,209,210,211,212,213,214,215,216,217,218,219,220,221,222,223,224,225,226,227,228,229,230,231,232,233,234,235,236,237,238,239,240,241,242,243,244,245,246,247],[0,1,2,3,4,5,6,7,8,9,10,11,12,13,14,15,16,17,18,19,20,21,22,23,24,25,26,27,28,29,30,31,32,33,34,35,36,37,38,39,40,41,42,43,44,45,46,47,48,49,50,51,52,53,54,55,56,57,58,59,60,61,62,63,64,65,66,67,68,69,70,71,72,73,74,75,76,77,78,79,80,81,82,83,84,85,86,87,88,89,90,91,92,93,94,95,96,97,98,99,100,101,102,103,104,105,106,107,108,109,110,111,112,113,114,115,116,117,118,119,120,121,122,123,124,125,126,127,128,129,130,131,132,133,134,135,136,137,138,139,140,141,142,143,144,145,146,147,148,149,150,151,152,153,154,155,156,157],[0,1,2,3,4,5,6,7,8,9,10,11,12,13,14,15,16,17,18,19,20,21,22,23,24,25,26,27,28,29,30,31,32,33,34,35,36,37,38,39,40,41,42,43,44,45,46,47,48,49,50,51,52,53,54,55,56,57,58,59,60,61,62,63,64,65,66,67,68,69,70,71,72,73,74,75,76,77,78,79,80,81,82,83,84,85,86,87,88,89,90,91,92,93,94,95,96,97,98,99,100,101,102,103,104,105,106,107,108,109,110,111,112,113,114,115,116,117,118,119,120,121,122,123,124,125,126,127,128,129,130,131,132,133,134,135,136,137,138,139,140,141,142,143,144,145,146,147,148,149,150,151,152,153,154,155,156,157,158,159,160,161,162,163,164,165,166,167,168,169,170,171,172,173,174,175,176,177,178,179,180,181,182,183,184,185,186,187,188,189,190,191],[0,1,2,3,4,5,6,7,8,9,10,11,12,13,14,15,16,17,18,19,20,21,22,23,24,25,26,27,28,29,30,31,32,33,34,35,36,37,38,39,40,41,42,43,44,45,46,47,48,49,50,51,52,53,54,55,56,57,58,59,60,61,62,63,64,65,66,67,68,69,70,71,72,73,74,75,76,77,78,79,80,81,82,83,84,85,86,87,88,89,90,91,92,93,94],[0,1,2,3,4,5,6,7,8,9,10,11,12,13,14,15,16,17,18,19,20,21,22,23,24,25,26,27,28,29,30,31,32,33,34,35,36,37,38,39,40,41,42,43,44,45,46,47,48,49,50,51,52,53,54,55,56,57,58,59,60,61,62,63,64,65,66,67,68,69,70,71,72,73,74,75,76,77,78,79,80,81,82,83,84,85,86,87,88,89,90,91,92,93,94,95,96,97,98,99,100,101,102,103,104,105,106,107,108,109,110,111,112,113,114,115]],\"ys\":[[127,148,138,132,135,129,101,96,82,75,62,59,86,97,101,109,106,89,79,80,71,73,65,65,63,73,76,90,89,88,80,81,72,77,70,73,72,66,63,79,78,73,76,74,57,63,68,63,64,76,67,73,73,76,65,70,56,73,71,76,74,79,77,78,77,78,78,66,76,77,74,83,83,73,71,70,56,56,51,53,56,60,68,73,73,79,76,75,79,79,89,92,89,80,85,74,72,73,83,80,70,77,77,67,62],[37,39,36,40,36,33,32,40,45,44,50,54,49,43,44,43,39,42,53,67,76,82,92,97,99,107,122,121,114,132,155,149,147,153,133,99,91,100,98,94,84,86,72,72,79,79,71,73,108,108,111,112,122,99,106,114,138,145,142,154,150,145,145,164,153,194,193,185,177,174,134,127,137,126,125,117,115,96,106,101,132,131,142,132,141,118,118,115,122,119,122,129,133,128,148,160,156,151,153,133,106,115,108,102,103,102,89,83,87,85,90,81,88,80,78,74,77,74,73,78,95,98,94,98,96,90,93,97,101,93,83,89,90,90,107,111,111,111,103,94,107,99,94,98,92,70,63,78,79,81,79,95,92,89,86,86,74,65,64,64,66,63,67,65,70,74,77],[110,111,110,89,82,105,132,166,166,170,159,134,100,96,86,82,80,63,60,70,96,106,104,108,105,91,84,94,89,89,90,86,77,77,77,80,82,81,83,86,83,83,79,76,66,60,56,65,79,81,88,108,131,123,128,122,108,81,97,88,88,101,101,89,86,93,74,76,80,82,73,77,64,72,75,77,74,75,72,78,78,75,81,88,83,85,87,80,64,63,58,56,53,52,46,52,94,111,129,130,130,106,91,68,65,63,64,61,57,70,70,64,67,66,55],[51,49,41,45,44,41,44,47,48,46,47,60,69,67,81,105,97,90,96,89,94,102,119,114,113,87,78,51,50,44,52,63,63,63,68,61,52,53,64,69,84,85,131,134,142,140,181,171,168,167,169,132,113,111,99,89,77,71,75,75,69,71,80,116,246,269,272,274,264,155,117,110,121,112,104,102,110,87,90,104,101,106,101,97,89,96,92,100,103,112,120,111,102,99,93,96,112,142,142,158,165,153,130,129,103,85,92,86,92,87,92,95,113,132,139,141,161,153,141,159,150,121,132,146,125,128,133,118,92,87,82,76,78,80,79,74,83,110,115,118,122,117,140,146,140,140,139,119,104,103,108,116,95,117,122,113,109,104,81,73,71,71,70,65,67,80,76,75,75,78,73,84,84,82,81,76,61,56,58,60,55,68,76,74,74,77,83,81,93,118,121,111,106,94,62,55,61,63,66,61,83,104,109,110,118,105,83,78,104,97,92,94,96,73,71,76,73,67,54,69,68,81,84,89,78,78,77,75,70,82,80,69,65,67,50,52,51,55,65,68,72,72,75,67,76,71,70,66],[74,68,65,62,59,61,77,79,78,90,89,78,82,83,86,96,92,100,108,116,183,198,195,193,184,115,103,98,99,115,124,123,125,145,144,135,124,135,112,124,176,185,179,186,194,149,139,146,164,135,138,143,136,103,102,89,86,79,70,73,84,82,85,86,88,85,84,91,101,95,94,94,97,83,83,83,87,75,74,74,85,75,75,73,74,68,79,82,91,89,83,85,80,72,76,73,57,56,54,55,51,61,60,62,60,63,62,63,59,59,62,55,63,67,67,63,61,55,54,52,59,61,59,56,53,47,46,52,62,64,67,66,60,51,60,58,55,60,58,50,52,53,50,52,51,47,50,46,42,43,44,35,40,46,44,50,50,50],[56,66,71,73,75,79,77,84,77,90,87,91,79,89,74,71,70,75,71,76,77,79,102,127,126,134,129,120,117,117,110,134,140,136,134,139,115,159,173,180,179,187,155,128,123,124,135,118,115,117,114,96,92,95,98,105,96,99,101,97,91,102,144,186,189,239,243,222,185,183,106,125,128,132,126,129,99,91,89,90,89,97,102,143,156,157,155,155,133,120,120,111,103,88,89,85,90,108,102,105,118,125,122,126,124,133,124,117,116,114,108,120,117,111,105,83,82,100,120,125,124,114,111,95,91,107,112,108,107,106,95,87,73,69,76,69,76,86,92,85,86,78,69,58,66,71,89,96,97,105,101,88,76,86,65,67,69,77,74,93,96,94,98,94,77,75,76,64,61,64,70,67,73,71,70,65,71,65,71,70,70,66,63,62,60,56,58,59,56,59,66,73],[132,162,162,147,165,191,163,159,163,139,95,110,108,110,113,126,117,140,139,184,177,175,166,165,125,137,144,140,153,149,147,154,156,149,145,139,154,151,133,125,130,99,106,112,129,124,117,114,120,111,104,108,113,108,109,109,119,124,127,120,125,128,115,108,108,108,88,79,82,82,72,79,78,73,70,74,68,72,67,69,66,58,85,90,102,101,107,86,92,84,80,77,84,76,79],[109,116,149,137,131,144,156,132,139,142,127,115,102,96,97,108,111,111,105,111,121,112,132,143,137,136,139,146,134,139,146,151,142,145,179,170,161,152,158,124,123,124,125,128,141,133,153,153,144,120,118,93,103,110,107,111,112,110,105,108,110,127,116,109,107,113,90,90,88,104,90,95,89,96,84,90,80,81,78,74,62,72,75,77,71,74,81,83,87,120,123,122,130,126,95,97,99,90,93,93,84,78,74,66,64,69,59,67,73,76,80,77,75,66,63,52]]}},\"id\":\"0156b97e-592d-4613-a441-746a770ce09e\",\"type\":\"ColumnDataSource\"},{\"attributes\":{\"bottom_units\":\"screen\",\"fill_alpha\":{\"value\":0.5},\"fill_color\":{\"value\":\"lightgrey\"},\"left_units\":\"screen\",\"level\":\"overlay\",\"line_alpha\":{\"value\":1.0},\"line_color\":{\"value\":\"black\"},\"line_dash\":[4,4],\"line_width\":{\"value\":2},\"plot\":null,\"render_mode\":\"css\",\"right_units\":\"screen\",\"top_units\":\"screen\"},\"id\":\"fe98a991-9f93-4e56-8740-68bf8d5bbf75\",\"type\":\"BoxAnnotation\"},{\"attributes\":{\"plot\":{\"id\":\"bbc2419d-dc07-4f19-a9eb-affb442029d6\",\"subtype\":\"Figure\",\"type\":\"Plot\"}},\"id\":\"c2216b53-4b32-4585-9613-9fcc7f866881\",\"type\":\"PanTool\"},{\"attributes\":{\"plot\":{\"id\":\"bbc2419d-dc07-4f19-a9eb-affb442029d6\",\"subtype\":\"Figure\",\"type\":\"Plot\"}},\"id\":\"3d90aed4-6aaf-490e-998e-8344fb2d7d8c\",\"type\":\"WheelZoomTool\"},{\"attributes\":{\"overlay\":{\"id\":\"fe98a991-9f93-4e56-8740-68bf8d5bbf75\",\"type\":\"BoxAnnotation\"},\"plot\":{\"id\":\"bbc2419d-dc07-4f19-a9eb-affb442029d6\",\"subtype\":\"Figure\",\"type\":\"Plot\"}},\"id\":\"60490b81-7a3d-4fb6-8b47-097592188f37\",\"type\":\"BoxZoomTool\"},{\"attributes\":{\"plot\":{\"id\":\"bbc2419d-dc07-4f19-a9eb-affb442029d6\",\"subtype\":\"Figure\",\"type\":\"Plot\"}},\"id\":\"392b74ce-42b4-4ade-b688-06cf2ada6543\",\"type\":\"SaveTool\"},{\"attributes\":{\"plot\":{\"id\":\"bbc2419d-dc07-4f19-a9eb-affb442029d6\",\"subtype\":\"Figure\",\"type\":\"Plot\"}},\"id\":\"42edae11-2fba-4f83-8e86-c88bdf5ef316\",\"type\":\"ResetTool\"},{\"attributes\":{\"plot\":{\"id\":\"bbc2419d-dc07-4f19-a9eb-affb442029d6\",\"subtype\":\"Figure\",\"type\":\"Plot\"}},\"id\":\"abe0c395-c49e-4170-bc5c-df96fc1e07a1\",\"type\":\"HelpTool\"},{\"attributes\":{\"plot\":null,\"text\":\"1\"},\"id\":\"f0ceeff6-8c5a-4e1e-81bf-6ef71c5f0376\",\"type\":\"Title\"},{\"attributes\":{\"callback\":null,\"column_names\":[\"xs\",\"ys\"],\"data\":{\"xs\":[[0,1,2,3,4,5,6,7,8,9,10,11,12,13,14,15,16,17,18,19,20,21,22,23,24,25,26,27,28,29,30,31,32,33,34,35,36,37,38,39,40,41,42,43,44,45,46,47,48,49,50,51,52,53,54,55,56,57,58,59,60,61,62,63,64,65,66,67,68,69,70,71,72,73,74,75,76,77,78,79,80,81,82,83,84,85,86,87,88,89,90,91,92,93,94,95,96,97,98,99,100,101,102,103,104],[0,1,2,3,4,5,6,7,8,9,10,11,12,13,14,15,16,17,18,19,20,21,22,23,24,25,26,27,28,29,30,31,32,33,34,35,36,37,38,39,40,41,42,43,44,45,46,47,48,49,50,51,52,53,54,55,56,57,58,59,60,61,62,63,64,65,66,67,68,69,70,71,72,73,74,75,76,77,78,79,80,81,82,83,84,85,86,87,88,89,90,91,92,93,94,95,96,97,98,99,100,101,102,103,104,105,106,107,108,109,110,111,112,113,114,115,116,117,118,119,120,121,122,123,124,125,126,127,128,129,130,131,132,133,134,135,136,137,138,139,140,141,142,143,144,145,146,147,148,149,150,151,152,153,154,155,156,157,158,159,160,161,162,163,164,165,166],[0,1,2,3,4,5,6,7,8,9,10,11,12,13,14,15,16,17,18,19,20,21,22,23,24,25,26,27,28,29,30,31,32,33,34,35,36,37,38,39,40,41,42,43,44,45,46,47,48,49,50,51,52,53,54,55,56,57,58,59,60,61,62,63,64,65,66,67,68,69,70,71,72,73,74,75,76,77,78,79,80,81,82,83,84,85,86,87,88,89,90,91,92,93,94,95,96,97,98,99,100,101,102,103,104,105,106,107,108,109,110,111,112,113,114],[0,1,2,3,4,5,6,7,8,9,10,11,12,13,14,15,16,17,18,19,20,21,22,23,24,25,26,27,28,29,30,31,32,33,34,35,36,37,38,39,40,41,42,43,44,45,46,47,48,49,50,51,52,53,54,55,56,57,58,59,60,61,62,63,64,65,66,67,68,69,70,71,72,73,74,75,76,77,78,79,80,81,82,83,84,85,86,87,88,89,90,91,92,93,94,95,96,97,98,99,100,101,102,103,104,105,106,107,108,109,110,111,112,113,114,115,116,117,118,119,120,121,122,123,124,125,126,127,128,129,130,131,132,133,134,135,136,137,138,139,140,141,142,143,144,145,146,147,148,149,150,151,152,153,154,155,156,157,158,159,160,161,162,163,164,165,166,167,168,169,170,171,172,173,174,175,176,177,178,179,180,181,182,183,184,185,186,187,188,189,190,191,192,193,194,195,196,197,198,199,200,201,202,203,204,205,206,207,208,209,210,211,212,213,214,215,216,217,218,219,220,221,222,223,224,225,226,227,228,229,230,231,232,233,234,235,236,237,238,239,240,241,242,243,244,245,246,247],[0,1,2,3,4,5,6,7,8,9,10,11,12,13,14,15,16,17,18,19,20,21,22,23,24,25,26,27,28,29,30,31,32,33,34,35,36,37,38,39,40,41,42,43,44,45,46,47,48,49,50,51,52,53,54,55,56,57,58,59,60,61,62,63,64,65,66,67,68,69,70,71,72,73,74,75,76,77,78,79,80,81,82,83,84,85,86,87,88,89,90,91,92,93,94,95,96,97,98,99,100,101,102,103,104,105,106,107,108,109,110,111,112,113,114,115,116,117,118,119,120,121,122,123,124,125,126,127,128,129,130,131,132,133,134,135,136,137,138,139,140,141,142,143,144,145,146,147,148,149,150,151,152,153,154,155,156,157],[0,1,2,3,4,5,6,7,8,9,10,11,12,13,14,15,16,17,18,19,20,21,22,23,24,25,26,27,28,29,30,31,32,33,34,35,36,37,38,39,40,41,42,43,44,45,46,47,48,49,50,51,52,53,54,55,56,57,58,59,60,61,62,63,64,65,66,67,68,69,70,71,72,73,74,75,76,77,78,79,80,81,82,83,84,85,86,87,88,89,90,91,92,93,94,95,96,97,98,99,100,101,102,103,104,105,106,107,108,109,110,111,112,113,114,115,116,117,118,119,120,121,122,123,124,125,126,127,128,129,130,131,132,133,134,135,136,137,138,139,140,141,142,143,144,145,146,147,148,149,150,151,152,153,154,155,156,157,158,159,160,161,162,163,164,165,166,167,168,169,170,171,172,173,174,175,176,177,178,179,180,181,182,183,184,185,186,187,188,189,190,191],[0,1,2,3,4,5,6,7,8,9,10,11,12,13,14,15,16,17,18,19,20,21,22,23,24,25,26,27,28,29,30,31,32,33,34,35,36,37,38,39,40,41,42,43,44,45,46,47,48,49,50,51,52,53,54,55,56,57,58,59,60,61,62,63,64,65,66,67,68,69,70,71,72,73,74,75,76,77,78,79,80,81,82,83,84,85,86,87,88,89,90,91,92,93,94],[0,1,2,3,4,5,6,7,8,9,10,11,12,13,14,15,16,17,18,19,20,21,22,23,24,25,26,27,28,29,30,31,32,33,34,35,36,37,38,39,40,41,42,43,44,45,46,47,48,49,50,51,52,53,54,55,56,57,58,59,60,61,62,63,64,65,66,67,68,69,70,71,72,73,74,75,76,77,78,79,80,81,82,83,84,85,86,87,88,89,90,91,92,93,94,95,96,97,98,99,100,101,102,103,104,105,106,107,108,109,110,111,112,113,114,115]],\"ys\":[[210,198,205,206,188,182,179,190,195,200,185,185,157,137,142,204,203,209,205,211,179,210,225,252,249,229,218,205,204,226,236,229,218,201,186,208,215,225,269,273,257,253,267,219,214,265,278,260,274,268,228,207,201,182,175,176,168,178,201,215,198,198,191,168,166,199,196,206,202,269,253,253,249,294,223,214,224,218,152,155,149,180,215,254,263,270,239,210,161,153,166,198,235,234,228,222,235,210,216,235,230,229,231,223,203],[283,293,300,342,274,253,254,283,279,260,257,259,241,226,239,245,240,227,179,208,193,183,212,225,228,247,269,255,252,213,226,203,188,169,171,119,116,167,180,177,171,166,105,129,135,133,166,173,145,185,214,199,205,213,240,240,281,271,293,293,285,256,362,366,347,340,352,298,295,287,292,303,292,267,270,295,301,268,298,292,287,247,278,277,282,259,267,235,210,195,204,190,215,225,231,220,224,205,184,189,210,195,185,198,219,211,221,231,220,193,221,210,204,262,310,297,299,292,251,211,192,194,190,189,150,148,151,156,183,248,260,275,297,281,240,250,249,224,223,218,189,167,191,180,199,216,210,188,200,203,193,212,222,221,204,212,205,196,194,178,200,208,212,210,242,218,239],[220,215,229,239,251,244,230,250,257,294,289,323,297,260,205,209,195,192,202,214,225,215,218,220,204,193,171,167,182,175,184,171,183,199,223,253,276,273,274,262,243,241,229,197,190,191,197,225,230,236,227,200,211,219,211,214,210,227,204,219,201,209,195,207,194,217,234,210,198,193,197,208,205,272,296,301,280,294,242,217,190,187,155,239,240,240,253,293,238,263,272,263,214,205,219,208,202,201,205,160,164,158,167,188,212,222,231,229,220,214,223,269,268,261,246],[409,400,358,344,312,223,254,287,308,292,278,272,254,245,261,292,284,261,245,263,278,257,264,284,265,226,228,238,206,186,194,196,181,181,177,139,116,100,110,136,133,131,158,152,143,152,176,220,235,227,236,240,195,179,223,216,198,194,238,199,193,196,203,154,181,195,230,253,260,249,280,247,210,209,232,183,174,190,200,167,159,160,148,131,131,137,158,154,146,144,171,158,163,197,200,176,179,176,127,118,112,100,144,160,163,166,175,137,136,141,153,172,184,175,177,166,144,144,188,182,187,187,182,134,142,150,163,150,142,127,144,130,154,157,182,158,152,137,135,130,131,129,120,123,103,106,106,106,120,117,110,107,114,95,100,98,106,103,106,99,109,119,127,153,149,146,135,124,96,97,90,98,98,136,161,161,155,158,129,118,128,134,141,157,142,142,176,168,152,155,163,143,161,158,157,155,145,127,148,143,138,144,147,123,122,138,127,129,140,142,123,124,132,128,155,167,167,159,153,128,123,113,106,108,116,103,113,117,120,111,116,118,117,111,122,111,98,91,93,78,86,89,89,107,118,115,122,123],[150,138,145,140,122,104,159,153,151,141,140,70,69,89,102,99,106,108,113,108,153,166,182,175,238,239,238,248,303,300,326,323,342,351,408,407,417,405,377,318,295,278,256,268,235,224,280,334,304,289,290,268,205,212,244,245,236,243,235,221,243,217,210,211,192,138,164,171,174,191,194,192,228,220,225,226,219,167,192,173,176,170,174,148,140,153,166,180,196,198,178,161,159,156,160,185,195,179,162,173,156,153,171,173,171,173,176,160,159,151,148,136,130,149,169,164,179,206,190,173,170,161,124,126,113,133,132,133,129,138,132,119,127,134,143,138,148,147,177,177,198,192,185,165,178,152,171,195,204,176,181,163,148,141,142,142,138,138],[318,322,318,322,235,244,230,209,216,227,234,242,240,212,207,185,170,165,170,205,211,238,234,225,166,161,133,133,130,160,174,162,166,252,291,398,402,430,413,432,374,390,379,359,304,292,267,266,272,281,269,268,249,261,280,258,270,275,256,214,202,188,168,212,223,220,226,241,198,183,198,217,214,200,208,286,272,316,323,323,260,258,196,246,259,270,264,271,251,236,215,224,223,203,222,218,214,217,219,200,213,207,189,174,184,165,196,224,218,202,229,222,208,209,237,253,265,301,306,300,270,246,198,200,173,178,204,195,194,206,240,232,231,241,246,208,195,202,198,182,181,203,191,181,190,180,167,198,193,206,222,216,208,206,194,189,183,153,218,199,233,246,255,259,271,263,278,292,262,255,225,203,207,198,202,205,229,212,230,249,270,238,245,231,212,184,195,173,169,170,174,157],[324,325,314,329,266,228,250,255,235,258,265,286,281,275,282,272,264,295,286,275,303,280,266,348,349,328,348,371,328,326,326,352,327,354,344,359,362,373,360,370,361,303,291,251,235,229,248,223,209,254,270,274,277,281,248,214,199,239,256,243,249,254,231,203,211,203,188,182,212,223,228,257,249,241,233,238,215,243,233,233,250,238,255,254,265,246,249,206,207,236,238,251,242,241,219],[386,374,384,391,402,394,400,415,418,370,348,354,350,325,307,312,305,250,207,218,329,309,310,305,350,264,269,289,314,252,221,239,271,272,278,279,255,207,163,208,263,290,307,335,321,295,288,262,236,222,201,175,172,264,285,285,289,329,305,286,281,283,272,239,244,251,244,209,185,178,168,226,267,256,253,259,207,165,180,202,201,208,200,213,187,193,227,236,224,227,213,206,208,308,314,319,296,290,180,193,197,194,184,179,154,158,193,196,195,208,228,202,194,221,238,234]]}},\"id\":\"2272a7b0-8610-4445-99dd-1a9b510a2ac4\",\"type\":\"ColumnDataSource\"},{\"attributes\":{\"formatter\":{\"id\":\"b5e940d3-87b6-4da7-b857-76c28a49b053\",\"type\":\"BasicTickFormatter\"},\"plot\":{\"id\":\"8f38f864-db00-4cc2-9d79-36b798bf0c57\",\"subtype\":\"Figure\",\"type\":\"Plot\"},\"ticker\":{\"id\":\"b07970ca-c132-45c6-8def-08ae0f76ef7a\",\"type\":\"BasicTicker\"}},\"id\":\"6945e741-0781-43a7-bf41-6853e572b8ae\",\"type\":\"LinearAxis\"},{\"attributes\":{\"line_color\":{\"value\":\"#e41a1c\"},\"xs\":{\"field\":\"xs\"},\"ys\":{\"field\":\"ys\"}},\"id\":\"1fba1639-224a-4167-bfac-b8db040bdd8f\",\"type\":\"MultiLine\"},{\"attributes\":{\"bottom_units\":\"screen\",\"fill_alpha\":{\"value\":0.5},\"fill_color\":{\"value\":\"lightgrey\"},\"left_units\":\"screen\",\"level\":\"overlay\",\"line_alpha\":{\"value\":1.0},\"line_color\":{\"value\":\"black\"},\"line_dash\":[4,4],\"line_width\":{\"value\":2},\"plot\":null,\"render_mode\":\"css\",\"right_units\":\"screen\",\"top_units\":\"screen\"},\"id\":\"120cadf0-2952-4307-8c42-be92adb0bad6\",\"type\":\"BoxAnnotation\"},{\"attributes\":{\"line_alpha\":{\"value\":0.1},\"line_color\":{\"value\":\"#1f77b4\"},\"xs\":{\"field\":\"xs\"},\"ys\":{\"field\":\"ys\"}},\"id\":\"0da8e745-bd1f-4979-8a9d-fb5d7b71077d\",\"type\":\"MultiLine\"},{\"attributes\":{\"data_source\":{\"id\":\"0156b97e-592d-4613-a441-746a770ce09e\",\"type\":\"ColumnDataSource\"},\"glyph\":{\"id\":\"1fba1639-224a-4167-bfac-b8db040bdd8f\",\"type\":\"MultiLine\"},\"hover_glyph\":null,\"muted_glyph\":null,\"nonselection_glyph\":{\"id\":\"0da8e745-bd1f-4979-8a9d-fb5d7b71077d\",\"type\":\"MultiLine\"},\"selection_glyph\":null},\"id\":\"a3cceb3c-58c8-4ee6-99be-55968c835932\",\"type\":\"GlyphRenderer\"},{\"attributes\":{\"formatter\":{\"id\":\"6f7e4831-5c29-4779-b1c2-35f47d1e50e1\",\"type\":\"BasicTickFormatter\"},\"plot\":{\"id\":\"aa29826d-fcb0-4956-a7c7-0b95d9781462\",\"subtype\":\"Figure\",\"type\":\"Plot\"},\"ticker\":{\"id\":\"7922d6aa-1cc3-43e3-ba18-d2cba97c02f1\",\"type\":\"BasicTicker\"}},\"id\":\"c697bddf-8ff2-4cca-abd1-2f2c140b48fb\",\"type\":\"LinearAxis\"},{\"attributes\":{\"below\":[{\"id\":\"c697bddf-8ff2-4cca-abd1-2f2c140b48fb\",\"type\":\"LinearAxis\"}],\"left\":[{\"id\":\"d7a45fd5-ca36-4733-9e79-bfa9a308a4bf\",\"type\":\"LinearAxis\"}],\"plot_height\":100,\"renderers\":[{\"id\":\"c697bddf-8ff2-4cca-abd1-2f2c140b48fb\",\"type\":\"LinearAxis\"},{\"id\":\"4ab30a4f-9c37-4600-a58b-f9ed37f4da4a\",\"type\":\"Grid\"},{\"id\":\"d7a45fd5-ca36-4733-9e79-bfa9a308a4bf\",\"type\":\"LinearAxis\"},{\"id\":\"a06197c7-487a-43b3-ac2e-a0beb231ca77\",\"type\":\"Grid\"},{\"id\":\"6ebb221d-83a7-4e75-8e91-318b10ba84a4\",\"type\":\"BoxAnnotation\"},{\"id\":\"1e72b7a7-1d44-464e-8a32-7c61f95708a1\",\"type\":\"GlyphRenderer\"}],\"title\":{\"id\":\"f0ceeff6-8c5a-4e1e-81bf-6ef71c5f0376\",\"type\":\"Title\"},\"tool_events\":{\"id\":\"57e5d845-c394-4d8a-968a-edd9914129a9\",\"type\":\"ToolEvents\"},\"toolbar\":{\"id\":\"743ba6fc-da7d-4739-9a53-e61c5beced11\",\"type\":\"Toolbar\"},\"x_range\":{\"id\":\"b1035ebc-ebfb-4a79-baa8-bb72242bf9d6\",\"type\":\"Range1d\"},\"y_range\":{\"id\":\"eb07117d-49c7-484b-9a23-b7f8397c07e3\",\"type\":\"Range1d\"}},\"id\":\"aa29826d-fcb0-4956-a7c7-0b95d9781462\",\"subtype\":\"Figure\",\"type\":\"Plot\"},{\"attributes\":{},\"id\":\"f14efb78-a321-4432-882c-27e3c539c649\",\"type\":\"BasicTickFormatter\"},{\"attributes\":{\"plot\":{\"id\":\"f6599ef1-22dd-4859-937c-2c683924cc1d\",\"subtype\":\"Figure\",\"type\":\"Plot\"}},\"id\":\"1c597e28-e019-49f3-bb1b-e2c8c132c9d4\",\"type\":\"PanTool\"},{\"attributes\":{\"callback\":null,\"column_names\":[\"xs\",\"ys\"],\"data\":{\"xs\":[[0,1,2,3,4,5,6,7,8,9,10,11,12,13,14,15,16,17,18,19,20,21,22,23,24,25,26,27,28,29,30,31,32,33,34,35,36,37,38,39,40,41,42,43,44,45,46,47,48,49,50,51,52,53,54,55,56,57,58,59,60,61,62,63,64,65,66,67,68,69,70,71,72,73,74,75,76,77,78,79,80,81,82,83,84,85,86,87,88,89,90,91,92,93,94,95,96,97,98,99,100,101,102,103,104],[0,1,2,3,4,5,6,7,8,9,10,11,12,13,14,15,16,17,18,19,20,21,22,23,24,25,26,27,28,29,30,31,32,33,34,35,36,37,38,39,40,41,42,43,44,45,46,47,48,49,50,51,52,53,54,55,56,57,58,59,60,61,62,63,64,65,66,67,68,69,70,71,72,73,74,75,76,77,78,79,80,81,82,83,84,85,86,87,88,89,90,91,92,93,94,95,96,97,98,99,100,101,102,103,104,105,106,107,108,109,110,111,112,113,114,115,116,117,118,119,120,121,122,123,124,125,126,127,128,129,130,131,132,133,134,135,136,137,138,139,140,141,142,143,144,145,146,147,148,149,150,151,152,153,154,155,156,157,158,159,160,161,162,163,164,165,166],[0,1,2,3,4,5,6,7,8,9,10,11,12,13,14,15,16,17,18,19,20,21,22,23,24,25,26,27,28,29,30,31,32,33,34,35,36,37,38,39,40,41,42,43,44,45,46,47,48,49,50,51,52,53,54,55,56,57,58,59,60,61,62,63,64,65,66,67,68,69,70,71,72,73,74,75,76,77,78,79,80,81,82,83,84,85,86,87,88,89,90,91,92,93,94,95,96,97,98,99,100,101,102,103,104,105,106,107,108,109,110,111,112,113,114],[0,1,2,3,4,5,6,7,8,9,10,11,12,13,14,15,16,17,18,19,20,21,22,23,24,25,26,27,28,29,30,31,32,33,34,35,36,37,38,39,40,41,42,43,44,45,46,47,48,49,50,51,52,53,54,55,56,57,58,59,60,61,62,63,64,65,66,67,68,69,70,71,72,73,74,75,76,77,78,79,80,81,82,83,84,85,86,87,88,89,90,91,92,93,94,95,96,97,98,99,100,101,102,103,104,105,106,107,108,109,110,111,112,113,114,115,116,117,118,119,120,121,122,123,124,125,126,127,128,129,130,131,132,133,134,135,136,137,138,139,140,141,142,143,144,145,146,147,148,149,150,151,152,153,154,155,156,157,158,159,160,161,162,163,164,165,166,167,168,169,170,171,172,173,174,175,176,177,178,179,180,181,182,183,184,185,186,187,188,189,190,191,192,193,194,195,196,197,198,199,200,201,202,203,204,205,206,207,208,209,210,211,212,213,214,215,216,217,218,219,220,221,222,223,224,225,226,227,228,229,230,231,232,233,234,235,236,237,238,239,240,241,242,243,244,245,246,247],[0,1,2,3,4,5,6,7,8,9,10,11,12,13,14,15,16,17,18,19,20,21,22,23,24,25,26,27,28,29,30,31,32,33,34,35,36,37,38,39,40,41,42,43,44,45,46,47,48,49,50,51,52,53,54,55,56,57,58,59,60,61,62,63,64,65,66,67,68,69,70,71,72,73,74,75,76,77,78,79,80,81,82,83,84,85,86,87,88,89,90,91,92,93,94,95,96,97,98,99,100,101,102,103,104,105,106,107,108,109,110,111,112,113,114,115,116,117,118,119,120,121,122,123,124,125,126,127,128,129,130,131,132,133,134,135,136,137,138,139,140,141,142,143,144,145,146,147,148,149,150,151,152,153,154,155,156,157],[0,1,2,3,4,5,6,7,8,9,10,11,12,13,14,15,16,17,18,19,20,21,22,23,24,25,26,27,28,29,30,31,32,33,34,35,36,37,38,39,40,41,42,43,44,45,46,47,48,49,50,51,52,53,54,55,56,57,58,59,60,61,62,63,64,65,66,67,68,69,70,71,72,73,74,75,76,77,78,79,80,81,82,83,84,85,86,87,88,89,90,91,92,93,94,95,96,97,98,99,100,101,102,103,104,105,106,107,108,109,110,111,112,113,114,115,116,117,118,119,120,121,122,123,124,125,126,127,128,129,130,131,132,133,134,135,136,137,138,139,140,141,142,143,144,145,146,147,148,149,150,151,152,153,154,155,156,157,158,159,160,161,162,163,164,165,166,167,168,169,170,171,172,173,174,175,176,177,178,179,180,181,182,183,184,185,186,187,188,189,190,191],[0,1,2,3,4,5,6,7,8,9,10,11,12,13,14,15,16,17,18,19,20,21,22,23,24,25,26,27,28,29,30,31,32,33,34,35,36,37,38,39,40,41,42,43,44,45,46,47,48,49,50,51,52,53,54,55,56,57,58,59,60,61,62,63,64,65,66,67,68,69,70,71,72,73,74,75,76,77,78,79,80,81,82,83,84,85,86,87,88,89,90,91,92,93,94],[0,1,2,3,4,5,6,7,8,9,10,11,12,13,14,15,16,17,18,19,20,21,22,23,24,25,26,27,28,29,30,31,32,33,34,35,36,37,38,39,40,41,42,43,44,45,46,47,48,49,50,51,52,53,54,55,56,57,58,59,60,61,62,63,64,65,66,67,68,69,70,71,72,73,74,75,76,77,78,79,80,81,82,83,84,85,86,87,88,89,90,91,92,93,94,95,96,97,98,99,100,101,102,103,104,105,106,107,108,109,110,111,112,113,114,115]],\"ys\":[[181,170,188,189,184,203,185,177,185,176,144,153,165,159,178,184,178,158,140,131,122,131,138,146,148,148,154,150,153,155,152,169,166,166,158,159,138,146,156,150,190,195,200,193,207,187,178,167,206,210,201,244,250,219,207,232,179,178,191,184,143,154,141,126,179,186,185,186,196,160,150,153,164,190,195,195,186,180,127,109,118,119,119,128,125,177,178,199,194,202,170,178,169,187,185,176,168,172,159,156,154,177,181,179,178],[158,161,163,179,201,179,188,225,224,194,189,190,147,128,126,126,121,122,131,162,165,165,196,194,183,197,334,359,366,357,379,300,262,250,255,237,194,192,215,210,176,164,171,179,196,194,200,202,181,158,198,228,215,222,240,233,241,260,260,312,309,312,320,326,288,284,267,246,271,245,237,234,224,164,266,295,328,336,343,283,274,254,250,243,241,220,181,190,191,183,190,189,172,174,180,157,145,164,166,152,158,172,157,149,141,136,129,112,107,126,128,131,132,163,207,220,224,223,215,171,150,133,134,137,153,176,182,190,187,170,172,166,166,192,192,195,195,193,158,163,134,147,135,129,133,143,144,150,152,161,149,132,134,132,111,124,131,124,150,145,139,148,156,124,143,143,133],[251,234,211,220,236,231,207,236,243,236,252,257,233,205,181,159,150,161,172,189,185,170,138,148,128,128,152,177,173,186,195,173,153,142,125,137,155,156,161,177,160,151,156,155,138,140,154,152,146,157,153,127,175,182,187,183,185,156,158,139,153,161,140,146,148,147,136,138,119,121,104,134,136,133,130,132,127,133,133,136,138,124,113,137,129,129,144,152,149,161,170,155,158,144,152,136,132,117,116,110,134,151,159,159,156,135,112,104,103,103,101,115,112,123,109],[211,218,219,226,230,190,180,184,177,135,135,156,186,202,212,263,251,230,227,243,298,331,336,336,326,233,182,164,141,115,105,145,149,147,148,145,83,94,110,108,108,133,119,113,122,143,150,210,229,228,226,224,168,169,184,183,167,192,171,161,182,207,251,253,256,267,267,219,232,226,211,183,187,167,188,180,186,173,213,196,184,193,186,141,254,268,289,296,296,231,215,170,174,185,161,175,185,199,202,196,182,170,212,200,196,194,207,149,164,186,188,199,212,223,204,200,224,209,187,187,211,174,175,167,171,178,178,163,165,179,144,135,137,157,161,161,170,175,199,187,204,195,194,182,172,151,145,135,85,95,121,127,134,139,204,188,201,220,227,167,168,151,117,139,148,147,160,160,137,130,178,164,179,181,182,137,139,131,115,105,109,109,133,171,175,179,179,180,144,147,145,177,153,150,156,157,138,138,139,131,121,158,160,162,155,161,165,170,192,206,208,168,172,145,133,127,116,91,92,83,82,109,120,124,136,129,107,94,92,138,157,165,168,173,140,119,116,118,119,101,103,95,88,109,132,132,133,133],[171,166,160,174,162,126,210,210,202,191,201,107,114,121,169,176,183,187,213,211,219,275,286,267,287,269,227,209,242,193,266,280,285,284,316,280,301,310,318,371,362,324,331,315,232,242,251,232,217,198,213,216,210,209,266,237,234,267,271,223,234,225,187,193,178,172,179,198,186,189,184,175,137,131,134,124,117,126,131,128,131,133,131,121,117,101,104,123,203,208,207,208,217,160,146,156,153,149,136,185,182,201,190,185,143,139,124,134,145,136,138,131,116,105,127,127,125,137,139,125,122,125,109,101,95,100,107,126,127,128,128,127,98,100,113,112,110,111,109,99,119,107,107,110,113,103,105,128,129,125,120,118,100,107,107,109,119,119],[187,187,207,172,187,194,195,175,185,246,261,275,270,269,185,157,133,132,124,237,249,267,281,314,239,233,228,249,212,227,260,262,248,262,253,247,237,226,203,197,188,198,199,201,212,193,184,168,193,235,230,223,223,211,213,206,204,216,214,137,132,146,143,126,127,134,146,156,153,163,186,183,167,162,171,141,178,184,192,182,222,191,186,185,177,130,114,113,125,129,127,145,142,133,152,146,139,150,163,154,158,144,144,136,136,136,154,164,156,152,159,142,120,129,137,125,135,140,127,123,124,114,111,111,114,134,147,144,142,127,124,117,108,110,123,104,115,140,143,135,134,119,96,103,126,129,133,130,118,92,104,104,100,107,108,104,104,114,123,161,160,158,154,165,124,118,133,133,103,117,126,111,134,134,130,122,123,92,90,79,98,93,107,115,142,162,165,156,156,140,114,113],[228,252,252,245,248,227,204,219,198,187,178,253,249,247,277,273,213,245,252,220,228,225,177,196,222,220,218,289,301,304,328,362,317,314,307,286,257,332,305,295,314,312,256,295,306,291,303,286,264,279,268,249,242,242,234,230,238,285,288,269,277,350,337,320,314,315,208,170,254,253,246,253,247,156,153,173,170,188,220,221,210,206,328,322,336,362,368,260,246,262,232,222,228,229,232],[246,237,232,225,337,333,335,370,430,378,379,390,354,279,236,289,330,317,313,318,357,288,291,291,307,193,218,237,267,257,273,282,359,378,378,374,376,299,252,221,279,310,310,306,321,286,218,199,196,179,138,132,140,149,150,143,147,142,154,145,144,142,145,112,135,137,140,145,147,124,129,170,170,167,164,162,108,90,134,140,144,147,164,172,178,169,179,168,132,134,139,172,173,182,187,194,151,147,134,128,124,125,123,120,137,137,137,141,143,121,125,129,121,116,115,105]]}},\"id\":\"3a962a71-5014-4851-be3e-43eb5d8470e0\",\"type\":\"ColumnDataSource\"},{\"attributes\":{},\"id\":\"57e5d845-c394-4d8a-968a-edd9914129a9\",\"type\":\"ToolEvents\"},{\"attributes\":{},\"id\":\"d14b3e1a-7637-41e8-9aab-fd69689e4a6f\",\"type\":\"BasicTickFormatter\"},{\"attributes\":{\"plot\":{\"id\":\"f6599ef1-22dd-4859-937c-2c683924cc1d\",\"subtype\":\"Figure\",\"type\":\"Plot\"}},\"id\":\"d40228ea-8d47-4938-9c7b-58916cf6abdf\",\"type\":\"WheelZoomTool\"},{\"attributes\":{\"overlay\":{\"id\":\"120cadf0-2952-4307-8c42-be92adb0bad6\",\"type\":\"BoxAnnotation\"},\"plot\":{\"id\":\"f6599ef1-22dd-4859-937c-2c683924cc1d\",\"subtype\":\"Figure\",\"type\":\"Plot\"}},\"id\":\"0cdf5b91-8777-4eaf-ad98-baca39e207a1\",\"type\":\"BoxZoomTool\"},{\"attributes\":{\"plot\":{\"id\":\"f6599ef1-22dd-4859-937c-2c683924cc1d\",\"subtype\":\"Figure\",\"type\":\"Plot\"}},\"id\":\"15ba3d78-d188-46db-bb37-8ae7eeb93983\",\"type\":\"SaveTool\"},{\"attributes\":{\"plot\":{\"id\":\"f6599ef1-22dd-4859-937c-2c683924cc1d\",\"subtype\":\"Figure\",\"type\":\"Plot\"}},\"id\":\"2748948d-1ce7-4eb6-b111-95798cc7b9b0\",\"type\":\"ResetTool\"},{\"attributes\":{\"plot\":{\"id\":\"f6599ef1-22dd-4859-937c-2c683924cc1d\",\"subtype\":\"Figure\",\"type\":\"Plot\"}},\"id\":\"fee763f1-7fd5-4ea1-8298-0a483f1b9609\",\"type\":\"HelpTool\"},{\"attributes\":{\"callback\":null,\"end\":438,\"start\":21},\"id\":\"eb07117d-49c7-484b-9a23-b7f8397c07e3\",\"type\":\"Range1d\"},{\"attributes\":{},\"id\":\"823bfd94-8366-4544-8033-3b8b362fdad1\",\"type\":\"BasicTicker\"},{\"attributes\":{\"active_drag\":\"auto\",\"active_scroll\":\"auto\",\"active_tap\":\"auto\",\"tools\":[{\"id\":\"ddc322f8-83c7-4480-a953-a91f7573ce17\",\"type\":\"PanTool\"},{\"id\":\"a8c7653b-5fc5-4d27-9978-e264468c5826\",\"type\":\"WheelZoomTool\"},{\"id\":\"16ae3c2d-f25d-4cb1-b92f-e2e660156601\",\"type\":\"BoxZoomTool\"},{\"id\":\"c05898dc-ed91-41ec-9f0d-a7fdd6b4688a\",\"type\":\"SaveTool\"},{\"id\":\"6175a74f-24df-46c7-9bcc-0984ceb69146\",\"type\":\"ResetTool\"},{\"id\":\"9f429094-7f2d-44f2-8797-9d864be95897\",\"type\":\"HelpTool\"}]},\"id\":\"7a6c9ff1-f23c-49dd-bd82-dec9f9a6799c\",\"type\":\"Toolbar\"},{\"attributes\":{\"active_drag\":\"auto\",\"active_scroll\":\"auto\",\"active_tap\":\"auto\",\"tools\":[{\"id\":\"cb062804-ba8b-45a4-ad97-b579fab2d1a3\",\"type\":\"PanTool\"},{\"id\":\"80c8fcc2-7557-4d24-b452-6f4b53e07939\",\"type\":\"WheelZoomTool\"},{\"id\":\"72b7d50b-b611-494c-8bdb-ebc4b333d38d\",\"type\":\"BoxZoomTool\"},{\"id\":\"2944bb0c-501d-43d6-9d44-a54ee58b4e04\",\"type\":\"SaveTool\"},{\"id\":\"03749609-53f8-4f7c-a93e-93d49a94c65b\",\"type\":\"ResetTool\"},{\"id\":\"6e8a81b3-cb9c-465b-9aad-befef036688f\",\"type\":\"HelpTool\"}]},\"id\":\"743ba6fc-da7d-4739-9a53-e61c5beced11\",\"type\":\"Toolbar\"},{\"attributes\":{\"plot\":{\"id\":\"aa29826d-fcb0-4956-a7c7-0b95d9781462\",\"subtype\":\"Figure\",\"type\":\"Plot\"},\"ticker\":{\"id\":\"7922d6aa-1cc3-43e3-ba18-d2cba97c02f1\",\"type\":\"BasicTicker\"}},\"id\":\"4ab30a4f-9c37-4600-a58b-f9ed37f4da4a\",\"type\":\"Grid\"},{\"attributes\":{\"line_color\":{\"value\":\"#377eb8\"},\"xs\":{\"field\":\"xs\"},\"ys\":{\"field\":\"ys\"}},\"id\":\"e7bb5f7b-219a-4f72-8020-b7ba08942de8\",\"type\":\"MultiLine\"},{\"attributes\":{},\"id\":\"7922d6aa-1cc3-43e3-ba18-d2cba97c02f1\",\"type\":\"BasicTicker\"},{\"attributes\":{\"line_alpha\":{\"value\":0.1},\"line_color\":{\"value\":\"#1f77b4\"},\"xs\":{\"field\":\"xs\"},\"ys\":{\"field\":\"ys\"}},\"id\":\"730bb062-ca76-4b90-9071-ac1d403cddba\",\"type\":\"MultiLine\"},{\"attributes\":{\"formatter\":{\"id\":\"a10ee695-ab90-4119-8c27-7b23edf107b8\",\"type\":\"BasicTickFormatter\"},\"plot\":{\"id\":\"aa29826d-fcb0-4956-a7c7-0b95d9781462\",\"subtype\":\"Figure\",\"type\":\"Plot\"},\"ticker\":{\"id\":\"823bfd94-8366-4544-8033-3b8b362fdad1\",\"type\":\"BasicTicker\"}},\"id\":\"d7a45fd5-ca36-4733-9e79-bfa9a308a4bf\",\"type\":\"LinearAxis\"},{\"attributes\":{\"data_source\":{\"id\":\"3a962a71-5014-4851-be3e-43eb5d8470e0\",\"type\":\"ColumnDataSource\"},\"glyph\":{\"id\":\"e7bb5f7b-219a-4f72-8020-b7ba08942de8\",\"type\":\"MultiLine\"},\"hover_glyph\":null,\"muted_glyph\":null,\"nonselection_glyph\":{\"id\":\"730bb062-ca76-4b90-9071-ac1d403cddba\",\"type\":\"MultiLine\"},\"selection_glyph\":null},\"id\":\"1e72b7a7-1d44-464e-8a32-7c61f95708a1\",\"type\":\"GlyphRenderer\"},{\"attributes\":{\"dimension\":1,\"plot\":{\"id\":\"aa29826d-fcb0-4956-a7c7-0b95d9781462\",\"subtype\":\"Figure\",\"type\":\"Plot\"},\"ticker\":{\"id\":\"823bfd94-8366-4544-8033-3b8b362fdad1\",\"type\":\"BasicTicker\"}},\"id\":\"a06197c7-487a-43b3-ac2e-a0beb231ca77\",\"type\":\"Grid\"},{\"attributes\":{},\"id\":\"6f7e4831-5c29-4779-b1c2-35f47d1e50e1\",\"type\":\"BasicTickFormatter\"},{\"attributes\":{\"plot\":null,\"text\":\"2\"},\"id\":\"0329149f-29b7-471e-834f-eb5cbe89aae3\",\"type\":\"Title\"},{\"attributes\":{\"below\":[{\"id\":\"6945e741-0781-43a7-bf41-6853e572b8ae\",\"type\":\"LinearAxis\"}],\"left\":[{\"id\":\"8c07f10b-8cc4-496c-ac8b-e8451fd0a900\",\"type\":\"LinearAxis\"}],\"plot_height\":100,\"renderers\":[{\"id\":\"6945e741-0781-43a7-bf41-6853e572b8ae\",\"type\":\"LinearAxis\"},{\"id\":\"abb6612c-9b88-426a-af09-36e7d6f2311c\",\"type\":\"Grid\"},{\"id\":\"8c07f10b-8cc4-496c-ac8b-e8451fd0a900\",\"type\":\"LinearAxis\"},{\"id\":\"b99f7e25-7ce1-46ac-b3dc-794e5cf16fb5\",\"type\":\"Grid\"},{\"id\":\"27a95c50-0e9c-45f4-8669-55c4ee793cd2\",\"type\":\"BoxAnnotation\"},{\"id\":\"774bddbe-8edc-4d8c-84f0-97979413c2a4\",\"type\":\"GlyphRenderer\"}],\"title\":{\"id\":\"0329149f-29b7-471e-834f-eb5cbe89aae3\",\"type\":\"Title\"},\"tool_events\":{\"id\":\"e134ff14-88b9-4a5a-8c7a-d8ae100bb2fd\",\"type\":\"ToolEvents\"},\"toolbar\":{\"id\":\"7a6c9ff1-f23c-49dd-bd82-dec9f9a6799c\",\"type\":\"Toolbar\"},\"x_range\":{\"id\":\"b1035ebc-ebfb-4a79-baa8-bb72242bf9d6\",\"type\":\"Range1d\"},\"y_range\":{\"id\":\"eb07117d-49c7-484b-9a23-b7f8397c07e3\",\"type\":\"Range1d\"}},\"id\":\"8f38f864-db00-4cc2-9d79-36b798bf0c57\",\"subtype\":\"Figure\",\"type\":\"Plot\"},{\"attributes\":{},\"id\":\"a10ee695-ab90-4119-8c27-7b23edf107b8\",\"type\":\"BasicTickFormatter\"},{\"attributes\":{},\"id\":\"e134ff14-88b9-4a5a-8c7a-d8ae100bb2fd\",\"type\":\"ToolEvents\"},{\"attributes\":{\"plot\":{\"id\":\"aa29826d-fcb0-4956-a7c7-0b95d9781462\",\"subtype\":\"Figure\",\"type\":\"Plot\"}},\"id\":\"cb062804-ba8b-45a4-ad97-b579fab2d1a3\",\"type\":\"PanTool\"},{\"attributes\":{\"plot\":{\"id\":\"aa29826d-fcb0-4956-a7c7-0b95d9781462\",\"subtype\":\"Figure\",\"type\":\"Plot\"}},\"id\":\"2944bb0c-501d-43d6-9d44-a54ee58b4e04\",\"type\":\"SaveTool\"},{\"attributes\":{\"plot\":{\"id\":\"aa29826d-fcb0-4956-a7c7-0b95d9781462\",\"subtype\":\"Figure\",\"type\":\"Plot\"}},\"id\":\"80c8fcc2-7557-4d24-b452-6f4b53e07939\",\"type\":\"WheelZoomTool\"},{\"attributes\":{\"line_color\":{\"value\":\"#4daf4a\"},\"xs\":{\"field\":\"xs\"},\"ys\":{\"field\":\"ys\"}},\"id\":\"08751f00-7c75-47b2-b6ea-7f1937a137a0\",\"type\":\"MultiLine\"},{\"attributes\":{\"overlay\":{\"id\":\"6ebb221d-83a7-4e75-8e91-318b10ba84a4\",\"type\":\"BoxAnnotation\"},\"plot\":{\"id\":\"aa29826d-fcb0-4956-a7c7-0b95d9781462\",\"subtype\":\"Figure\",\"type\":\"Plot\"}},\"id\":\"72b7d50b-b611-494c-8bdb-ebc4b333d38d\",\"type\":\"BoxZoomTool\"},{\"attributes\":{\"plot\":{\"id\":\"aa29826d-fcb0-4956-a7c7-0b95d9781462\",\"subtype\":\"Figure\",\"type\":\"Plot\"}},\"id\":\"03749609-53f8-4f7c-a93e-93d49a94c65b\",\"type\":\"ResetTool\"},{\"attributes\":{\"bottom_units\":\"screen\",\"fill_alpha\":{\"value\":0.5},\"fill_color\":{\"value\":\"lightgrey\"},\"left_units\":\"screen\",\"level\":\"overlay\",\"line_alpha\":{\"value\":1.0},\"line_color\":{\"value\":\"black\"},\"line_dash\":[4,4],\"line_width\":{\"value\":2},\"plot\":null,\"render_mode\":\"css\",\"right_units\":\"screen\",\"top_units\":\"screen\"},\"id\":\"6ebb221d-83a7-4e75-8e91-318b10ba84a4\",\"type\":\"BoxAnnotation\"},{\"attributes\":{\"plot\":{\"id\":\"aa29826d-fcb0-4956-a7c7-0b95d9781462\",\"subtype\":\"Figure\",\"type\":\"Plot\"}},\"id\":\"6e8a81b3-cb9c-465b-9aad-befef036688f\",\"type\":\"HelpTool\"},{\"attributes\":{\"plot\":{\"id\":\"8f38f864-db00-4cc2-9d79-36b798bf0c57\",\"subtype\":\"Figure\",\"type\":\"Plot\"},\"ticker\":{\"id\":\"b07970ca-c132-45c6-8def-08ae0f76ef7a\",\"type\":\"BasicTicker\"}},\"id\":\"abb6612c-9b88-426a-af09-36e7d6f2311c\",\"type\":\"Grid\"},{\"attributes\":{\"callback\":null,\"column_names\":[\"xs\",\"ys\"],\"data\":{\"xs\":[[0,1,2,3,4,5,6,7,8,9,10,11,12,13,14,15,16,17,18,19,20,21,22,23,24,25,26,27,28,29,30,31,32,33,34,35,36,37,38,39,40,41,42,43,44,45,46,47,48,49,50,51,52,53,54,55,56,57,58,59,60,61,62,63,64,65,66,67,68,69,70,71,72,73,74,75,76,77,78,79,80,81,82,83,84,85,86,87,88,89,90,91,92,93,94,95,96,97,98,99,100,101,102,103,104],[0,1,2,3,4,5,6,7,8,9,10,11,12,13,14,15,16,17,18,19,20,21,22,23,24,25,26,27,28,29,30,31,32,33,34,35,36,37,38,39,40,41,42,43,44,45,46,47,48,49,50,51,52,53,54,55,56,57,58,59,60,61,62,63,64,65,66,67,68,69,70,71,72,73,74,75,76,77,78,79,80,81,82,83,84,85,86,87,88,89,90,91,92,93,94,95,96,97,98,99,100,101,102,103,104,105,106,107,108,109,110,111,112,113,114,115,116,117,118,119,120,121,122,123,124,125,126,127,128,129,130,131,132,133,134,135,136,137,138,139,140,141,142,143,144,145,146,147,148,149,150,151,152,153,154,155,156,157,158,159,160,161,162,163,164,165,166],[0,1,2,3,4,5,6,7,8,9,10,11,12,13,14,15,16,17,18,19,20,21,22,23,24,25,26,27,28,29,30,31,32,33,34,35,36,37,38,39,40,41,42,43,44,45,46,47,48,49,50,51,52,53,54,55,56,57,58,59,60,61,62,63,64,65,66,67,68,69,70,71,72,73,74,75,76,77,78,79,80,81,82,83,84,85,86,87,88,89,90,91,92,93,94,95,96,97,98,99,100,101,102,103,104,105,106,107,108,109,110,111,112,113,114],[0,1,2,3,4,5,6,7,8,9,10,11,12,13,14,15,16,17,18,19,20,21,22,23,24,25,26,27,28,29,30,31,32,33,34,35,36,37,38,39,40,41,42,43,44,45,46,47,48,49,50,51,52,53,54,55,56,57,58,59,60,61,62,63,64,65,66,67,68,69,70,71,72,73,74,75,76,77,78,79,80,81,82,83,84,85,86,87,88,89,90,91,92,93,94,95,96,97,98,99,100,101,102,103,104,105,106,107,108,109,110,111,112,113,114,115,116,117,118,119,120,121,122,123,124,125,126,127,128,129,130,131,132,133,134,135,136,137,138,139,140,141,142,143,144,145,146,147,148,149,150,151,152,153,154,155,156,157,158,159,160,161,162,163,164,165,166,167,168,169,170,171,172,173,174,175,176,177,178,179,180,181,182,183,184,185,186,187,188,189,190,191,192,193,194,195,196,197,198,199,200,201,202,203,204,205,206,207,208,209,210,211,212,213,214,215,216,217,218,219,220,221,222,223,224,225,226,227,228,229,230,231,232,233,234,235,236,237,238,239,240,241,242,243,244,245,246,247],[0,1,2,3,4,5,6,7,8,9,10,11,12,13,14,15,16,17,18,19,20,21,22,23,24,25,26,27,28,29,30,31,32,33,34,35,36,37,38,39,40,41,42,43,44,45,46,47,48,49,50,51,52,53,54,55,56,57,58,59,60,61,62,63,64,65,66,67,68,69,70,71,72,73,74,75,76,77,78,79,80,81,82,83,84,85,86,87,88,89,90,91,92,93,94,95,96,97,98,99,100,101,102,103,104,105,106,107,108,109,110,111,112,113,114,115,116,117,118,119,120,121,122,123,124,125,126,127,128,129,130,131,132,133,134,135,136,137,138,139,140,141,142,143,144,145,146,147,148,149,150,151,152,153,154,155,156,157],[0,1,2,3,4,5,6,7,8,9,10,11,12,13,14,15,16,17,18,19,20,21,22,23,24,25,26,27,28,29,30,31,32,33,34,35,36,37,38,39,40,41,42,43,44,45,46,47,48,49,50,51,52,53,54,55,56,57,58,59,60,61,62,63,64,65,66,67,68,69,70,71,72,73,74,75,76,77,78,79,80,81,82,83,84,85,86,87,88,89,90,91,92,93,94,95,96,97,98,99,100,101,102,103,104,105,106,107,108,109,110,111,112,113,114,115,116,117,118,119,120,121,122,123,124,125,126,127,128,129,130,131,132,133,134,135,136,137,138,139,140,141,142,143,144,145,146,147,148,149,150,151,152,153,154,155,156,157,158,159,160,161,162,163,164,165,166,167,168,169,170,171,172,173,174,175,176,177,178,179,180,181,182,183,184,185,186,187,188,189,190,191],[0,1,2,3,4,5,6,7,8,9,10,11,12,13,14,15,16,17,18,19,20,21,22,23,24,25,26,27,28,29,30,31,32,33,34,35,36,37,38,39,40,41,42,43,44,45,46,47,48,49,50,51,52,53,54,55,56,57,58,59,60,61,62,63,64,65,66,67,68,69,70,71,72,73,74,75,76,77,78,79,80,81,82,83,84,85,86,87,88,89,90,91,92,93,94],[0,1,2,3,4,5,6,7,8,9,10,11,12,13,14,15,16,17,18,19,20,21,22,23,24,25,26,27,28,29,30,31,32,33,34,35,36,37,38,39,40,41,42,43,44,45,46,47,48,49,50,51,52,53,54,55,56,57,58,59,60,61,62,63,64,65,66,67,68,69,70,71,72,73,74,75,76,77,78,79,80,81,82,83,84,85,86,87,88,89,90,91,92,93,94,95,96,97,98,99,100,101,102,103,104,105,106,107,108,109,110,111,112,113,114,115]],\"ys\":[[47,51,52,56,59,53,52,52,48,47,51,49,49,57,60,57,57,69,68,68,76,75,67,68,64,56,61,59,56,57,57,60,54,50,54,53,45,45,45,39,36,43,50,53,53,55,64,61,60,63,63,58,54,55,59,59,49,55,53,49,47,48,44,50,49,48,60,63,63,62,65,53,49,43,45,47,50,52,53,57,51,48,47,50,46,47,46,46,39,39,53,57,57,59,58,43,40,44,45,46,48,48,45,41,50],[26,26,24,30,28,27,31,34,33,34,39,37,37,35,39,35,36,36,37,34,34,33,29,26,26,32,35,37,36,36,36,33,31,32,32,30,33,37,41,39,45,44,42,38,42,36,41,43,44,43,51,50,51,55,56,49,54,55,70,78,91,91,98,95,91,83,97,90,84,91,98,94,97,97,103,95,80,73,77,56,58,57,60,59,86,88,88,88,84,61,56,61,64,64,57,56,50,45,46,43,44,45,42,39,41,37,33,34,37,35,39,42,42,43,43,44,52,55,62,61,58,52,48,38,37,38,35,41,44,47,53,54,53,50,49,44,45,42,41,47,48,46,48,48,42,38,38,43,49,48,48,49,42,37,35,41,42,44,43,45,40,41,39,38,34,33,34],[57,61,51,54,55,70,75,76,78,81,69,62,60,60,55,55,49,58,57,59,60,63,53,52,56,59,57,56,53,50,48,46,44,42,38,43,46,50,50,50,46,46,42,43,47,45,42,46,51,51,53,54,52,47,42,36,40,38,40,43,45,42,46,45,41,54,53,52,52,53,39,40,38,39,39,41,39,38,37,33,31,36,40,40,40,42,41,39,42,43,41,38,41,41,43,45,42,42,50,47,46,46,42,31,40,44,46,47,48,44,41,40,40,43,42],[41,47,49,49,49,45,36,35,37,34,32,33,34,29,34,35,35,57,68,67,72,73,56,43,42,38,36,37,37,37,33,33,33,35,34,34,32,29,33,34,35,36,37,35,36,34,36,34,32,28,28,34,37,43,57,57,60,59,55,66,86,90,92,96,83,69,68,70,66,66,63,57,59,62,68,68,61,54,65,76,75,90,92,85,70,69,61,64,64,62,71,60,62,63,63,53,56,46,45,44,42,38,39,37,37,45,46,51,47,49,43,43,39,42,41,46,49,50,52,57,56,54,59,56,50,46,48,41,40,39,40,40,41,43,44,44,46,42,43,43,42,40,41,40,41,41,38,39,36,34,33,34,31,36,40,39,42,46,44,43,47,43,41,42,40,36,41,39,37,38,39,35,33,32,34,34,31,33,34,32,34,38,38,38,36,43,42,42,43,44,37,35,35,34,35,39,43,44,46,44,43,37,36,31,33,29,30,32,41,42,43,45,46,40,39,42,40,38,36,34,33,38,41,45,44,41,38,37,35,38,39,37,35,34,33,31,31,34,36,38,38,39,36,35,34,35,39,39],[38,40,41,38,35,40,45,46,45,45,42,38,39,41,45,43,41,39,45,55,59,60,60,56,50,48,56,55,59,54,59,75,92,96,97,99,97,114,119,119,118,112,85,72,73,69,62,53,58,55,57,59,66,68,68,64,60,54,48,49,61,65,64,62,63,55,54,63,66,66,72,72,62,55,53,44,52,57,61,62,61,52,53,50,47,47,47,46,50,49,47,45,41,32,31,35,41,44,46,46,51,47,43,47,50,48,54,57,55,53,51,53,53,53,52,49,42,43,42,42,41,39,40,44,46,49,52,47,43,41,39,38,45,45,44,44,44,39,41,41,46,46,45,45,48,45,42,41,38,36,41,40,40,41,42,36,36,36],[29,29,28,32,32,33,34,37,36,39,38,37,34,35,32,36,36,40,42,46,43,50,45,43,39,43,39,42,41,38,38,38,41,46,50,51,53,66,82,84,87,85,86,73,71,67,66,79,79,76,78,79,52,45,52,46,48,45,44,39,40,34,35,39,40,40,46,44,42,39,39,33,35,37,40,40,41,46,46,44,44,44,37,33,31,34,35,32,33,32,35,38,40,40,44,40,38,36,36,32,32,34,38,39,41,44,50,49,48,49,52,45,42,42,40,31,30,37,34,39,41,39,36,38,35,33,36,34,35,38,38,39,38,37,33,33,32,33,37,37,38,36,35,33,35,33,33,37,39,36,39,42,38,38,37,34,32,33,30,34,32,35,35,35,36,38,35,35,35,33,35,35,35,33,32,30,30,32,33,34,35,35,36,35,34,32,32,28,28,30,32,31],[182,188,215,181,180,181,176,127,115,111,106,105,78,61,63,59,57,58,57,51,51,56,55,52,55,54,43,44,51,50,50,56,57,54,52,62,69,71,73,91,90,87,87,88,77,70,68,67,69,66,67,72,74,68,62,62,54,51,62,71,70,71,69,58,55,57,56,60,64,76,78,75,74,82,71,92,99,99,88,85,63,70,66,69,73,86,73,73,70,64,45,45,47,47,48],[131,128,146,137,136,175,204,184,177,181,209,203,203,203,212,152,123,118,119,96,79,75,73,64,62,61,53,48,54,56,57,90,99,101,103,103,75,61,52,55,66,67,93,95,89,90,99,75,71,72,65,51,57,59,59,56,68,68,71,83,93,83,80,76,69,63,73,75,78,71,65,53,50,48,45,41,39,40,39,41,45,46,46,41,41,45,48,46,52,58,54,52,61,58,52,50,50,42,41,41,41,40,36,39,40,40,47,47,47,45,43,36,37,34,33,39]]}},\"id\":\"bed82861-c931-4004-95d1-61192421e7d5\",\"type\":\"ColumnDataSource\"},{\"attributes\":{\"plot\":null,\"text\":\"3\"},\"id\":\"0b0345b8-1fa1-4813-8b8f-2e3826eb9502\",\"type\":\"Title\"},{\"attributes\":{},\"id\":\"b07970ca-c132-45c6-8def-08ae0f76ef7a\",\"type\":\"BasicTicker\"},{\"attributes\":{\"formatter\":{\"id\":\"2955da1e-a91d-49a2-83b5-f62bcf22cdd0\",\"type\":\"BasicTickFormatter\"},\"plot\":{\"id\":\"8f38f864-db00-4cc2-9d79-36b798bf0c57\",\"subtype\":\"Figure\",\"type\":\"Plot\"},\"ticker\":{\"id\":\"59f42985-991e-4464-84e1-5557b70646fc\",\"type\":\"BasicTicker\"}},\"id\":\"8c07f10b-8cc4-496c-ac8b-e8451fd0a900\",\"type\":\"LinearAxis\"},{\"attributes\":{},\"id\":\"59f42985-991e-4464-84e1-5557b70646fc\",\"type\":\"BasicTicker\"},{\"attributes\":{\"dimension\":1,\"plot\":{\"id\":\"8f38f864-db00-4cc2-9d79-36b798bf0c57\",\"subtype\":\"Figure\",\"type\":\"Plot\"},\"ticker\":{\"id\":\"59f42985-991e-4464-84e1-5557b70646fc\",\"type\":\"BasicTicker\"}},\"id\":\"b99f7e25-7ce1-46ac-b3dc-794e5cf16fb5\",\"type\":\"Grid\"},{\"attributes\":{\"formatter\":{\"id\":\"423c1581-1098-494f-8cd7-4f199bf2a740\",\"type\":\"BasicTickFormatter\"},\"plot\":{\"id\":\"265cd062-9d56-4208-ac5d-7a5e70e216e9\",\"subtype\":\"Figure\",\"type\":\"Plot\"},\"ticker\":{\"id\":\"ef3e1925-5ed7-4783-a82b-d93b3eaa9c3b\",\"type\":\"BasicTicker\"}},\"id\":\"805e7564-b368-406b-a259-2875de075498\",\"type\":\"LinearAxis\"},{\"attributes\":{\"formatter\":{\"id\":\"12b5a4bc-5938-48ce-91eb-73ac48502b34\",\"type\":\"BasicTickFormatter\"},\"plot\":{\"id\":\"7c12f6da-eade-487d-b3c3-78fbbef1539f\",\"subtype\":\"Figure\",\"type\":\"Plot\"},\"ticker\":{\"id\":\"e0b653d8-dc63-4f8f-bed4-bf9f7fd1d5d8\",\"type\":\"BasicTicker\"}},\"id\":\"68e98649-b3cf-40d7-bb6c-6508658760ff\",\"type\":\"LinearAxis\"},{\"attributes\":{\"below\":[{\"id\":\"805e7564-b368-406b-a259-2875de075498\",\"type\":\"LinearAxis\"}],\"left\":[{\"id\":\"d3a65a54-ae67-4252-85e2-f01c37c11642\",\"type\":\"LinearAxis\"}],\"plot_height\":100,\"renderers\":[{\"id\":\"805e7564-b368-406b-a259-2875de075498\",\"type\":\"LinearAxis\"},{\"id\":\"dd2a70d7-e985-452f-90dc-3bf2844c0d07\",\"type\":\"Grid\"},{\"id\":\"d3a65a54-ae67-4252-85e2-f01c37c11642\",\"type\":\"LinearAxis\"},{\"id\":\"23eb65d9-7e49-4930-941e-bd19b3437458\",\"type\":\"Grid\"},{\"id\":\"47c5ad12-b93f-479d-87fe-2fe916caab3c\",\"type\":\"BoxAnnotation\"},{\"id\":\"6c2cafae-d210-49f6-b308-6daf0224ce66\",\"type\":\"GlyphRenderer\"}],\"title\":{\"id\":\"0b0345b8-1fa1-4813-8b8f-2e3826eb9502\",\"type\":\"Title\"},\"tool_events\":{\"id\":\"0db13659-883d-4543-8f61-ab0406be6fd1\",\"type\":\"ToolEvents\"},\"toolbar\":{\"id\":\"90ed622e-6012-48da-adf7-6d29c95e28a5\",\"type\":\"Toolbar\"},\"x_range\":{\"id\":\"b1035ebc-ebfb-4a79-baa8-bb72242bf9d6\",\"type\":\"Range1d\"},\"y_range\":{\"id\":\"eb07117d-49c7-484b-9a23-b7f8397c07e3\",\"type\":\"Range1d\"}},\"id\":\"265cd062-9d56-4208-ac5d-7a5e70e216e9\",\"subtype\":\"Figure\",\"type\":\"Plot\"},{\"attributes\":{\"bottom_units\":\"screen\",\"fill_alpha\":{\"value\":0.5},\"fill_color\":{\"value\":\"lightgrey\"},\"left_units\":\"screen\",\"level\":\"overlay\",\"line_alpha\":{\"value\":1.0},\"line_color\":{\"value\":\"black\"},\"line_dash\":[4,4],\"line_width\":{\"value\":2},\"plot\":null,\"render_mode\":\"css\",\"right_units\":\"screen\",\"top_units\":\"screen\"},\"id\":\"27a95c50-0e9c-45f4-8669-55c4ee793cd2\",\"type\":\"BoxAnnotation\"},{\"attributes\":{\"plot\":{\"id\":\"8f38f864-db00-4cc2-9d79-36b798bf0c57\",\"subtype\":\"Figure\",\"type\":\"Plot\"}},\"id\":\"ddc322f8-83c7-4480-a953-a91f7573ce17\",\"type\":\"PanTool\"},{\"attributes\":{},\"id\":\"0db13659-883d-4543-8f61-ab0406be6fd1\",\"type\":\"ToolEvents\"},{\"attributes\":{\"plot\":{\"id\":\"8f38f864-db00-4cc2-9d79-36b798bf0c57\",\"subtype\":\"Figure\",\"type\":\"Plot\"}},\"id\":\"a8c7653b-5fc5-4d27-9978-e264468c5826\",\"type\":\"WheelZoomTool\"},{\"attributes\":{\"overlay\":{\"id\":\"27a95c50-0e9c-45f4-8669-55c4ee793cd2\",\"type\":\"BoxAnnotation\"},\"plot\":{\"id\":\"8f38f864-db00-4cc2-9d79-36b798bf0c57\",\"subtype\":\"Figure\",\"type\":\"Plot\"}},\"id\":\"16ae3c2d-f25d-4cb1-b92f-e2e660156601\",\"type\":\"BoxZoomTool\"},{\"attributes\":{\"plot\":{\"id\":\"8f38f864-db00-4cc2-9d79-36b798bf0c57\",\"subtype\":\"Figure\",\"type\":\"Plot\"}},\"id\":\"c05898dc-ed91-41ec-9f0d-a7fdd6b4688a\",\"type\":\"SaveTool\"},{\"attributes\":{\"plot\":{\"id\":\"8f38f864-db00-4cc2-9d79-36b798bf0c57\",\"subtype\":\"Figure\",\"type\":\"Plot\"}},\"id\":\"6175a74f-24df-46c7-9bcc-0984ceb69146\",\"type\":\"ResetTool\"},{\"attributes\":{\"plot\":{\"id\":\"8f38f864-db00-4cc2-9d79-36b798bf0c57\",\"subtype\":\"Figure\",\"type\":\"Plot\"}},\"id\":\"9f429094-7f2d-44f2-8797-9d864be95897\",\"type\":\"HelpTool\"},{\"attributes\":{\"formatter\":{\"id\":\"d14b3e1a-7637-41e8-9aab-fd69689e4a6f\",\"type\":\"BasicTickFormatter\"},\"plot\":{\"id\":\"f6599ef1-22dd-4859-937c-2c683924cc1d\",\"subtype\":\"Figure\",\"type\":\"Plot\"},\"ticker\":{\"id\":\"4f7b538c-80a3-424b-888a-e85e45de3dce\",\"type\":\"BasicTicker\"}},\"id\":\"6ef8734d-386b-41be-8bc1-4b419ae6940e\",\"type\":\"LinearAxis\"},{\"attributes\":{\"formatter\":{\"id\":\"6fd0f7a7-c2be-46eb-8f79-f36727c87b1e\",\"type\":\"BasicTickFormatter\"},\"plot\":{\"id\":\"9243102c-92b0-4961-bc74-bd5dc85d61f1\",\"subtype\":\"Figure\",\"type\":\"Plot\"},\"ticker\":{\"id\":\"51cb8a15-c8ec-4657-9472-6b3af08c462f\",\"type\":\"BasicTicker\"}},\"id\":\"cb7cb95d-4677-4c2f-b7b9-1b9f076128d1\",\"type\":\"LinearAxis\"},{\"attributes\":{\"plot\":{\"id\":\"7d5c34f2-eb4c-4372-8dcf-14b27388a68d\",\"subtype\":\"Figure\",\"type\":\"Plot\"}},\"id\":\"ad45913d-68e2-463d-9f19-d7a3fb2d27ed\",\"type\":\"HelpTool\"},{\"attributes\":{\"active_drag\":\"auto\",\"active_scroll\":\"auto\",\"active_tap\":\"auto\",\"tools\":[{\"id\":\"dffcaef0-7ae2-4b19-9ed9-9a7ab05978c6\",\"type\":\"PanTool\"},{\"id\":\"93721c76-8e0d-4f51-8994-1680e1244b03\",\"type\":\"WheelZoomTool\"},{\"id\":\"418db9f4-78d6-466d-8d11-2d77a5b7173b\",\"type\":\"BoxZoomTool\"},{\"id\":\"910e7d85-6710-4863-a5cc-ac03b6eb5abf\",\"type\":\"SaveTool\"},{\"id\":\"480afa30-4d62-463c-b8aa-babbcf380701\",\"type\":\"ResetTool\"},{\"id\":\"b6e842fc-214b-4ec0-845f-8961ab6f4efa\",\"type\":\"HelpTool\"}]},\"id\":\"90ed622e-6012-48da-adf7-6d29c95e28a5\",\"type\":\"Toolbar\"},{\"attributes\":{\"plot\":{\"id\":\"265cd062-9d56-4208-ac5d-7a5e70e216e9\",\"subtype\":\"Figure\",\"type\":\"Plot\"},\"ticker\":{\"id\":\"ef3e1925-5ed7-4783-a82b-d93b3eaa9c3b\",\"type\":\"BasicTicker\"}},\"id\":\"dd2a70d7-e985-452f-90dc-3bf2844c0d07\",\"type\":\"Grid\"},{\"attributes\":{},\"id\":\"ef3e1925-5ed7-4783-a82b-d93b3eaa9c3b\",\"type\":\"BasicTicker\"},{\"attributes\":{\"formatter\":{\"id\":\"2b750569-5c5f-4c56-8b79-eeddfdf3d8cf\",\"type\":\"BasicTickFormatter\"},\"plot\":{\"id\":\"265cd062-9d56-4208-ac5d-7a5e70e216e9\",\"subtype\":\"Figure\",\"type\":\"Plot\"},\"ticker\":{\"id\":\"2d2f4bcf-2a65-408d-a64a-fc9ebd6db635\",\"type\":\"BasicTicker\"}},\"id\":\"d3a65a54-ae67-4252-85e2-f01c37c11642\",\"type\":\"LinearAxis\"},{\"attributes\":{},\"id\":\"2d2f4bcf-2a65-408d-a64a-fc9ebd6db635\",\"type\":\"BasicTicker\"},{\"attributes\":{\"dimension\":1,\"plot\":{\"id\":\"265cd062-9d56-4208-ac5d-7a5e70e216e9\",\"subtype\":\"Figure\",\"type\":\"Plot\"},\"ticker\":{\"id\":\"2d2f4bcf-2a65-408d-a64a-fc9ebd6db635\",\"type\":\"BasicTicker\"}},\"id\":\"23eb65d9-7e49-4930-941e-bd19b3437458\",\"type\":\"Grid\"},{\"attributes\":{\"plot\":null,\"text\":\"4\"},\"id\":\"b3fcdb17-ffdc-48eb-86a1-9e5efaebefc8\",\"type\":\"Title\"},{\"attributes\":{\"below\":[{\"id\":\"68e98649-b3cf-40d7-bb6c-6508658760ff\",\"type\":\"LinearAxis\"}],\"left\":[{\"id\":\"588c6280-1c14-42f4-b6e4-3e61f73d06dc\",\"type\":\"LinearAxis\"}],\"plot_height\":100,\"renderers\":[{\"id\":\"68e98649-b3cf-40d7-bb6c-6508658760ff\",\"type\":\"LinearAxis\"},{\"id\":\"9fea2972-8514-4472-8fa8-51b825af6c6f\",\"type\":\"Grid\"},{\"id\":\"588c6280-1c14-42f4-b6e4-3e61f73d06dc\",\"type\":\"LinearAxis\"},{\"id\":\"f447c328-b441-44f3-b911-1842b2ba7e33\",\"type\":\"Grid\"},{\"id\":\"697e127b-a3ef-411f-9bad-6828f6229932\",\"type\":\"BoxAnnotation\"},{\"id\":\"b557e9ea-6eb0-4c25-a7f6-754cf3791f82\",\"type\":\"GlyphRenderer\"}],\"title\":{\"id\":\"b3fcdb17-ffdc-48eb-86a1-9e5efaebefc8\",\"type\":\"Title\"},\"tool_events\":{\"id\":\"473923e3-edba-4fe7-8cc8-e31175e5e044\",\"type\":\"ToolEvents\"},\"toolbar\":{\"id\":\"fbe28580-1a1b-4e34-abac-c0a4de6c87e4\",\"type\":\"Toolbar\"},\"x_range\":{\"id\":\"b1035ebc-ebfb-4a79-baa8-bb72242bf9d6\",\"type\":\"Range1d\"},\"y_range\":{\"id\":\"eb07117d-49c7-484b-9a23-b7f8397c07e3\",\"type\":\"Range1d\"}},\"id\":\"7c12f6da-eade-487d-b3c3-78fbbef1539f\",\"subtype\":\"Figure\",\"type\":\"Plot\"},{\"attributes\":{\"bottom_units\":\"screen\",\"fill_alpha\":{\"value\":0.5},\"fill_color\":{\"value\":\"lightgrey\"},\"left_units\":\"screen\",\"level\":\"overlay\",\"line_alpha\":{\"value\":1.0},\"line_color\":{\"value\":\"black\"},\"line_dash\":[4,4],\"line_width\":{\"value\":2},\"plot\":null,\"render_mode\":\"css\",\"right_units\":\"screen\",\"top_units\":\"screen\"},\"id\":\"47c5ad12-b93f-479d-87fe-2fe916caab3c\",\"type\":\"BoxAnnotation\"},{\"attributes\":{\"plot\":{\"id\":\"265cd062-9d56-4208-ac5d-7a5e70e216e9\",\"subtype\":\"Figure\",\"type\":\"Plot\"}},\"id\":\"dffcaef0-7ae2-4b19-9ed9-9a7ab05978c6\",\"type\":\"PanTool\"},{\"attributes\":{},\"id\":\"473923e3-edba-4fe7-8cc8-e31175e5e044\",\"type\":\"ToolEvents\"},{\"attributes\":{\"plot\":{\"id\":\"265cd062-9d56-4208-ac5d-7a5e70e216e9\",\"subtype\":\"Figure\",\"type\":\"Plot\"}},\"id\":\"93721c76-8e0d-4f51-8994-1680e1244b03\",\"type\":\"WheelZoomTool\"},{\"attributes\":{\"overlay\":{\"id\":\"47c5ad12-b93f-479d-87fe-2fe916caab3c\",\"type\":\"BoxAnnotation\"},\"plot\":{\"id\":\"265cd062-9d56-4208-ac5d-7a5e70e216e9\",\"subtype\":\"Figure\",\"type\":\"Plot\"}},\"id\":\"418db9f4-78d6-466d-8d11-2d77a5b7173b\",\"type\":\"BoxZoomTool\"},{\"attributes\":{\"plot\":{\"id\":\"265cd062-9d56-4208-ac5d-7a5e70e216e9\",\"subtype\":\"Figure\",\"type\":\"Plot\"}},\"id\":\"910e7d85-6710-4863-a5cc-ac03b6eb5abf\",\"type\":\"SaveTool\"},{\"attributes\":{\"plot\":{\"id\":\"265cd062-9d56-4208-ac5d-7a5e70e216e9\",\"subtype\":\"Figure\",\"type\":\"Plot\"}},\"id\":\"480afa30-4d62-463c-b8aa-babbcf380701\",\"type\":\"ResetTool\"},{\"attributes\":{\"plot\":{\"id\":\"265cd062-9d56-4208-ac5d-7a5e70e216e9\",\"subtype\":\"Figure\",\"type\":\"Plot\"}},\"id\":\"b6e842fc-214b-4ec0-845f-8961ab6f4efa\",\"type\":\"HelpTool\"},{\"attributes\":{\"active_drag\":\"auto\",\"active_scroll\":\"auto\",\"active_tap\":\"auto\",\"tools\":[{\"id\":\"8d3abd1c-ddc3-4dc3-8320-aa8909926015\",\"type\":\"PanTool\"},{\"id\":\"57dc735d-3490-4a6d-a934-8b92b46a3d18\",\"type\":\"WheelZoomTool\"},{\"id\":\"2043e2ee-1731-4802-8e65-babf6d2fce3c\",\"type\":\"BoxZoomTool\"},{\"id\":\"f19f3893-5de9-4bf1-bfb1-8ab6b8ffbc10\",\"type\":\"SaveTool\"},{\"id\":\"8b209203-10bf-4c7e-91aa-178adf6ccf06\",\"type\":\"ResetTool\"},{\"id\":\"ad45913d-68e2-463d-9f19-d7a3fb2d27ed\",\"type\":\"HelpTool\"}]},\"id\":\"9da68545-88d6-403d-a490-a89b1d1b2c6b\",\"type\":\"Toolbar\"},{\"attributes\":{\"below\":[{\"id\":\"9fda6bd8-9426-4987-a824-f52e23c46249\",\"type\":\"LinearAxis\"}],\"left\":[{\"id\":\"b7991178-4168-448f-98e8-4f62a9c904e4\",\"type\":\"LinearAxis\"}],\"plot_height\":100,\"renderers\":[{\"id\":\"9fda6bd8-9426-4987-a824-f52e23c46249\",\"type\":\"LinearAxis\"},{\"id\":\"bdef4e18-5b26-422a-94f5-d7d9cfac7e73\",\"type\":\"Grid\"},{\"id\":\"b7991178-4168-448f-98e8-4f62a9c904e4\",\"type\":\"LinearAxis\"},{\"id\":\"0e186921-eab6-4862-bb74-15d36efb6b9f\",\"type\":\"Grid\"},{\"id\":\"fe98a991-9f93-4e56-8740-68bf8d5bbf75\",\"type\":\"BoxAnnotation\"},{\"id\":\"923051bd-db29-4be7-935a-a4102f004702\",\"type\":\"GlyphRenderer\"}],\"title\":{\"id\":\"60c5b72b-b02e-4dd7-ac12-35a2654eff5d\",\"type\":\"Title\"},\"tool_events\":{\"id\":\"879bde39-3be3-4290-b3dd-2803f053baca\",\"type\":\"ToolEvents\"},\"toolbar\":{\"id\":\"3fac2251-4f15-45ee-91a8-acc2ddd5f505\",\"type\":\"Toolbar\"},\"x_range\":{\"id\":\"b1035ebc-ebfb-4a79-baa8-bb72242bf9d6\",\"type\":\"Range1d\"},\"y_range\":{\"id\":\"eb07117d-49c7-484b-9a23-b7f8397c07e3\",\"type\":\"Range1d\"}},\"id\":\"bbc2419d-dc07-4f19-a9eb-affb442029d6\",\"subtype\":\"Figure\",\"type\":\"Plot\"},{\"attributes\":{\"active_drag\":\"auto\",\"active_scroll\":\"auto\",\"active_tap\":\"auto\",\"tools\":[{\"id\":\"ff9935d6-1416-4826-aadf-325d033a637b\",\"type\":\"PanTool\"},{\"id\":\"3e911899-cdc5-43ac-8561-d9e21a5159de\",\"type\":\"WheelZoomTool\"},{\"id\":\"15b2518a-6d35-48a8-9490-8baa0ccd2cde\",\"type\":\"BoxZoomTool\"},{\"id\":\"2d507fb8-e8de-4130-bbb8-a37371466ce2\",\"type\":\"SaveTool\"},{\"id\":\"682fae05-f4ae-42d5-af09-493b0525d71b\",\"type\":\"ResetTool\"},{\"id\":\"aa90253d-2e8a-4036-b0ed-24d94e69719e\",\"type\":\"HelpTool\"}]},\"id\":\"fbe28580-1a1b-4e34-abac-c0a4de6c87e4\",\"type\":\"Toolbar\"},{\"attributes\":{\"plot\":{\"id\":\"7c12f6da-eade-487d-b3c3-78fbbef1539f\",\"subtype\":\"Figure\",\"type\":\"Plot\"},\"ticker\":{\"id\":\"e0b653d8-dc63-4f8f-bed4-bf9f7fd1d5d8\",\"type\":\"BasicTicker\"}},\"id\":\"9fea2972-8514-4472-8fa8-51b825af6c6f\",\"type\":\"Grid\"},{\"attributes\":{},\"id\":\"e0b653d8-dc63-4f8f-bed4-bf9f7fd1d5d8\",\"type\":\"BasicTicker\"},{\"attributes\":{\"formatter\":{\"id\":\"1585dcf4-03ed-41b0-97a9-78e8daed4b90\",\"type\":\"BasicTickFormatter\"},\"plot\":{\"id\":\"7c12f6da-eade-487d-b3c3-78fbbef1539f\",\"subtype\":\"Figure\",\"type\":\"Plot\"},\"ticker\":{\"id\":\"9f1cacda-8112-4bec-8020-68e89005ac80\",\"type\":\"BasicTicker\"}},\"id\":\"588c6280-1c14-42f4-b6e4-3e61f73d06dc\",\"type\":\"LinearAxis\"},{\"attributes\":{},\"id\":\"9f1cacda-8112-4bec-8020-68e89005ac80\",\"type\":\"BasicTicker\"},{\"attributes\":{\"dimension\":1,\"plot\":{\"id\":\"7c12f6da-eade-487d-b3c3-78fbbef1539f\",\"subtype\":\"Figure\",\"type\":\"Plot\"},\"ticker\":{\"id\":\"9f1cacda-8112-4bec-8020-68e89005ac80\",\"type\":\"BasicTicker\"}},\"id\":\"f447c328-b441-44f3-b911-1842b2ba7e33\",\"type\":\"Grid\"},{\"attributes\":{\"plot\":null,\"text\":\"5\"},\"id\":\"b5f462d4-dc94-4733-a60e-3275bf143617\",\"type\":\"Title\"},{\"attributes\":{\"below\":[{\"id\":\"cb7cb95d-4677-4c2f-b7b9-1b9f076128d1\",\"type\":\"LinearAxis\"}],\"left\":[{\"id\":\"b1ebf388-4421-4b80-9a89-c019d1c1ecab\",\"type\":\"LinearAxis\"}],\"plot_height\":100,\"renderers\":[{\"id\":\"cb7cb95d-4677-4c2f-b7b9-1b9f076128d1\",\"type\":\"LinearAxis\"},{\"id\":\"a9d80d94-e27f-4dd9-9d40-43feff2146a6\",\"type\":\"Grid\"},{\"id\":\"b1ebf388-4421-4b80-9a89-c019d1c1ecab\",\"type\":\"LinearAxis\"},{\"id\":\"e7575a2b-1707-48a2-b281-eeda56fe925d\",\"type\":\"Grid\"},{\"id\":\"679ea584-4fa3-4a89-b547-a942c266c9a5\",\"type\":\"BoxAnnotation\"},{\"id\":\"dfadebe1-c6bf-41c0-9b5c-95e28f21471a\",\"type\":\"GlyphRenderer\"}],\"title\":{\"id\":\"b5f462d4-dc94-4733-a60e-3275bf143617\",\"type\":\"Title\"},\"tool_events\":{\"id\":\"68123135-4ce8-4441-b42d-2a8df9e720fe\",\"type\":\"ToolEvents\"},\"toolbar\":{\"id\":\"28130f40-6b94-468f-8798-cc248787d3f4\",\"type\":\"Toolbar\"},\"x_range\":{\"id\":\"b1035ebc-ebfb-4a79-baa8-bb72242bf9d6\",\"type\":\"Range1d\"},\"y_range\":{\"id\":\"eb07117d-49c7-484b-9a23-b7f8397c07e3\",\"type\":\"Range1d\"}},\"id\":\"9243102c-92b0-4961-bc74-bd5dc85d61f1\",\"subtype\":\"Figure\",\"type\":\"Plot\"},{\"attributes\":{\"bottom_units\":\"screen\",\"fill_alpha\":{\"value\":0.5},\"fill_color\":{\"value\":\"lightgrey\"},\"left_units\":\"screen\",\"level\":\"overlay\",\"line_alpha\":{\"value\":1.0},\"line_color\":{\"value\":\"black\"},\"line_dash\":[4,4],\"line_width\":{\"value\":2},\"plot\":null,\"render_mode\":\"css\",\"right_units\":\"screen\",\"top_units\":\"screen\"},\"id\":\"697e127b-a3ef-411f-9bad-6828f6229932\",\"type\":\"BoxAnnotation\"},{\"attributes\":{\"plot\":{\"id\":\"7c12f6da-eade-487d-b3c3-78fbbef1539f\",\"subtype\":\"Figure\",\"type\":\"Plot\"}},\"id\":\"ff9935d6-1416-4826-aadf-325d033a637b\",\"type\":\"PanTool\"},{\"attributes\":{},\"id\":\"68123135-4ce8-4441-b42d-2a8df9e720fe\",\"type\":\"ToolEvents\"},{\"attributes\":{\"plot\":{\"id\":\"7c12f6da-eade-487d-b3c3-78fbbef1539f\",\"subtype\":\"Figure\",\"type\":\"Plot\"}},\"id\":\"3e911899-cdc5-43ac-8561-d9e21a5159de\",\"type\":\"WheelZoomTool\"},{\"attributes\":{\"overlay\":{\"id\":\"697e127b-a3ef-411f-9bad-6828f6229932\",\"type\":\"BoxAnnotation\"},\"plot\":{\"id\":\"7c12f6da-eade-487d-b3c3-78fbbef1539f\",\"subtype\":\"Figure\",\"type\":\"Plot\"}},\"id\":\"15b2518a-6d35-48a8-9490-8baa0ccd2cde\",\"type\":\"BoxZoomTool\"},{\"attributes\":{\"plot\":{\"id\":\"7c12f6da-eade-487d-b3c3-78fbbef1539f\",\"subtype\":\"Figure\",\"type\":\"Plot\"}},\"id\":\"2d507fb8-e8de-4130-bbb8-a37371466ce2\",\"type\":\"SaveTool\"},{\"attributes\":{\"plot\":{\"id\":\"7c12f6da-eade-487d-b3c3-78fbbef1539f\",\"subtype\":\"Figure\",\"type\":\"Plot\"}},\"id\":\"682fae05-f4ae-42d5-af09-493b0525d71b\",\"type\":\"ResetTool\"},{\"attributes\":{\"dimension\":1,\"plot\":{\"id\":\"f6599ef1-22dd-4859-937c-2c683924cc1d\",\"subtype\":\"Figure\",\"type\":\"Plot\"},\"ticker\":{\"id\":\"4f7b538c-80a3-424b-888a-e85e45de3dce\",\"type\":\"BasicTicker\"}},\"id\":\"22c79ae8-d0d7-473b-b02e-e03f84bbb0c6\",\"type\":\"Grid\"},{\"attributes\":{\"plot\":{\"id\":\"7c12f6da-eade-487d-b3c3-78fbbef1539f\",\"subtype\":\"Figure\",\"type\":\"Plot\"}},\"id\":\"aa90253d-2e8a-4036-b0ed-24d94e69719e\",\"type\":\"HelpTool\"},{\"attributes\":{\"plot\":{\"id\":\"7d5c34f2-eb4c-4372-8dcf-14b27388a68d\",\"subtype\":\"Figure\",\"type\":\"Plot\"}},\"id\":\"8b209203-10bf-4c7e-91aa-178adf6ccf06\",\"type\":\"ResetTool\"},{\"attributes\":{\"active_drag\":\"auto\",\"active_scroll\":\"auto\",\"active_tap\":\"auto\",\"tools\":[{\"id\":\"57c758fb-fb97-406d-92d5-0132e5449a6b\",\"type\":\"PanTool\"},{\"id\":\"7f3a8d9c-49cd-4717-a7cc-df2701072e46\",\"type\":\"WheelZoomTool\"},{\"id\":\"d2f91bcc-423f-4542-941a-1b4b3657fac8\",\"type\":\"BoxZoomTool\"},{\"id\":\"29f81123-299c-4790-afa4-5a9f2e3312a0\",\"type\":\"SaveTool\"},{\"id\":\"f59d05a8-4d05-42e4-b531-33783b8663be\",\"type\":\"ResetTool\"},{\"id\":\"75e894d0-cfa6-4396-98ca-fe7460c8cd46\",\"type\":\"HelpTool\"}]},\"id\":\"28130f40-6b94-468f-8798-cc248787d3f4\",\"type\":\"Toolbar\"},{\"attributes\":{\"plot\":{\"id\":\"9243102c-92b0-4961-bc74-bd5dc85d61f1\",\"subtype\":\"Figure\",\"type\":\"Plot\"},\"ticker\":{\"id\":\"51cb8a15-c8ec-4657-9472-6b3af08c462f\",\"type\":\"BasicTicker\"}},\"id\":\"a9d80d94-e27f-4dd9-9d40-43feff2146a6\",\"type\":\"Grid\"},{\"attributes\":{},\"id\":\"51cb8a15-c8ec-4657-9472-6b3af08c462f\",\"type\":\"BasicTicker\"},{\"attributes\":{\"formatter\":{\"id\":\"07f5c59e-76f3-4d28-9393-abdbabe7e1b2\",\"type\":\"BasicTickFormatter\"},\"plot\":{\"id\":\"9243102c-92b0-4961-bc74-bd5dc85d61f1\",\"subtype\":\"Figure\",\"type\":\"Plot\"},\"ticker\":{\"id\":\"880f094e-15c8-4fdf-8a42-ed088df2b391\",\"type\":\"BasicTicker\"}},\"id\":\"b1ebf388-4421-4b80-9a89-c019d1c1ecab\",\"type\":\"LinearAxis\"},{\"attributes\":{},\"id\":\"880f094e-15c8-4fdf-8a42-ed088df2b391\",\"type\":\"BasicTicker\"},{\"attributes\":{\"dimension\":1,\"plot\":{\"id\":\"9243102c-92b0-4961-bc74-bd5dc85d61f1\",\"subtype\":\"Figure\",\"type\":\"Plot\"},\"ticker\":{\"id\":\"880f094e-15c8-4fdf-8a42-ed088df2b391\",\"type\":\"BasicTicker\"}},\"id\":\"e7575a2b-1707-48a2-b281-eeda56fe925d\",\"type\":\"Grid\"},{\"attributes\":{\"plot\":null,\"text\":\"6\"},\"id\":\"fb012256-0370-428f-9476-9896aed44137\",\"type\":\"Title\"},{\"attributes\":{},\"id\":\"4f7b538c-80a3-424b-888a-e85e45de3dce\",\"type\":\"BasicTicker\"},{\"attributes\":{\"below\":[{\"id\":\"b0ddb61a-82fa-41bb-85eb-f23acafffc80\",\"type\":\"LinearAxis\"}],\"left\":[{\"id\":\"2a338cad-8450-420f-baa5-968db7b9afb7\",\"type\":\"LinearAxis\"}],\"plot_height\":100,\"renderers\":[{\"id\":\"b0ddb61a-82fa-41bb-85eb-f23acafffc80\",\"type\":\"LinearAxis\"},{\"id\":\"bc03ce11-cc6a-42fb-998f-17492e0fc00a\",\"type\":\"Grid\"},{\"id\":\"2a338cad-8450-420f-baa5-968db7b9afb7\",\"type\":\"LinearAxis\"},{\"id\":\"74611538-687d-45d1-a742-e4063a370b3e\",\"type\":\"Grid\"},{\"id\":\"332f5a62-6497-474d-9e2f-b97783e208cd\",\"type\":\"BoxAnnotation\"},{\"id\":\"9b732e69-44f3-471f-83e0-86fea554bf97\",\"type\":\"GlyphRenderer\"}],\"title\":{\"id\":\"fb012256-0370-428f-9476-9896aed44137\",\"type\":\"Title\"},\"tool_events\":{\"id\":\"23edd394-e530-4bdb-8ab5-30629719c2a6\",\"type\":\"ToolEvents\"},\"toolbar\":{\"id\":\"9da68545-88d6-403d-a490-a89b1d1b2c6b\",\"type\":\"Toolbar\"},\"x_range\":{\"id\":\"b1035ebc-ebfb-4a79-baa8-bb72242bf9d6\",\"type\":\"Range1d\"},\"y_range\":{\"id\":\"eb07117d-49c7-484b-9a23-b7f8397c07e3\",\"type\":\"Range1d\"}},\"id\":\"7d5c34f2-eb4c-4372-8dcf-14b27388a68d\",\"subtype\":\"Figure\",\"type\":\"Plot\"},{\"attributes\":{},\"id\":\"23edd394-e530-4bdb-8ab5-30629719c2a6\",\"type\":\"ToolEvents\"},{\"attributes\":{\"plot\":{\"id\":\"9243102c-92b0-4961-bc74-bd5dc85d61f1\",\"subtype\":\"Figure\",\"type\":\"Plot\"}},\"id\":\"57c758fb-fb97-406d-92d5-0132e5449a6b\",\"type\":\"PanTool\"},{\"attributes\":{\"line_alpha\":{\"value\":0.1},\"line_color\":{\"value\":\"#1f77b4\"},\"xs\":{\"field\":\"xs\"},\"ys\":{\"field\":\"ys\"}},\"id\":\"a7886dea-966c-43b2-8b0f-259ce51102f0\",\"type\":\"MultiLine\"},{\"attributes\":{\"plot\":null,\"text\":\"0\"},\"id\":\"61c17b35-934a-4782-a74a-35619d8c80e2\",\"type\":\"Title\"},{\"attributes\":{\"data_source\":{\"id\":\"2272a7b0-8610-4445-99dd-1a9b510a2ac4\",\"type\":\"ColumnDataSource\"},\"glyph\":{\"id\":\"08751f00-7c75-47b2-b6ea-7f1937a137a0\",\"type\":\"MultiLine\"},\"hover_glyph\":null,\"muted_glyph\":null,\"nonselection_glyph\":{\"id\":\"a7886dea-966c-43b2-8b0f-259ce51102f0\",\"type\":\"MultiLine\"},\"selection_glyph\":null},\"id\":\"774bddbe-8edc-4d8c-84f0-97979413c2a4\",\"type\":\"GlyphRenderer\"},{\"attributes\":{},\"id\":\"b5e940d3-87b6-4da7-b857-76c28a49b053\",\"type\":\"BasicTickFormatter\"},{\"attributes\":{\"callback\":null,\"column_names\":[\"xs\",\"ys\"],\"data\":{\"xs\":[[0,1,2,3,4,5,6,7,8,9,10,11,12,13,14,15,16,17,18,19,20,21,22,23,24,25,26,27,28,29,30,31,32,33,34,35,36,37,38,39,40,41,42,43,44,45,46,47,48,49,50,51,52,53,54,55,56,57,58,59,60,61,62,63,64,65,66,67,68,69,70,71,72,73,74,75,76,77,78,79,80,81,82,83,84,85,86,87,88,89,90,91,92,93,94,95,96,97,98,99,100,101,102,103,104],[0,1,2,3,4,5,6,7,8,9,10,11,12,13,14,15,16,17,18,19,20,21,22,23,24,25,26,27,28,29,30,31,32,33,34,35,36,37,38,39,40,41,42,43,44,45,46,47,48,49,50,51,52,53,54,55,56,57,58,59,60,61,62,63,64,65,66,67,68,69,70,71,72,73,74,75,76,77,78,79,80,81,82,83,84,85,86,87,88,89,90,91,92,93,94,95,96,97,98,99,100,101,102,103,104,105,106,107,108,109,110,111,112,113,114,115,116,117,118,119,120,121,122,123,124,125,126,127,128,129,130,131,132,133,134,135,136,137,138,139,140,141,142,143,144,145,146,147,148,149,150,151,152,153,154,155,156,157,158,159,160,161,162,163,164,165,166],[0,1,2,3,4,5,6,7,8,9,10,11,12,13,14,15,16,17,18,19,20,21,22,23,24,25,26,27,28,29,30,31,32,33,34,35,36,37,38,39,40,41,42,43,44,45,46,47,48,49,50,51,52,53,54,55,56,57,58,59,60,61,62,63,64,65,66,67,68,69,70,71,72,73,74,75,76,77,78,79,80,81,82,83,84,85,86,87,88,89,90,91,92,93,94,95,96,97,98,99,100,101,102,103,104,105,106,107,108,109,110,111,112,113,114],[0,1,2,3,4,5,6,7,8,9,10,11,12,13,14,15,16,17,18,19,20,21,22,23,24,25,26,27,28,29,30,31,32,33,34,35,36,37,38,39,40,41,42,43,44,45,46,47,48,49,50,51,52,53,54,55,56,57,58,59,60,61,62,63,64,65,66,67,68,69,70,71,72,73,74,75,76,77,78,79,80,81,82,83,84,85,86,87,88,89,90,91,92,93,94,95,96,97,98,99,100,101,102,103,104,105,106,107,108,109,110,111,112,113,114,115,116,117,118,119,120,121,122,123,124,125,126,127,128,129,130,131,132,133,134,135,136,137,138,139,140,141,142,143,144,145,146,147,148,149,150,151,152,153,154,155,156,157,158,159,160,161,162,163,164,165,166,167,168,169,170,171,172,173,174,175,176,177,178,179,180,181,182,183,184,185,186,187,188,189,190,191,192,193,194,195,196,197,198,199,200,201,202,203,204,205,206,207,208,209,210,211,212,213,214,215,216,217,218,219,220,221,222,223,224,225,226,227,228,229,230,231,232,233,234,235,236,237,238,239,240,241,242,243,244,245,246,247],[0,1,2,3,4,5,6,7,8,9,10,11,12,13,14,15,16,17,18,19,20,21,22,23,24,25,26,27,28,29,30,31,32,33,34,35,36,37,38,39,40,41,42,43,44,45,46,47,48,49,50,51,52,53,54,55,56,57,58,59,60,61,62,63,64,65,66,67,68,69,70,71,72,73,74,75,76,77,78,79,80,81,82,83,84,85,86,87,88,89,90,91,92,93,94,95,96,97,98,99,100,101,102,103,104,105,106,107,108,109,110,111,112,113,114,115,116,117,118,119,120,121,122,123,124,125,126,127,128,129,130,131,132,133,134,135,136,137,138,139,140,141,142,143,144,145,146,147,148,149,150,151,152,153,154,155,156,157],[0,1,2,3,4,5,6,7,8,9,10,11,12,13,14,15,16,17,18,19,20,21,22,23,24,25,26,27,28,29,30,31,32,33,34,35,36,37,38,39,40,41,42,43,44,45,46,47,48,49,50,51,52,53,54,55,56,57,58,59,60,61,62,63,64,65,66,67,68,69,70,71,72,73,74,75,76,77,78,79,80,81,82,83,84,85,86,87,88,89,90,91,92,93,94,95,96,97,98,99,100,101,102,103,104,105,106,107,108,109,110,111,112,113,114,115,116,117,118,119,120,121,122,123,124,125,126,127,128,129,130,131,132,133,134,135,136,137,138,139,140,141,142,143,144,145,146,147,148,149,150,151,152,153,154,155,156,157,158,159,160,161,162,163,164,165,166,167,168,169,170,171,172,173,174,175,176,177,178,179,180,181,182,183,184,185,186,187,188,189,190,191],[0,1,2,3,4,5,6,7,8,9,10,11,12,13,14,15,16,17,18,19,20,21,22,23,24,25,26,27,28,29,30,31,32,33,34,35,36,37,38,39,40,41,42,43,44,45,46,47,48,49,50,51,52,53,54,55,56,57,58,59,60,61,62,63,64,65,66,67,68,69,70,71,72,73,74,75,76,77,78,79,80,81,82,83,84,85,86,87,88,89,90,91,92,93,94],[0,1,2,3,4,5,6,7,8,9,10,11,12,13,14,15,16,17,18,19,20,21,22,23,24,25,26,27,28,29,30,31,32,33,34,35,36,37,38,39,40,41,42,43,44,45,46,47,48,49,50,51,52,53,54,55,56,57,58,59,60,61,62,63,64,65,66,67,68,69,70,71,72,73,74,75,76,77,78,79,80,81,82,83,84,85,86,87,88,89,90,91,92,93,94,95,96,97,98,99,100,101,102,103,104,105,106,107,108,109,110,111,112,113,114,115]],\"ys\":[[142,136,127,132,126,126,128,142,142,137,140,136,125,123,125,128,132,135,141,131,131,130,133,141,169,160,158,154,147,125,122,123,131,128,121,139,149,138,190,190,190,184,196,145,144,170,182,173,185,186,151,140,140,117,105,124,117,112,114,132,111,108,127,138,136,155,157,141,131,129,110,127,135,143,136,138,122,116,108,108,105,123,137,144,139,146,129,122,119,126,116,121,138,138,143,151,146,136,128,126,122,128,127,125,117],[88,91,109,123,111,110,108,96,103,102,106,112,114,90,85,78,104,112,128,141,142,120,111,101,106,131,140,138,130,140,138,130,131,131,103,70,71,91,97,90,92,88,66,61,63,59,168,179,178,207,254,208,205,209,197,151,153,150,198,273,278,277,354,438,419,412,421,393,302,280,279,325,298,269,264,286,228,217,306,297,282,286,284,203,204,204,205,210,198,229,222,198,214,213,188,188,191,185,167,151,177,176,153,207,234,212,210,219,182,157,165,165,154,143,139,153,164,161,174,168,148,136,141,128,127,126,126,113,121,150,153,162,183,185,173,196,205,194,181,183,167,155,159,163,184,180,176,162,167,130,122,130,163,158,156,171,162,146,146,147,139,142,133,130,129,116,152],[243,254,266,246,242,223,229,225,251,282,285,281,267,216,164,177,168,164,157,170,156,174,175,197,176,177,170,180,169,176,167,147,124,122,122,144,158,163,170,178,194,208,212,216,211,188,177,182,177,175,171,151,164,163,165,171,174,162,155,145,189,193,184,182,189,180,190,187,181,178,163,157,157,181,190,179,165,169,164,154,142,166,163,211,211,217,207,236,191,202,197,197,161,146,213,211,209,215,228,165,171,166,171,167,167,167,168,163,172,159,154,160,150,145,151],[74,74,71,97,100,104,105,152,149,152,148,144,115,124,120,124,128,106,79,83,105,103,106,109,158,163,162,161,160,129,112,121,122,122,95,102,99,96,111,138,125,118,138,137,122,134,148,148,140,136,130,153,141,144,156,166,136,148,168,169,157,163,151,132,130,127,127,135,152,143,169,164,157,145,165,143,153,167,160,145,139,126,134,168,158,158,157,132,77,83,95,99,97,100,99,84,80,85,80,82,100,109,118,127,119,105,125,135,128,134,140,139,129,133,133,142,123,129,139,135,135,132,132,119,131,124,129,118,114,106,123,124,131,131,135,123,118,116,118,113,98,97,95,90,86,93,92,81,110,125,126,123,123,103,81,74,88,114,111,116,128,124,109,128,130,115,111,112,98,89,90,93,95,129,142,144,141,134,104,103,106,133,137,130,115,128,124,122,124,127,120,108,111,115,115,110,118,126,131,132,129,131,124,109,118,127,116,112,116,110,111,110,109,111,137,150,146,146,142,113,90,93,90,93,108,102,105,107,115,129,131,135,135,123,96,98,97,98,104,105,109,100,101,115,117,111,114,110],[125,116,117,100,71,84,95,88,89,85,64,65,65,92,93,93,82,87,69,76,100,106,111,108,165,179,184,192,233,227,220,223,227,240,243,239,241,249,226,230,237,234,229,214,194,180,198,208,194,176,188,189,161,179,187,185,181,185,188,192,189,170,156,136,115,115,116,130,131,127,122,158,154,152,154,173,146,138,150,155,138,128,143,132,127,129,135,128,144,145,128,123,128,126,126,132,141,136,116,114,127,117,113,115,143,134,149,151,148,119,113,115,117,124,134,135,123,131,121,114,106,101,88,95,93,97,102,93,89,88,106,96,115,117,139,127,143,133,158,150,164,151,150,136,128,124,139,144,131,125,117,100,93,92,95,98,92,92],[133,135,150,156,151,152,148,147,130,122,119,113,92,89,86,87,88,82,100,111,110,121,121,109,95,114,100,99,105,133,135,142,148,168,248,276,316,339,335,306,312,316,292,325,311,310,270,303,271,278,242,242,203,233,213,232,252,247,238,233,214,206,206,190,192,194,167,188,181,171,190,206,232,224,242,275,262,238,251,234,178,183,172,185,184,190,186,227,234,252,247,247,216,188,183,177,182,164,166,159,170,198,212,208,225,218,199,247,250,224,232,230,160,144,159,153,162,172,170,172,175,154,150,164,148,146,154,154,140,138,131,172,173,176,178,189,149,143,147,170,152,157,159,165,176,186,194,200,189,154,202,200,197,212,215,169,155,146,150,145,173,200,204,219,231,215,212,222,201,192,181,174,171,161,151,148,144,139,147,217,229,230,238,236,184,177,176,162,157,150,140,119],[322,254,248,242,200,181,177,181,216,224,236,288,301,285,278,268,231,209,185,169,190,158,178,230,262,251,270,266,237,219,205,274,305,300,302,299,261,225,290,304,314,299,310,248,247,265,246,238,243,218,193,203,191,188,190,176,160,173,184,166,169,171,162,151,165,201,201,199,202,197,162,175,170,175,167,194,185,185,176,189,181,173,186,176,164,140,146,118,121,173,171,168,180,190,159],[285,273,326,346,355,338,342,353,314,266,269,288,237,244,243,253,235,217,196,190,179,165,161,170,205,211,215,216,211,174,147,200,221,231,234,244,202,196,180,205,196,197,196,220,199,202,207,193,173,171,168,161,156,151,147,152,151,170,180,172,169,196,186,183,190,198,163,182,185,178,170,198,206,193,206,200,174,144,138,123,140,146,133,145,143,158,200,212,230,237,223,182,205,202,195,205,203,172,143,152,128,122,116,122,127,145,168,169,162,151,156,131,128,154,171,169]]}},\"id\":\"ea0cc35d-83da-47e3-bd85-fa3db43e65d4\",\"type\":\"ColumnDataSource\"},{\"attributes\":{},\"id\":\"2955da1e-a91d-49a2-83b5-f62bcf22cdd0\",\"type\":\"BasicTickFormatter\"},{\"attributes\":{\"line_color\":{\"value\":\"#984ea3\"},\"xs\":{\"field\":\"xs\"},\"ys\":{\"field\":\"ys\"}},\"id\":\"e098b4fd-724e-4ed3-b158-c1eae8bf1345\",\"type\":\"MultiLine\"},{\"attributes\":{\"line_alpha\":{\"value\":0.1},\"line_color\":{\"value\":\"#1f77b4\"},\"xs\":{\"field\":\"xs\"},\"ys\":{\"field\":\"ys\"}},\"id\":\"7e58f996-d2fe-43fc-86df-099e48ab534f\",\"type\":\"MultiLine\"},{\"attributes\":{\"data_source\":{\"id\":\"ea0cc35d-83da-47e3-bd85-fa3db43e65d4\",\"type\":\"ColumnDataSource\"},\"glyph\":{\"id\":\"e098b4fd-724e-4ed3-b158-c1eae8bf1345\",\"type\":\"MultiLine\"},\"hover_glyph\":null,\"muted_glyph\":null,\"nonselection_glyph\":{\"id\":\"7e58f996-d2fe-43fc-86df-099e48ab534f\",\"type\":\"MultiLine\"},\"selection_glyph\":null},\"id\":\"6c2cafae-d210-49f6-b308-6daf0224ce66\",\"type\":\"GlyphRenderer\"},{\"attributes\":{},\"id\":\"423c1581-1098-494f-8cd7-4f199bf2a740\",\"type\":\"BasicTickFormatter\"},{\"attributes\":{\"callback\":null,\"column_names\":[\"xs\",\"ys\"],\"data\":{\"xs\":[[0,1,2,3,4,5,6,7,8,9,10,11,12,13,14,15,16,17,18,19,20,21,22,23,24,25,26,27,28,29,30,31,32,33,34,35,36,37,38,39,40,41,42,43,44,45,46,47,48,49,50,51,52,53,54,55,56,57,58,59,60,61,62,63,64,65,66,67,68,69,70,71,72,73,74,75,76,77,78,79,80,81,82,83,84,85,86,87,88,89,90,91,92,93,94,95,96,97,98,99,100,101,102,103,104],[0,1,2,3,4,5,6,7,8,9,10,11,12,13,14,15,16,17,18,19,20,21,22,23,24,25,26,27,28,29,30,31,32,33,34,35,36,37,38,39,40,41,42,43,44,45,46,47,48,49,50,51,52,53,54,55,56,57,58,59,60,61,62,63,64,65,66,67,68,69,70,71,72,73,74,75,76,77,78,79,80,81,82,83,84,85,86,87,88,89,90,91,92,93,94,95,96,97,98,99,100,101,102,103,104,105,106,107,108,109,110,111,112,113,114,115,116,117,118,119,120,121,122,123,124,125,126,127,128,129,130,131,132,133,134,135,136,137,138,139,140,141,142,143,144,145,146,147,148,149,150,151,152,153,154,155,156,157,158,159,160,161,162,163,164,165,166],[0,1,2,3,4,5,6,7,8,9,10,11,12,13,14,15,16,17,18,19,20,21,22,23,24,25,26,27,28,29,30,31,32,33,34,35,36,37,38,39,40,41,42,43,44,45,46,47,48,49,50,51,52,53,54,55,56,57,58,59,60,61,62,63,64,65,66,67,68,69,70,71,72,73,74,75,76,77,78,79,80,81,82,83,84,85,86,87,88,89,90,91,92,93,94,95,96,97,98,99,100,101,102,103,104,105,106,107,108,109,110,111,112,113,114],[0,1,2,3,4,5,6,7,8,9,10,11,12,13,14,15,16,17,18,19,20,21,22,23,24,25,26,27,28,29,30,31,32,33,34,35,36,37,38,39,40,41,42,43,44,45,46,47,48,49,50,51,52,53,54,55,56,57,58,59,60,61,62,63,64,65,66,67,68,69,70,71,72,73,74,75,76,77,78,79,80,81,82,83,84,85,86,87,88,89,90,91,92,93,94,95,96,97,98,99,100,101,102,103,104,105,106,107,108,109,110,111,112,113,114,115,116,117,118,119,120,121,122,123,124,125,126,127,128,129,130,131,132,133,134,135,136,137,138,139,140,141,142,143,144,145,146,147,148,149,150,151,152,153,154,155,156,157,158,159,160,161,162,163,164,165,166,167,168,169,170,171,172,173,174,175,176,177,178,179,180,181,182,183,184,185,186,187,188,189,190,191,192,193,194,195,196,197,198,199,200,201,202,203,204,205,206,207,208,209,210,211,212,213,214,215,216,217,218,219,220,221,222,223,224,225,226,227,228,229,230,231,232,233,234,235,236,237,238,239,240,241,242,243,244,245,246,247],[0,1,2,3,4,5,6,7,8,9,10,11,12,13,14,15,16,17,18,19,20,21,22,23,24,25,26,27,28,29,30,31,32,33,34,35,36,37,38,39,40,41,42,43,44,45,46,47,48,49,50,51,52,53,54,55,56,57,58,59,60,61,62,63,64,65,66,67,68,69,70,71,72,73,74,75,76,77,78,79,80,81,82,83,84,85,86,87,88,89,90,91,92,93,94,95,96,97,98,99,100,101,102,103,104,105,106,107,108,109,110,111,112,113,114,115,116,117,118,119,120,121,122,123,124,125,126,127,128,129,130,131,132,133,134,135,136,137,138,139,140,141,142,143,144,145,146,147,148,149,150,151,152,153,154,155,156,157],[0,1,2,3,4,5,6,7,8,9,10,11,12,13,14,15,16,17,18,19,20,21,22,23,24,25,26,27,28,29,30,31,32,33,34,35,36,37,38,39,40,41,42,43,44,45,46,47,48,49,50,51,52,53,54,55,56,57,58,59,60,61,62,63,64,65,66,67,68,69,70,71,72,73,74,75,76,77,78,79,80,81,82,83,84,85,86,87,88,89,90,91,92,93,94,95,96,97,98,99,100,101,102,103,104,105,106,107,108,109,110,111,112,113,114,115,116,117,118,119,120,121,122,123,124,125,126,127,128,129,130,131,132,133,134,135,136,137,138,139,140,141,142,143,144,145,146,147,148,149,150,151,152,153,154,155,156,157,158,159,160,161,162,163,164,165,166,167,168,169,170,171,172,173,174,175,176,177,178,179,180,181,182,183,184,185,186,187,188,189,190,191],[0,1,2,3,4,5,6,7,8,9,10,11,12,13,14,15,16,17,18,19,20,21,22,23,24,25,26,27,28,29,30,31,32,33,34,35,36,37,38,39,40,41,42,43,44,45,46,47,48,49,50,51,52,53,54,55,56,57,58,59,60,61,62,63,64,65,66,67,68,69,70,71,72,73,74,75,76,77,78,79,80,81,82,83,84,85,86,87,88,89,90,91,92,93,94],[0,1,2,3,4,5,6,7,8,9,10,11,12,13,14,15,16,17,18,19,20,21,22,23,24,25,26,27,28,29,30,31,32,33,34,35,36,37,38,39,40,41,42,43,44,45,46,47,48,49,50,51,52,53,54,55,56,57,58,59,60,61,62,63,64,65,66,67,68,69,70,71,72,73,74,75,76,77,78,79,80,81,82,83,84,85,86,87,88,89,90,91,92,93,94,95,96,97,98,99,100,101,102,103,104,105,106,107,108,109,110,111,112,113,114,115]],\"ys\":[[72,72,69,74,71,68,67,70,61,64,75,70,71,75,75,61,65,72,79,79,78,78,75,71,76,80,80,75,73,63,60,62,64,60,68,70,63,58,70,61,58,62,73,62,66,71,76,70,72,74,66,68,63,60,58,61,53,56,55,60,60,59,58,65,72,73,73,73,68,54,55,63,68,68,71,70,64,60,62,59,59,63,66,64,61,60,51,48,47,52,55,61,64,66,65,63,55,68,70,70,71,75,63,59,65],[42,44,56,61,58,58,57,46,46,47,51,51,51,44,44,39,46,50,64,68,70,67,63,50,48,58,61,62,62,66,68,63,61,62,57,48,48,56,61,58,53,53,46,40,42,41,69,72,72,92,116,104,106,106,92,66,77,76,84,120,126,120,159,194,186,184,193,173,138,127,126,135,124,114,111,118,89,84,94,93,81,83,85,85,86,90,91,93,81,86,83,80,92,96,89,89,87,80,78,74,77,81,73,82,86,83,78,73,63,60,71,75,79,81,77,72,73,72,76,81,74,74,77,69,62,64,58,56,61,68,71,76,76,73,74,76,84,81,79,80,76,70,70,71,89,92,89,97,101,83,74,79,73,69,69,80,82,81,77,77,71,62,60,59,52,46,64],[89,93,90,78,78,77,85,92,99,101,103,100,98,91,90,89,84,78,71,70,72,75,79,84,81,83,88,86,79,79,74,66,57,63,61,69,71,73,70,69,79,79,80,84,87,71,69,70,68,64,65,62,69,65,67,64,65,57,59,59,73,75,77,77,75,84,84,82,79,82,68,65,64,66,62,55,57,57,64,66,65,78,83,81,82,81,73,72,70,66,66,59,58,57,70,71,69,73,84,76,72,76,77,65,73,78,82,73,75,66,60,51,54,56,64],[50,47,43,52,51,58,58,73,74,74,69,69,52,46,48,50,52,50,51,50,65,67,67,66,76,84,83,83,81,79,56,62,64,70,60,67,65,61,65,69,63,59,64,56,55,58,64,60,59,59,55,83,85,88,94,95,71,71,69,67,64,66,68,75,70,73,70,68,61,61,67,65,62,64,69,62,63,67,72,69,68,71,76,80,79,80,80,76,66,64,70,69,64,67,70,66,67,69,71,69,65,61,64,63,60,58,73,104,120,124,128,124,102,86,81,81,79,85,93,96,102,97,89,70,76,67,72,73,77,67,67,72,74,70,71,69,65,71,73,72,69,64,53,53,59,62,66,65,60,57,55,50,46,51,51,47,63,77,76,79,86,78,70,71,66,55,66,62,64,65,69,58,57,60,62,60,58,59,52,53,59,70,72,71,66,72,70,66,69,69,61,56,59,62,63,62,66,66,64,64,64,58,59,57,60,60,62,64,69,69,67,63,63,59,59,67,66,59,58,55,46,57,59,60,59,59,52,51,54,58,62,63,63,56,51,48,49,54,60,61,64,60,59,61,61,60,64,60],[56,58,59,53,49,66,78,78,77,76,58,51,51,54,57,58,49,52,52,56,61,61,59,61,73,82,91,92,109,106,105,101,107,103,97,96,94,96,94,107,104,103,97,86,78,77,81,81,83,77,78,89,94,94,95,92,89,87,90,91,98,93,87,77,74,67,64,75,79,79,81,83,75,73,72,70,72,78,90,90,89,83,83,65,65,60,55,53,74,73,71,72,69,51,54,61,68,73,68,67,72,65,57,63,73,71,80,85,81,71,68,72,71,76,80,78,66,66,60,57,56,55,58,63,61,62,67,59,54,57,59,58,71,79,79,84,84,74,73,73,68,67,67,64,62,60,62,65,59,62,66,64,64,64,64,58,54,54],[61,58,62,68,69,70,75,81,74,76,75,68,51,48,45,54,57,60,64,69,63,66,62,57,46,59,58,60,60,64,61,62,66,76,94,110,118,119,117,108,106,111,109,113,112,99,81,89,86,83,79,82,70,70,73,78,85,86,94,91,86,81,81,73,71,72,68,69,66,64,73,73,85,81,82,81,80,77,79,75,70,73,62,63,64,61,59,73,77,77,82,83,73,65,69,62,57,55,58,56,57,78,81,82,85,89,85,92,92,87,84,74,57,54,55,56,51,51,50,59,62,62,64,68,60,59,66,69,71,70,71,68,66,62,63,57,54,53,61,73,74,72,70,67,59,60,61,72,69,62,72,78,69,73,71,61,60,59,61,67,64,72,75,75,76,79,70,67,65,64,61,59,66,59,52,51,51,40,43,58,66,67,71,73,65,62,67,63,61,64,59,53],[113,97,97,93,95,77,79,82,96,98,101,112,111,103,95,98,92,88,81,83,90,77,72,78,78,67,69,76,72,76,74,87,106,107,108,107,104,96,111,116,119,121,116,103,105,110,103,109,110,107,110,108,98,94,84,64,61,64,68,64,67,70,62,55,60,71,77,81,83,81,75,74,68,73,72,72,70,75,65,69,67,62,62,62,64,62,64,60,61,58,56,57,62,67,71],[128,120,125,128,129,117,119,122,113,105,110,113,105,99,95,88,89,75,71,69,74,67,70,72,85,76,80,83,81,72,78,79,82,92,93,91,90,87,77,88,97,98,98,94,80,76,70,71,75,73,63,68,71,69,73,72,75,78,80,84,90,91,88,82,76,70,61,66,77,77,81,98,101,100,102,97,84,69,63,57,60,58,61,58,57,72,75,73,89,98,88,86,108,97,94,97,95,75,73,73,63,62,56,55,62,66,76,77,80,74,71,60,59,58,58,64]]}},\"id\":\"9393092c-5cd8-435b-b0ac-9de7c546a3ed\",\"type\":\"ColumnDataSource\"},{\"attributes\":{},\"id\":\"2b750569-5c5f-4c56-8b79-eeddfdf3d8cf\",\"type\":\"BasicTickFormatter\"},{\"attributes\":{},\"id\":\"07ca55d9-63cf-47be-8b12-9cf6a76fa8f8\",\"type\":\"ToolEvents\"},{\"attributes\":{\"line_color\":{\"value\":\"#ff7f00\"},\"xs\":{\"field\":\"xs\"},\"ys\":{\"field\":\"ys\"}},\"id\":\"fd670fdd-c5d8-44e5-9ca2-4e4662d5ce0d\",\"type\":\"MultiLine\"},{\"attributes\":{\"line_alpha\":{\"value\":0.1},\"line_color\":{\"value\":\"#1f77b4\"},\"xs\":{\"field\":\"xs\"},\"ys\":{\"field\":\"ys\"}},\"id\":\"c1dc9f1c-024b-49bf-9fbb-1c54207446ee\",\"type\":\"MultiLine\"},{\"attributes\":{\"data_source\":{\"id\":\"9393092c-5cd8-435b-b0ac-9de7c546a3ed\",\"type\":\"ColumnDataSource\"},\"glyph\":{\"id\":\"fd670fdd-c5d8-44e5-9ca2-4e4662d5ce0d\",\"type\":\"MultiLine\"},\"hover_glyph\":null,\"muted_glyph\":null,\"nonselection_glyph\":{\"id\":\"c1dc9f1c-024b-49bf-9fbb-1c54207446ee\",\"type\":\"MultiLine\"},\"selection_glyph\":null},\"id\":\"b557e9ea-6eb0-4c25-a7f6-754cf3791f82\",\"type\":\"GlyphRenderer\"},{\"attributes\":{},\"id\":\"12b5a4bc-5938-48ce-91eb-73ac48502b34\",\"type\":\"BasicTickFormatter\"},{\"attributes\":{},\"id\":\"1585dcf4-03ed-41b0-97a9-78e8daed4b90\",\"type\":\"BasicTickFormatter\"},{\"attributes\":{\"line_color\":{\"value\":\"#ffff33\"},\"xs\":{\"field\":\"xs\"},\"ys\":{\"field\":\"ys\"}},\"id\":\"1f60d489-e122-4ec1-82aa-5aa5ac733d96\",\"type\":\"MultiLine\"},{\"attributes\":{\"line_alpha\":{\"value\":0.1},\"line_color\":{\"value\":\"#1f77b4\"},\"xs\":{\"field\":\"xs\"},\"ys\":{\"field\":\"ys\"}},\"id\":\"a6d60d09-3aab-4164-bc71-f9297e05c929\",\"type\":\"MultiLine\"},{\"attributes\":{\"data_source\":{\"id\":\"bed82861-c931-4004-95d1-61192421e7d5\",\"type\":\"ColumnDataSource\"},\"glyph\":{\"id\":\"1f60d489-e122-4ec1-82aa-5aa5ac733d96\",\"type\":\"MultiLine\"},\"hover_glyph\":null,\"muted_glyph\":null,\"nonselection_glyph\":{\"id\":\"a6d60d09-3aab-4164-bc71-f9297e05c929\",\"type\":\"MultiLine\"},\"selection_glyph\":null},\"id\":\"dfadebe1-c6bf-41c0-9b5c-95e28f21471a\",\"type\":\"GlyphRenderer\"},{\"attributes\":{},\"id\":\"6fd0f7a7-c2be-46eb-8f79-f36727c87b1e\",\"type\":\"BasicTickFormatter\"},{\"attributes\":{\"callback\":null,\"column_names\":[\"xs\",\"ys\"],\"data\":{\"xs\":[[0,1,2,3,4,5,6,7,8,9,10,11,12,13,14,15,16,17,18,19,20,21,22,23,24,25,26,27,28,29,30,31,32,33,34,35,36,37,38,39,40,41,42,43,44,45,46,47,48,49,50,51,52,53,54,55,56,57,58,59,60,61,62,63,64,65,66,67,68,69,70,71,72,73,74,75,76,77,78,79,80,81,82,83,84,85,86,87,88,89,90,91,92,93,94,95,96,97,98,99,100,101,102,103,104],[0,1,2,3,4,5,6,7,8,9,10,11,12,13,14,15,16,17,18,19,20,21,22,23,24,25,26,27,28,29,30,31,32,33,34,35,36,37,38,39,40,41,42,43,44,45,46,47,48,49,50,51,52,53,54,55,56,57,58,59,60,61,62,63,64,65,66,67,68,69,70,71,72,73,74,75,76,77,78,79,80,81,82,83,84,85,86,87,88,89,90,91,92,93,94,95,96,97,98,99,100,101,102,103,104,105,106,107,108,109,110,111,112,113,114,115,116,117,118,119,120,121,122,123,124,125,126,127,128,129,130,131,132,133,134,135,136,137,138,139,140,141,142,143,144,145,146,147,148,149,150,151,152,153,154,155,156,157,158,159,160,161,162,163,164,165,166],[0,1,2,3,4,5,6,7,8,9,10,11,12,13,14,15,16,17,18,19,20,21,22,23,24,25,26,27,28,29,30,31,32,33,34,35,36,37,38,39,40,41,42,43,44,45,46,47,48,49,50,51,52,53,54,55,56,57,58,59,60,61,62,63,64,65,66,67,68,69,70,71,72,73,74,75,76,77,78,79,80,81,82,83,84,85,86,87,88,89,90,91,92,93,94,95,96,97,98,99,100,101,102,103,104,105,106,107,108,109,110,111,112,113,114],[0,1,2,3,4,5,6,7,8,9,10,11,12,13,14,15,16,17,18,19,20,21,22,23,24,25,26,27,28,29,30,31,32,33,34,35,36,37,38,39,40,41,42,43,44,45,46,47,48,49,50,51,52,53,54,55,56,57,58,59,60,61,62,63,64,65,66,67,68,69,70,71,72,73,74,75,76,77,78,79,80,81,82,83,84,85,86,87,88,89,90,91,92,93,94,95,96,97,98,99,100,101,102,103,104,105,106,107,108,109,110,111,112,113,114,115,116,117,118,119,120,121,122,123,124,125,126,127,128,129,130,131,132,133,134,135,136,137,138,139,140,141,142,143,144,145,146,147,148,149,150,151,152,153,154,155,156,157,158,159,160,161,162,163,164,165,166,167,168,169,170,171,172,173,174,175,176,177,178,179,180,181,182,183,184,185,186,187,188,189,190,191,192,193,194,195,196,197,198,199,200,201,202,203,204,205,206,207,208,209,210,211,212,213,214,215,216,217,218,219,220,221,222,223,224,225,226,227,228,229,230,231,232,233,234,235,236,237,238,239,240,241,242,243,244,245,246,247],[0,1,2,3,4,5,6,7,8,9,10,11,12,13,14,15,16,17,18,19,20,21,22,23,24,25,26,27,28,29,30,31,32,33,34,35,36,37,38,39,40,41,42,43,44,45,46,47,48,49,50,51,52,53,54,55,56,57,58,59,60,61,62,63,64,65,66,67,68,69,70,71,72,73,74,75,76,77,78,79,80,81,82,83,84,85,86,87,88,89,90,91,92,93,94,95,96,97,98,99,100,101,102,103,104,105,106,107,108,109,110,111,112,113,114,115,116,117,118,119,120,121,122,123,124,125,126,127,128,129,130,131,132,133,134,135,136,137,138,139,140,141,142,143,144,145,146,147,148,149,150,151,152,153,154,155,156,157],[0,1,2,3,4,5,6,7,8,9,10,11,12,13,14,15,16,17,18,19,20,21,22,23,24,25,26,27,28,29,30,31,32,33,34,35,36,37,38,39,40,41,42,43,44,45,46,47,48,49,50,51,52,53,54,55,56,57,58,59,60,61,62,63,64,65,66,67,68,69,70,71,72,73,74,75,76,77,78,79,80,81,82,83,84,85,86,87,88,89,90,91,92,93,94,95,96,97,98,99,100,101,102,103,104,105,106,107,108,109,110,111,112,113,114,115,116,117,118,119,120,121,122,123,124,125,126,127,128,129,130,131,132,133,134,135,136,137,138,139,140,141,142,143,144,145,146,147,148,149,150,151,152,153,154,155,156,157,158,159,160,161,162,163,164,165,166,167,168,169,170,171,172,173,174,175,176,177,178,179,180,181,182,183,184,185,186,187,188,189,190,191],[0,1,2,3,4,5,6,7,8,9,10,11,12,13,14,15,16,17,18,19,20,21,22,23,24,25,26,27,28,29,30,31,32,33,34,35,36,37,38,39,40,41,42,43,44,45,46,47,48,49,50,51,52,53,54,55,56,57,58,59,60,61,62,63,64,65,66,67,68,69,70,71,72,73,74,75,76,77,78,79,80,81,82,83,84,85,86,87,88,89,90,91,92,93,94],[0,1,2,3,4,5,6,7,8,9,10,11,12,13,14,15,16,17,18,19,20,21,22,23,24,25,26,27,28,29,30,31,32,33,34,35,36,37,38,39,40,41,42,43,44,45,46,47,48,49,50,51,52,53,54,55,56,57,58,59,60,61,62,63,64,65,66,67,68,69,70,71,72,73,74,75,76,77,78,79,80,81,82,83,84,85,86,87,88,89,90,91,92,93,94,95,96,97,98,99,100,101,102,103,104,105,106,107,108,109,110,111,112,113,114,115]],\"ys\":[[30,31,32,34,35,32,34,33,32,32,34,30,31,31,31,29,26,25,26,25,28,28,26,27,27,30,35,36,36,38,32,32,32,31,30,30,25,27,27,28,29,29,27,26,26,28,32,35,34,37,34,35,33,34,31,34,28,28,29,28,26,29,29,32,35,35,36,37,37,33,34,31,33,29,32,35,34,33,33,32,29,29,30,31,32,33,31,31,31,31,36,36,35,35,35,30,31,33,31,32,32,31,33,33,35],[26,27,26,28,26,25,25,26,28,26,27,27,29,28,29,29,29,31,30,30,32,32,28,27,28,31,33,34,34,32,28,30,29,30,31,33,30,31,33,31,34,33,34,39,42,38,39,40,35,33,43,50,51,50,50,44,46,54,78,80,84,79,75,49,48,53,69,71,72,71,93,95,94,101,118,94,82,82,126,118,120,121,123,81,71,68,73,101,104,103,109,108,79,61,59,50,43,40,36,35,36,34,34,33,32,28,31,28,29,31,31,30,30,29,30,32,31,32,34,32,29,31,31,30,31,32,28,29,32,34,36,38,37,34,34,31,32,36,35,37,39,38,34,34,30,27,27,31,34,34,35,35,32,31,31,30,31,30,28,28,28,26,26,24,25,28,30],[46,45,34,34,34,40,40,40,41,45,41,41,38,38,32,29,29,35,36,35,37,38,34,34,34,32,32,28,29,31,35,32,34,32,29,33,34,35,37,38,33,32,29,28,31,32,33,34,38,36,37,38,38,32,32,29,28,26,28,25,28,25,30,29,30,38,38,40,42,43,62,64,61,60,60,34,30,29,27,27,27,28,28,30,29,31,36,37,37,38,37,32,34,34,36,35,33,33,35,32,32,35,31,27,31,34,34,36,35,36,33,31,28,31,28],[32,29,28,29,27,27,28,27,28,26,23,26,30,29,30,37,35,31,33,32,34,34,36,35,35,29,29,27,25,27,23,21,22,24,26,29,30,30,29,27,37,58,61,62,68,69,73,77,78,73,87,76,70,70,69,75,70,69,69,70,39,45,47,43,45,45,41,42,44,52,54,53,53,54,41,38,43,54,55,56,57,58,67,69,70,68,64,42,36,34,40,39,38,39,39,32,27,30,28,27,27,31,31,31,29,32,29,29,32,34,34,34,34,33,36,36,37,35,34,32,30,31,33,33,32,32,30,27,27,25,25,24,26,28,28,28,31,30,30,30,32,29,31,29,29,28,30,27,27,27,27,27,25,25,27,26,27,29,31,29,30,30,31,31,32,32,31,30,29,27,27,26,24,24,26,25,27,27,28,25,26,26,26,25,27,30,29,29,31,33,31,29,32,29,29,26,27,26,24,21,21,23,24,24,26,27,25,25,28,29,26,27,29,26,25,27,27,27,26,25,26,27,25,25,27,25,26,27,28,28,29,26,25,24,23,22,24,25,25,25,26,26,25,25,27,27,26,26],[24,26,25,25,25,27,31,33,34,35,34,31,33,33,37,37,37,36,39,50,58,60,59,58,49,41,42,42,41,58,67,72,81,82,69,59,54,66,67,69,70,69,46,43,43,42,40,39,42,40,43,44,46,48,49,44,46,42,36,34,39,38,38,38,38,36,33,41,39,41,38,39,30,29,26,26,29,28,31,33,33,31,32,31,34,35,33,37,39,35,35,35,30,26,25,26,31,32,33,34,36,30,29,36,39,38,41,44,39,35,35,35,34,34,33,33,30,29,30,30,29,30,29,29,30,30,30,31,30,28,28,28,27,27,29,29,27,28,30,31,33,33,30,30,29,28,27,28,26,25,26,27,27,28,29,28,29,29],[26,28,29,28,28,27,26,28,28,28,27,31,29,32,30,30,28,28,27,33,32,41,40,41,38,40,31,34,31,30,29,32,61,76,78,80,81,60,58,59,60,60,67,79,81,78,87,84,59,78,80,69,81,83,62,61,59,39,33,32,32,31,31,34,31,34,36,35,61,61,59,58,59,32,31,31,32,35,34,33,33,35,32,31,31,32,30,29,27,28,31,32,32,35,37,33,31,30,27,29,27,27,30,31,27,30,35,34,37,41,42,40,38,34,29,25,24,27,26,27,28,28,26,28,25,24,24,24,27,31,31,32,33,32,33,32,33,33,32,30,30,28,28,27,25,23,23,28,29,31,32,33,28,29,26,30,29,29,28,30,25,26,29,29,27,31,29,26,28,29,27,27,27,24,26,23,24,23,26,25,27,25,28,26,27,27,30,26,28,28,29,27],[79,59,56,56,56,51,47,38,43,46,51,62,62,59,57,52,37,36,51,53,55,61,61,50,50,65,61,62,65,67,64,67,66,63,61,48,44,47,43,45,48,46,46,49,48,40,43,41,37,37,39,44,53,52,51,50,42,28,33,32,32,33,35,33,36,41,43,44,44,41,41,37,35,35,37,35,41,41,38,39,36,30,31,32,39,43,42,41,42,36,33,37,36,37,35],[120,149,162,175,152,136,118,98,68,71,85,69,71,70,69,49,43,38,45,43,41,40,59,59,60,60,59,43,39,36,39,42,48,47,50,50,46,44,42,41,43,44,41,41,38,34,38,37,36,36,37,34,32,32,31,33,32,31,33,37,38,40,40,37,36,30,26,27,28,26,29,31,30,31,31,30,25,30,30,28,29,31,29,29,30,30,34,34,33,37,36,33,33,32,28,29,32,32,34,33,33,28,27,25,25,23,25,25,26,25,25,24,25,24,24,30]]}},\"id\":\"0092c777-04c0-44ec-a578-ca83b085ad50\",\"type\":\"ColumnDataSource\"},{\"attributes\":{},\"id\":\"07f5c59e-76f3-4d28-9393-abdbabe7e1b2\",\"type\":\"BasicTickFormatter\"},{\"attributes\":{\"formatter\":{\"id\":\"f14efb78-a321-4432-882c-27e3c539c649\",\"type\":\"BasicTickFormatter\"},\"plot\":{\"id\":\"f6599ef1-22dd-4859-937c-2c683924cc1d\",\"subtype\":\"Figure\",\"type\":\"Plot\"},\"ticker\":{\"id\":\"ed668d58-94a6-4dec-a4c1-56a0435ed7ff\",\"type\":\"BasicTicker\"}},\"id\":\"bdf49ea6-9221-4300-8045-275c159d1732\",\"type\":\"LinearAxis\"},{\"attributes\":{\"callback\":null,\"end\":247},\"id\":\"b1035ebc-ebfb-4a79-baa8-bb72242bf9d6\",\"type\":\"Range1d\"},{\"attributes\":{\"line_color\":{\"value\":\"#a65628\"},\"xs\":{\"field\":\"xs\"},\"ys\":{\"field\":\"ys\"}},\"id\":\"bfbaffc5-943c-48a6-8ce5-af6b73c10639\",\"type\":\"MultiLine\"},{\"attributes\":{\"line_alpha\":{\"value\":0.1},\"line_color\":{\"value\":\"#1f77b4\"},\"xs\":{\"field\":\"xs\"},\"ys\":{\"field\":\"ys\"}},\"id\":\"40f903a9-5a2b-4371-ae6e-68a5332a7a25\",\"type\":\"MultiLine\"},{\"attributes\":{\"data_source\":{\"id\":\"0092c777-04c0-44ec-a578-ca83b085ad50\",\"type\":\"ColumnDataSource\"},\"glyph\":{\"id\":\"bfbaffc5-943c-48a6-8ce5-af6b73c10639\",\"type\":\"MultiLine\"},\"hover_glyph\":null,\"muted_glyph\":null,\"nonselection_glyph\":{\"id\":\"40f903a9-5a2b-4371-ae6e-68a5332a7a25\",\"type\":\"MultiLine\"},\"selection_glyph\":null},\"id\":\"9b732e69-44f3-471f-83e0-86fea554bf97\",\"type\":\"GlyphRenderer\"},{\"attributes\":{\"children\":[{\"id\":\"f6599ef1-22dd-4859-937c-2c683924cc1d\",\"subtype\":\"Figure\",\"type\":\"Plot\"},{\"id\":\"aa29826d-fcb0-4956-a7c7-0b95d9781462\",\"subtype\":\"Figure\",\"type\":\"Plot\"},{\"id\":\"8f38f864-db00-4cc2-9d79-36b798bf0c57\",\"subtype\":\"Figure\",\"type\":\"Plot\"},{\"id\":\"265cd062-9d56-4208-ac5d-7a5e70e216e9\",\"subtype\":\"Figure\",\"type\":\"Plot\"},{\"id\":\"7c12f6da-eade-487d-b3c3-78fbbef1539f\",\"subtype\":\"Figure\",\"type\":\"Plot\"},{\"id\":\"9243102c-92b0-4961-bc74-bd5dc85d61f1\",\"subtype\":\"Figure\",\"type\":\"Plot\"},{\"id\":\"7d5c34f2-eb4c-4372-8dcf-14b27388a68d\",\"subtype\":\"Figure\",\"type\":\"Plot\"},{\"id\":\"bbc2419d-dc07-4f19-a9eb-affb442029d6\",\"subtype\":\"Figure\",\"type\":\"Plot\"}]},\"id\":\"107d3ef3-a138-4351-9f22-80103b8fa000\",\"type\":\"Column\"},{\"attributes\":{},\"id\":\"7a522ae7-b34b-490e-b49a-963fc0b7536b\",\"type\":\"BasicTickFormatter\"},{\"attributes\":{\"callback\":null,\"column_names\":[\"xs\",\"ys\"],\"data\":{\"xs\":[[0,1,2,3,4,5,6,7,8,9,10,11,12,13,14,15,16,17,18,19,20,21,22,23,24,25,26,27,28,29,30,31,32,33,34,35,36,37,38,39,40,41,42,43,44,45,46,47,48,49,50,51,52,53,54,55,56,57,58,59,60,61,62,63,64,65,66,67,68,69,70,71,72,73,74,75,76,77,78,79,80,81,82,83,84,85,86,87,88,89,90,91,92,93,94,95,96,97,98,99,100,101,102,103,104],[0,1,2,3,4,5,6,7,8,9,10,11,12,13,14,15,16,17,18,19,20,21,22,23,24,25,26,27,28,29,30,31,32,33,34,35,36,37,38,39,40,41,42,43,44,45,46,47,48,49,50,51,52,53,54,55,56,57,58,59,60,61,62,63,64,65,66,67,68,69,70,71,72,73,74,75,76,77,78,79,80,81,82,83,84,85,86,87,88,89,90,91,92,93,94,95,96,97,98,99,100,101,102,103,104,105,106,107,108,109,110,111,112,113,114,115,116,117,118,119,120,121,122,123,124,125,126,127,128,129,130,131,132,133,134,135,136,137,138,139,140,141,142,143,144,145,146,147,148,149,150,151,152,153,154,155,156,157,158,159,160,161,162,163,164,165,166],[0,1,2,3,4,5,6,7,8,9,10,11,12,13,14,15,16,17,18,19,20,21,22,23,24,25,26,27,28,29,30,31,32,33,34,35,36,37,38,39,40,41,42,43,44,45,46,47,48,49,50,51,52,53,54,55,56,57,58,59,60,61,62,63,64,65,66,67,68,69,70,71,72,73,74,75,76,77,78,79,80,81,82,83,84,85,86,87,88,89,90,91,92,93,94,95,96,97,98,99,100,101,102,103,104,105,106,107,108,109,110,111,112,113,114],[0,1,2,3,4,5,6,7,8,9,10,11,12,13,14,15,16,17,18,19,20,21,22,23,24,25,26,27,28,29,30,31,32,33,34,35,36,37,38,39,40,41,42,43,44,45,46,47,48,49,50,51,52,53,54,55,56,57,58,59,60,61,62,63,64,65,66,67,68,69,70,71,72,73,74,75,76,77,78,79,80,81,82,83,84,85,86,87,88,89,90,91,92,93,94,95,96,97,98,99,100,101,102,103,104,105,106,107,108,109,110,111,112,113,114,115,116,117,118,119,120,121,122,123,124,125,126,127,128,129,130,131,132,133,134,135,136,137,138,139,140,141,142,143,144,145,146,147,148,149,150,151,152,153,154,155,156,157,158,159,160,161,162,163,164,165,166,167,168,169,170,171,172,173,174,175,176,177,178,179,180,181,182,183,184,185,186,187,188,189,190,191,192,193,194,195,196,197,198,199,200,201,202,203,204,205,206,207,208,209,210,211,212,213,214,215,216,217,218,219,220,221,222,223,224,225,226,227,228,229,230,231,232,233,234,235,236,237,238,239,240,241,242,243,244,245,246,247],[0,1,2,3,4,5,6,7,8,9,10,11,12,13,14,15,16,17,18,19,20,21,22,23,24,25,26,27,28,29,30,31,32,33,34,35,36,37,38,39,40,41,42,43,44,45,46,47,48,49,50,51,52,53,54,55,56,57,58,59,60,61,62,63,64,65,66,67,68,69,70,71,72,73,74,75,76,77,78,79,80,81,82,83,84,85,86,87,88,89,90,91,92,93,94,95,96,97,98,99,100,101,102,103,104,105,106,107,108,109,110,111,112,113,114,115,116,117,118,119,120,121,122,123,124,125,126,127,128,129,130,131,132,133,134,135,136,137,138,139,140,141,142,143,144,145,146,147,148,149,150,151,152,153,154,155,156,157],[0,1,2,3,4,5,6,7,8,9,10,11,12,13,14,15,16,17,18,19,20,21,22,23,24,25,26,27,28,29,30,31,32,33,34,35,36,37,38,39,40,41,42,43,44,45,46,47,48,49,50,51,52,53,54,55,56,57,58,59,60,61,62,63,64,65,66,67,68,69,70,71,72,73,74,75,76,77,78,79,80,81,82,83,84,85,86,87,88,89,90,91,92,93,94,95,96,97,98,99,100,101,102,103,104,105,106,107,108,109,110,111,112,113,114,115,116,117,118,119,120,121,122,123,124,125,126,127,128,129,130,131,132,133,134,135,136,137,138,139,140,141,142,143,144,145,146,147,148,149,150,151,152,153,154,155,156,157,158,159,160,161,162,163,164,165,166,167,168,169,170,171,172,173,174,175,176,177,178,179,180,181,182,183,184,185,186,187,188,189,190,191],[0,1,2,3,4,5,6,7,8,9,10,11,12,13,14,15,16,17,18,19,20,21,22,23,24,25,26,27,28,29,30,31,32,33,34,35,36,37,38,39,40,41,42,43,44,45,46,47,48,49,50,51,52,53,54,55,56,57,58,59,60,61,62,63,64,65,66,67,68,69,70,71,72,73,74,75,76,77,78,79,80,81,82,83,84,85,86,87,88,89,90,91,92,93,94],[0,1,2,3,4,5,6,7,8,9,10,11,12,13,14,15,16,17,18,19,20,21,22,23,24,25,26,27,28,29,30,31,32,33,34,35,36,37,38,39,40,41,42,43,44,45,46,47,48,49,50,51,52,53,54,55,56,57,58,59,60,61,62,63,64,65,66,67,68,69,70,71,72,73,74,75,76,77,78,79,80,81,82,83,84,85,86,87,88,89,90,91,92,93,94,95,96,97,98,99,100,101,102,103,104,105,106,107,108,109,110,111,112,113,114,115]],\"ys\":[[43,55,51,53,53,49,40,39,36,41,41,38,42,42,37,42,40,35,36,35,29,30,27,23,25,31,35,38,38,38,33,31,28,30,29,33,31,32,33,36,35,33,35,33,33,36,40,39,38,38,31,31,31,35,33,35,31,32,29,28,31,32,32,38,39,40,40,39,40,42,43,47,47,42,44,39,32,32,30,25,24,25,25,25,25,29,28,29,34,35,38,39,38,34,35,30,30,31,34,37,42,45,47,44,40],[27,26,24,24,24,24,27,27,29,28,29,27,26,25,23,24,25,27,29,32,33,32,35,33,35,39,46,45,45,45,48,46,44,47,45,39,36,38,38,38,36,35,30,31,32,31,33,35,42,42,44,45,45,34,37,37,51,52,56,63,65,65,75,89,83,129,135,131,131,132,87,75,79,79,82,81,78,74,68,64,70,79,80,75,74,68,56,63,70,72,82,83,77,66,72,66,63,66,66,55,49,53,47,45,46,47,45,41,44,48,44,41,44,42,37,40,42,42,40,42,42,45,42,43,44,46,42,44,47,44,42,42,42,43,46,46,47,48,43,46,50,48,46,47,39,31,32,45,49,53,56,59,50,48,44,39,40,38,38,37,42,37,38,41,44,44,46],[41,47,50,48,51,55,55,59,58,56,58,55,46,49,48,41,39,38,39,40,41,45,42,37,35,33,30,30,29,33,38,38,41,42,42,41,39,38,39,39,40,41,39,41,36,33,31,32,36,37,39,51,59,54,56,54,43,33,39,36,40,46,45,42,41,43,38,37,39,39,33,33,30,31,34,34,32,36,34,33,37,37,34,37,36,36,39,40,36,35,36,33,32,30,33,30,35,39,41,41,40,37,35,37,39,42,43,43,44,41,36,34,30,29,30],[34,31,27,25,26,28,30,29,31,29,28,27,31,30,32,46,45,42,43,44,38,39,43,41,41,33,33,29,29,28,29,28,29,28,30,27,27,27,31,32,36,35,44,43,50,47,54,53,57,51,52,48,43,37,37,38,36,38,36,39,38,38,40,45,68,69,68,68,68,41,40,45,51,47,47,47,48,39,38,41,40,39,41,41,42,45,42,40,42,38,41,41,39,39,37,41,42,53,53,57,50,49,39,39,33,34,33,29,30,34,43,44,47,50,53,50,61,59,56,59,55,42,45,54,49,49,50,48,35,36,36,33,35,37,33,33,37,40,42,46,47,44,54,56,52,52,51,36,30,30,32,35,36,42,40,39,38,38,32,34,34,33,33,32,29,32,30,31,33,36,32,33,32,30,33,34,33,34,37,33,32,33,33,32,35,36,36,37,38,40,43,41,41,39,36,33,35,33,34,31,32,31,30,27,29,29,28,29,36,36,32,33,34,30,29,30,32,33,29,33,33,32,31,32,30,29,34,33,32,36,35,32,31,32,27,27,27,29,31,29,36,36,38,37,40,36,35,34],[29,31,29,26,26,27,34,34,36,35,37,29,32,29,36,37,38,42,44,48,63,66,64,65,59,45,39,37,43,52,56,60,63,66,66,66,63,67,60,61,87,89,87,93,92,63,61,59,59,50,57,58,56,46,48,40,43,42,40,38,40,46,50,51,52,54,46,47,48,47,44,45,42,40,40,39,40,38,40,41,45,40,37,35,38,32,40,43,45,43,43,41,41,39,36,39,36,33,32,37,33,33,33,39,39,41,42,42,36,36,36,35,38,39,35,37,35,33,35,33,31,33,31,30,31,31,30,33,34,33,32,33,31,29,35,35,33,36,35,31,32,37,34,35,34,35,30,31,30,31,28,25,27,27,29,32,32,32],[26,33,32,33,32,33,27,37,34,37,35,39,30,33,31,31,27,28,30,32,31,38,41,44,45,48,44,46,43,43,42,46,47,54,53,53,52,62,62,67,72,71,64,65,65,60,65,64,60,58,57,50,50,48,52,53,52,47,47,42,43,48,50,57,57,66,71,70,66,65,54,47,45,43,41,42,39,39,37,38,37,37,40,53,55,55,55,55,43,39,37,38,37,40,45,45,47,55,55,55,59,56,49,49,45,47,48,46,45,50,52,50,50,49,41,32,35,33,36,38,39,35,41,40,40,47,50,46,46,48,43,40,41,39,41,37,43,47,51,53,54,49,42,36,30,29,31,41,41,43,45,44,36,38,33,34,33,38,37,38,37,38,35,33,33,32,32,37,38,38,40,39,34,34,32,29,32,30,29,31,31,29,30,33,33,33,33,32,29,27,27,32],[71,83,80,77,84,90,70,66,69,62,50,47,49,45,43,44,48,53,59,65,64,65,66,63,58,57,55,48,55,59,63,64,71,74,72,71,82,76,65,63,72,61,65,68,75,64,62,59,57,52,56,57,58,56,54,51,52,50,51,53,62,62,61,60,56,52,45,44,46,47,39,40,39,36,36,35,38,40,38,42,42,40,49,49,51,49,50,40,41,39,37,35,33,33,35],[57,61,73,64,60,59,73,66,69,71,74,63,58,57,56,52,53,53,54,56,61,57,65,67,62,63,65,62,58,56,57,55,54,56,63,60,57,52,51,62,66,67,70,76,66,58,62,58,50,46,49,44,44,45,41,39,39,42,49,52,53,54,51,43,44,43,41,44,42,42,37,38,34,37,35,36,35,37,36,33,33,38,38,41,40,40,42,42,37,56,56,51,53,52,34,37,45,43,46,47,45,35,33,31,27,28,31,30,36,37,38,37,37,31,30,35]]}},\"id\":\"65385f8b-d3df-419e-9971-7445b45bc2ab\",\"type\":\"ColumnDataSource\"},{\"attributes\":{},\"id\":\"e7a6cd29-1e98-4113-a06b-96f4ad3c1e8d\",\"type\":\"BasicTickFormatter\"},{\"attributes\":{\"below\":[{\"id\":\"bdf49ea6-9221-4300-8045-275c159d1732\",\"type\":\"LinearAxis\"}],\"left\":[{\"id\":\"6ef8734d-386b-41be-8bc1-4b419ae6940e\",\"type\":\"LinearAxis\"}],\"plot_height\":100,\"renderers\":[{\"id\":\"bdf49ea6-9221-4300-8045-275c159d1732\",\"type\":\"LinearAxis\"},{\"id\":\"9f6c556e-81ec-4e73-abb2-ff3f0e1db09f\",\"type\":\"Grid\"},{\"id\":\"6ef8734d-386b-41be-8bc1-4b419ae6940e\",\"type\":\"LinearAxis\"},{\"id\":\"22c79ae8-d0d7-473b-b02e-e03f84bbb0c6\",\"type\":\"Grid\"},{\"id\":\"120cadf0-2952-4307-8c42-be92adb0bad6\",\"type\":\"BoxAnnotation\"},{\"id\":\"a3cceb3c-58c8-4ee6-99be-55968c835932\",\"type\":\"GlyphRenderer\"}],\"title\":{\"id\":\"61c17b35-934a-4782-a74a-35619d8c80e2\",\"type\":\"Title\"},\"tool_events\":{\"id\":\"07ca55d9-63cf-47be-8b12-9cf6a76fa8f8\",\"type\":\"ToolEvents\"},\"toolbar\":{\"id\":\"2925c27e-bdd4-4c5b-80f4-03c878fd1b28\",\"type\":\"Toolbar\"},\"x_range\":{\"id\":\"b1035ebc-ebfb-4a79-baa8-bb72242bf9d6\",\"type\":\"Range1d\"},\"y_range\":{\"id\":\"eb07117d-49c7-484b-9a23-b7f8397c07e3\",\"type\":\"Range1d\"}},\"id\":\"f6599ef1-22dd-4859-937c-2c683924cc1d\",\"subtype\":\"Figure\",\"type\":\"Plot\"},{\"attributes\":{\"line_alpha\":{\"value\":0.1},\"line_color\":{\"value\":\"#1f77b4\"},\"xs\":{\"field\":\"xs\"},\"ys\":{\"field\":\"ys\"}},\"id\":\"fbef8763-d557-4c37-9be7-e9af60b61444\",\"type\":\"MultiLine\"},{\"attributes\":{\"line_color\":{\"value\":\"#f781bf\"},\"xs\":{\"field\":\"xs\"},\"ys\":{\"field\":\"ys\"}},\"id\":\"68a35568-146f-4225-8bed-8b34b7da1b38\",\"type\":\"MultiLine\"}],\"root_ids\":[\"107d3ef3-a138-4351-9f22-80103b8fa000\"]},\"title\":\"Bokeh Application\",\"version\":\"0.12.5\"}};\n",
       "            var render_items = [{\"docid\":\"0a15e335-0d38-452f-82fb-25c0930a43ce\",\"elementid\":\"10ba802d-bb1c-4795-b9a7-470d0e5c5fe3\",\"modelid\":\"107d3ef3-a138-4351-9f22-80103b8fa000\"}];\n",
       "            \n",
       "            Bokeh.embed.embed_items(docs_json, render_items);\n",
       "          };\n",
       "          if (document.readyState != \"loading\") fn();\n",
       "          else document.addEventListener(\"DOMContentLoaded\", fn);\n",
       "        })();\n",
       "      },\n",
       "      function(Bokeh) {\n",
       "      }\n",
       "    ];\n",
       "  \n",
       "    function run_inline_js() {\n",
       "      \n",
       "      if ((window.Bokeh !== undefined) || (force === true)) {\n",
       "        for (var i = 0; i < inline_js.length; i++) {\n",
       "          inline_js[i](window.Bokeh);\n",
       "        }if (force === true) {\n",
       "          display_loaded();\n",
       "        }} else if (Date.now() < window._bokeh_timeout) {\n",
       "        setTimeout(run_inline_js, 100);\n",
       "      } else if (!window._bokeh_failed_load) {\n",
       "        console.log(\"Bokeh: BokehJS failed to load within specified timeout.\");\n",
       "        window._bokeh_failed_load = true;\n",
       "      } else if (force !== true) {\n",
       "        var cell = $(document.getElementById(\"10ba802d-bb1c-4795-b9a7-470d0e5c5fe3\")).parents('.cell').data().cell;\n",
       "        cell.output_area.append_execute_result(NB_LOAD_WARNING)\n",
       "      }\n",
       "  \n",
       "    }\n",
       "  \n",
       "    if (window._bokeh_is_loading === 0) {\n",
       "      console.log(\"Bokeh: BokehJS loaded, going straight to plotting\");\n",
       "      run_inline_js();\n",
       "    } else {\n",
       "      load_libs(js_urls, function() {\n",
       "        console.log(\"Bokeh: BokehJS plotting callback run at\", now());\n",
       "        run_inline_js();\n",
       "      });\n",
       "    }\n",
       "  }(this));\n",
       "</script>"
      ]
     },
     "metadata": {},
     "output_type": "display_data"
    }
   ],
   "source": [
    "gesture = 1\n",
    "db = 0\n",
    "print('Database: ',its[db])\n",
    "print('Gesture:  ',dic[feed_dic[its[db]][gesture-1][0]])\n",
    "plotdf(feed_dic[its[db]][gesture-1][1])"
   ]
  },
  {
   "cell_type": "code",
   "execution_count": 8,
   "metadata": {},
   "outputs": [
    {
     "name": "stderr",
     "output_type": "stream",
     "text": [
      "Using TensorFlow backend.\n"
     ]
    }
   ],
   "source": [
    "from keras.layers.convolutional import Conv1D\n",
    "import keras\n",
    "from keras.models import Sequential\n",
    "from keras.layers import Dense, Dropout, Activation, Flatten, LocallyConnected2D\n",
    "from keras.layers import Conv2D, MaxPooling2D, LSTM\n",
    "from keras.layers.normalization import BatchNormalization\n",
    "from IPython.display import SVG\n",
    "from keras.utils.vis_utils import model_to_dot\n",
    "\n"
   ]
  },
  {
   "cell_type": "code",
   "execution_count": 9,
   "metadata": {
    "collapsed": true
   },
   "outputs": [],
   "source": [
    "# Network architecture\n",
    "neurons_per_layer = 16\n",
    "hidden_layers     = 1\n",
    "output_classes    = 2\n",
    "activation        = 'relu'\n",
    "\n",
    "# Traindata\n",
    "data_arch = {   0: (7,8,9),\n",
    "                1: (2,4),\n",
    "             }\n"
   ]
  },
  {
   "cell_type": "code",
   "execution_count": 10,
   "metadata": {},
   "outputs": [
    {
     "data": {
      "image/svg+xml": [
       "<svg height=\"387pt\" viewBox=\"0.00 0.00 295.00 387.00\" width=\"295pt\" xmlns=\"http://www.w3.org/2000/svg\" xmlns:xlink=\"http://www.w3.org/1999/xlink\">\n",
       "<g class=\"graph\" id=\"graph0\" transform=\"scale(1 1) rotate(0) translate(4 383)\">\n",
       "<title>G</title>\n",
       "<polygon fill=\"white\" points=\"-4,4 -4,-383 291,-383 291,4 -4,4\" stroke=\"none\"/>\n",
       "<!-- 139967075848824 -->\n",
       "<g class=\"node\" id=\"node1\"><title>139967075848824</title>\n",
       "<polygon fill=\"none\" points=\"0,-332.5 0,-378.5 287,-378.5 287,-332.5 0,-332.5\" stroke=\"black\"/>\n",
       "<text font-family=\"Times,serif\" font-size=\"14.00\" text-anchor=\"middle\" x=\"81.5\" y=\"-351.8\">dense_1_input: InputLayer</text>\n",
       "<polyline fill=\"none\" points=\"163,-332.5 163,-378.5 \" stroke=\"black\"/>\n",
       "<text font-family=\"Times,serif\" font-size=\"14.00\" text-anchor=\"middle\" x=\"190.5\" y=\"-363.3\">input:</text>\n",
       "<polyline fill=\"none\" points=\"163,-355.5 218,-355.5 \" stroke=\"black\"/>\n",
       "<text font-family=\"Times,serif\" font-size=\"14.00\" text-anchor=\"middle\" x=\"190.5\" y=\"-340.3\">output:</text>\n",
       "<polyline fill=\"none\" points=\"218,-332.5 218,-378.5 \" stroke=\"black\"/>\n",
       "<text font-family=\"Times,serif\" font-size=\"14.00\" text-anchor=\"middle\" x=\"252.5\" y=\"-363.3\">(None, 8)</text>\n",
       "<polyline fill=\"none\" points=\"218,-355.5 287,-355.5 \" stroke=\"black\"/>\n",
       "<text font-family=\"Times,serif\" font-size=\"14.00\" text-anchor=\"middle\" x=\"252.5\" y=\"-340.3\">(None, 8)</text>\n",
       "</g>\n",
       "<!-- 139967075848432 -->\n",
       "<g class=\"node\" id=\"node2\"><title>139967075848432</title>\n",
       "<polygon fill=\"none\" points=\"27,-249.5 27,-295.5 260,-295.5 260,-249.5 27,-249.5\" stroke=\"black\"/>\n",
       "<text font-family=\"Times,serif\" font-size=\"14.00\" text-anchor=\"middle\" x=\"78\" y=\"-268.8\">dense_1: Dense</text>\n",
       "<polyline fill=\"none\" points=\"129,-249.5 129,-295.5 \" stroke=\"black\"/>\n",
       "<text font-family=\"Times,serif\" font-size=\"14.00\" text-anchor=\"middle\" x=\"156.5\" y=\"-280.3\">input:</text>\n",
       "<polyline fill=\"none\" points=\"129,-272.5 184,-272.5 \" stroke=\"black\"/>\n",
       "<text font-family=\"Times,serif\" font-size=\"14.00\" text-anchor=\"middle\" x=\"156.5\" y=\"-257.3\">output:</text>\n",
       "<polyline fill=\"none\" points=\"184,-249.5 184,-295.5 \" stroke=\"black\"/>\n",
       "<text font-family=\"Times,serif\" font-size=\"14.00\" text-anchor=\"middle\" x=\"222\" y=\"-280.3\">(None, 8)</text>\n",
       "<polyline fill=\"none\" points=\"184,-272.5 260,-272.5 \" stroke=\"black\"/>\n",
       "<text font-family=\"Times,serif\" font-size=\"14.00\" text-anchor=\"middle\" x=\"222\" y=\"-257.3\">(None, 16)</text>\n",
       "</g>\n",
       "<!-- 139967075848824&#45;&gt;139967075848432 -->\n",
       "<g class=\"edge\" id=\"edge1\"><title>139967075848824-&gt;139967075848432</title>\n",
       "<path d=\"M143.5,-332.366C143.5,-324.152 143.5,-314.658 143.5,-305.725\" fill=\"none\" stroke=\"black\"/>\n",
       "<polygon fill=\"black\" points=\"147,-305.607 143.5,-295.607 140,-305.607 147,-305.607\" stroke=\"black\"/>\n",
       "</g>\n",
       "<!-- 139967075811168 -->\n",
       "<g class=\"node\" id=\"node3\"><title>139967075811168</title>\n",
       "<polygon fill=\"none\" points=\"4,-166.5 4,-212.5 283,-212.5 283,-166.5 4,-166.5\" stroke=\"black\"/>\n",
       "<text font-family=\"Times,serif\" font-size=\"14.00\" text-anchor=\"middle\" x=\"78\" y=\"-185.8\">activation_1: Activation</text>\n",
       "<polyline fill=\"none\" points=\"152,-166.5 152,-212.5 \" stroke=\"black\"/>\n",
       "<text font-family=\"Times,serif\" font-size=\"14.00\" text-anchor=\"middle\" x=\"179.5\" y=\"-197.3\">input:</text>\n",
       "<polyline fill=\"none\" points=\"152,-189.5 207,-189.5 \" stroke=\"black\"/>\n",
       "<text font-family=\"Times,serif\" font-size=\"14.00\" text-anchor=\"middle\" x=\"179.5\" y=\"-174.3\">output:</text>\n",
       "<polyline fill=\"none\" points=\"207,-166.5 207,-212.5 \" stroke=\"black\"/>\n",
       "<text font-family=\"Times,serif\" font-size=\"14.00\" text-anchor=\"middle\" x=\"245\" y=\"-197.3\">(None, 16)</text>\n",
       "<polyline fill=\"none\" points=\"207,-189.5 283,-189.5 \" stroke=\"black\"/>\n",
       "<text font-family=\"Times,serif\" font-size=\"14.00\" text-anchor=\"middle\" x=\"245\" y=\"-174.3\">(None, 16)</text>\n",
       "</g>\n",
       "<!-- 139967075848432&#45;&gt;139967075811168 -->\n",
       "<g class=\"edge\" id=\"edge2\"><title>139967075848432-&gt;139967075811168</title>\n",
       "<path d=\"M143.5,-249.366C143.5,-241.152 143.5,-231.658 143.5,-222.725\" fill=\"none\" stroke=\"black\"/>\n",
       "<polygon fill=\"black\" points=\"147,-222.607 143.5,-212.607 140,-222.607 147,-222.607\" stroke=\"black\"/>\n",
       "</g>\n",
       "<!-- 139967075491008 -->\n",
       "<g class=\"node\" id=\"node4\"><title>139967075491008</title>\n",
       "<polygon fill=\"none\" points=\"15.5,-83.5 15.5,-129.5 271.5,-129.5 271.5,-83.5 15.5,-83.5\" stroke=\"black\"/>\n",
       "<text font-family=\"Times,serif\" font-size=\"14.00\" text-anchor=\"middle\" x=\"78\" y=\"-102.8\">dropout_1: Dropout</text>\n",
       "<polyline fill=\"none\" points=\"140.5,-83.5 140.5,-129.5 \" stroke=\"black\"/>\n",
       "<text font-family=\"Times,serif\" font-size=\"14.00\" text-anchor=\"middle\" x=\"168\" y=\"-114.3\">input:</text>\n",
       "<polyline fill=\"none\" points=\"140.5,-106.5 195.5,-106.5 \" stroke=\"black\"/>\n",
       "<text font-family=\"Times,serif\" font-size=\"14.00\" text-anchor=\"middle\" x=\"168\" y=\"-91.3\">output:</text>\n",
       "<polyline fill=\"none\" points=\"195.5,-83.5 195.5,-129.5 \" stroke=\"black\"/>\n",
       "<text font-family=\"Times,serif\" font-size=\"14.00\" text-anchor=\"middle\" x=\"233.5\" y=\"-114.3\">(None, 16)</text>\n",
       "<polyline fill=\"none\" points=\"195.5,-106.5 271.5,-106.5 \" stroke=\"black\"/>\n",
       "<text font-family=\"Times,serif\" font-size=\"14.00\" text-anchor=\"middle\" x=\"233.5\" y=\"-91.3\">(None, 16)</text>\n",
       "</g>\n",
       "<!-- 139967075811168&#45;&gt;139967075491008 -->\n",
       "<g class=\"edge\" id=\"edge3\"><title>139967075811168-&gt;139967075491008</title>\n",
       "<path d=\"M143.5,-166.366C143.5,-158.152 143.5,-148.658 143.5,-139.725\" fill=\"none\" stroke=\"black\"/>\n",
       "<polygon fill=\"black\" points=\"147,-139.607 143.5,-129.607 140,-139.607 147,-139.607\" stroke=\"black\"/>\n",
       "</g>\n",
       "<!-- 139967075849552 -->\n",
       "<g class=\"node\" id=\"node5\"><title>139967075849552</title>\n",
       "<polygon fill=\"none\" points=\"27,-0.5 27,-46.5 260,-46.5 260,-0.5 27,-0.5\" stroke=\"black\"/>\n",
       "<text font-family=\"Times,serif\" font-size=\"14.00\" text-anchor=\"middle\" x=\"78\" y=\"-19.8\">dense_2: Dense</text>\n",
       "<polyline fill=\"none\" points=\"129,-0.5 129,-46.5 \" stroke=\"black\"/>\n",
       "<text font-family=\"Times,serif\" font-size=\"14.00\" text-anchor=\"middle\" x=\"156.5\" y=\"-31.3\">input:</text>\n",
       "<polyline fill=\"none\" points=\"129,-23.5 184,-23.5 \" stroke=\"black\"/>\n",
       "<text font-family=\"Times,serif\" font-size=\"14.00\" text-anchor=\"middle\" x=\"156.5\" y=\"-8.3\">output:</text>\n",
       "<polyline fill=\"none\" points=\"184,-0.5 184,-46.5 \" stroke=\"black\"/>\n",
       "<text font-family=\"Times,serif\" font-size=\"14.00\" text-anchor=\"middle\" x=\"222\" y=\"-31.3\">(None, 16)</text>\n",
       "<polyline fill=\"none\" points=\"184,-23.5 260,-23.5 \" stroke=\"black\"/>\n",
       "<text font-family=\"Times,serif\" font-size=\"14.00\" text-anchor=\"middle\" x=\"222\" y=\"-8.3\">(None, 2)</text>\n",
       "</g>\n",
       "<!-- 139967075491008&#45;&gt;139967075849552 -->\n",
       "<g class=\"edge\" id=\"edge4\"><title>139967075491008-&gt;139967075849552</title>\n",
       "<path d=\"M143.5,-83.3664C143.5,-75.1516 143.5,-65.6579 143.5,-56.7252\" fill=\"none\" stroke=\"black\"/>\n",
       "<polygon fill=\"black\" points=\"147,-56.6068 143.5,-46.6068 140,-56.6069 147,-56.6068\" stroke=\"black\"/>\n",
       "</g>\n",
       "</g>\n",
       "</svg>"
      ],
      "text/plain": [
       "<IPython.core.display.SVG object>"
      ]
     },
     "execution_count": 10,
     "metadata": {},
     "output_type": "execute_result"
    }
   ],
   "source": [
    "model = Sequential()\n",
    "model.add(Dense(neurons_per_layer,input_shape=(8,)))\n",
    "model.add(Activation(activation))\n",
    "model.add(Dropout(0.2))\n",
    "\n",
    "for i in range(1,hidden_layers):\n",
    "    model.add(Dense(neurons_per_layer))\n",
    "    model.add(Activation(activation))\n",
    "    model.add(Dropout(0.2))\n",
    "\n",
    "\n",
    "\n",
    "if len(data_arch) < 0:\n",
    "    model.add(Dense(1,activation='sigmoid'))\n",
    "    model.compile(optimizer='adam', loss='binary_crossentropy', metrics=['accuracy'], class_mode=\"binary\" )\n",
    "else:\n",
    "    model.add(Dense(len(data_arch),activation='softmax'))\n",
    "    model.compile(optimizer='adam', loss='categorical_crossentropy', metrics=['accuracy'], class_mode=\"sparse\" )\n",
    "\n",
    "    \n",
    "SVG(model_to_dot(model, show_shapes=True).create(prog='dot', format='svg'))\n"
   ]
  },
  {
   "cell_type": "code",
   "execution_count": 11,
   "metadata": {},
   "outputs": [
    {
     "name": "stdout",
     "output_type": "stream",
     "text": [
      "_________________________________________________________________\n",
      "Layer (type)                 Output Shape              Param #   \n",
      "=================================================================\n",
      "dense_1 (Dense)              (None, 16)                144       \n",
      "_________________________________________________________________\n",
      "activation_1 (Activation)    (None, 16)                0         \n",
      "_________________________________________________________________\n",
      "dropout_1 (Dropout)          (None, 16)                0         \n",
      "_________________________________________________________________\n",
      "dense_2 (Dense)              (None, 2)                 34        \n",
      "=================================================================\n",
      "Total params: 178.0\n",
      "Trainable params: 178.0\n",
      "Non-trainable params: 0.0\n",
      "_________________________________________________________________\n"
     ]
    }
   ],
   "source": [
    "model.summary()"
   ]
  },
  {
   "cell_type": "code",
   "execution_count": 12,
   "metadata": {},
   "outputs": [],
   "source": [
    "x,y = emgimporter.prep_data(feed_dic,data_arch)"
   ]
  },
  {
   "cell_type": "code",
   "execution_count": 13,
   "metadata": {
    "scrolled": true
   },
   "outputs": [],
   "source": [
    "y_cut_train, y_cut_test, x_cut_train, x_cut_test = emgimporter.split_data(x,y,splitratio=0.05,shuffle=True)"
   ]
  },
  {
   "cell_type": "code",
   "execution_count": 14,
   "metadata": {},
   "outputs": [
    {
     "name": "stdout",
     "output_type": "stream",
     "text": [
      "(11357, 8)\n",
      "[[ 0.  1.]\n",
      " [ 0.  1.]\n",
      " [ 1.  0.]\n",
      " ..., \n",
      " [ 0.  1.]\n",
      " [ 1.  0.]\n",
      " [ 0.  1.]]\n"
     ]
    }
   ],
   "source": [
    "print(x_cut_train.shape)\n",
    "print(y_cut_train)"
   ]
  },
  {
   "cell_type": "code",
   "execution_count": 15,
   "metadata": {
    "scrolled": false
   },
   "outputs": [
    {
     "name": "stderr",
     "output_type": "stream",
     "text": [
      "/home/myo/anaconda3/envs/tensorflow/lib/python3.6/site-packages/keras/backend/tensorflow_backend.py:2094: UserWarning: Expected no kwargs, you passed 1\n",
      "kwargs passed to function are ignored with Tensorflow backend\n",
      "  warnings.warn('\\n'.join(msg))\n"
     ]
    },
    {
     "name": "stdout",
     "output_type": "stream",
     "text": [
      "Train on 10221 samples, validate on 1136 samples\n",
      "Epoch 1/1000\n",
      "10221/10221 [==============================] - 1s - loss: 7.8300 - acc: 0.4378 - val_loss: 1.1845 - val_acc: 0.8116\n",
      "Epoch 2/1000\n",
      "10221/10221 [==============================] - 0s - loss: 4.7601 - acc: 0.6370 - val_loss: 0.5614 - val_acc: 0.8618\n",
      "Epoch 3/1000\n",
      "10221/10221 [==============================] - 0s - loss: 2.9072 - acc: 0.7656 - val_loss: 0.2547 - val_acc: 0.9771\n",
      "Epoch 4/1000\n",
      "10221/10221 [==============================] - 0s - loss: 1.6214 - acc: 0.8622 - val_loss: 0.2656 - val_acc: 0.9806\n",
      "Epoch 5/1000\n",
      "10221/10221 [==============================] - 0s - loss: 1.0865 - acc: 0.9058 - val_loss: 0.2530 - val_acc: 0.9815\n",
      "Epoch 6/1000\n",
      "10221/10221 [==============================] - 0s - loss: 0.7722 - acc: 0.9299 - val_loss: 0.2498 - val_acc: 0.9824\n",
      "Epoch 7/1000\n",
      "10221/10221 [==============================] - 0s - loss: 0.5493 - acc: 0.9492 - val_loss: 0.1756 - val_acc: 0.9868\n",
      "Epoch 8/1000\n",
      "10221/10221 [==============================] - 0s - loss: 0.4308 - acc: 0.9578 - val_loss: 0.1610 - val_acc: 0.9877\n",
      "Epoch 9/1000\n",
      "10221/10221 [==============================] - ETA: 0s - loss: 0.3683 - acc: 0.964 - 0s - loss: 0.3631 - acc: 0.9649 - val_loss: 0.1506 - val_acc: 0.9886\n",
      "Epoch 10/1000\n",
      "10221/10221 [==============================] - 0s - loss: 0.2804 - acc: 0.9718 - val_loss: 0.1076 - val_acc: 0.9912\n",
      "Epoch 11/1000\n",
      "10221/10221 [==============================] - 0s - loss: 0.2376 - acc: 0.9769 - val_loss: 0.0659 - val_acc: 0.9947\n",
      "Epoch 12/1000\n",
      "10221/10221 [==============================] - 0s - loss: 0.2203 - acc: 0.9782 - val_loss: 0.0531 - val_acc: 0.9947\n",
      "Epoch 13/1000\n",
      "10221/10221 [==============================] - 0s - loss: 0.1861 - acc: 0.9813 - val_loss: 0.0401 - val_acc: 0.9956\n",
      "Epoch 14/1000\n",
      "10221/10221 [==============================] - 0s - loss: 0.1585 - acc: 0.9831 - val_loss: 0.0366 - val_acc: 0.9956\n",
      "Epoch 15/1000\n",
      "10221/10221 [==============================] - 0s - loss: 0.1455 - acc: 0.9849 - val_loss: 0.0356 - val_acc: 0.9956\n",
      "Epoch 16/1000\n",
      "10221/10221 [==============================] - 0s - loss: 0.1421 - acc: 0.9854 - val_loss: 0.0335 - val_acc: 0.9956\n",
      "Epoch 17/1000\n",
      "10221/10221 [==============================] - 0s - loss: 0.1262 - acc: 0.9874 - val_loss: 0.0275 - val_acc: 0.9956\n",
      "Epoch 18/1000\n",
      "10221/10221 [==============================] - 0s - loss: 0.1095 - acc: 0.9883 - val_loss: 0.0215 - val_acc: 0.9965\n",
      "Epoch 19/1000\n",
      "10221/10221 [==============================] - 0s - loss: 0.1079 - acc: 0.9899 - val_loss: 0.0244 - val_acc: 0.9965\n",
      "Epoch 20/1000\n",
      "10221/10221 [==============================] - 0s - loss: 0.1193 - acc: 0.9874 - val_loss: 0.0280 - val_acc: 0.9965\n",
      "Epoch 21/1000\n",
      "10221/10221 [==============================] - 0s - loss: 0.0974 - acc: 0.9889 - val_loss: 0.0259 - val_acc: 0.9965\n",
      "Epoch 22/1000\n",
      "10221/10221 [==============================] - 0s - loss: 0.0996 - acc: 0.9899 - val_loss: 0.0292 - val_acc: 0.9965\n",
      "Epoch 23/1000\n",
      "10221/10221 [==============================] - 0s - loss: 0.0933 - acc: 0.9907 - val_loss: 0.0290 - val_acc: 0.9965\n",
      "Epoch 24/1000\n",
      "10221/10221 [==============================] - 0s - loss: 0.0841 - acc: 0.9911 - val_loss: 0.0306 - val_acc: 0.9965\n",
      "Epoch 25/1000\n",
      "10221/10221 [==============================] - 0s - loss: 0.0853 - acc: 0.9889 - val_loss: 0.0280 - val_acc: 0.9965\n",
      "Epoch 26/1000\n",
      "10221/10221 [==============================] - 0s - loss: 0.0800 - acc: 0.9914 - val_loss: 0.0239 - val_acc: 0.9974\n",
      "Epoch 27/1000\n",
      "10221/10221 [==============================] - 0s - loss: 0.0721 - acc: 0.9922 - val_loss: 0.0168 - val_acc: 0.9974\n",
      "Epoch 28/1000\n",
      "10221/10221 [==============================] - 0s - loss: 0.0592 - acc: 0.9937 - val_loss: 0.0178 - val_acc: 0.9974\n",
      "Epoch 29/1000\n",
      "10221/10221 [==============================] - 0s - loss: 0.0634 - acc: 0.9938 - val_loss: 0.0138 - val_acc: 0.9965\n",
      "Epoch 30/1000\n",
      "10221/10221 [==============================] - 0s - loss: 0.0666 - acc: 0.9931 - val_loss: 0.0170 - val_acc: 0.9974\n",
      "Epoch 31/1000\n",
      "10221/10221 [==============================] - 0s - loss: 0.0545 - acc: 0.9941 - val_loss: 0.0137 - val_acc: 0.9974\n",
      "Epoch 32/1000\n",
      "10221/10221 [==============================] - 0s - loss: 0.0582 - acc: 0.9935 - val_loss: 0.0132 - val_acc: 0.9974\n",
      "Epoch 33/1000\n",
      "10221/10221 [==============================] - 0s - loss: 0.0601 - acc: 0.9930 - val_loss: 0.0235 - val_acc: 0.9974\n",
      "Epoch 34/1000\n",
      "10221/10221 [==============================] - 0s - loss: 0.0580 - acc: 0.9942 - val_loss: 0.0166 - val_acc: 0.9974\n",
      "Epoch 35/1000\n",
      "10221/10221 [==============================] - 0s - loss: 0.0575 - acc: 0.9945 - val_loss: 0.0163 - val_acc: 0.9974\n",
      "Epoch 36/1000\n",
      "10221/10221 [==============================] - 0s - loss: 0.0525 - acc: 0.9951 - val_loss: 0.0186 - val_acc: 0.9974\n",
      "Epoch 37/1000\n",
      "10221/10221 [==============================] - 0s - loss: 0.0626 - acc: 0.9927 - val_loss: 0.0207 - val_acc: 0.9974\n",
      "Epoch 38/1000\n",
      "10221/10221 [==============================] - 0s - loss: 0.0530 - acc: 0.9942 - val_loss: 0.0179 - val_acc: 0.9974\n",
      "Epoch 39/1000\n",
      "10221/10221 [==============================] - 0s - loss: 0.0516 - acc: 0.9949 - val_loss: 0.0118 - val_acc: 0.9974\n",
      "Epoch 40/1000\n",
      "10221/10221 [==============================] - 0s - loss: 0.0546 - acc: 0.9956 - val_loss: 0.0112 - val_acc: 0.9974\n",
      "Epoch 41/1000\n",
      "10221/10221 [==============================] - 0s - loss: 0.0500 - acc: 0.9958 - val_loss: 0.0107 - val_acc: 0.9974\n",
      "Epoch 42/1000\n",
      "10221/10221 [==============================] - 0s - loss: 0.0494 - acc: 0.9957 - val_loss: 0.0109 - val_acc: 0.9974\n",
      "Epoch 43/1000\n",
      "10221/10221 [==============================] - 0s - loss: 0.0471 - acc: 0.9955 - val_loss: 0.0229 - val_acc: 0.9956\n",
      "Epoch 44/1000\n",
      "10221/10221 [==============================] - 0s - loss: 0.0468 - acc: 0.9954 - val_loss: 0.0148 - val_acc: 0.9974\n",
      "Epoch 45/1000\n",
      "10221/10221 [==============================] - 0s - loss: 0.0573 - acc: 0.9941 - val_loss: 0.0208 - val_acc: 0.9956\n",
      "Epoch 46/1000\n",
      "10221/10221 [==============================] - 0s - loss: 0.0476 - acc: 0.9945 - val_loss: 0.0169 - val_acc: 0.9974\n",
      "Epoch 47/1000\n",
      "10221/10221 [==============================] - 0s - loss: 0.0413 - acc: 0.9961 - val_loss: 0.0111 - val_acc: 0.9974\n",
      "Epoch 48/1000\n",
      "10221/10221 [==============================] - 0s - loss: 0.0502 - acc: 0.9957 - val_loss: 0.0129 - val_acc: 0.9974\n",
      "Epoch 49/1000\n",
      "10221/10221 [==============================] - 0s - loss: 0.0383 - acc: 0.9968 - val_loss: 0.0084 - val_acc: 0.9974\n",
      "Epoch 50/1000\n",
      "10221/10221 [==============================] - 0s - loss: 0.0447 - acc: 0.9956 - val_loss: 0.0128 - val_acc: 0.9974\n",
      "Epoch 51/1000\n",
      "10221/10221 [==============================] - 0s - loss: 0.0425 - acc: 0.9962 - val_loss: 0.0106 - val_acc: 0.9974\n",
      "Epoch 52/1000\n",
      "10221/10221 [==============================] - 0s - loss: 0.0442 - acc: 0.9957 - val_loss: 0.0088 - val_acc: 0.9974\n",
      "Epoch 53/1000\n",
      "10221/10221 [==============================] - 0s - loss: 0.0416 - acc: 0.9963 - val_loss: 0.0096 - val_acc: 0.9974\n",
      "Epoch 54/1000\n",
      "10221/10221 [==============================] - 0s - loss: 0.0432 - acc: 0.9961 - val_loss: 0.0082 - val_acc: 0.9974\n",
      "Epoch 55/1000\n",
      "10221/10221 [==============================] - 0s - loss: 0.0441 - acc: 0.9966 - val_loss: 0.0059 - val_acc: 0.9974\n",
      "Epoch 56/1000\n",
      "10221/10221 [==============================] - 0s - loss: 0.0458 - acc: 0.9966 - val_loss: 0.0073 - val_acc: 0.9974\n",
      "Epoch 57/1000\n",
      "10221/10221 [==============================] - 0s - loss: 0.0507 - acc: 0.9953 - val_loss: 0.0120 - val_acc: 0.9974\n",
      "Epoch 58/1000\n",
      "10221/10221 [==============================] - 0s - loss: 0.0418 - acc: 0.9961 - val_loss: 0.0109 - val_acc: 0.9974\n",
      "Epoch 59/1000\n",
      "10221/10221 [==============================] - 0s - loss: 0.0407 - acc: 0.9966 - val_loss: 0.0095 - val_acc: 0.9974\n",
      "Epoch 60/1000\n",
      "10221/10221 [==============================] - 0s - loss: 0.0440 - acc: 0.9955 - val_loss: 0.0155 - val_acc: 0.9956\n",
      "Epoch 61/1000\n",
      "10221/10221 [==============================] - 0s - loss: 0.0373 - acc: 0.9962 - val_loss: 0.0083 - val_acc: 0.9974\n",
      "Epoch 62/1000\n",
      "10221/10221 [==============================] - 0s - loss: 0.0370 - acc: 0.9965 - val_loss: 0.0101 - val_acc: 0.9974\n",
      "Epoch 63/1000\n"
     ]
    },
    {
     "name": "stdout",
     "output_type": "stream",
     "text": [
      "10221/10221 [==============================] - 0s - loss: 0.0402 - acc: 0.9961 - val_loss: 0.0118 - val_acc: 0.9974\n",
      "Epoch 64/1000\n",
      "10221/10221 [==============================] - 0s - loss: 0.0408 - acc: 0.9964 - val_loss: 0.0101 - val_acc: 0.9974\n",
      "Epoch 65/1000\n",
      "10221/10221 [==============================] - 0s - loss: 0.0373 - acc: 0.9966 - val_loss: 0.0122 - val_acc: 0.9974\n",
      "Epoch 66/1000\n",
      "10221/10221 [==============================] - 0s - loss: 0.0377 - acc: 0.9970 - val_loss: 0.0100 - val_acc: 0.9974\n"
     ]
    },
    {
     "data": {
      "text/plain": [
       "<keras.callbacks.History at 0x7f4c9f6f4b70>"
      ]
     },
     "execution_count": 15,
     "metadata": {},
     "output_type": "execute_result"
    }
   ],
   "source": [
    "from keras.callbacks import EarlyStopping\n",
    "early_stopping = EarlyStopping(monitor='val_loss',patience=10,min_delta=0.002)\n",
    "model.fit(x_cut_train,y_cut_train,epochs = 1000, batch_size = 200, validation_split=0.1, shuffle=True, callbacks = [early_stopping])"
   ]
  },
  {
   "cell_type": "code",
   "execution_count": 16,
   "metadata": {},
   "outputs": [
    {
     "name": "stdout",
     "output_type": "stream",
     "text": [
      "581/597 [============================>.] - ETA: 0s"
     ]
    }
   ],
   "source": [
    "scores = model.evaluate(x_cut_test, y_cut_test, batch_size=1)"
   ]
  },
  {
   "cell_type": "code",
   "execution_count": 17,
   "metadata": {},
   "outputs": [
    {
     "name": "stdout",
     "output_type": "stream",
     "text": [
      "['loss', 'acc']\n",
      "[0.033542823216363343, 0.99664991624790622]\n"
     ]
    }
   ],
   "source": [
    "print(model.metrics_names)\n",
    "print(scores)"
   ]
  },
  {
   "cell_type": "code",
   "execution_count": 18,
   "metadata": {},
   "outputs": [
    {
     "name": "stdout",
     "output_type": "stream",
     "text": [
      "_________________________________________________________________\n",
      "Layer (type)                 Output Shape              Param #   \n",
      "=================================================================\n",
      "dense_1 (Dense)              (None, 16)                144       \n",
      "_________________________________________________________________\n",
      "activation_1 (Activation)    (None, 16)                0         \n",
      "_________________________________________________________________\n",
      "dropout_1 (Dropout)          (None, 16)                0         \n",
      "_________________________________________________________________\n",
      "dense_2 (Dense)              (None, 2)                 34        \n",
      "=================================================================\n",
      "Total params: 178.0\n",
      "Trainable params: 178.0\n",
      "Non-trainable params: 0.0\n",
      "_________________________________________________________________\n"
     ]
    }
   ],
   "source": [
    "model.summary()"
   ]
  },
  {
   "cell_type": "code",
   "execution_count": 19,
   "metadata": {
    "collapsed": true
   },
   "outputs": [],
   "source": [
    "model.save(\"/home/myo/models/v1_dense.h5\")"
   ]
  },
  {
   "cell_type": "code",
   "execution_count": null,
   "metadata": {
    "collapsed": true
   },
   "outputs": [],
   "source": []
  }
 ],
 "metadata": {
  "kernelspec": {
   "display_name": "Python 3",
   "language": "python",
   "name": "python3"
  },
  "language_info": {
   "codemirror_mode": {
    "name": "ipython",
    "version": 3
   },
   "file_extension": ".py",
   "mimetype": "text/x-python",
   "name": "python",
   "nbconvert_exporter": "python",
   "pygments_lexer": "ipython3",
   "version": "3.6.1"
  }
 },
 "nbformat": 4,
 "nbformat_minor": 2
}
