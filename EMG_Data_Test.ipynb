{
 "cells": [
  {
   "cell_type": "code",
   "execution_count": 1,
   "metadata": {
    "collapsed": true
   },
   "outputs": [],
   "source": [
    "import pandas as pd\n",
    "import numpy as np\n",
    "import os\n",
    "from datetime import datetime\n",
    "import pprint"
   ]
  },
  {
   "cell_type": "code",
   "execution_count": 2,
   "metadata": {
    "collapsed": true
   },
   "outputs": [],
   "source": [
    "def sfun(string):\n",
    "    _,date = string.split('-',1)\n",
    "    return datetime.strptime(date,\"%Y%m%d-%H%M%S\")\n",
    "\n",
    "def lExp(l):\n",
    "    l2 = list()\n",
    "    for f in l:\n",
    "        name,date = f.split('-',1)\n",
    "        l2.append((name,datetime.strptime(date,\"%Y%m%d-%H%M%S\"),f))\n",
    "    return l2\n",
    "\n",
    "\n",
    "def import_data(name,path=['emg_data','ipa_emg']):\n",
    "    fList = [f for f in os.listdir(os.path.join(os.path.expanduser('~'),*path)) if not f.startswith('.') and not os.path.isdir(f)]\n",
    "    l2 = lExp(sorted(fList,key=sfun))\n",
    "    return [pd.read_csv(os.path.join(os.path.expanduser('~'),*path,f[-1]), skiprows=1, header=None, delim_whitespace=True) for f in l2  if f[0] == name]\n",
    "\n",
    "\n"
   ]
  },
  {
   "cell_type": "code",
   "execution_count": 3,
   "metadata": {
    "scrolled": false
   },
   "outputs": [
    {
     "data": {
      "text/html": [
       "\n",
       "    <div class=\"bk-root\">\n",
       "        <a href=\"http://bokeh.pydata.org\" target=\"_blank\" class=\"bk-logo bk-logo-small bk-logo-notebook\"></a>\n",
       "        <span id=\"2532560f-8ca7-491a-9d31-72d2022d989e\">Loading BokehJS ...</span>\n",
       "    </div>"
      ]
     },
     "metadata": {},
     "output_type": "display_data"
    },
    {
     "data": {
      "application/javascript": [
       "\n",
       "(function(global) {\n",
       "  function now() {\n",
       "    return new Date();\n",
       "  }\n",
       "\n",
       "  var force = true;\n",
       "\n",
       "  if (typeof (window._bokeh_onload_callbacks) === \"undefined\" || force === true) {\n",
       "    window._bokeh_onload_callbacks = [];\n",
       "    window._bokeh_is_loading = undefined;\n",
       "  }\n",
       "\n",
       "\n",
       "  \n",
       "  if (typeof (window._bokeh_timeout) === \"undefined\" || force === true) {\n",
       "    window._bokeh_timeout = Date.now() + 5000;\n",
       "    window._bokeh_failed_load = false;\n",
       "  }\n",
       "\n",
       "  var NB_LOAD_WARNING = {'data': {'text/html':\n",
       "     \"<div style='background-color: #fdd'>\\n\"+\n",
       "     \"<p>\\n\"+\n",
       "     \"BokehJS does not appear to have successfully loaded. If loading BokehJS from CDN, this \\n\"+\n",
       "     \"may be due to a slow or bad network connection. Possible fixes:\\n\"+\n",
       "     \"</p>\\n\"+\n",
       "     \"<ul>\\n\"+\n",
       "     \"<li>re-rerun `output_notebook()` to attempt to load from CDN again, or</li>\\n\"+\n",
       "     \"<li>use INLINE resources instead, as so:</li>\\n\"+\n",
       "     \"</ul>\\n\"+\n",
       "     \"<code>\\n\"+\n",
       "     \"from bokeh.resources import INLINE\\n\"+\n",
       "     \"output_notebook(resources=INLINE)\\n\"+\n",
       "     \"</code>\\n\"+\n",
       "     \"</div>\"}};\n",
       "\n",
       "  function display_loaded() {\n",
       "    if (window.Bokeh !== undefined) {\n",
       "      var el = document.getElementById(\"2532560f-8ca7-491a-9d31-72d2022d989e\");\n",
       "      el.textContent = \"BokehJS \" + Bokeh.version + \" successfully loaded.\";\n",
       "    } else if (Date.now() < window._bokeh_timeout) {\n",
       "      setTimeout(display_loaded, 100)\n",
       "    }\n",
       "  }\n",
       "\n",
       "  function run_callbacks() {\n",
       "    window._bokeh_onload_callbacks.forEach(function(callback) { callback() });\n",
       "    delete window._bokeh_onload_callbacks\n",
       "    console.info(\"Bokeh: all callbacks have finished\");\n",
       "  }\n",
       "\n",
       "  function load_libs(js_urls, callback) {\n",
       "    window._bokeh_onload_callbacks.push(callback);\n",
       "    if (window._bokeh_is_loading > 0) {\n",
       "      console.log(\"Bokeh: BokehJS is being loaded, scheduling callback at\", now());\n",
       "      return null;\n",
       "    }\n",
       "    if (js_urls == null || js_urls.length === 0) {\n",
       "      run_callbacks();\n",
       "      return null;\n",
       "    }\n",
       "    console.log(\"Bokeh: BokehJS not loaded, scheduling load and callback at\", now());\n",
       "    window._bokeh_is_loading = js_urls.length;\n",
       "    for (var i = 0; i < js_urls.length; i++) {\n",
       "      var url = js_urls[i];\n",
       "      var s = document.createElement('script');\n",
       "      s.src = url;\n",
       "      s.async = false;\n",
       "      s.onreadystatechange = s.onload = function() {\n",
       "        window._bokeh_is_loading--;\n",
       "        if (window._bokeh_is_loading === 0) {\n",
       "          console.log(\"Bokeh: all BokehJS libraries loaded\");\n",
       "          run_callbacks()\n",
       "        }\n",
       "      };\n",
       "      s.onerror = function() {\n",
       "        console.warn(\"failed to load library \" + url);\n",
       "      };\n",
       "      console.log(\"Bokeh: injecting script tag for BokehJS library: \", url);\n",
       "      document.getElementsByTagName(\"head\")[0].appendChild(s);\n",
       "    }\n",
       "  };var element = document.getElementById(\"2532560f-8ca7-491a-9d31-72d2022d989e\");\n",
       "  if (element == null) {\n",
       "    console.log(\"Bokeh: ERROR: autoload.js configured with elementid '2532560f-8ca7-491a-9d31-72d2022d989e' but no matching script tag was found. \")\n",
       "    return false;\n",
       "  }\n",
       "\n",
       "  var js_urls = [\"https://cdn.pydata.org/bokeh/release/bokeh-0.12.5.min.js\", \"https://cdn.pydata.org/bokeh/release/bokeh-widgets-0.12.5.min.js\"];\n",
       "\n",
       "  var inline_js = [\n",
       "    function(Bokeh) {\n",
       "      Bokeh.set_log_level(\"info\");\n",
       "    },\n",
       "    \n",
       "    function(Bokeh) {\n",
       "      \n",
       "    },\n",
       "    \n",
       "    function(Bokeh) {\n",
       "      \n",
       "      document.getElementById(\"2532560f-8ca7-491a-9d31-72d2022d989e\").textContent = \"BokehJS is loading...\";\n",
       "    },\n",
       "    function(Bokeh) {\n",
       "      console.log(\"Bokeh: injecting CSS: https://cdn.pydata.org/bokeh/release/bokeh-0.12.5.min.css\");\n",
       "      Bokeh.embed.inject_css(\"https://cdn.pydata.org/bokeh/release/bokeh-0.12.5.min.css\");\n",
       "      console.log(\"Bokeh: injecting CSS: https://cdn.pydata.org/bokeh/release/bokeh-widgets-0.12.5.min.css\");\n",
       "      Bokeh.embed.inject_css(\"https://cdn.pydata.org/bokeh/release/bokeh-widgets-0.12.5.min.css\");\n",
       "    }\n",
       "  ];\n",
       "\n",
       "  function run_inline_js() {\n",
       "    \n",
       "    if ((window.Bokeh !== undefined) || (force === true)) {\n",
       "      for (var i = 0; i < inline_js.length; i++) {\n",
       "        inline_js[i](window.Bokeh);\n",
       "      }if (force === true) {\n",
       "        display_loaded();\n",
       "      }} else if (Date.now() < window._bokeh_timeout) {\n",
       "      setTimeout(run_inline_js, 100);\n",
       "    } else if (!window._bokeh_failed_load) {\n",
       "      console.log(\"Bokeh: BokehJS failed to load within specified timeout.\");\n",
       "      window._bokeh_failed_load = true;\n",
       "    } else if (force !== true) {\n",
       "      var cell = $(document.getElementById(\"2532560f-8ca7-491a-9d31-72d2022d989e\")).parents('.cell').data().cell;\n",
       "      cell.output_area.append_execute_result(NB_LOAD_WARNING)\n",
       "    }\n",
       "\n",
       "  }\n",
       "\n",
       "  if (window._bokeh_is_loading === 0) {\n",
       "    console.log(\"Bokeh: BokehJS loaded, going straight to plotting\");\n",
       "    run_inline_js();\n",
       "  } else {\n",
       "    load_libs(js_urls, function() {\n",
       "      console.log(\"Bokeh: BokehJS plotting callback run at\", now());\n",
       "      run_inline_js();\n",
       "    });\n",
       "  }\n",
       "}(this));"
      ]
     },
     "metadata": {},
     "output_type": "display_data"
    }
   ],
   "source": [
    "from bokeh.plotting import figure, show\n",
    "from bokeh.io import output_notebook\n",
    "from bokeh.layouts import column, row\n",
    "from bokeh.palettes import Spectral11, Category20, Set1\n",
    "from bokeh.models import Range1d\n",
    "output_notebook()\n",
    "\n",
    "def plotdf(dfs, numlines=None,pltflag=None):\n",
    "    # if just one pandas frame is given\n",
    "    try:\n",
    "        # get number of plottable columns if no exlicit numbers to plot are given\n",
    "        if numlines == None:\n",
    "            numlines = list(range(0,len(dfs.columns)))\n",
    "        \n",
    "        # create cut down color palette\n",
    "        mypalette = [Set1[len(dfs.columns)][i] for i in numlines]\n",
    "        \n",
    "        # Only one plot\n",
    "        if pltflag == None:\n",
    "            p = figure()\n",
    "            p.multi_line(xs = [dfs.index.values] *len(numlines),\n",
    "                         ys = [dfs[n].values for n,i in enumerate(dfs) if i in numlines],\n",
    "                         line_color = mypalette\n",
    "                        )\n",
    "            show(p)\n",
    "            \n",
    "        # Combined Plot\n",
    "        elif pltflag == 'columns':\n",
    "            pH = int(800/len(numlines))\n",
    "            plist = [figure(plot_height=pH, y_range=Range1d(dfs.values.min(),dfs.values.max()), title=str(f)) for f in numlines]\n",
    "            for i,p in enumerate(plist):\n",
    "                p.line( x = dfs.index.values,\n",
    "                        y = dfs[numlines[i]].values,\n",
    "                        line_color = mypalette[i])\n",
    "            show(column(*plist))\n",
    "    \n",
    "    # If list of emg data is given\n",
    "    except:\n",
    "        print('except')\n",
    "        if numlines == None:\n",
    "            numlines = list(range(0,len(dfs[0].columns)))\n",
    "        \n",
    "        # create cut down color palette\n",
    "        mypalette = [Set1[len(dfs[0].columns)][i] for i in numlines]\n",
    "        \n",
    "        pH = int(800/len(numlines))\n",
    "        yranges = Range1d(min([f.values.min() for f in dfs]),max([f.values.max() for f in dfs]))\n",
    "        xranges = Range1d(min([f.index.values.min() for f in dfs]),max([f.index.values.max() for f in dfs]))\n",
    "        plist = [figure(plot_height=pH, y_range=yranges, x_range=xranges, title=str(f)) for f in numlines]\n",
    "        for i,p in enumerate(plist):\n",
    "            p.multi_line( xs =[f.index.values for f in dfs],\n",
    "                          ys = [f[numlines[i]].values for f in dfs],\n",
    "                          line_color = mypalette[i])\n",
    "        show(column(*plist))\n",
    "            \n"
   ]
  },
  {
   "cell_type": "code",
   "execution_count": 4,
   "metadata": {},
   "outputs": [
    {
     "data": {
      "text/plain": [
       "{'cupsv1': 5, 'cupv1': [5, 1]}"
      ]
     },
     "execution_count": 4,
     "metadata": {},
     "output_type": "execute_result"
    }
   ],
   "source": [
    "dic = { 1: 'Tasse aufnehmen', \n",
    "        2: 'Tasse halten',\n",
    "        3: 'Tasse abstellen',\n",
    "        4: 'Tasse hoch&runter',\n",
    "        8: 'Ruhe (Supination)',\n",
    "        9: 'Ruhe (Pronation)'\n",
    "      }\n",
    "its = ['cupv1','cupv2']\n",
    "feed_dic = dict()\n",
    "feed_dic['cupsv1'] = 5\n",
    "name = its[0]\n",
    "feed_dic[name] = [5,1]\n",
    "feed_dic"
   ]
  },
  {
   "cell_type": "code",
   "execution_count": 5,
   "metadata": {},
   "outputs": [],
   "source": [
    "a = import_data('cupv1_1',path=['emg_data','ipa_emg','lifting_cup_20170607'])"
   ]
  },
  {
   "cell_type": "code",
   "execution_count": 6,
   "metadata": {},
   "outputs": [],
   "source": [
    "feed_dic = dict()\n",
    "for n in its:\n",
    "    l2 = list()\n",
    "    for i in dic:\n",
    "         l2.append((i,import_data(n+'_'+str(i),path=['emg_data','ipa_emg','lifting_cup_20170607'])))\n",
    "    feed_dic[n] = l2"
   ]
  },
  {
   "cell_type": "code",
   "execution_count": 7,
   "metadata": {},
   "outputs": [
    {
     "name": "stdout",
     "output_type": "stream",
     "text": [
      "now in  cupv1\n",
      "--> with number  0  which has  8\n",
      "--> with number  1  which has  8\n",
      "--> with number  2  which has  8\n",
      "--> with number  3  which has  0\n",
      "passing...\n",
      "--> with number  4  which has  2\n",
      "--> with number  5  which has  2\n",
      "now in  cupv2\n",
      "--> with number  0  which has  7\n",
      "--> with number  1  which has  7\n",
      "--> with number  2  which has  7\n",
      "--> with number  3  which has  1\n",
      "--> with number  4  which has  2\n",
      "--> with number  5  which has  2\n",
      "771\n",
      "11\n"
     ]
    }
   ],
   "source": [
    "mxx = 0\n",
    "count = 0\n",
    "for i in feed_dic:\n",
    "    print('now in ', i)\n",
    "    for i,k in enumerate(feed_dic[i]):\n",
    "        print('--> with number ',i, ' which has ', len(k[1]))\n",
    "        if len(k[1]) > 0:\n",
    "            mx2 = max([max(m.max()) for m in k[1]])\n",
    "            count += 1\n",
    "            if mx2 > mxx:\n",
    "                mxx = mx2\n",
    "        else:\n",
    "            print('passing...')\n",
    "        \n",
    "print(mxx)\n",
    "print(count)"
   ]
  },
  {
   "cell_type": "code",
   "execution_count": 8,
   "metadata": {},
   "outputs": [
    {
     "data": {
      "text/plain": [
       "dict_keys(['cupv1', 'cupv2'])"
      ]
     },
     "execution_count": 8,
     "metadata": {},
     "output_type": "execute_result"
    }
   ],
   "source": [
    "feed_dic.keys()"
   ]
  },
  {
   "cell_type": "code",
   "execution_count": 54,
   "metadata": {
    "scrolled": true
   },
   "outputs": [
    {
     "name": "stdout",
     "output_type": "stream",
     "text": [
      "Ruhe (Supination)\n",
      "except\n"
     ]
    },
    {
     "data": {
      "text/html": [
       "\n",
       "\n",
       "    <div class=\"bk-root\">\n",
       "        <div class=\"bk-plotdiv\" id=\"8bbda024-bd66-4617-b974-213e63290922\"></div>\n",
       "    </div>\n",
       "<script type=\"text/javascript\">\n",
       "  \n",
       "  (function(global) {\n",
       "    function now() {\n",
       "      return new Date();\n",
       "    }\n",
       "  \n",
       "    var force = false;\n",
       "  \n",
       "    if (typeof (window._bokeh_onload_callbacks) === \"undefined\" || force === true) {\n",
       "      window._bokeh_onload_callbacks = [];\n",
       "      window._bokeh_is_loading = undefined;\n",
       "    }\n",
       "  \n",
       "  \n",
       "    \n",
       "    if (typeof (window._bokeh_timeout) === \"undefined\" || force === true) {\n",
       "      window._bokeh_timeout = Date.now() + 0;\n",
       "      window._bokeh_failed_load = false;\n",
       "    }\n",
       "  \n",
       "    var NB_LOAD_WARNING = {'data': {'text/html':\n",
       "       \"<div style='background-color: #fdd'>\\n\"+\n",
       "       \"<p>\\n\"+\n",
       "       \"BokehJS does not appear to have successfully loaded. If loading BokehJS from CDN, this \\n\"+\n",
       "       \"may be due to a slow or bad network connection. Possible fixes:\\n\"+\n",
       "       \"</p>\\n\"+\n",
       "       \"<ul>\\n\"+\n",
       "       \"<li>re-rerun `output_notebook()` to attempt to load from CDN again, or</li>\\n\"+\n",
       "       \"<li>use INLINE resources instead, as so:</li>\\n\"+\n",
       "       \"</ul>\\n\"+\n",
       "       \"<code>\\n\"+\n",
       "       \"from bokeh.resources import INLINE\\n\"+\n",
       "       \"output_notebook(resources=INLINE)\\n\"+\n",
       "       \"</code>\\n\"+\n",
       "       \"</div>\"}};\n",
       "  \n",
       "    function display_loaded() {\n",
       "      if (window.Bokeh !== undefined) {\n",
       "        var el = document.getElementById(\"8bbda024-bd66-4617-b974-213e63290922\");\n",
       "        el.textContent = \"BokehJS \" + Bokeh.version + \" successfully loaded.\";\n",
       "      } else if (Date.now() < window._bokeh_timeout) {\n",
       "        setTimeout(display_loaded, 100)\n",
       "      }\n",
       "    }\n",
       "  \n",
       "    function run_callbacks() {\n",
       "      window._bokeh_onload_callbacks.forEach(function(callback) { callback() });\n",
       "      delete window._bokeh_onload_callbacks\n",
       "      console.info(\"Bokeh: all callbacks have finished\");\n",
       "    }\n",
       "  \n",
       "    function load_libs(js_urls, callback) {\n",
       "      window._bokeh_onload_callbacks.push(callback);\n",
       "      if (window._bokeh_is_loading > 0) {\n",
       "        console.log(\"Bokeh: BokehJS is being loaded, scheduling callback at\", now());\n",
       "        return null;\n",
       "      }\n",
       "      if (js_urls == null || js_urls.length === 0) {\n",
       "        run_callbacks();\n",
       "        return null;\n",
       "      }\n",
       "      console.log(\"Bokeh: BokehJS not loaded, scheduling load and callback at\", now());\n",
       "      window._bokeh_is_loading = js_urls.length;\n",
       "      for (var i = 0; i < js_urls.length; i++) {\n",
       "        var url = js_urls[i];\n",
       "        var s = document.createElement('script');\n",
       "        s.src = url;\n",
       "        s.async = false;\n",
       "        s.onreadystatechange = s.onload = function() {\n",
       "          window._bokeh_is_loading--;\n",
       "          if (window._bokeh_is_loading === 0) {\n",
       "            console.log(\"Bokeh: all BokehJS libraries loaded\");\n",
       "            run_callbacks()\n",
       "          }\n",
       "        };\n",
       "        s.onerror = function() {\n",
       "          console.warn(\"failed to load library \" + url);\n",
       "        };\n",
       "        console.log(\"Bokeh: injecting script tag for BokehJS library: \", url);\n",
       "        document.getElementsByTagName(\"head\")[0].appendChild(s);\n",
       "      }\n",
       "    };var element = document.getElementById(\"8bbda024-bd66-4617-b974-213e63290922\");\n",
       "    if (element == null) {\n",
       "      console.log(\"Bokeh: ERROR: autoload.js configured with elementid '8bbda024-bd66-4617-b974-213e63290922' but no matching script tag was found. \")\n",
       "      return false;\n",
       "    }\n",
       "  \n",
       "    var js_urls = [];\n",
       "  \n",
       "    var inline_js = [\n",
       "      function(Bokeh) {\n",
       "        (function() {\n",
       "          var fn = function() {\n",
       "            var docs_json = {\"1a353718-4644-42c8-9cbd-27fea82563d0\":{\"roots\":{\"references\":[{\"attributes\":{},\"id\":\"dea3e99d-f160-4fc1-b818-068fbac29411\",\"type\":\"BasicTickFormatter\"},{\"attributes\":{\"callback\":null,\"column_names\":[\"xs\",\"ys\"],\"data\":{\"xs\":[[0,1,2,3,4,5,6,7,8,9,10,11,12,13,14,15,16,17,18,19,20,21,22,23,24,25,26,27,28,29,30,31,32,33,34,35,36,37,38,39,40,41,42,43,44,45,46,47,48,49,50,51,52,53,54,55,56,57,58,59,60,61,62,63,64,65,66,67,68,69,70,71,72,73,74,75,76,77,78,79,80,81,82,83,84,85,86,87,88,89,90,91,92,93,94,95,96,97,98,99,100,101,102,103,104,105,106,107,108,109,110,111,112,113,114,115,116,117,118,119,120,121,122,123,124,125,126,127,128,129,130,131,132,133,134,135,136,137,138,139,140,141,142,143,144,145,146,147,148,149,150,151,152,153,154,155,156,157,158,159,160,161,162,163,164,165,166,167,168,169,170,171,172,173,174,175,176,177,178,179,180,181,182,183,184,185,186,187,188,189,190,191,192,193,194,195,196,197,198,199,200,201,202,203,204,205,206,207,208,209,210,211,212,213,214,215,216,217,218,219,220,221,222,223,224,225,226,227,228,229,230,231,232,233,234,235,236,237,238,239,240,241,242,243,244,245,246,247,248,249,250,251,252,253,254,255,256,257,258,259,260,261,262,263,264,265,266,267,268,269,270,271,272,273,274,275,276,277,278,279,280,281,282,283,284,285,286,287,288,289,290,291,292,293,294,295,296,297,298,299,300,301,302,303,304,305,306,307,308,309,310,311,312,313,314,315,316,317,318,319,320,321,322,323,324,325,326,327,328,329,330,331,332,333,334,335,336,337,338,339,340,341,342,343,344,345,346,347,348,349,350,351,352,353,354,355,356,357,358,359,360,361,362,363,364,365,366,367,368,369,370,371,372,373,374,375,376,377,378,379,380,381,382,383,384,385,386,387,388,389,390,391,392,393,394,395,396,397,398,399,400,401,402,403,404,405,406,407,408,409,410,411,412,413,414,415,416,417,418,419,420,421,422,423,424,425,426,427,428,429,430,431,432,433,434,435,436,437,438,439,440,441,442,443,444,445,446,447,448,449,450,451,452,453,454,455,456,457,458,459,460,461,462,463,464,465,466,467,468,469,470,471,472,473,474,475,476,477,478,479,480,481,482,483,484,485,486,487,488,489,490,491,492,493,494,495,496,497,498,499,500,501,502,503,504,505,506,507,508,509,510,511,512,513,514,515,516,517,518,519,520,521,522,523,524,525,526,527,528,529,530,531,532,533,534,535,536,537,538,539,540,541,542,543,544,545,546,547,548,549,550,551,552,553,554,555,556,557,558,559,560,561,562,563,564,565,566,567,568,569,570,571,572,573,574,575,576,577,578,579,580,581,582,583,584,585,586,587,588,589,590,591,592,593,594,595,596,597,598,599,600,601,602,603,604,605,606,607,608,609,610,611,612,613,614,615,616,617,618,619],[0,1,2,3,4,5,6,7,8,9,10,11,12,13,14,15,16,17,18,19,20,21,22,23,24,25,26,27,28,29,30,31,32,33,34,35,36,37,38,39,40,41,42,43,44,45,46,47,48,49,50,51,52,53,54,55,56,57,58,59,60,61,62,63,64,65,66,67,68,69,70,71,72,73,74,75,76,77,78,79,80,81,82,83,84,85,86,87,88,89,90,91,92,93,94,95,96,97,98,99,100,101,102,103,104,105,106,107,108,109,110,111,112,113,114,115,116,117,118,119,120,121,122,123,124,125,126,127,128,129,130,131,132,133,134,135,136,137,138,139,140,141,142,143,144,145,146,147,148,149,150,151,152,153,154,155,156,157,158,159,160,161,162,163,164,165,166,167,168,169,170,171,172,173,174,175,176,177,178,179,180,181,182,183,184,185,186,187,188,189,190,191]],\"ys\":[[23,21,20,21,21,21,21,21,22,22,20,21,22,22,23,22,24,24,23,23,23,24,23,22,24,25,22,21,22,22,23,24,24,25,25,23,23,23,21,21,22,21,22,22,24,25,24,26,25,22,23,23,21,23,24,24,25,24,24,24,23,24,25,25,24,24,22,22,23,26,26,26,25,23,22,20,20,21,21,22,23,22,23,23,23,22,23,21,22,20,19,19,19,19,21,22,21,24,23,22,21,22,20,22,23,23,23,24,22,21,23,23,21,21,23,23,23,25,23,22,21,22,22,24,23,24,23,23,23,24,23,23,21,22,23,22,24,25,24,23,24,22,22,22,23,23,22,21,22,21,21,21,22,21,20,19,19,18,22,22,23,24,23,22,21,20,21,21,21,22,22,21,21,21,21,21,22,32,35,34,34,35,25,21,21,22,21,22,22,23,22,24,24,22,22,25,22,23,24,26,24,23,24,22,20,22,23,22,22,22,21,21,22,23,22,22,20,19,20,20,21,24,24,23,23,22,21,22,23,23,23,24,23,22,22,23,22,21,22,22,22,22,21,22,23,22,22,23,22,20,21,21,23,22,22,21,22,20,21,22,23,22,21,21,22,21,20,21,21,23,23,24,23,23,21,23,23,22,23,22,21,20,21,21,21,23,23,23,23,24,22,23,24,23,23,24,22,21,20,20,20,20,23,22,23,21,22,21,22,21,21,22,22,22,23,23,22,22,21,21,21,22,21,22,22,22,21,23,23,23,23,23,23,23,23,24,23,21,21,22,21,22,22,23,22,21,23,23,25,24,24,22,22,20,22,22,23,23,22,21,22,23,22,21,21,21,19,19,19,20,20,20,20,21,20,21,22,23,22,23,23,21,20,20,21,20,20,21,21,21,22,21,20,21,20,20,21,21,20,20,20,22,22,24,24,26,23,24,21,23,21,23,22,23,22,22,21,22,21,22,23,24,22,24,24,24,22,23,23,23,21,24,23,23,22,23,21,21,19,20,20,21,22,24,25,28,26,27,25,26,23,24,22,23,21,20,21,20,22,22,23,23,25,23,23,22,22,20,22,22,23,21,20,19,21,21,21,22,22,21,21,22,23,22,21,23,23,23,24,23,20,21,21,21,23,24,24,23,23,24,23,23,24,22,20,20,20,20,22,22,23,22,24,22,24,25,24,22,21,21,21,22,23,24,23,23,25,24,23,26,26,23,26,27,24,26,27,27,27,28,25,24,23,22,21,21,21,20,22,24,23,24,25,24,24,25,25,26,24,24,23,22,21,22,21,22,23,22,23,22,21,23,23,21,21,21,19,21,23,22,22,22,21,21,23,22,22,26,25,23,22,23,18,19,20,21,20,21,24,23,22,22,22,21,22,25,25,26,26,27,25,26,25,25,22,22,22,21,22,24],[22,24,21,22,23,24,24,24,24,24,25,25,26,24,24,23,21,22,23,25,25,26,24,28,27,27,26,27,23,23,22,23,22,23,22,22,23,24,23,24,25,23,23,23,25,24,25,23,24,22,23,24,24,23,23,23,24,23,23,25,25,25,26,25,23,24,23,23,24,25,25,23,23,24,25,24,24,26,24,22,22,23,21,21,21,20,20,21,21,21,23,25,28,28,28,27,25,22,22,23,23,23,23,22,20,20,19,18,20,20,20,21,22,21,21,24,24,26,27,27,26,25,23,21,22,21,21,22,22,23,24,26,25,25,22,22,20,21,20,22,23,25,24,25,24,27,25,25,24,24,20,22,24,24,24,24,23,21,23,24,23,24,25,24,26,25,23,23,24,21,23,24,23,22,23,23,24,25,24,23,22,22,21,22,21,22,23,23,22,23,24,23]]}},\"id\":\"35d3a207-a990-4151-8823-733882346ce9\",\"type\":\"ColumnDataSource\"},{\"attributes\":{},\"id\":\"6f1e0faa-42a4-4916-99e7-f6e2b7173167\",\"type\":\"BasicTickFormatter\"},{\"attributes\":{\"line_color\":{\"value\":\"#f781bf\"},\"xs\":{\"field\":\"xs\"},\"ys\":{\"field\":\"ys\"}},\"id\":\"9e298f40-1121-4a92-83b3-138e135029cf\",\"type\":\"MultiLine\"},{\"attributes\":{\"line_alpha\":{\"value\":0.1},\"line_color\":{\"value\":\"#1f77b4\"},\"xs\":{\"field\":\"xs\"},\"ys\":{\"field\":\"ys\"}},\"id\":\"365309e1-1895-419a-aad5-986b23ade4fe\",\"type\":\"MultiLine\"},{\"attributes\":{\"data_source\":{\"id\":\"35d3a207-a990-4151-8823-733882346ce9\",\"type\":\"ColumnDataSource\"},\"glyph\":{\"id\":\"9e298f40-1121-4a92-83b3-138e135029cf\",\"type\":\"MultiLine\"},\"hover_glyph\":null,\"muted_glyph\":null,\"nonselection_glyph\":{\"id\":\"365309e1-1895-419a-aad5-986b23ade4fe\",\"type\":\"MultiLine\"},\"selection_glyph\":null},\"id\":\"9cec5102-477c-4630-b1c5-34ab556f6c72\",\"type\":\"GlyphRenderer\"},{\"attributes\":{},\"id\":\"addf30d4-ec1a-4f32-8670-5d3c6c1636a4\",\"type\":\"BasicTickFormatter\"},{\"attributes\":{\"plot\":{\"id\":\"ebed09d2-df63-4254-a43f-0eea088709c2\",\"subtype\":\"Figure\",\"type\":\"Plot\"}},\"id\":\"b58e3f37-0745-4b5c-a2bd-ea38d9a60f07\",\"type\":\"WheelZoomTool\"},{\"attributes\":{\"plot\":null,\"text\":\"3\"},\"id\":\"565a4c17-f0a0-46e3-a94c-40f163df8e3b\",\"type\":\"Title\"},{\"attributes\":{\"active_drag\":\"auto\",\"active_scroll\":\"auto\",\"active_tap\":\"auto\",\"tools\":[{\"id\":\"4584e138-bae2-4ae8-bd93-fb2331b98f84\",\"type\":\"PanTool\"},{\"id\":\"da0c08f4-595b-4a36-900a-b225fac9033e\",\"type\":\"WheelZoomTool\"},{\"id\":\"e34e53f3-cc91-4dd0-aca0-6b7df32dd9b8\",\"type\":\"BoxZoomTool\"},{\"id\":\"b357c7da-4c49-4d82-8d79-851689542a60\",\"type\":\"SaveTool\"},{\"id\":\"8127861a-40e8-4685-998c-8187b10bddbc\",\"type\":\"ResetTool\"},{\"id\":\"209729ff-a527-4234-8c95-989e79d67582\",\"type\":\"HelpTool\"}]},\"id\":\"d55abfb8-7de6-4c52-974e-a63b6f02f8e7\",\"type\":\"Toolbar\"},{\"attributes\":{},\"id\":\"c39a5426-7aae-4b3c-a30f-eef41c6712d3\",\"type\":\"ToolEvents\"},{\"attributes\":{\"below\":[{\"id\":\"d11ff09a-7c71-49e7-a6a7-25387e55253c\",\"type\":\"LinearAxis\"}],\"left\":[{\"id\":\"79712430-2a7a-4455-b94d-e098c8bacdd6\",\"type\":\"LinearAxis\"}],\"plot_height\":100,\"renderers\":[{\"id\":\"d11ff09a-7c71-49e7-a6a7-25387e55253c\",\"type\":\"LinearAxis\"},{\"id\":\"47ede94f-16d0-4a4c-8169-84aa1ef637f0\",\"type\":\"Grid\"},{\"id\":\"79712430-2a7a-4455-b94d-e098c8bacdd6\",\"type\":\"LinearAxis\"},{\"id\":\"826ffe27-a257-4c5a-98b5-46c0e6882699\",\"type\":\"Grid\"},{\"id\":\"97ffff61-a2bf-4127-bc55-740dd89ca2ee\",\"type\":\"BoxAnnotation\"},{\"id\":\"9d333505-b2f9-4e1d-9f8c-e3595e488797\",\"type\":\"GlyphRenderer\"}],\"title\":{\"id\":\"565a4c17-f0a0-46e3-a94c-40f163df8e3b\",\"type\":\"Title\"},\"tool_events\":{\"id\":\"c39a5426-7aae-4b3c-a30f-eef41c6712d3\",\"type\":\"ToolEvents\"},\"toolbar\":{\"id\":\"d55abfb8-7de6-4c52-974e-a63b6f02f8e7\",\"type\":\"Toolbar\"},\"x_range\":{\"id\":\"121fae34-559f-490e-9e7a-32c9202cea51\",\"type\":\"Range1d\"},\"y_range\":{\"id\":\"c13b7b9b-26f2-428b-9eda-7dfd79ed5f2e\",\"type\":\"Range1d\"}},\"id\":\"eef39e49-4aa2-4269-8ca2-4e6679a0aef7\",\"subtype\":\"Figure\",\"type\":\"Plot\"},{\"attributes\":{\"plot\":{\"id\":\"ebed09d2-df63-4254-a43f-0eea088709c2\",\"subtype\":\"Figure\",\"type\":\"Plot\"}},\"id\":\"4b20c6b6-17dd-400d-bfe6-196d98c3c190\",\"type\":\"PanTool\"},{\"attributes\":{\"plot\":{\"id\":\"ebed09d2-df63-4254-a43f-0eea088709c2\",\"subtype\":\"Figure\",\"type\":\"Plot\"}},\"id\":\"001ec306-1209-4aa5-9198-acf938f97378\",\"type\":\"HelpTool\"},{\"attributes\":{\"plot\":{\"id\":\"60cb5a8e-520f-4fd5-8768-328e6e704bb3\",\"subtype\":\"Figure\",\"type\":\"Plot\"}},\"id\":\"543d37ea-21f5-4376-a0d9-924a1b10ea75\",\"type\":\"WheelZoomTool\"},{\"attributes\":{\"bottom_units\":\"screen\",\"fill_alpha\":{\"value\":0.5},\"fill_color\":{\"value\":\"lightgrey\"},\"left_units\":\"screen\",\"level\":\"overlay\",\"line_alpha\":{\"value\":1.0},\"line_color\":{\"value\":\"black\"},\"line_dash\":[4,4],\"line_width\":{\"value\":2},\"plot\":null,\"render_mode\":\"css\",\"right_units\":\"screen\",\"top_units\":\"screen\"},\"id\":\"9b02f16d-eedf-472c-a5a9-833a50a707d9\",\"type\":\"BoxAnnotation\"},{\"attributes\":{\"plot\":{\"id\":\"ebed09d2-df63-4254-a43f-0eea088709c2\",\"subtype\":\"Figure\",\"type\":\"Plot\"}},\"id\":\"f54788da-6a87-4081-af66-b391f47c90ec\",\"type\":\"ResetTool\"},{\"attributes\":{\"plot\":{\"id\":\"ebed09d2-df63-4254-a43f-0eea088709c2\",\"subtype\":\"Figure\",\"type\":\"Plot\"}},\"id\":\"b161dcc9-8a7f-4899-ad73-79dfd920e5e0\",\"type\":\"SaveTool\"},{\"attributes\":{\"overlay\":{\"id\":\"9b02f16d-eedf-472c-a5a9-833a50a707d9\",\"type\":\"BoxAnnotation\"},\"plot\":{\"id\":\"60cb5a8e-520f-4fd5-8768-328e6e704bb3\",\"subtype\":\"Figure\",\"type\":\"Plot\"}},\"id\":\"4ffddb70-c9c8-4bab-a095-abf0cea8ee7d\",\"type\":\"BoxZoomTool\"},{\"attributes\":{\"plot\":{\"id\":\"eef39e49-4aa2-4269-8ca2-4e6679a0aef7\",\"subtype\":\"Figure\",\"type\":\"Plot\"}},\"id\":\"209729ff-a527-4234-8c95-989e79d67582\",\"type\":\"HelpTool\"},{\"attributes\":{\"plot\":{\"id\":\"60cb5a8e-520f-4fd5-8768-328e6e704bb3\",\"subtype\":\"Figure\",\"type\":\"Plot\"}},\"id\":\"6d5e207b-859c-4205-bc0d-9dc7a475ae38\",\"type\":\"SaveTool\"},{\"attributes\":{\"plot\":null,\"text\":\"4\"},\"id\":\"d4e06cc8-a380-4a22-af46-21278ad9f547\",\"type\":\"Title\"},{\"attributes\":{\"plot\":{\"id\":\"60cb5a8e-520f-4fd5-8768-328e6e704bb3\",\"subtype\":\"Figure\",\"type\":\"Plot\"}},\"id\":\"3d1d3cc6-d679-4f7a-9fcd-0ae5775c0a02\",\"type\":\"ResetTool\"},{\"attributes\":{},\"id\":\"c8900761-52c8-4318-a6b9-2a5ce20312e7\",\"type\":\"ToolEvents\"},{\"attributes\":{},\"id\":\"80d9ea37-08ca-43ca-a500-8e64c2109d7f\",\"type\":\"BasicTicker\"},{\"attributes\":{\"plot\":{\"id\":\"60cb5a8e-520f-4fd5-8768-328e6e704bb3\",\"subtype\":\"Figure\",\"type\":\"Plot\"}},\"id\":\"caa54063-f00b-4b12-8d9c-d99166d630e6\",\"type\":\"HelpTool\"},{\"attributes\":{\"plot\":{\"id\":\"eef39e49-4aa2-4269-8ca2-4e6679a0aef7\",\"subtype\":\"Figure\",\"type\":\"Plot\"},\"ticker\":{\"id\":\"80d9ea37-08ca-43ca-a500-8e64c2109d7f\",\"type\":\"BasicTicker\"}},\"id\":\"47ede94f-16d0-4a4c-8169-84aa1ef637f0\",\"type\":\"Grid\"},{\"attributes\":{\"formatter\":{\"id\":\"bfd8092f-73e3-4456-a377-02ac718c7f17\",\"type\":\"BasicTickFormatter\"},\"plot\":{\"id\":\"eef39e49-4aa2-4269-8ca2-4e6679a0aef7\",\"subtype\":\"Figure\",\"type\":\"Plot\"},\"ticker\":{\"id\":\"80d9ea37-08ca-43ca-a500-8e64c2109d7f\",\"type\":\"BasicTicker\"}},\"id\":\"d11ff09a-7c71-49e7-a6a7-25387e55253c\",\"type\":\"LinearAxis\"},{\"attributes\":{},\"id\":\"4c71b2e8-a54f-4db5-8743-93a3b0c84373\",\"type\":\"BasicTickFormatter\"},{\"attributes\":{\"formatter\":{\"id\":\"6f1e0faa-42a4-4916-99e7-f6e2b7173167\",\"type\":\"BasicTickFormatter\"},\"plot\":{\"id\":\"99e9aa5e-fe87-4771-8896-17bd7912bca7\",\"subtype\":\"Figure\",\"type\":\"Plot\"},\"ticker\":{\"id\":\"2a0c808f-9737-4744-9b07-eef0741e428c\",\"type\":\"BasicTicker\"}},\"id\":\"11fc49b0-e689-4278-b1a1-9091b39f4051\",\"type\":\"LinearAxis\"},{\"attributes\":{},\"id\":\"d22d3b6d-9601-4984-8ea8-8ce7919267f4\",\"type\":\"BasicTicker\"},{\"attributes\":{\"formatter\":{\"id\":\"e063baf4-5fe4-41f9-9462-ca67fabfa0ef\",\"type\":\"BasicTickFormatter\"},\"plot\":{\"id\":\"eef39e49-4aa2-4269-8ca2-4e6679a0aef7\",\"subtype\":\"Figure\",\"type\":\"Plot\"},\"ticker\":{\"id\":\"d22d3b6d-9601-4984-8ea8-8ce7919267f4\",\"type\":\"BasicTicker\"}},\"id\":\"79712430-2a7a-4455-b94d-e098c8bacdd6\",\"type\":\"LinearAxis\"},{\"attributes\":{\"plot\":{\"id\":\"99e9aa5e-fe87-4771-8896-17bd7912bca7\",\"subtype\":\"Figure\",\"type\":\"Plot\"},\"ticker\":{\"id\":\"2a0c808f-9737-4744-9b07-eef0741e428c\",\"type\":\"BasicTicker\"}},\"id\":\"0f157412-dd68-4a21-b242-c58981431d94\",\"type\":\"Grid\"},{\"attributes\":{\"formatter\":{\"id\":\"f4ff668a-a810-4a22-a11e-69825ccb79db\",\"type\":\"BasicTickFormatter\"},\"plot\":{\"id\":\"5207b84b-c3dd-4c59-822b-4ec74d9ab010\",\"subtype\":\"Figure\",\"type\":\"Plot\"},\"ticker\":{\"id\":\"d08006d2-d9a9-4023-96b9-89d2c3f1a54c\",\"type\":\"BasicTicker\"}},\"id\":\"b9260981-1002-470f-8e86-b8440ecd4c49\",\"type\":\"LinearAxis\"},{\"attributes\":{},\"id\":\"2a0c808f-9737-4744-9b07-eef0741e428c\",\"type\":\"BasicTicker\"},{\"attributes\":{\"formatter\":{\"id\":\"42ccce04-9cab-41b9-a557-ee6cdf365d56\",\"type\":\"BasicTickFormatter\"},\"plot\":{\"id\":\"271ced19-a880-43fc-b85b-50651dd89e0f\",\"subtype\":\"Figure\",\"type\":\"Plot\"},\"ticker\":{\"id\":\"963d943d-d15e-4974-ab1f-bb852ee9d90c\",\"type\":\"BasicTicker\"}},\"id\":\"cb758969-046c-4f2b-81c2-6e5f6777d539\",\"type\":\"LinearAxis\"},{\"attributes\":{\"formatter\":{\"id\":\"addf30d4-ec1a-4f32-8670-5d3c6c1636a4\",\"type\":\"BasicTickFormatter\"},\"plot\":{\"id\":\"99e9aa5e-fe87-4771-8896-17bd7912bca7\",\"subtype\":\"Figure\",\"type\":\"Plot\"},\"ticker\":{\"id\":\"9bb7e923-ffc3-4d75-8820-7f67f67f26c9\",\"type\":\"BasicTicker\"}},\"id\":\"71e460cf-cc42-4510-8b48-acf66b9ff675\",\"type\":\"LinearAxis\"},{\"attributes\":{\"bottom_units\":\"screen\",\"fill_alpha\":{\"value\":0.5},\"fill_color\":{\"value\":\"lightgrey\"},\"left_units\":\"screen\",\"level\":\"overlay\",\"line_alpha\":{\"value\":1.0},\"line_color\":{\"value\":\"black\"},\"line_dash\":[4,4],\"line_width\":{\"value\":2},\"plot\":null,\"render_mode\":\"css\",\"right_units\":\"screen\",\"top_units\":\"screen\"},\"id\":\"0cef309d-d21c-44f8-bdec-3a46a09dfa7a\",\"type\":\"BoxAnnotation\"},{\"attributes\":{\"dimension\":1,\"plot\":{\"id\":\"eef39e49-4aa2-4269-8ca2-4e6679a0aef7\",\"subtype\":\"Figure\",\"type\":\"Plot\"},\"ticker\":{\"id\":\"d22d3b6d-9601-4984-8ea8-8ce7919267f4\",\"type\":\"BasicTicker\"}},\"id\":\"826ffe27-a257-4c5a-98b5-46c0e6882699\",\"type\":\"Grid\"},{\"attributes\":{},\"id\":\"9bb7e923-ffc3-4d75-8820-7f67f67f26c9\",\"type\":\"BasicTicker\"},{\"attributes\":{},\"id\":\"522edd41-485c-4b72-b3a3-11c7c48f0b2d\",\"type\":\"ToolEvents\"},{\"attributes\":{\"dimension\":1,\"plot\":{\"id\":\"99e9aa5e-fe87-4771-8896-17bd7912bca7\",\"subtype\":\"Figure\",\"type\":\"Plot\"},\"ticker\":{\"id\":\"9bb7e923-ffc3-4d75-8820-7f67f67f26c9\",\"type\":\"BasicTicker\"}},\"id\":\"369532fb-b1a4-4950-9adf-07da91930559\",\"type\":\"Grid\"},{\"attributes\":{\"plot\":{\"id\":\"712c9d8c-0755-449a-9384-c827beb6f067\",\"subtype\":\"Figure\",\"type\":\"Plot\"}},\"id\":\"26c5a691-4e61-42b0-a938-531b78721b7b\",\"type\":\"PanTool\"},{\"attributes\":{\"below\":[{\"id\":\"b9260981-1002-470f-8e86-b8440ecd4c49\",\"type\":\"LinearAxis\"}],\"left\":[{\"id\":\"ef9b8641-fcf4-46c3-9506-84cac395c0b9\",\"type\":\"LinearAxis\"}],\"plot_height\":100,\"renderers\":[{\"id\":\"b9260981-1002-470f-8e86-b8440ecd4c49\",\"type\":\"LinearAxis\"},{\"id\":\"cf342a19-d096-4b43-8d78-6245a5b44342\",\"type\":\"Grid\"},{\"id\":\"ef9b8641-fcf4-46c3-9506-84cac395c0b9\",\"type\":\"LinearAxis\"},{\"id\":\"6ae720b0-b89d-454d-b289-5f29843c4e5c\",\"type\":\"Grid\"},{\"id\":\"e75b0830-cb3c-4dc0-ba04-8ad23054b56d\",\"type\":\"BoxAnnotation\"},{\"id\":\"f37200cb-7400-4a3f-9bb0-d20cd4d71673\",\"type\":\"GlyphRenderer\"}],\"title\":{\"id\":\"e0f7047b-9ff4-457b-86ba-2484b0a0bb55\",\"type\":\"Title\"},\"tool_events\":{\"id\":\"52c8f72f-7ce0-4dcf-8954-c33d60bece7d\",\"type\":\"ToolEvents\"},\"toolbar\":{\"id\":\"ae22352d-e37f-4b66-88bd-092a1a23501c\",\"type\":\"Toolbar\"},\"x_range\":{\"id\":\"121fae34-559f-490e-9e7a-32c9202cea51\",\"type\":\"Range1d\"},\"y_range\":{\"id\":\"c13b7b9b-26f2-428b-9eda-7dfd79ed5f2e\",\"type\":\"Range1d\"}},\"id\":\"5207b84b-c3dd-4c59-822b-4ec74d9ab010\",\"subtype\":\"Figure\",\"type\":\"Plot\"},{\"attributes\":{\"line_color\":{\"value\":\"#e41a1c\"},\"xs\":{\"field\":\"xs\"},\"ys\":{\"field\":\"ys\"}},\"id\":\"bb0deae2-0c01-416b-89b9-2323e72f00e7\",\"type\":\"MultiLine\"},{\"attributes\":{\"overlay\":{\"id\":\"90f8f0f6-aa37-49e7-a2ed-4bfa5498ea2b\",\"type\":\"BoxAnnotation\"},\"plot\":{\"id\":\"438cd2e7-ed22-4bb2-9df1-ab6cbddfa04e\",\"subtype\":\"Figure\",\"type\":\"Plot\"}},\"id\":\"836d4360-2c35-440a-9632-cf17a2c7273f\",\"type\":\"BoxZoomTool\"},{\"attributes\":{\"plot\":{\"id\":\"712c9d8c-0755-449a-9384-c827beb6f067\",\"subtype\":\"Figure\",\"type\":\"Plot\"}},\"id\":\"f5a5ad78-29f1-4a51-91ac-dd4aa0e9ba38\",\"type\":\"WheelZoomTool\"},{\"attributes\":{\"overlay\":{\"id\":\"97ffff61-a2bf-4127-bc55-740dd89ca2ee\",\"type\":\"BoxAnnotation\"},\"plot\":{\"id\":\"eef39e49-4aa2-4269-8ca2-4e6679a0aef7\",\"subtype\":\"Figure\",\"type\":\"Plot\"}},\"id\":\"e34e53f3-cc91-4dd0-aca0-6b7df32dd9b8\",\"type\":\"BoxZoomTool\"},{\"attributes\":{},\"id\":\"084d4cf5-db29-43b1-9424-48ed5912fdc5\",\"type\":\"ToolEvents\"},{\"attributes\":{\"plot\":{\"id\":\"eef39e49-4aa2-4269-8ca2-4e6679a0aef7\",\"subtype\":\"Figure\",\"type\":\"Plot\"}},\"id\":\"da0c08f4-595b-4a36-900a-b225fac9033e\",\"type\":\"WheelZoomTool\"},{\"attributes\":{\"plot\":null,\"text\":\"5\"},\"id\":\"e0f7047b-9ff4-457b-86ba-2484b0a0bb55\",\"type\":\"Title\"},{\"attributes\":{\"bottom_units\":\"screen\",\"fill_alpha\":{\"value\":0.5},\"fill_color\":{\"value\":\"lightgrey\"},\"left_units\":\"screen\",\"level\":\"overlay\",\"line_alpha\":{\"value\":1.0},\"line_color\":{\"value\":\"black\"},\"line_dash\":[4,4],\"line_width\":{\"value\":2},\"plot\":null,\"render_mode\":\"css\",\"right_units\":\"screen\",\"top_units\":\"screen\"},\"id\":\"7f9c637d-8700-4b3f-bc87-72936d4004d6\",\"type\":\"BoxAnnotation\"},{\"attributes\":{\"plot\":{\"id\":\"712c9d8c-0755-449a-9384-c827beb6f067\",\"subtype\":\"Figure\",\"type\":\"Plot\"}},\"id\":\"b5644677-f1e6-4e51-982a-f509fe503b0b\",\"type\":\"SaveTool\"},{\"attributes\":{\"overlay\":{\"id\":\"0cef309d-d21c-44f8-bdec-3a46a09dfa7a\",\"type\":\"BoxAnnotation\"},\"plot\":{\"id\":\"712c9d8c-0755-449a-9384-c827beb6f067\",\"subtype\":\"Figure\",\"type\":\"Plot\"}},\"id\":\"e68d1374-0a5f-43fa-a95e-28fe5b623192\",\"type\":\"BoxZoomTool\"},{\"attributes\":{\"plot\":{\"id\":\"eef39e49-4aa2-4269-8ca2-4e6679a0aef7\",\"subtype\":\"Figure\",\"type\":\"Plot\"}},\"id\":\"4584e138-bae2-4ae8-bd93-fb2331b98f84\",\"type\":\"PanTool\"},{\"attributes\":{\"plot\":{\"id\":\"99e9aa5e-fe87-4771-8896-17bd7912bca7\",\"subtype\":\"Figure\",\"type\":\"Plot\"}},\"id\":\"eef94c9f-e25e-4192-a24f-260f508a1129\",\"type\":\"PanTool\"},{\"attributes\":{\"bottom_units\":\"screen\",\"fill_alpha\":{\"value\":0.5},\"fill_color\":{\"value\":\"lightgrey\"},\"left_units\":\"screen\",\"level\":\"overlay\",\"line_alpha\":{\"value\":1.0},\"line_color\":{\"value\":\"black\"},\"line_dash\":[4,4],\"line_width\":{\"value\":2},\"plot\":null,\"render_mode\":\"css\",\"right_units\":\"screen\",\"top_units\":\"screen\"},\"id\":\"97ffff61-a2bf-4127-bc55-740dd89ca2ee\",\"type\":\"BoxAnnotation\"},{\"attributes\":{\"line_alpha\":{\"value\":0.1},\"line_color\":{\"value\":\"#1f77b4\"},\"xs\":{\"field\":\"xs\"},\"ys\":{\"field\":\"ys\"}},\"id\":\"1f79555c-f09c-400f-8b41-c1195cee8000\",\"type\":\"MultiLine\"},{\"attributes\":{\"below\":[{\"id\":\"cb758969-046c-4f2b-81c2-6e5f6777d539\",\"type\":\"LinearAxis\"}],\"left\":[{\"id\":\"9d458e44-e467-4e22-97d2-2d16e10652b4\",\"type\":\"LinearAxis\"}],\"plot_height\":100,\"renderers\":[{\"id\":\"cb758969-046c-4f2b-81c2-6e5f6777d539\",\"type\":\"LinearAxis\"},{\"id\":\"6ed5d73d-99d7-4106-aa75-78a3bb578685\",\"type\":\"Grid\"},{\"id\":\"9d458e44-e467-4e22-97d2-2d16e10652b4\",\"type\":\"LinearAxis\"},{\"id\":\"687c2163-57f4-499b-8bc6-a7273b2b16f6\",\"type\":\"Grid\"},{\"id\":\"1abb5383-e01b-47c4-897e-e0bdcfc47aba\",\"type\":\"BoxAnnotation\"},{\"id\":\"48f28785-9ce2-4159-9dd0-1bad2e248088\",\"type\":\"GlyphRenderer\"}],\"title\":{\"id\":\"d4e06cc8-a380-4a22-af46-21278ad9f547\",\"type\":\"Title\"},\"tool_events\":{\"id\":\"522edd41-485c-4b72-b3a3-11c7c48f0b2d\",\"type\":\"ToolEvents\"},\"toolbar\":{\"id\":\"2a060560-30a4-4d02-ac40-945259e7e651\",\"type\":\"Toolbar\"},\"x_range\":{\"id\":\"121fae34-559f-490e-9e7a-32c9202cea51\",\"type\":\"Range1d\"},\"y_range\":{\"id\":\"c13b7b9b-26f2-428b-9eda-7dfd79ed5f2e\",\"type\":\"Range1d\"}},\"id\":\"271ced19-a880-43fc-b85b-50651dd89e0f\",\"subtype\":\"Figure\",\"type\":\"Plot\"},{\"attributes\":{\"plot\":{\"id\":\"438cd2e7-ed22-4bb2-9df1-ab6cbddfa04e\",\"subtype\":\"Figure\",\"type\":\"Plot\"},\"ticker\":{\"id\":\"b1b34c3a-3287-44ff-90b0-f277706e3231\",\"type\":\"BasicTicker\"}},\"id\":\"8383cfa7-124d-417b-91ee-a8b40bce3988\",\"type\":\"Grid\"},{\"attributes\":{\"plot\":{\"id\":\"99e9aa5e-fe87-4771-8896-17bd7912bca7\",\"subtype\":\"Figure\",\"type\":\"Plot\"}},\"id\":\"b3fcd9d5-79ed-427c-93de-ee8bab431b4f\",\"type\":\"WheelZoomTool\"},{\"attributes\":{\"bottom_units\":\"screen\",\"fill_alpha\":{\"value\":0.5},\"fill_color\":{\"value\":\"lightgrey\"},\"left_units\":\"screen\",\"level\":\"overlay\",\"line_alpha\":{\"value\":1.0},\"line_color\":{\"value\":\"black\"},\"line_dash\":[4,4],\"line_width\":{\"value\":2},\"plot\":null,\"render_mode\":\"css\",\"right_units\":\"screen\",\"top_units\":\"screen\"},\"id\":\"1abb5383-e01b-47c4-897e-e0bdcfc47aba\",\"type\":\"BoxAnnotation\"},{\"attributes\":{\"plot\":{\"id\":\"712c9d8c-0755-449a-9384-c827beb6f067\",\"subtype\":\"Figure\",\"type\":\"Plot\"}},\"id\":\"d1ddcc4e-1ff4-4f0e-a84a-ecf0b86949fe\",\"type\":\"ResetTool\"},{\"attributes\":{\"overlay\":{\"id\":\"7f9c637d-8700-4b3f-bc87-72936d4004d6\",\"type\":\"BoxAnnotation\"},\"plot\":{\"id\":\"99e9aa5e-fe87-4771-8896-17bd7912bca7\",\"subtype\":\"Figure\",\"type\":\"Plot\"}},\"id\":\"2a56965e-1568-486d-8220-94825d3f9f0f\",\"type\":\"BoxZoomTool\"},{\"attributes\":{\"active_drag\":\"auto\",\"active_scroll\":\"auto\",\"active_tap\":\"auto\",\"tools\":[{\"id\":\"0c9e212a-7070-43d2-bdf4-61e24232fb0a\",\"type\":\"PanTool\"},{\"id\":\"e4dc5db3-5b22-4edc-91bd-73ed2464ce93\",\"type\":\"WheelZoomTool\"},{\"id\":\"836d4360-2c35-440a-9632-cf17a2c7273f\",\"type\":\"BoxZoomTool\"},{\"id\":\"f166ee61-ee92-463a-b5f4-eb6c62ded8fb\",\"type\":\"SaveTool\"},{\"id\":\"06fb10ee-765e-49b3-bcdf-41f6735818ae\",\"type\":\"ResetTool\"},{\"id\":\"2af5a9d4-807d-4b4c-94a3-06569aae3442\",\"type\":\"HelpTool\"}]},\"id\":\"ff7a6b07-51b1-487e-ac94-ad246e540531\",\"type\":\"Toolbar\"},{\"attributes\":{\"plot\":{\"id\":\"99e9aa5e-fe87-4771-8896-17bd7912bca7\",\"subtype\":\"Figure\",\"type\":\"Plot\"}},\"id\":\"b41fec7d-9284-4f18-815f-2750bf7be6ae\",\"type\":\"SaveTool\"},{\"attributes\":{\"plot\":{\"id\":\"712c9d8c-0755-449a-9384-c827beb6f067\",\"subtype\":\"Figure\",\"type\":\"Plot\"}},\"id\":\"bac2e557-6b1b-480a-90b1-a86add0b4c2f\",\"type\":\"HelpTool\"},{\"attributes\":{\"plot\":{\"id\":\"271ced19-a880-43fc-b85b-50651dd89e0f\",\"subtype\":\"Figure\",\"type\":\"Plot\"}},\"id\":\"0f11998b-5b07-4957-a55f-e5e74c7a1ced\",\"type\":\"PanTool\"},{\"attributes\":{\"plot\":{\"id\":\"99e9aa5e-fe87-4771-8896-17bd7912bca7\",\"subtype\":\"Figure\",\"type\":\"Plot\"}},\"id\":\"037d17ae-9071-48ef-9888-1a4575ec599b\",\"type\":\"ResetTool\"},{\"attributes\":{},\"id\":\"52c8f72f-7ce0-4dcf-8954-c33d60bece7d\",\"type\":\"ToolEvents\"},{\"attributes\":{\"plot\":{\"id\":\"99e9aa5e-fe87-4771-8896-17bd7912bca7\",\"subtype\":\"Figure\",\"type\":\"Plot\"}},\"id\":\"03d0bd66-d929-483d-9062-5e6193909afc\",\"type\":\"HelpTool\"},{\"attributes\":{},\"id\":\"4cab3a52-1c07-44c2-85ae-d1d9c6186ac2\",\"type\":\"BasicTickFormatter\"},{\"attributes\":{\"plot\":{\"id\":\"eef39e49-4aa2-4269-8ca2-4e6679a0aef7\",\"subtype\":\"Figure\",\"type\":\"Plot\"}},\"id\":\"8127861a-40e8-4685-998c-8187b10bddbc\",\"type\":\"ResetTool\"},{\"attributes\":{\"plot\":{\"id\":\"271ced19-a880-43fc-b85b-50651dd89e0f\",\"subtype\":\"Figure\",\"type\":\"Plot\"}},\"id\":\"cba12f68-8ddf-49b0-ab20-9c48d6021945\",\"type\":\"SaveTool\"},{\"attributes\":{\"below\":[{\"id\":\"4ab9bb8e-3d45-4390-bacb-37b1fe8da445\",\"type\":\"LinearAxis\"}],\"left\":[{\"id\":\"8d8d9389-bab6-47fa-8501-1597e645fffe\",\"type\":\"LinearAxis\"}],\"plot_height\":100,\"renderers\":[{\"id\":\"4ab9bb8e-3d45-4390-bacb-37b1fe8da445\",\"type\":\"LinearAxis\"},{\"id\":\"e6e95b2d-b4d6-4fbb-884f-c57a410bcb53\",\"type\":\"Grid\"},{\"id\":\"8d8d9389-bab6-47fa-8501-1597e645fffe\",\"type\":\"LinearAxis\"},{\"id\":\"185bd274-5c60-4096-9acd-ae4afdc48f43\",\"type\":\"Grid\"},{\"id\":\"0cef309d-d21c-44f8-bdec-3a46a09dfa7a\",\"type\":\"BoxAnnotation\"},{\"id\":\"a0a652ee-d89c-4187-80d3-c90b62e130d8\",\"type\":\"GlyphRenderer\"}],\"title\":{\"id\":\"15147997-5868-444a-a588-845857501530\",\"type\":\"Title\"},\"tool_events\":{\"id\":\"ea1a8a58-bd37-434f-aa6a-3799d03c7f60\",\"type\":\"ToolEvents\"},\"toolbar\":{\"id\":\"183203ed-214b-4380-b769-132a1a17e72b\",\"type\":\"Toolbar\"},\"x_range\":{\"id\":\"121fae34-559f-490e-9e7a-32c9202cea51\",\"type\":\"Range1d\"},\"y_range\":{\"id\":\"c13b7b9b-26f2-428b-9eda-7dfd79ed5f2e\",\"type\":\"Range1d\"}},\"id\":\"712c9d8c-0755-449a-9384-c827beb6f067\",\"subtype\":\"Figure\",\"type\":\"Plot\"},{\"attributes\":{\"overlay\":{\"id\":\"1abb5383-e01b-47c4-897e-e0bdcfc47aba\",\"type\":\"BoxAnnotation\"},\"plot\":{\"id\":\"271ced19-a880-43fc-b85b-50651dd89e0f\",\"subtype\":\"Figure\",\"type\":\"Plot\"}},\"id\":\"86057133-ef0e-4fbf-a0f3-a8dc9bc10222\",\"type\":\"BoxZoomTool\"},{\"attributes\":{\"plot\":{\"id\":\"712c9d8c-0755-449a-9384-c827beb6f067\",\"subtype\":\"Figure\",\"type\":\"Plot\"},\"ticker\":{\"id\":\"1437073c-e147-456f-bd7b-c3bda2d3eaa1\",\"type\":\"BasicTicker\"}},\"id\":\"e6e95b2d-b4d6-4fbb-884f-c57a410bcb53\",\"type\":\"Grid\"},{\"attributes\":{\"data_source\":{\"id\":\"6763e751-70e9-4166-806e-82631d899515\",\"type\":\"ColumnDataSource\"},\"glyph\":{\"id\":\"bb0deae2-0c01-416b-89b9-2323e72f00e7\",\"type\":\"MultiLine\"},\"hover_glyph\":null,\"muted_glyph\":null,\"nonselection_glyph\":{\"id\":\"1f79555c-f09c-400f-8b41-c1195cee8000\",\"type\":\"MultiLine\"},\"selection_glyph\":null},\"id\":\"a0a652ee-d89c-4187-80d3-c90b62e130d8\",\"type\":\"GlyphRenderer\"},{\"attributes\":{\"plot\":{\"id\":\"271ced19-a880-43fc-b85b-50651dd89e0f\",\"subtype\":\"Figure\",\"type\":\"Plot\"}},\"id\":\"ed8a583f-821e-46bb-b859-7b079944eff3\",\"type\":\"WheelZoomTool\"},{\"attributes\":{\"data_source\":{\"id\":\"f451589d-a87a-4729-955d-98fe61feafc4\",\"type\":\"ColumnDataSource\"},\"glyph\":{\"id\":\"10fb01f1-7095-45ac-a26d-e9522fd6bb6c\",\"type\":\"MultiLine\"},\"hover_glyph\":null,\"muted_glyph\":null,\"nonselection_glyph\":{\"id\":\"0f97c124-78ad-40f2-b17b-baa25f66df6f\",\"type\":\"MultiLine\"},\"selection_glyph\":null},\"id\":\"fdead82c-9379-4d86-ace4-8c93fe1d7516\",\"type\":\"GlyphRenderer\"},{\"attributes\":{\"plot\":{\"id\":\"ebed09d2-df63-4254-a43f-0eea088709c2\",\"subtype\":\"Figure\",\"type\":\"Plot\"},\"ticker\":{\"id\":\"88be0ace-c3d7-44e3-864b-08872e802309\",\"type\":\"BasicTicker\"}},\"id\":\"36162c61-47a1-407b-9e22-95d4555908b9\",\"type\":\"Grid\"},{\"attributes\":{\"active_drag\":\"auto\",\"active_scroll\":\"auto\",\"active_tap\":\"auto\",\"tools\":[{\"id\":\"eef94c9f-e25e-4192-a24f-260f508a1129\",\"type\":\"PanTool\"},{\"id\":\"b3fcd9d5-79ed-427c-93de-ee8bab431b4f\",\"type\":\"WheelZoomTool\"},{\"id\":\"2a56965e-1568-486d-8220-94825d3f9f0f\",\"type\":\"BoxZoomTool\"},{\"id\":\"b41fec7d-9284-4f18-815f-2750bf7be6ae\",\"type\":\"SaveTool\"},{\"id\":\"037d17ae-9071-48ef-9888-1a4575ec599b\",\"type\":\"ResetTool\"},{\"id\":\"03d0bd66-d929-483d-9062-5e6193909afc\",\"type\":\"HelpTool\"}]},\"id\":\"d0fd83dc-cbef-4929-8a18-623acb52c151\",\"type\":\"Toolbar\"},{\"attributes\":{\"line_color\":{\"value\":\"#377eb8\"},\"xs\":{\"field\":\"xs\"},\"ys\":{\"field\":\"ys\"}},\"id\":\"10fb01f1-7095-45ac-a26d-e9522fd6bb6c\",\"type\":\"MultiLine\"},{\"attributes\":{},\"id\":\"0a58103b-3181-4892-b9aa-1e980ef09bc3\",\"type\":\"BasicTicker\"},{\"attributes\":{\"plot\":{\"id\":\"271ced19-a880-43fc-b85b-50651dd89e0f\",\"subtype\":\"Figure\",\"type\":\"Plot\"}},\"id\":\"9aefb380-3934-43ff-9a10-f2113b71aefb\",\"type\":\"HelpTool\"},{\"attributes\":{\"formatter\":{\"id\":\"f2c9897c-e3aa-4509-84d1-7c70a442e2d4\",\"type\":\"BasicTickFormatter\"},\"plot\":{\"id\":\"ebed09d2-df63-4254-a43f-0eea088709c2\",\"subtype\":\"Figure\",\"type\":\"Plot\"},\"ticker\":{\"id\":\"88be0ace-c3d7-44e3-864b-08872e802309\",\"type\":\"BasicTicker\"}},\"id\":\"6b81b26c-af40-444b-8bbd-082c99c23bcc\",\"type\":\"LinearAxis\"},{\"attributes\":{\"line_alpha\":{\"value\":0.1},\"line_color\":{\"value\":\"#1f77b4\"},\"xs\":{\"field\":\"xs\"},\"ys\":{\"field\":\"ys\"}},\"id\":\"0f97c124-78ad-40f2-b17b-baa25f66df6f\",\"type\":\"MultiLine\"},{\"attributes\":{\"plot\":{\"id\":\"271ced19-a880-43fc-b85b-50651dd89e0f\",\"subtype\":\"Figure\",\"type\":\"Plot\"}},\"id\":\"44bc9b64-461a-48b1-865e-16836fcc9f8f\",\"type\":\"ResetTool\"},{\"attributes\":{\"dimension\":1,\"plot\":{\"id\":\"5207b84b-c3dd-4c59-822b-4ec74d9ab010\",\"subtype\":\"Figure\",\"type\":\"Plot\"},\"ticker\":{\"id\":\"ceaaaefe-2504-4a53-b7ed-c08648661769\",\"type\":\"BasicTicker\"}},\"id\":\"6ae720b0-b89d-454d-b289-5f29843c4e5c\",\"type\":\"Grid\"},{\"attributes\":{},\"id\":\"b9364b7e-9319-4ff6-8943-ad8c9627542a\",\"type\":\"BasicTicker\"},{\"attributes\":{},\"id\":\"9897521d-2176-420a-9ce0-9ec680da3ebc\",\"type\":\"BasicTickFormatter\"},{\"attributes\":{\"plot\":null,\"text\":\"6\"},\"id\":\"5af40ff1-4bdd-4be2-a7cc-415dc00ffceb\",\"type\":\"Title\"},{\"attributes\":{},\"id\":\"1437073c-e147-456f-bd7b-c3bda2d3eaa1\",\"type\":\"BasicTicker\"},{\"attributes\":{},\"id\":\"ceaaaefe-2504-4a53-b7ed-c08648661769\",\"type\":\"BasicTicker\"},{\"attributes\":{\"formatter\":{\"id\":\"17ac304f-536e-45fd-b322-ece6a1d1bc15\",\"type\":\"BasicTickFormatter\"},\"plot\":{\"id\":\"5207b84b-c3dd-4c59-822b-4ec74d9ab010\",\"subtype\":\"Figure\",\"type\":\"Plot\"},\"ticker\":{\"id\":\"ceaaaefe-2504-4a53-b7ed-c08648661769\",\"type\":\"BasicTicker\"}},\"id\":\"ef9b8641-fcf4-46c3-9506-84cac395c0b9\",\"type\":\"LinearAxis\"},{\"attributes\":{\"formatter\":{\"id\":\"4cab3a52-1c07-44c2-85ae-d1d9c6186ac2\",\"type\":\"BasicTickFormatter\"},\"plot\":{\"id\":\"712c9d8c-0755-449a-9384-c827beb6f067\",\"subtype\":\"Figure\",\"type\":\"Plot\"},\"ticker\":{\"id\":\"b9364b7e-9319-4ff6-8943-ad8c9627542a\",\"type\":\"BasicTicker\"}},\"id\":\"8d8d9389-bab6-47fa-8501-1597e645fffe\",\"type\":\"LinearAxis\"},{\"attributes\":{\"callback\":null,\"column_names\":[\"xs\",\"ys\"],\"data\":{\"xs\":[[0,1,2,3,4,5,6,7,8,9,10,11,12,13,14,15,16,17,18,19,20,21,22,23,24,25,26,27,28,29,30,31,32,33,34,35,36,37,38,39,40,41,42,43,44,45,46,47,48,49,50,51,52,53,54,55,56,57,58,59,60,61,62,63,64,65,66,67,68,69,70,71,72,73,74,75,76,77,78,79,80,81,82,83,84,85,86,87,88,89,90,91,92,93,94,95,96,97,98,99,100,101,102,103,104,105,106,107,108,109,110,111,112,113,114,115,116,117,118,119,120,121,122,123,124,125,126,127,128,129,130,131,132,133,134,135,136,137,138,139,140,141,142,143,144,145,146,147,148,149,150,151,152,153,154,155,156,157,158,159,160,161,162,163,164,165,166,167,168,169,170,171,172,173,174,175,176,177,178,179,180,181,182,183,184,185,186,187,188,189,190,191,192,193,194,195,196,197,198,199,200,201,202,203,204,205,206,207,208,209,210,211,212,213,214,215,216,217,218,219,220,221,222,223,224,225,226,227,228,229,230,231,232,233,234,235,236,237,238,239,240,241,242,243,244,245,246,247,248,249,250,251,252,253,254,255,256,257,258,259,260,261,262,263,264,265,266,267,268,269,270,271,272,273,274,275,276,277,278,279,280,281,282,283,284,285,286,287,288,289,290,291,292,293,294,295,296,297,298,299,300,301,302,303,304,305,306,307,308,309,310,311,312,313,314,315,316,317,318,319,320,321,322,323,324,325,326,327,328,329,330,331,332,333,334,335,336,337,338,339,340,341,342,343,344,345,346,347,348,349,350,351,352,353,354,355,356,357,358,359,360,361,362,363,364,365,366,367,368,369,370,371,372,373,374,375,376,377,378,379,380,381,382,383,384,385,386,387,388,389,390,391,392,393,394,395,396,397,398,399,400,401,402,403,404,405,406,407,408,409,410,411,412,413,414,415,416,417,418,419,420,421,422,423,424,425,426,427,428,429,430,431,432,433,434,435,436,437,438,439,440,441,442,443,444,445,446,447,448,449,450,451,452,453,454,455,456,457,458,459,460,461,462,463,464,465,466,467,468,469,470,471,472,473,474,475,476,477,478,479,480,481,482,483,484,485,486,487,488,489,490,491,492,493,494,495,496,497,498,499,500,501,502,503,504,505,506,507,508,509,510,511,512,513,514,515,516,517,518,519,520,521,522,523,524,525,526,527,528,529,530,531,532,533,534,535,536,537,538,539,540,541,542,543,544,545,546,547,548,549,550,551,552,553,554,555,556,557,558,559,560,561,562,563,564,565,566,567,568,569,570,571,572,573,574,575,576,577,578,579,580,581,582,583,584,585,586,587,588,589,590,591,592,593,594,595,596,597,598,599,600,601,602,603,604,605,606,607,608,609,610,611,612,613,614,615,616,617,618,619],[0,1,2,3,4,5,6,7,8,9,10,11,12,13,14,15,16,17,18,19,20,21,22,23,24,25,26,27,28,29,30,31,32,33,34,35,36,37,38,39,40,41,42,43,44,45,46,47,48,49,50,51,52,53,54,55,56,57,58,59,60,61,62,63,64,65,66,67,68,69,70,71,72,73,74,75,76,77,78,79,80,81,82,83,84,85,86,87,88,89,90,91,92,93,94,95,96,97,98,99,100,101,102,103,104,105,106,107,108,109,110,111,112,113,114,115,116,117,118,119,120,121,122,123,124,125,126,127,128,129,130,131,132,133,134,135,136,137,138,139,140,141,142,143,144,145,146,147,148,149,150,151,152,153,154,155,156,157,158,159,160,161,162,163,164,165,166,167,168,169,170,171,172,173,174,175,176,177,178,179,180,181,182,183,184,185,186,187,188,189,190,191]],\"ys\":[[30,31,28,29,29,25,26,31,29,30,31,30,27,28,30,28,29,28,29,26,30,29,29,30,30,31,31,33,33,34,32,33,31,32,34,32,30,32,32,31,32,32,30,29,27,29,27,32,30,32,31,31,27,33,30,30,33,31,29,30,30,29,30,29,28,30,32,34,34,35,33,30,28,25,24,22,24,30,31,31,33,32,26,26,31,31,30,30,30,26,27,29,31,32,32,34,33,32,29,30,30,29,30,31,30,29,28,27,29,30,28,30,33,30,28,30,28,26,28,28,28,29,31,29,30,31,29,28,30,29,29,31,31,30,36,36,33,34,34,31,31,31,27,31,28,27,32,34,31,31,30,26,27,28,28,32,32,30,31,31,28,29,29,30,30,34,33,33,31,31,26,24,28,29,30,31,31,30,29,29,31,31,32,32,33,29,32,31,31,33,34,34,33,35,31,36,33,36,36,37,34,36,32,32,31,33,31,31,36,36,36,38,38,33,32,30,29,28,29,27,27,26,25,31,33,35,35,37,32,34,34,36,35,33,28,30,26,26,27,28,25,29,30,31,30,34,33,33,32,34,34,33,36,38,37,33,34,33,29,30,33,34,32,34,33,32,29,30,29,28,27,29,31,30,30,31,30,27,28,31,28,28,28,28,26,29,30,30,31,33,32,36,37,37,46,46,46,47,46,40,39,36,38,36,31,31,35,33,34,36,35,32,30,33,29,30,28,30,27,30,29,28,29,30,28,33,32,29,30,30,27,28,29,27,27,26,27,26,26,29,28,29,31,30,28,29,27,29,32,33,31,33,30,29,27,28,26,29,30,29,30,30,28,27,30,30,33,33,35,34,33,32,35,34,34,33,35,32,33,32,33,29,33,33,31,30,31,25,30,32,33,32,32,29,28,28,27,28,26,27,26,30,29,27,28,30,26,26,29,26,25,25,27,25,26,27,28,30,30,31,31,31,29,29,30,29,29,29,30,30,29,28,30,30,30,29,33,33,32,30,33,29,26,26,26,23,23,25,23,28,28,29,30,31,29,30,29,30,30,32,32,35,31,33,30,31,27,28,32,31,29,31,31,29,30,34,38,41,39,41,41,35,34,33,31,32,33,32,33,35,32,31,31,30,28,30,31,30,29,29,27,28,28,30,30,31,29,30,29,29,27,27,26,27,28,28,28,29,29,27,28,30,31,29,32,33,31,31,31,28,27,27,26,27,30,30,31,30,30,27,28,28,28,29,30,30,30,30,32,36,34,36,35,34,30,31,27,31,28,30,29,28,27,28,29,31,30,28,32,29,29,31,30,27,28,28,29,32,32,32,31,30,27,27,27,28,26,28,29,30,29,29,27,28,27,28,27,27,26,27,26,32,33,32,32,33,30,30,33,31,29,28,30,27,28,29,27,26,27,27],[33,37,37,37,38,37,39,38,40,41,40,40,42,35,36,39,34,35,36,35,36,35,37,35,37,35,37,35,38,34,36,36,36,37,39,39,43,46,43,46,44,40,37,36,35,35,34,31,31,27,30,35,36,38,40,41,39,38,39,39,36,35,37,34,32,35,31,30,32,32,33,34,33,34,36,38,38,42,39,37,34,36,32,36,36,35,34,34,32,34,38,39,43,44,43,41,40,36,37,39,43,42,41,39,35,28,31,32,31,33,34,33,34,32,33,34,33,32,34,34,34,34,36,36,37,36,36,37,36,41,39,43,43,42,38,40,36,34,42,41,46,46,49,45,47,41,42,39,36,32,30,29,30,31,33,34,35,33,32,30,34,34,34,34,34,31,34,34,33,37,38,34,36,38,35,36,41,38,38,36,34,30,35,36,35,37,35,32,33,37,39,39]]}},\"id\":\"57515853-8cf0-4fac-a5c6-4eccf247e4f2\",\"type\":\"ColumnDataSource\"},{\"attributes\":{},\"id\":\"d08006d2-d9a9-4023-96b9-89d2c3f1a54c\",\"type\":\"BasicTicker\"},{\"attributes\":{\"plot\":{\"id\":\"5207b84b-c3dd-4c59-822b-4ec74d9ab010\",\"subtype\":\"Figure\",\"type\":\"Plot\"},\"ticker\":{\"id\":\"d08006d2-d9a9-4023-96b9-89d2c3f1a54c\",\"type\":\"BasicTicker\"}},\"id\":\"cf342a19-d096-4b43-8d78-6245a5b44342\",\"type\":\"Grid\"},{\"attributes\":{},\"id\":\"f2c9897c-e3aa-4509-84d1-7c70a442e2d4\",\"type\":\"BasicTickFormatter\"},{\"attributes\":{\"active_drag\":\"auto\",\"active_scroll\":\"auto\",\"active_tap\":\"auto\",\"tools\":[{\"id\":\"edde73c0-ba04-42f4-af6d-c1bfd41376c3\",\"type\":\"PanTool\"},{\"id\":\"12d24833-469c-4a05-9787-2ddaa2c531de\",\"type\":\"WheelZoomTool\"},{\"id\":\"b0d83605-8b35-4d02-97da-317f147cc5e3\",\"type\":\"BoxZoomTool\"},{\"id\":\"23c833bd-9f6d-4afa-b1c2-ee928ab8e50b\",\"type\":\"SaveTool\"},{\"id\":\"262f1bd1-ec18-47da-beab-033bd5ffa29f\",\"type\":\"ResetTool\"},{\"id\":\"52f94a0f-9d3f-4493-8942-f32d82754629\",\"type\":\"HelpTool\"}]},\"id\":\"ae22352d-e37f-4b66-88bd-092a1a23501c\",\"type\":\"Toolbar\"},{\"attributes\":{\"line_color\":{\"value\":\"#4daf4a\"},\"xs\":{\"field\":\"xs\"},\"ys\":{\"field\":\"ys\"}},\"id\":\"26332616-12fe-41bc-aa62-c0494d28c7b1\",\"type\":\"MultiLine\"},{\"attributes\":{\"line_alpha\":{\"value\":0.1},\"line_color\":{\"value\":\"#1f77b4\"},\"xs\":{\"field\":\"xs\"},\"ys\":{\"field\":\"ys\"}},\"id\":\"81556405-5cb5-435e-a935-020c311484ff\",\"type\":\"MultiLine\"},{\"attributes\":{\"line_alpha\":{\"value\":0.1},\"line_color\":{\"value\":\"#1f77b4\"},\"xs\":{\"field\":\"xs\"},\"ys\":{\"field\":\"ys\"}},\"id\":\"2b12202a-88ef-46fd-b5fd-dca1776500a5\",\"type\":\"MultiLine\"},{\"attributes\":{\"plot\":null,\"text\":\"0\"},\"id\":\"15147997-5868-444a-a588-845857501530\",\"type\":\"Title\"},{\"attributes\":{\"data_source\":{\"id\":\"57515853-8cf0-4fac-a5c6-4eccf247e4f2\",\"type\":\"ColumnDataSource\"},\"glyph\":{\"id\":\"26332616-12fe-41bc-aa62-c0494d28c7b1\",\"type\":\"MultiLine\"},\"hover_glyph\":null,\"muted_glyph\":null,\"nonselection_glyph\":{\"id\":\"81556405-5cb5-435e-a935-020c311484ff\",\"type\":\"MultiLine\"},\"selection_glyph\":null},\"id\":\"efe28d55-ecb0-4557-96be-0ab2664065d3\",\"type\":\"GlyphRenderer\"},{\"attributes\":{\"overlay\":{\"id\":\"4bc75437-6bc8-48bd-a59a-a15ceb3377d2\",\"type\":\"BoxAnnotation\"},\"plot\":{\"id\":\"ebed09d2-df63-4254-a43f-0eea088709c2\",\"subtype\":\"Figure\",\"type\":\"Plot\"}},\"id\":\"af32cf71-1249-4e39-9b7f-cbe30520a760\",\"type\":\"BoxZoomTool\"},{\"attributes\":{\"bottom_units\":\"screen\",\"fill_alpha\":{\"value\":0.5},\"fill_color\":{\"value\":\"lightgrey\"},\"left_units\":\"screen\",\"level\":\"overlay\",\"line_alpha\":{\"value\":1.0},\"line_color\":{\"value\":\"black\"},\"line_dash\":[4,4],\"line_width\":{\"value\":2},\"plot\":null,\"render_mode\":\"css\",\"right_units\":\"screen\",\"top_units\":\"screen\"},\"id\":\"4bc75437-6bc8-48bd-a59a-a15ceb3377d2\",\"type\":\"BoxAnnotation\"},{\"attributes\":{},\"id\":\"82f705a6-10af-4f2a-95e9-eef427de815f\",\"type\":\"BasicTickFormatter\"},{\"attributes\":{\"dimension\":1,\"plot\":{\"id\":\"271ced19-a880-43fc-b85b-50651dd89e0f\",\"subtype\":\"Figure\",\"type\":\"Plot\"},\"ticker\":{\"id\":\"da307bec-6064-4ccb-9b30-e1332923655e\",\"type\":\"BasicTicker\"}},\"id\":\"687c2163-57f4-499b-8bc6-a7273b2b16f6\",\"type\":\"Grid\"},{\"attributes\":{\"formatter\":{\"id\":\"4c71b2e8-a54f-4db5-8743-93a3b0c84373\",\"type\":\"BasicTickFormatter\"},\"plot\":{\"id\":\"438cd2e7-ed22-4bb2-9df1-ab6cbddfa04e\",\"subtype\":\"Figure\",\"type\":\"Plot\"},\"ticker\":{\"id\":\"b1b34c3a-3287-44ff-90b0-f277706e3231\",\"type\":\"BasicTicker\"}},\"id\":\"b7254ac9-edf6-4754-aeea-84f1f6eae0b5\",\"type\":\"LinearAxis\"},{\"attributes\":{},\"id\":\"2101bd0b-cb2b-4c91-9dc7-940fb62424c3\",\"type\":\"ToolEvents\"},{\"attributes\":{},\"id\":\"6a60dd3d-4de3-47c5-82bd-32098de7af86\",\"type\":\"BasicTickFormatter\"},{\"attributes\":{},\"id\":\"ea1a8a58-bd37-434f-aa6a-3799d03c7f60\",\"type\":\"ToolEvents\"},{\"attributes\":{\"callback\":null,\"column_names\":[\"xs\",\"ys\"],\"data\":{\"xs\":[[0,1,2,3,4,5,6,7,8,9,10,11,12,13,14,15,16,17,18,19,20,21,22,23,24,25,26,27,28,29,30,31,32,33,34,35,36,37,38,39,40,41,42,43,44,45,46,47,48,49,50,51,52,53,54,55,56,57,58,59,60,61,62,63,64,65,66,67,68,69,70,71,72,73,74,75,76,77,78,79,80,81,82,83,84,85,86,87,88,89,90,91,92,93,94,95,96,97,98,99,100,101,102,103,104,105,106,107,108,109,110,111,112,113,114,115,116,117,118,119,120,121,122,123,124,125,126,127,128,129,130,131,132,133,134,135,136,137,138,139,140,141,142,143,144,145,146,147,148,149,150,151,152,153,154,155,156,157,158,159,160,161,162,163,164,165,166,167,168,169,170,171,172,173,174,175,176,177,178,179,180,181,182,183,184,185,186,187,188,189,190,191,192,193,194,195,196,197,198,199,200,201,202,203,204,205,206,207,208,209,210,211,212,213,214,215,216,217,218,219,220,221,222,223,224,225,226,227,228,229,230,231,232,233,234,235,236,237,238,239,240,241,242,243,244,245,246,247,248,249,250,251,252,253,254,255,256,257,258,259,260,261,262,263,264,265,266,267,268,269,270,271,272,273,274,275,276,277,278,279,280,281,282,283,284,285,286,287,288,289,290,291,292,293,294,295,296,297,298,299,300,301,302,303,304,305,306,307,308,309,310,311,312,313,314,315,316,317,318,319,320,321,322,323,324,325,326,327,328,329,330,331,332,333,334,335,336,337,338,339,340,341,342,343,344,345,346,347,348,349,350,351,352,353,354,355,356,357,358,359,360,361,362,363,364,365,366,367,368,369,370,371,372,373,374,375,376,377,378,379,380,381,382,383,384,385,386,387,388,389,390,391,392,393,394,395,396,397,398,399,400,401,402,403,404,405,406,407,408,409,410,411,412,413,414,415,416,417,418,419,420,421,422,423,424,425,426,427,428,429,430,431,432,433,434,435,436,437,438,439,440,441,442,443,444,445,446,447,448,449,450,451,452,453,454,455,456,457,458,459,460,461,462,463,464,465,466,467,468,469,470,471,472,473,474,475,476,477,478,479,480,481,482,483,484,485,486,487,488,489,490,491,492,493,494,495,496,497,498,499,500,501,502,503,504,505,506,507,508,509,510,511,512,513,514,515,516,517,518,519,520,521,522,523,524,525,526,527,528,529,530,531,532,533,534,535,536,537,538,539,540,541,542,543,544,545,546,547,548,549,550,551,552,553,554,555,556,557,558,559,560,561,562,563,564,565,566,567,568,569,570,571,572,573,574,575,576,577,578,579,580,581,582,583,584,585,586,587,588,589,590,591,592,593,594,595,596,597,598,599,600,601,602,603,604,605,606,607,608,609,610,611,612,613,614,615,616,617,618,619],[0,1,2,3,4,5,6,7,8,9,10,11,12,13,14,15,16,17,18,19,20,21,22,23,24,25,26,27,28,29,30,31,32,33,34,35,36,37,38,39,40,41,42,43,44,45,46,47,48,49,50,51,52,53,54,55,56,57,58,59,60,61,62,63,64,65,66,67,68,69,70,71,72,73,74,75,76,77,78,79,80,81,82,83,84,85,86,87,88,89,90,91,92,93,94,95,96,97,98,99,100,101,102,103,104,105,106,107,108,109,110,111,112,113,114,115,116,117,118,119,120,121,122,123,124,125,126,127,128,129,130,131,132,133,134,135,136,137,138,139,140,141,142,143,144,145,146,147,148,149,150,151,152,153,154,155,156,157,158,159,160,161,162,163,164,165,166,167,168,169,170,171,172,173,174,175,176,177,178,179,180,181,182,183,184,185,186,187,188,189,190,191]],\"ys\":[[30,28,27,28,26,23,25,28,27,27,28,27,24,24,27,27,28,27,27,25,26,26,26,29,26,26,24,24,22,23,22,23,23,23,21,22,22,22,23,26,26,26,26,24,23,23,22,21,21,22,20,22,23,26,26,28,28,26,25,25,24,24,24,24,26,26,28,28,27,26,27,25,28,25,25,23,21,24,27,27,27,28,25,22,25,23,25,25,27,25,26,25,25,24,24,26,26,26,27,29,28,27,26,24,23,22,23,23,25,24,23,25,24,23,25,25,24,26,27,26,24,25,23,22,20,21,21,23,24,24,23,24,23,22,26,27,25,24,25,23,21,22,22,22,22,24,26,28,28,26,26,24,24,26,26,25,25,23,21,19,21,23,23,25,26,28,26,26,25,26,23,23,23,22,22,22,23,21,22,20,22,21,24,26,26,25,25,25,24,25,24,25,26,23,26,26,24,25,26,24,24,25,21,22,22,24,23,25,28,29,27,29,29,25,24,24,24,26,28,28,28,26,25,26,26,28,27,26,26,26,23,24,24,20,22,22,22,23,24,24,25,26,26,25,23,22,22,20,21,22,26,23,26,27,27,25,27,27,26,26,26,26,26,25,25,26,26,24,26,25,23,23,24,23,24,25,24,27,27,27,26,27,26,26,25,26,27,26,27,29,27,27,27,27,36,40,40,40,39,32,26,26,27,26,25,25,27,25,27,27,26,24,24,24,23,24,24,24,24,25,23,25,24,24,24,27,25,25,27,25,23,22,23,20,22,26,28,26,27,27,24,23,25,24,23,26,26,27,27,29,27,26,24,24,22,22,23,22,24,25,25,26,28,28,27,27,27,28,26,26,26,26,25,27,26,28,27,26,24,25,24,23,22,23,22,21,22,21,22,23,22,24,23,22,22,24,22,24,25,25,26,27,26,25,25,23,22,22,24,23,22,27,27,26,28,27,23,24,24,25,27,27,27,29,27,25,24,24,23,21,24,24,25,25,26,24,25,25,27,27,27,26,25,22,22,24,26,27,28,27,25,23,23,23,25,27,26,24,25,27,25,26,25,25,21,21,21,22,25,24,23,23,24,21,23,25,28,27,27,26,26,25,26,27,27,28,27,27,28,28,27,27,28,25,26,27,27,27,26,26,25,23,23,24,23,22,24,25,26,26,27,28,26,25,27,27,28,29,30,29,29,24,24,24,24,24,24,26,25,24,23,25,26,28,29,30,29,28,28,26,25,25,24,24,24,23,23,24,22,25,25,27,25,25,23,24,22,24,25,24,25,26,24,25,27,25,24,27,27,26,27,25,23,22,20,20,21,22,25,25,25,28,27,25,26,28,25,24,25,25,23,22,23,22,22,22,23,22,22,22,25,25,25,25,25,24,23,24,26,27,26,26,27,25,23,22,21,21,23,25],[27,29,30,30,30,29,29,27,31,30,29,30,29,25,27,28,26,27,26,24,24,25,25,24,26,24,25,26,28,28,27,27,28,28,29,29,30,29,27,29,28,28,29,28,27,26,28,27,29,30,32,32,31,31,30,28,26,27,26,27,27,27,26,26,24,26,26,26,26,26,26,27,26,26,27,28,27,28,28,28,27,28,28,30,30,30,29,30,28,30,30,30,32,35,33,33,32,29,25,29,29,31,30,30,27,25,25,25,26,26,26,25,26,24,25,24,26,27,28,27,29,27,27,26,27,28,30,30,31,34,31,30,31,31,26,29,29,29,32,34,35,34,36,36,34,32,32,29,27,27,26,27,28,29,28,28,26,25,25,26,26,27,28,26,25,23,25,23,25,27,27,26,29,28,29,30,32,31,31,30,28,28,29,30,30,31,29,29,29,32,32,33]]}},\"id\":\"b7648a34-c064-496b-b42f-ba1ac0fde66b\",\"type\":\"ColumnDataSource\"},{\"attributes\":{},\"id\":\"da307bec-6064-4ccb-9b30-e1332923655e\",\"type\":\"BasicTicker\"},{\"attributes\":{\"formatter\":{\"id\":\"5335f09d-0236-4b00-8b2f-59a1bfd53907\",\"type\":\"BasicTickFormatter\"},\"plot\":{\"id\":\"712c9d8c-0755-449a-9384-c827beb6f067\",\"subtype\":\"Figure\",\"type\":\"Plot\"},\"ticker\":{\"id\":\"1437073c-e147-456f-bd7b-c3bda2d3eaa1\",\"type\":\"BasicTicker\"}},\"id\":\"4ab9bb8e-3d45-4390-bacb-37b1fe8da445\",\"type\":\"LinearAxis\"},{\"attributes\":{\"formatter\":{\"id\":\"6a60dd3d-4de3-47c5-82bd-32098de7af86\",\"type\":\"BasicTickFormatter\"},\"plot\":{\"id\":\"271ced19-a880-43fc-b85b-50651dd89e0f\",\"subtype\":\"Figure\",\"type\":\"Plot\"},\"ticker\":{\"id\":\"da307bec-6064-4ccb-9b30-e1332923655e\",\"type\":\"BasicTicker\"}},\"id\":\"9d458e44-e467-4e22-97d2-2d16e10652b4\",\"type\":\"LinearAxis\"},{\"attributes\":{\"active_drag\":\"auto\",\"active_scroll\":\"auto\",\"active_tap\":\"auto\",\"tools\":[{\"id\":\"26c5a691-4e61-42b0-a938-531b78721b7b\",\"type\":\"PanTool\"},{\"id\":\"f5a5ad78-29f1-4a51-91ac-dd4aa0e9ba38\",\"type\":\"WheelZoomTool\"},{\"id\":\"e68d1374-0a5f-43fa-a95e-28fe5b623192\",\"type\":\"BoxZoomTool\"},{\"id\":\"b5644677-f1e6-4e51-982a-f509fe503b0b\",\"type\":\"SaveTool\"},{\"id\":\"d1ddcc4e-1ff4-4f0e-a84a-ecf0b86949fe\",\"type\":\"ResetTool\"},{\"id\":\"bac2e557-6b1b-480a-90b1-a86add0b4c2f\",\"type\":\"HelpTool\"}]},\"id\":\"183203ed-214b-4380-b769-132a1a17e72b\",\"type\":\"Toolbar\"},{\"attributes\":{},\"id\":\"bfd8092f-73e3-4456-a377-02ac718c7f17\",\"type\":\"BasicTickFormatter\"},{\"attributes\":{},\"id\":\"963d943d-d15e-4974-ab1f-bb852ee9d90c\",\"type\":\"BasicTicker\"},{\"attributes\":{\"active_drag\":\"auto\",\"active_scroll\":\"auto\",\"active_tap\":\"auto\",\"tools\":[{\"id\":\"4b20c6b6-17dd-400d-bfe6-196d98c3c190\",\"type\":\"PanTool\"},{\"id\":\"b58e3f37-0745-4b5c-a2bd-ea38d9a60f07\",\"type\":\"WheelZoomTool\"},{\"id\":\"af32cf71-1249-4e39-9b7f-cbe30520a760\",\"type\":\"BoxZoomTool\"},{\"id\":\"b161dcc9-8a7f-4899-ad73-79dfd920e5e0\",\"type\":\"SaveTool\"},{\"id\":\"f54788da-6a87-4081-af66-b391f47c90ec\",\"type\":\"ResetTool\"},{\"id\":\"001ec306-1209-4aa5-9198-acf938f97378\",\"type\":\"HelpTool\"}]},\"id\":\"f1895aa6-a6e8-4c1f-93af-1ef07fcb0069\",\"type\":\"Toolbar\"},{\"attributes\":{\"plot\":{\"id\":\"271ced19-a880-43fc-b85b-50651dd89e0f\",\"subtype\":\"Figure\",\"type\":\"Plot\"},\"ticker\":{\"id\":\"963d943d-d15e-4974-ab1f-bb852ee9d90c\",\"type\":\"BasicTicker\"}},\"id\":\"6ed5d73d-99d7-4106-aa75-78a3bb578685\",\"type\":\"Grid\"},{\"attributes\":{\"line_color\":{\"value\":\"#984ea3\"},\"xs\":{\"field\":\"xs\"},\"ys\":{\"field\":\"ys\"}},\"id\":\"41b2c3c9-945e-4819-b107-b11116238565\",\"type\":\"MultiLine\"},{\"attributes\":{\"active_drag\":\"auto\",\"active_scroll\":\"auto\",\"active_tap\":\"auto\",\"tools\":[{\"id\":\"0f11998b-5b07-4957-a55f-e5e74c7a1ced\",\"type\":\"PanTool\"},{\"id\":\"ed8a583f-821e-46bb-b859-7b079944eff3\",\"type\":\"WheelZoomTool\"},{\"id\":\"86057133-ef0e-4fbf-a0f3-a8dc9bc10222\",\"type\":\"BoxZoomTool\"},{\"id\":\"cba12f68-8ddf-49b0-ab20-9c48d6021945\",\"type\":\"SaveTool\"},{\"id\":\"44bc9b64-461a-48b1-865e-16836fcc9f8f\",\"type\":\"ResetTool\"},{\"id\":\"9aefb380-3934-43ff-9a10-f2113b71aefb\",\"type\":\"HelpTool\"}]},\"id\":\"2a060560-30a4-4d02-ac40-945259e7e651\",\"type\":\"Toolbar\"},{\"attributes\":{\"line_alpha\":{\"value\":0.1},\"line_color\":{\"value\":\"#1f77b4\"},\"xs\":{\"field\":\"xs\"},\"ys\":{\"field\":\"ys\"}},\"id\":\"a9cb6527-a7f1-4ad9-902c-734ec4063616\",\"type\":\"MultiLine\"},{\"attributes\":{\"plot\":{\"id\":\"eef39e49-4aa2-4269-8ca2-4e6679a0aef7\",\"subtype\":\"Figure\",\"type\":\"Plot\"}},\"id\":\"b357c7da-4c49-4d82-8d79-851689542a60\",\"type\":\"SaveTool\"},{\"attributes\":{\"dimension\":1,\"plot\":{\"id\":\"ebed09d2-df63-4254-a43f-0eea088709c2\",\"subtype\":\"Figure\",\"type\":\"Plot\"},\"ticker\":{\"id\":\"0a58103b-3181-4892-b9aa-1e980ef09bc3\",\"type\":\"BasicTicker\"}},\"id\":\"29a29c77-912b-4023-a4e5-c81dcd63a349\",\"type\":\"Grid\"},{\"attributes\":{\"data_source\":{\"id\":\"b7648a34-c064-496b-b42f-ba1ac0fde66b\",\"type\":\"ColumnDataSource\"},\"glyph\":{\"id\":\"41b2c3c9-945e-4819-b107-b11116238565\",\"type\":\"MultiLine\"},\"hover_glyph\":null,\"muted_glyph\":null,\"nonselection_glyph\":{\"id\":\"a9cb6527-a7f1-4ad9-902c-734ec4063616\",\"type\":\"MultiLine\"},\"selection_glyph\":null},\"id\":\"9d333505-b2f9-4e1d-9f8c-e3595e488797\",\"type\":\"GlyphRenderer\"},{\"attributes\":{\"callback\":null,\"column_names\":[\"xs\",\"ys\"],\"data\":{\"xs\":[[0,1,2,3,4,5,6,7,8,9,10,11,12,13,14,15,16,17,18,19,20,21,22,23,24,25,26,27,28,29,30,31,32,33,34,35,36,37,38,39,40,41,42,43,44,45,46,47,48,49,50,51,52,53,54,55,56,57,58,59,60,61,62,63,64,65,66,67,68,69,70,71,72,73,74,75,76,77,78,79,80,81,82,83,84,85,86,87,88,89,90,91,92,93,94,95,96,97,98,99,100,101,102,103,104,105,106,107,108,109,110,111,112,113,114,115,116,117,118,119,120,121,122,123,124,125,126,127,128,129,130,131,132,133,134,135,136,137,138,139,140,141,142,143,144,145,146,147,148,149,150,151,152,153,154,155,156,157,158,159,160,161,162,163,164,165,166,167,168,169,170,171,172,173,174,175,176,177,178,179,180,181,182,183,184,185,186,187,188,189,190,191,192,193,194,195,196,197,198,199,200,201,202,203,204,205,206,207,208,209,210,211,212,213,214,215,216,217,218,219,220,221,222,223,224,225,226,227,228,229,230,231,232,233,234,235,236,237,238,239,240,241,242,243,244,245,246,247,248,249,250,251,252,253,254,255,256,257,258,259,260,261,262,263,264,265,266,267,268,269,270,271,272,273,274,275,276,277,278,279,280,281,282,283,284,285,286,287,288,289,290,291,292,293,294,295,296,297,298,299,300,301,302,303,304,305,306,307,308,309,310,311,312,313,314,315,316,317,318,319,320,321,322,323,324,325,326,327,328,329,330,331,332,333,334,335,336,337,338,339,340,341,342,343,344,345,346,347,348,349,350,351,352,353,354,355,356,357,358,359,360,361,362,363,364,365,366,367,368,369,370,371,372,373,374,375,376,377,378,379,380,381,382,383,384,385,386,387,388,389,390,391,392,393,394,395,396,397,398,399,400,401,402,403,404,405,406,407,408,409,410,411,412,413,414,415,416,417,418,419,420,421,422,423,424,425,426,427,428,429,430,431,432,433,434,435,436,437,438,439,440,441,442,443,444,445,446,447,448,449,450,451,452,453,454,455,456,457,458,459,460,461,462,463,464,465,466,467,468,469,470,471,472,473,474,475,476,477,478,479,480,481,482,483,484,485,486,487,488,489,490,491,492,493,494,495,496,497,498,499,500,501,502,503,504,505,506,507,508,509,510,511,512,513,514,515,516,517,518,519,520,521,522,523,524,525,526,527,528,529,530,531,532,533,534,535,536,537,538,539,540,541,542,543,544,545,546,547,548,549,550,551,552,553,554,555,556,557,558,559,560,561,562,563,564,565,566,567,568,569,570,571,572,573,574,575,576,577,578,579,580,581,582,583,584,585,586,587,588,589,590,591,592,593,594,595,596,597,598,599,600,601,602,603,604,605,606,607,608,609,610,611,612,613,614,615,616,617,618,619],[0,1,2,3,4,5,6,7,8,9,10,11,12,13,14,15,16,17,18,19,20,21,22,23,24,25,26,27,28,29,30,31,32,33,34,35,36,37,38,39,40,41,42,43,44,45,46,47,48,49,50,51,52,53,54,55,56,57,58,59,60,61,62,63,64,65,66,67,68,69,70,71,72,73,74,75,76,77,78,79,80,81,82,83,84,85,86,87,88,89,90,91,92,93,94,95,96,97,98,99,100,101,102,103,104,105,106,107,108,109,110,111,112,113,114,115,116,117,118,119,120,121,122,123,124,125,126,127,128,129,130,131,132,133,134,135,136,137,138,139,140,141,142,143,144,145,146,147,148,149,150,151,152,153,154,155,156,157,158,159,160,161,162,163,164,165,166,167,168,169,170,171,172,173,174,175,176,177,178,179,180,181,182,183,184,185,186,187,188,189,190,191]],\"ys\":[[34,35,33,36,36,32,35,38,37,36,39,37,35,35,36,34,35,34,32,35,34,32,33,34,31,38,38,39,40,40,36,36,34,32,39,35,37,39,40,38,39,41,41,41,39,40,37,37,36,36,34,36,33,34,31,35,34,34,35,37,34,35,33,34,34,35,38,40,36,38,38,32,32,31,34,33,34,36,37,33,31,33,31,30,37,37,37,37,37,34,35,39,40,43,42,45,44,43,41,40,37,32,33,34,38,37,40,39,39,36,34,34,34,34,32,34,34,37,35,38,38,36,36,37,34,34,35,35,37,37,39,38,36,34,35,32,34,37,35,34,37,34,30,34,33,30,37,39,37,40,40,33,35,38,36,40,42,40,37,37,34,34,33,35,34,38,39,41,42,41,40,39,36,33,34,29,28,27,28,31,35,36,37,37,36,36,39,40,40,43,42,40,39,36,34,37,35,36,37,40,36,38,35,36,34,38,35,39,47,44,44,44,42,35,36,37,36,35,38,37,35,35,37,38,40,40,40,42,39,38,38,38,35,30,33,33,34,33,34,31,31,34,35,34,38,39,35,35,39,35,37,36,42,41,41,41,45,39,38,41,41,36,40,40,36,37,36,35,34,34,34,39,35,37,39,36,33,33,31,29,28,31,31,31,33,36,37,37,41,37,35,36,37,37,39,42,40,38,36,37,38,37,40,37,38,35,37,35,37,39,39,38,38,39,33,32,30,29,27,29,29,33,34,33,32,34,32,30,34,33,32,32,34,35,36,38,38,35,31,35,31,33,35,37,34,33,35,34,32,37,37,34,35,34,29,29,32,31,35,36,35,33,33,31,32,32,38,38,38,40,40,35,36,35,34,35,37,40,39,40,40,37,37,37,36,35,35,31,34,32,32,31,32,37,36,37,36,36,31,30,31,35,35,34,35,36,34,33,33,34,32,33,33,32,30,30,28,29,29,30,30,30,30,35,35,37,38,38,39,39,36,36,39,36,35,35,35,36,33,34,37,36,34,36,35,33,34,33,30,39,38,38,38,40,33,35,35,38,36,35,37,39,36,36,37,35,35,36,38,35,34,31,31,31,34,34,37,37,35,33,37,34,34,36,34,33,36,34,38,38,37,35,35,32,32,34,35,35,33,44,46,49,49,49,42,37,34,34,35,32,33,33,36,38,41,41,50,50,50,48,47,38,38,35,33,36,34,34,34,35,33,34,34,34,42,44,45,44,44,36,33,33,31,34,35,37,34,34,30,35,32,36,38,38,33,36,33,35,34,34,33,33,29,31,31,29,31,33,31,32,33,34,32,31,32,30,31,35,37,39,41,39,36,37,34,34,34,34,32,30,29,28,29,34,34,37,41,40,37,37,32,34,34,33,32,35,34,34,34,36,36,35,34,33,32,31,31,35,35,35],[47,49,49,46,43,41,40,39,42,43,43,46,46,41,44,48,44,45,45,45,41,41,41,40,38,38,38,37,37,37,36,40,41,44,46,49,50,50,50,50,48,44,41,37,39,37,39,40,44,41,43,45,44,44,43,43,40,40,43,42,42,43,43,40,40,39,39,39,35,36,43,43,48,50,51,47,48,45,44,44,41,43,43,43,42,44,44,42,45,51,54,50,57,55,50,46,49,43,48,50,54,52,53,47,44,39,44,39,41,44,41,39,42,40,38,40,39,35,37,39,39,39,42,44,47,44,45,42,41,45,46,45,47,46,35,40,39,39,52,53,54,57,57,47,50,45,45,45,43,39,41,38,39,39,40,39,42,39,39,38,36,39,39,40,40,41,38,41,39,40,42,41,39,39,40,40,43,42,45,41,43,38,43,45,48,48,49,47,46,47,46,44]]}},\"id\":\"f451589d-a87a-4729-955d-98fe61feafc4\",\"type\":\"ColumnDataSource\"},{\"attributes\":{\"formatter\":{\"id\":\"dea3e99d-f160-4fc1-b818-068fbac29411\",\"type\":\"BasicTickFormatter\"},\"plot\":{\"id\":\"60cb5a8e-520f-4fd5-8768-328e6e704bb3\",\"subtype\":\"Figure\",\"type\":\"Plot\"},\"ticker\":{\"id\":\"f23f038e-a410-4eb8-8119-9baeba49b756\",\"type\":\"BasicTicker\"}},\"id\":\"d7f5bb47-c970-4874-a597-b82f7ce0caca\",\"type\":\"LinearAxis\"},{\"attributes\":{},\"id\":\"e063baf4-5fe4-41f9-9462-ca67fabfa0ef\",\"type\":\"BasicTickFormatter\"},{\"attributes\":{\"data_source\":{\"id\":\"ecb65c37-c0b6-42f2-9634-a8dd2c9526e3\",\"type\":\"ColumnDataSource\"},\"glyph\":{\"id\":\"ee5863a7-4e15-46d8-b703-109b4bf1dd2f\",\"type\":\"MultiLine\"},\"hover_glyph\":null,\"muted_glyph\":null,\"nonselection_glyph\":{\"id\":\"2b12202a-88ef-46fd-b5fd-dca1776500a5\",\"type\":\"MultiLine\"},\"selection_glyph\":null},\"id\":\"48f28785-9ce2-4159-9dd0-1bad2e248088\",\"type\":\"GlyphRenderer\"},{\"attributes\":{\"below\":[{\"id\":\"11fc49b0-e689-4278-b1a1-9091b39f4051\",\"type\":\"LinearAxis\"}],\"left\":[{\"id\":\"71e460cf-cc42-4510-8b48-acf66b9ff675\",\"type\":\"LinearAxis\"}],\"plot_height\":100,\"renderers\":[{\"id\":\"11fc49b0-e689-4278-b1a1-9091b39f4051\",\"type\":\"LinearAxis\"},{\"id\":\"0f157412-dd68-4a21-b242-c58981431d94\",\"type\":\"Grid\"},{\"id\":\"71e460cf-cc42-4510-8b48-acf66b9ff675\",\"type\":\"LinearAxis\"},{\"id\":\"369532fb-b1a4-4950-9adf-07da91930559\",\"type\":\"Grid\"},{\"id\":\"7f9c637d-8700-4b3f-bc87-72936d4004d6\",\"type\":\"BoxAnnotation\"},{\"id\":\"9cec5102-477c-4630-b1c5-34ab556f6c72\",\"type\":\"GlyphRenderer\"}],\"title\":{\"id\":\"665be26e-c877-4637-905c-85afddd68b75\",\"type\":\"Title\"},\"tool_events\":{\"id\":\"2101bd0b-cb2b-4c91-9dc7-940fb62424c3\",\"type\":\"ToolEvents\"},\"toolbar\":{\"id\":\"d0fd83dc-cbef-4929-8a18-623acb52c151\",\"type\":\"Toolbar\"},\"x_range\":{\"id\":\"121fae34-559f-490e-9e7a-32c9202cea51\",\"type\":\"Range1d\"},\"y_range\":{\"id\":\"c13b7b9b-26f2-428b-9eda-7dfd79ed5f2e\",\"type\":\"Range1d\"}},\"id\":\"99e9aa5e-fe87-4771-8896-17bd7912bca7\",\"subtype\":\"Figure\",\"type\":\"Plot\"},{\"attributes\":{\"plot\":{\"id\":\"438cd2e7-ed22-4bb2-9df1-ab6cbddfa04e\",\"subtype\":\"Figure\",\"type\":\"Plot\"}},\"id\":\"2af5a9d4-807d-4b4c-94a3-06569aae3442\",\"type\":\"HelpTool\"},{\"attributes\":{\"callback\":null,\"column_names\":[\"xs\",\"ys\"],\"data\":{\"xs\":[[0,1,2,3,4,5,6,7,8,9,10,11,12,13,14,15,16,17,18,19,20,21,22,23,24,25,26,27,28,29,30,31,32,33,34,35,36,37,38,39,40,41,42,43,44,45,46,47,48,49,50,51,52,53,54,55,56,57,58,59,60,61,62,63,64,65,66,67,68,69,70,71,72,73,74,75,76,77,78,79,80,81,82,83,84,85,86,87,88,89,90,91,92,93,94,95,96,97,98,99,100,101,102,103,104,105,106,107,108,109,110,111,112,113,114,115,116,117,118,119,120,121,122,123,124,125,126,127,128,129,130,131,132,133,134,135,136,137,138,139,140,141,142,143,144,145,146,147,148,149,150,151,152,153,154,155,156,157,158,159,160,161,162,163,164,165,166,167,168,169,170,171,172,173,174,175,176,177,178,179,180,181,182,183,184,185,186,187,188,189,190,191,192,193,194,195,196,197,198,199,200,201,202,203,204,205,206,207,208,209,210,211,212,213,214,215,216,217,218,219,220,221,222,223,224,225,226,227,228,229,230,231,232,233,234,235,236,237,238,239,240,241,242,243,244,245,246,247,248,249,250,251,252,253,254,255,256,257,258,259,260,261,262,263,264,265,266,267,268,269,270,271,272,273,274,275,276,277,278,279,280,281,282,283,284,285,286,287,288,289,290,291,292,293,294,295,296,297,298,299,300,301,302,303,304,305,306,307,308,309,310,311,312,313,314,315,316,317,318,319,320,321,322,323,324,325,326,327,328,329,330,331,332,333,334,335,336,337,338,339,340,341,342,343,344,345,346,347,348,349,350,351,352,353,354,355,356,357,358,359,360,361,362,363,364,365,366,367,368,369,370,371,372,373,374,375,376,377,378,379,380,381,382,383,384,385,386,387,388,389,390,391,392,393,394,395,396,397,398,399,400,401,402,403,404,405,406,407,408,409,410,411,412,413,414,415,416,417,418,419,420,421,422,423,424,425,426,427,428,429,430,431,432,433,434,435,436,437,438,439,440,441,442,443,444,445,446,447,448,449,450,451,452,453,454,455,456,457,458,459,460,461,462,463,464,465,466,467,468,469,470,471,472,473,474,475,476,477,478,479,480,481,482,483,484,485,486,487,488,489,490,491,492,493,494,495,496,497,498,499,500,501,502,503,504,505,506,507,508,509,510,511,512,513,514,515,516,517,518,519,520,521,522,523,524,525,526,527,528,529,530,531,532,533,534,535,536,537,538,539,540,541,542,543,544,545,546,547,548,549,550,551,552,553,554,555,556,557,558,559,560,561,562,563,564,565,566,567,568,569,570,571,572,573,574,575,576,577,578,579,580,581,582,583,584,585,586,587,588,589,590,591,592,593,594,595,596,597,598,599,600,601,602,603,604,605,606,607,608,609,610,611,612,613,614,615,616,617,618,619],[0,1,2,3,4,5,6,7,8,9,10,11,12,13,14,15,16,17,18,19,20,21,22,23,24,25,26,27,28,29,30,31,32,33,34,35,36,37,38,39,40,41,42,43,44,45,46,47,48,49,50,51,52,53,54,55,56,57,58,59,60,61,62,63,64,65,66,67,68,69,70,71,72,73,74,75,76,77,78,79,80,81,82,83,84,85,86,87,88,89,90,91,92,93,94,95,96,97,98,99,100,101,102,103,104,105,106,107,108,109,110,111,112,113,114,115,116,117,118,119,120,121,122,123,124,125,126,127,128,129,130,131,132,133,134,135,136,137,138,139,140,141,142,143,144,145,146,147,148,149,150,151,152,153,154,155,156,157,158,159,160,161,162,163,164,165,166,167,168,169,170,171,172,173,174,175,176,177,178,179,180,181,182,183,184,185,186,187,188,189,190,191]],\"ys\":[[23,25,23,23,21,22,20,23,23,24,23,24,22,21,22,21,23,23,24,22,26,23,23,24,24,25,25,25,24,26,25,25,25,27,24,23,22,23,25,27,26,27,26,21,22,22,22,23,24,25,24,25,28,28,26,27,24,21,21,22,22,24,23,22,22,23,22,23,22,23,23,22,23,22,21,21,23,22,23,22,23,23,23,24,25,24,24,23,22,21,21,20,23,26,25,27,26,23,23,24,25,26,26,25,24,22,21,23,24,24,26,25,24,21,22,22,23,23,24,23,23,24,24,24,24,23,25,25,26,25,28,25,25,27,26,24,26,25,23,25,25,24,23,24,21,23,24,24,23,26,24,24,24,25,23,24,23,23,22,23,24,24,24,24,23,20,22,22,22,22,22,20,20,19,20,21,22,20,22,23,24,23,25,25,24,23,22,21,20,23,22,23,23,24,22,23,22,24,24,24,24,25,23,24,24,24,25,25,25,24,23,22,23,22,24,22,22,20,22,21,22,23,24,22,23,24,24,24,27,25,25,25,24,20,24,23,24,24,25,23,23,23,23,23,20,21,21,21,22,23,23,23,24,23,24,23,22,22,23,25,25,25,27,27,25,25,25,24,22,23,24,24,24,24,23,23,23,23,24,24,24,24,23,24,25,26,25,25,24,24,22,23,24,24,24,27,27,28,28,27,23,22,23,23,23,22,23,20,20,23,23,23,24,24,22,23,23,22,22,24,23,23,22,22,20,21,23,24,27,27,26,26,25,22,20,21,19,21,22,23,24,24,25,23,22,21,22,23,24,25,26,25,25,24,24,23,26,33,36,35,36,34,27,26,27,27,25,25,24,24,27,29,27,28,26,23,23,23,23,24,22,21,20,20,20,21,21,21,24,23,24,24,26,25,25,25,25,23,23,20,20,20,21,21,22,22,23,22,22,23,24,23,23,22,25,24,25,23,24,21,21,21,21,20,22,22,22,23,23,21,21,23,24,24,27,26,27,26,26,23,26,24,24,24,24,21,21,21,21,21,23,26,26,25,27,26,23,23,24,22,23,22,21,22,22,23,22,23,22,23,21,22,22,22,21,21,22,21,22,21,22,21,23,24,24,25,24,23,22,23,24,26,24,23,22,23,24,25,24,26,24,23,23,24,22,23,23,23,21,21,21,23,24,25,26,25,23,24,24,22,23,22,21,21,21,24,24,26,27,25,23,24,21,22,23,22,22,23,22,22,23,22,22,24,23,24,24,25,24,26,24,25,25,24,23,24,24,24,24,25,26,25,24,25,23,22,22,22,21,24,23,21,20,22,21,20,21,21,21,20,20,21,21,20,20,22,23,24,24,25,24,21,20,24,24,24,25,26,23,24,26,25,25,25,25,23,24,23,25,24,24,24,24,22,21,21,20,20,22,23],[20,20,23,24,25,25,25,25,25,25,27,27,27,27,27,26,26,26,24,25,25,25,25,27,28,27,26,28,27,26,26,27,24,23,23,23,27,27,28,27,28,24,24,23,24,23,24,24,24,23,24,25,25,26,25,25,24,22,21,22,19,18,21,22,24,24,25,22,24,24,23,24,26,23,23,25,24,23,24,22,22,21,22,23,23,24,24,24,24,25,24,25,25,26,25,26,25,24,23,21,23,24,24,23,26,25,24,23,23,23,22,22,24,23,23,24,24,24,25,24,24,27,27,27,28,28,26,26,25,25,24,24,24,24,23,23,23,31,34,34,35,36,30,26,26,25,24,22,24,25,23,24,25,24,25,26,26,25,26,23,23,22,23,25,25,25,26,25,22,23,23,22,23,24,24,24,24,23,24,23,24,24,24,24,26,27,26,25,25,25,25,26]]}},\"id\":\"ecb65c37-c0b6-42f2-9634-a8dd2c9526e3\",\"type\":\"ColumnDataSource\"},{\"attributes\":{\"plot\":{\"id\":\"60cb5a8e-520f-4fd5-8768-328e6e704bb3\",\"subtype\":\"Figure\",\"type\":\"Plot\"}},\"id\":\"f45e41a4-59ab-41ca-85e3-c37ca7e1616d\",\"type\":\"PanTool\"},{\"attributes\":{\"formatter\":{\"id\":\"14f8fe46-6a0c-4d5d-8102-54367d44ce4b\",\"type\":\"BasicTickFormatter\"},\"plot\":{\"id\":\"60cb5a8e-520f-4fd5-8768-328e6e704bb3\",\"subtype\":\"Figure\",\"type\":\"Plot\"},\"ticker\":{\"id\":\"75c5a406-69fa-4981-bcdf-8a1ff27be402\",\"type\":\"BasicTicker\"}},\"id\":\"95dfdd25-792d-4e0c-85c8-06ea95d3f2c9\",\"type\":\"LinearAxis\"},{\"attributes\":{\"plot\":{\"id\":\"438cd2e7-ed22-4bb2-9df1-ab6cbddfa04e\",\"subtype\":\"Figure\",\"type\":\"Plot\"}},\"id\":\"06fb10ee-765e-49b3-bcdf-41f6735818ae\",\"type\":\"ResetTool\"},{\"attributes\":{\"formatter\":{\"id\":\"82f705a6-10af-4f2a-95e9-eef427de815f\",\"type\":\"BasicTickFormatter\"},\"plot\":{\"id\":\"ebed09d2-df63-4254-a43f-0eea088709c2\",\"subtype\":\"Figure\",\"type\":\"Plot\"},\"ticker\":{\"id\":\"0a58103b-3181-4892-b9aa-1e980ef09bc3\",\"type\":\"BasicTicker\"}},\"id\":\"77864ae8-4a8a-470f-ab4f-5d8d10462b20\",\"type\":\"LinearAxis\"},{\"attributes\":{},\"id\":\"935db6d8-0980-4d8b-b995-7c7ad9560aa2\",\"type\":\"ToolEvents\"},{\"attributes\":{\"line_color\":{\"value\":\"#ff7f00\"},\"xs\":{\"field\":\"xs\"},\"ys\":{\"field\":\"ys\"}},\"id\":\"ee5863a7-4e15-46d8-b703-109b4bf1dd2f\",\"type\":\"MultiLine\"},{\"attributes\":{\"below\":[{\"id\":\"d7f5bb47-c970-4874-a597-b82f7ce0caca\",\"type\":\"LinearAxis\"}],\"left\":[{\"id\":\"95dfdd25-792d-4e0c-85c8-06ea95d3f2c9\",\"type\":\"LinearAxis\"}],\"plot_height\":100,\"renderers\":[{\"id\":\"d7f5bb47-c970-4874-a597-b82f7ce0caca\",\"type\":\"LinearAxis\"},{\"id\":\"3fa8434a-eada-4543-99f0-2221f8e62d72\",\"type\":\"Grid\"},{\"id\":\"95dfdd25-792d-4e0c-85c8-06ea95d3f2c9\",\"type\":\"LinearAxis\"},{\"id\":\"7d8c9ca5-9946-42d6-bc4a-52c218515763\",\"type\":\"Grid\"},{\"id\":\"9b02f16d-eedf-472c-a5a9-833a50a707d9\",\"type\":\"BoxAnnotation\"},{\"id\":\"282e2b61-7c78-4c7e-a674-95f3796e837f\",\"type\":\"GlyphRenderer\"}],\"title\":{\"id\":\"5af40ff1-4bdd-4be2-a7cc-415dc00ffceb\",\"type\":\"Title\"},\"tool_events\":{\"id\":\"935db6d8-0980-4d8b-b995-7c7ad9560aa2\",\"type\":\"ToolEvents\"},\"toolbar\":{\"id\":\"d379bf1a-9c86-4267-b511-378dfbeb79c4\",\"type\":\"Toolbar\"},\"x_range\":{\"id\":\"121fae34-559f-490e-9e7a-32c9202cea51\",\"type\":\"Range1d\"},\"y_range\":{\"id\":\"c13b7b9b-26f2-428b-9eda-7dfd79ed5f2e\",\"type\":\"Range1d\"}},\"id\":\"60cb5a8e-520f-4fd5-8768-328e6e704bb3\",\"subtype\":\"Figure\",\"type\":\"Plot\"},{\"attributes\":{\"plot\":{\"id\":\"438cd2e7-ed22-4bb2-9df1-ab6cbddfa04e\",\"subtype\":\"Figure\",\"type\":\"Plot\"}},\"id\":\"f166ee61-ee92-463a-b5f4-eb6c62ded8fb\",\"type\":\"SaveTool\"},{\"attributes\":{},\"id\":\"42ccce04-9cab-41b9-a557-ee6cdf365d56\",\"type\":\"BasicTickFormatter\"},{\"attributes\":{\"bottom_units\":\"screen\",\"fill_alpha\":{\"value\":0.5},\"fill_color\":{\"value\":\"lightgrey\"},\"left_units\":\"screen\",\"level\":\"overlay\",\"line_alpha\":{\"value\":1.0},\"line_color\":{\"value\":\"black\"},\"line_dash\":[4,4],\"line_width\":{\"value\":2},\"plot\":null,\"render_mode\":\"css\",\"right_units\":\"screen\",\"top_units\":\"screen\"},\"id\":\"e75b0830-cb3c-4dc0-ba04-8ad23054b56d\",\"type\":\"BoxAnnotation\"},{\"attributes\":{\"callback\":null,\"column_names\":[\"xs\",\"ys\"],\"data\":{\"xs\":[[0,1,2,3,4,5,6,7,8,9,10,11,12,13,14,15,16,17,18,19,20,21,22,23,24,25,26,27,28,29,30,31,32,33,34,35,36,37,38,39,40,41,42,43,44,45,46,47,48,49,50,51,52,53,54,55,56,57,58,59,60,61,62,63,64,65,66,67,68,69,70,71,72,73,74,75,76,77,78,79,80,81,82,83,84,85,86,87,88,89,90,91,92,93,94,95,96,97,98,99,100,101,102,103,104,105,106,107,108,109,110,111,112,113,114,115,116,117,118,119,120,121,122,123,124,125,126,127,128,129,130,131,132,133,134,135,136,137,138,139,140,141,142,143,144,145,146,147,148,149,150,151,152,153,154,155,156,157,158,159,160,161,162,163,164,165,166,167,168,169,170,171,172,173,174,175,176,177,178,179,180,181,182,183,184,185,186,187,188,189,190,191,192,193,194,195,196,197,198,199,200,201,202,203,204,205,206,207,208,209,210,211,212,213,214,215,216,217,218,219,220,221,222,223,224,225,226,227,228,229,230,231,232,233,234,235,236,237,238,239,240,241,242,243,244,245,246,247,248,249,250,251,252,253,254,255,256,257,258,259,260,261,262,263,264,265,266,267,268,269,270,271,272,273,274,275,276,277,278,279,280,281,282,283,284,285,286,287,288,289,290,291,292,293,294,295,296,297,298,299,300,301,302,303,304,305,306,307,308,309,310,311,312,313,314,315,316,317,318,319,320,321,322,323,324,325,326,327,328,329,330,331,332,333,334,335,336,337,338,339,340,341,342,343,344,345,346,347,348,349,350,351,352,353,354,355,356,357,358,359,360,361,362,363,364,365,366,367,368,369,370,371,372,373,374,375,376,377,378,379,380,381,382,383,384,385,386,387,388,389,390,391,392,393,394,395,396,397,398,399,400,401,402,403,404,405,406,407,408,409,410,411,412,413,414,415,416,417,418,419,420,421,422,423,424,425,426,427,428,429,430,431,432,433,434,435,436,437,438,439,440,441,442,443,444,445,446,447,448,449,450,451,452,453,454,455,456,457,458,459,460,461,462,463,464,465,466,467,468,469,470,471,472,473,474,475,476,477,478,479,480,481,482,483,484,485,486,487,488,489,490,491,492,493,494,495,496,497,498,499,500,501,502,503,504,505,506,507,508,509,510,511,512,513,514,515,516,517,518,519,520,521,522,523,524,525,526,527,528,529,530,531,532,533,534,535,536,537,538,539,540,541,542,543,544,545,546,547,548,549,550,551,552,553,554,555,556,557,558,559,560,561,562,563,564,565,566,567,568,569,570,571,572,573,574,575,576,577,578,579,580,581,582,583,584,585,586,587,588,589,590,591,592,593,594,595,596,597,598,599,600,601,602,603,604,605,606,607,608,609,610,611,612,613,614,615,616,617,618,619],[0,1,2,3,4,5,6,7,8,9,10,11,12,13,14,15,16,17,18,19,20,21,22,23,24,25,26,27,28,29,30,31,32,33,34,35,36,37,38,39,40,41,42,43,44,45,46,47,48,49,50,51,52,53,54,55,56,57,58,59,60,61,62,63,64,65,66,67,68,69,70,71,72,73,74,75,76,77,78,79,80,81,82,83,84,85,86,87,88,89,90,91,92,93,94,95,96,97,98,99,100,101,102,103,104,105,106,107,108,109,110,111,112,113,114,115,116,117,118,119,120,121,122,123,124,125,126,127,128,129,130,131,132,133,134,135,136,137,138,139,140,141,142,143,144,145,146,147,148,149,150,151,152,153,154,155,156,157,158,159,160,161,162,163,164,165,166,167,168,169,170,171,172,173,174,175,176,177,178,179,180,181,182,183,184,185,186,187,188,189,190,191]],\"ys\":[[24,24,24,23,23,22,21,22,20,20,20,21,19,20,21,21,20,22,23,21,21,22,22,24,23,25,25,27,25,27,24,23,22,22,21,22,23,22,22,22,21,20,24,24,24,28,27,25,24,25,23,25,26,26,24,23,21,19,22,22,22,23,22,19,20,20,20,21,21,20,19,23,24,24,24,26,21,21,23,24,23,24,25,25,24,24,24,22,21,21,24,23,24,25,27,23,24,24,22,22,25,24,24,25,24,22,21,23,23,22,24,23,20,23,22,21,22,24,21,23,23,23,24,25,23,24,23,21,21,23,23,24,24,25,24,23,22,23,20,20,23,22,21,22,21,18,19,23,23,22,24,25,24,23,25,23,24,23,24,23,24,22,24,22,24,22,22,20,22,20,21,22,22,20,21,20,21,22,27,28,28,28,28,25,25,24,23,24,22,24,24,24,24,23,21,25,25,24,25,25,24,25,23,24,26,23,23,24,23,21,22,23,23,22,24,22,20,21,22,22,24,25,24,25,24,24,25,24,23,23,22,23,23,22,23,22,23,23,24,22,24,20,22,22,23,22,23,22,21,21,20,21,20,20,21,22,23,22,24,24,26,24,25,24,25,23,24,24,23,23,23,25,25,24,24,22,22,22,24,24,25,27,26,26,25,24,22,23,23,25,25,25,26,26,24,25,25,23,21,21,22,20,23,24,23,24,23,21,22,23,22,24,24,24,23,23,22,21,21,21,21,21,22,22,22,24,23,23,22,22,23,22,23,24,23,22,22,21,21,21,21,22,22,22,23,24,24,25,24,24,23,23,22,22,21,22,24,24,25,25,24,23,21,19,22,20,20,20,20,20,20,22,23,22,23,23,22,21,24,23,23,24,25,25,24,24,22,23,21,20,22,23,25,24,26,25,24,22,23,22,23,22,24,23,22,23,22,23,23,23,23,23,22,23,23,22,22,23,24,23,23,25,25,23,22,23,22,23,23,26,26,25,23,25,22,23,23,23,22,23,22,23,22,22,22,22,24,24,23,22,23,21,22,23,25,25,23,23,23,21,20,23,22,22,24,23,20,21,21,20,20,21,20,21,21,21,21,22,21,20,23,24,24,24,25,24,24,24,24,24,24,24,25,25,26,27,27,26,25,24,22,21,21,21,21,19,20,20,21,21,23,23,24,23,24,23,25,24,25,23,24,22,24,24,24,25,23,20,21,20,18,21,22,22,25,26,24,24,26,23,21,22,20,20,23,23,23,24,24,24,25,23,25,25,24,24,25,23,22,23,22,22,23,23,21,22,23,22,21,20,20,22,22,22,24,25,23,23,24,24,22,21,22,22,20,21,22,20,21,23,24,24,25,23,23,22,21,21,23,22,23,24,26,24,25,23,23,21,23,21,23,23,24,25,26,24,23,22,20,22],[21,23,22,24,24,26,23,24,26,26,27,28,27,25,24,23,24,24,23,25,25,24,27,27,26,26,26,23,23,24,25,26,27,26,24,25,25,23,24,25,23,25,25,26,27,27,26,26,27,26,25,26,26,25,23,23,25,24,24,26,26,24,27,27,25,24,23,21,20,23,23,25,26,27,24,25,26,24,23,23,22,22,21,24,24,24,23,24,22,22,22,22,27,28,28,30,31,26,24,24,24,21,21,23,24,24,24,25,24,24,23,23,23,23,26,25,25,25,24,20,21,21,23,25,26,27,28,27,27,29,27,25,25,25,23,24,24,25,25,24,24,24,22,24,25,25,24,28,26,25,25,26,23,23,23,21,22,21,23,22,23,24,23,23,24,23,22,23,22,24,23,23,23,22,20,22,22,22,23,24,23,23,23,23,24,23,23,23,24,21,23,25]]}},\"id\":\"4f1374ed-5139-47ae-975c-2a5688c03ff6\",\"type\":\"ColumnDataSource\"},{\"attributes\":{},\"id\":\"88be0ace-c3d7-44e3-864b-08872e802309\",\"type\":\"BasicTicker\"},{\"attributes\":{\"plot\":{\"id\":\"5207b84b-c3dd-4c59-822b-4ec74d9ab010\",\"subtype\":\"Figure\",\"type\":\"Plot\"}},\"id\":\"edde73c0-ba04-42f4-af6d-c1bfd41376c3\",\"type\":\"PanTool\"},{\"attributes\":{\"below\":[{\"id\":\"b7254ac9-edf6-4754-aeea-84f1f6eae0b5\",\"type\":\"LinearAxis\"}],\"left\":[{\"id\":\"17c68f43-8152-444e-95d6-5e9f3b719e94\",\"type\":\"LinearAxis\"}],\"plot_height\":100,\"renderers\":[{\"id\":\"b7254ac9-edf6-4754-aeea-84f1f6eae0b5\",\"type\":\"LinearAxis\"},{\"id\":\"8383cfa7-124d-417b-91ee-a8b40bce3988\",\"type\":\"Grid\"},{\"id\":\"17c68f43-8152-444e-95d6-5e9f3b719e94\",\"type\":\"LinearAxis\"},{\"id\":\"6a973d7f-c9e3-4a2b-a11e-bd24dbe8c08d\",\"type\":\"Grid\"},{\"id\":\"90f8f0f6-aa37-49e7-a2ed-4bfa5498ea2b\",\"type\":\"BoxAnnotation\"},{\"id\":\"fdead82c-9379-4d86-ace4-8c93fe1d7516\",\"type\":\"GlyphRenderer\"}],\"title\":{\"id\":\"b39308f5-d428-442e-9477-ea491d32ca11\",\"type\":\"Title\"},\"tool_events\":{\"id\":\"c8900761-52c8-4318-a6b9-2a5ce20312e7\",\"type\":\"ToolEvents\"},\"toolbar\":{\"id\":\"ff7a6b07-51b1-487e-ac94-ad246e540531\",\"type\":\"Toolbar\"},\"x_range\":{\"id\":\"121fae34-559f-490e-9e7a-32c9202cea51\",\"type\":\"Range1d\"},\"y_range\":{\"id\":\"c13b7b9b-26f2-428b-9eda-7dfd79ed5f2e\",\"type\":\"Range1d\"}},\"id\":\"438cd2e7-ed22-4bb2-9df1-ab6cbddfa04e\",\"subtype\":\"Figure\",\"type\":\"Plot\"},{\"attributes\":{},\"id\":\"f4ff668a-a810-4a22-a11e-69825ccb79db\",\"type\":\"BasicTickFormatter\"},{\"attributes\":{\"plot\":{\"id\":\"5207b84b-c3dd-4c59-822b-4ec74d9ab010\",\"subtype\":\"Figure\",\"type\":\"Plot\"}},\"id\":\"52f94a0f-9d3f-4493-8942-f32d82754629\",\"type\":\"HelpTool\"},{\"attributes\":{\"plot\":null,\"text\":\"1\"},\"id\":\"b39308f5-d428-442e-9477-ea491d32ca11\",\"type\":\"Title\"},{\"attributes\":{\"line_color\":{\"value\":\"#ffff33\"},\"xs\":{\"field\":\"xs\"},\"ys\":{\"field\":\"ys\"}},\"id\":\"35be21b9-e397-48f2-a139-8b71b903d7bf\",\"type\":\"MultiLine\"},{\"attributes\":{\"plot\":{\"id\":\"5207b84b-c3dd-4c59-822b-4ec74d9ab010\",\"subtype\":\"Figure\",\"type\":\"Plot\"}},\"id\":\"12d24833-469c-4a05-9787-2ddaa2c531de\",\"type\":\"WheelZoomTool\"},{\"attributes\":{\"dimension\":1,\"plot\":{\"id\":\"712c9d8c-0755-449a-9384-c827beb6f067\",\"subtype\":\"Figure\",\"type\":\"Plot\"},\"ticker\":{\"id\":\"b9364b7e-9319-4ff6-8943-ad8c9627542a\",\"type\":\"BasicTicker\"}},\"id\":\"185bd274-5c60-4096-9acd-ae4afdc48f43\",\"type\":\"Grid\"},{\"attributes\":{\"line_alpha\":{\"value\":0.1},\"line_color\":{\"value\":\"#1f77b4\"},\"xs\":{\"field\":\"xs\"},\"ys\":{\"field\":\"ys\"}},\"id\":\"2ba34bca-4276-4211-b502-cf32ee637872\",\"type\":\"MultiLine\"},{\"attributes\":{\"overlay\":{\"id\":\"e75b0830-cb3c-4dc0-ba04-8ad23054b56d\",\"type\":\"BoxAnnotation\"},\"plot\":{\"id\":\"5207b84b-c3dd-4c59-822b-4ec74d9ab010\",\"subtype\":\"Figure\",\"type\":\"Plot\"}},\"id\":\"b0d83605-8b35-4d02-97da-317f147cc5e3\",\"type\":\"BoxZoomTool\"},{\"attributes\":{\"data_source\":{\"id\":\"4f1374ed-5139-47ae-975c-2a5688c03ff6\",\"type\":\"ColumnDataSource\"},\"glyph\":{\"id\":\"35be21b9-e397-48f2-a139-8b71b903d7bf\",\"type\":\"MultiLine\"},\"hover_glyph\":null,\"muted_glyph\":null,\"nonselection_glyph\":{\"id\":\"2ba34bca-4276-4211-b502-cf32ee637872\",\"type\":\"MultiLine\"},\"selection_glyph\":null},\"id\":\"f37200cb-7400-4a3f-9bb0-d20cd4d71673\",\"type\":\"GlyphRenderer\"},{\"attributes\":{\"plot\":{\"id\":\"438cd2e7-ed22-4bb2-9df1-ab6cbddfa04e\",\"subtype\":\"Figure\",\"type\":\"Plot\"}},\"id\":\"e4dc5db3-5b22-4edc-91bd-73ed2464ce93\",\"type\":\"WheelZoomTool\"},{\"attributes\":{\"plot\":{\"id\":\"5207b84b-c3dd-4c59-822b-4ec74d9ab010\",\"subtype\":\"Figure\",\"type\":\"Plot\"}},\"id\":\"23c833bd-9f6d-4afa-b1c2-ee928ab8e50b\",\"type\":\"SaveTool\"},{\"attributes\":{},\"id\":\"6a2f8974-4bb8-4cfd-8693-45dee376a2bd\",\"type\":\"BasicTicker\"},{\"attributes\":{},\"id\":\"17ac304f-536e-45fd-b322-ece6a1d1bc15\",\"type\":\"BasicTickFormatter\"},{\"attributes\":{\"plot\":{\"id\":\"5207b84b-c3dd-4c59-822b-4ec74d9ab010\",\"subtype\":\"Figure\",\"type\":\"Plot\"}},\"id\":\"262f1bd1-ec18-47da-beab-033bd5ffa29f\",\"type\":\"ResetTool\"},{\"attributes\":{\"callback\":null,\"column_names\":[\"xs\",\"ys\"],\"data\":{\"xs\":[[0,1,2,3,4,5,6,7,8,9,10,11,12,13,14,15,16,17,18,19,20,21,22,23,24,25,26,27,28,29,30,31,32,33,34,35,36,37,38,39,40,41,42,43,44,45,46,47,48,49,50,51,52,53,54,55,56,57,58,59,60,61,62,63,64,65,66,67,68,69,70,71,72,73,74,75,76,77,78,79,80,81,82,83,84,85,86,87,88,89,90,91,92,93,94,95,96,97,98,99,100,101,102,103,104,105,106,107,108,109,110,111,112,113,114,115,116,117,118,119,120,121,122,123,124,125,126,127,128,129,130,131,132,133,134,135,136,137,138,139,140,141,142,143,144,145,146,147,148,149,150,151,152,153,154,155,156,157,158,159,160,161,162,163,164,165,166,167,168,169,170,171,172,173,174,175,176,177,178,179,180,181,182,183,184,185,186,187,188,189,190,191,192,193,194,195,196,197,198,199,200,201,202,203,204,205,206,207,208,209,210,211,212,213,214,215,216,217,218,219,220,221,222,223,224,225,226,227,228,229,230,231,232,233,234,235,236,237,238,239,240,241,242,243,244,245,246,247,248,249,250,251,252,253,254,255,256,257,258,259,260,261,262,263,264,265,266,267,268,269,270,271,272,273,274,275,276,277,278,279,280,281,282,283,284,285,286,287,288,289,290,291,292,293,294,295,296,297,298,299,300,301,302,303,304,305,306,307,308,309,310,311,312,313,314,315,316,317,318,319,320,321,322,323,324,325,326,327,328,329,330,331,332,333,334,335,336,337,338,339,340,341,342,343,344,345,346,347,348,349,350,351,352,353,354,355,356,357,358,359,360,361,362,363,364,365,366,367,368,369,370,371,372,373,374,375,376,377,378,379,380,381,382,383,384,385,386,387,388,389,390,391,392,393,394,395,396,397,398,399,400,401,402,403,404,405,406,407,408,409,410,411,412,413,414,415,416,417,418,419,420,421,422,423,424,425,426,427,428,429,430,431,432,433,434,435,436,437,438,439,440,441,442,443,444,445,446,447,448,449,450,451,452,453,454,455,456,457,458,459,460,461,462,463,464,465,466,467,468,469,470,471,472,473,474,475,476,477,478,479,480,481,482,483,484,485,486,487,488,489,490,491,492,493,494,495,496,497,498,499,500,501,502,503,504,505,506,507,508,509,510,511,512,513,514,515,516,517,518,519,520,521,522,523,524,525,526,527,528,529,530,531,532,533,534,535,536,537,538,539,540,541,542,543,544,545,546,547,548,549,550,551,552,553,554,555,556,557,558,559,560,561,562,563,564,565,566,567,568,569,570,571,572,573,574,575,576,577,578,579,580,581,582,583,584,585,586,587,588,589,590,591,592,593,594,595,596,597,598,599,600,601,602,603,604,605,606,607,608,609,610,611,612,613,614,615,616,617,618,619],[0,1,2,3,4,5,6,7,8,9,10,11,12,13,14,15,16,17,18,19,20,21,22,23,24,25,26,27,28,29,30,31,32,33,34,35,36,37,38,39,40,41,42,43,44,45,46,47,48,49,50,51,52,53,54,55,56,57,58,59,60,61,62,63,64,65,66,67,68,69,70,71,72,73,74,75,76,77,78,79,80,81,82,83,84,85,86,87,88,89,90,91,92,93,94,95,96,97,98,99,100,101,102,103,104,105,106,107,108,109,110,111,112,113,114,115,116,117,118,119,120,121,122,123,124,125,126,127,128,129,130,131,132,133,134,135,136,137,138,139,140,141,142,143,144,145,146,147,148,149,150,151,152,153,154,155,156,157,158,159,160,161,162,163,164,165,166,167,168,169,170,171,172,173,174,175,176,177,178,179,180,181,182,183,184,185,186,187,188,189,190,191]],\"ys\":[[29,27,30,33,30,30,32,31,29,30,31,29,29,31,31,29,29,28,26,27,26,26,28,26,24,28,28,28,29,31,30,30,29,28,27,26,28,28,30,30,28,29,29,28,27,29,27,30,30,29,29,27,27,27,27,28,29,26,26,28,25,28,27,27,26,27,28,29,29,27,27,24,24,22,23,26,25,25,26,27,25,26,27,27,29,29,29,28,29,28,28,32,33,34,32,34,31,31,29,29,27,25,25,29,30,30,32,32,28,27,26,27,28,30,32,31,32,32,31,30,31,29,27,27,29,29,28,29,30,30,29,29,28,26,28,28,30,30,29,26,29,28,26,30,31,30,30,31,29,27,26,23,24,25,26,28,29,28,27,28,29,29,28,30,29,27,27,29,28,27,27,27,25,25,24,23,23,21,25,27,29,29,29,28,27,29,30,31,33,32,28,27,27,24,26,28,27,28,30,30,30,32,31,30,31,28,26,28,31,30,32,34,33,32,31,30,31,29,28,30,28,25,27,28,28,30,30,30,32,29,30,31,32,27,30,27,27,27,28,27,28,27,25,23,27,28,26,28,30,29,30,31,32,33,30,30,34,33,31,33,32,28,29,30,28,28,29,28,26,27,28,28,27,27,28,29,28,28,30,28,24,26,26,24,27,29,29,29,32,31,31,30,29,29,29,31,30,30,29,29,27,27,28,26,29,29,29,30,32,31,30,31,30,30,28,28,26,29,26,25,26,27,24,24,27,28,27,26,29,27,27,27,28,26,25,25,26,24,25,26,23,24,24,27,26,27,30,30,28,30,28,26,28,27,26,28,27,27,28,27,28,28,28,28,28,28,30,30,29,30,29,28,26,26,23,24,28,29,28,29,29,25,24,25,25,24,24,25,26,25,25,25,24,27,27,28,29,28,26,25,24,24,26,26,26,28,28,26,25,29,27,26,27,28,25,26,27,28,26,26,25,25,22,22,24,24,24,25,26,24,23,24,24,26,27,26,28,28,27,27,29,27,26,27,27,29,29,29,26,28,25,27,26,28,25,27,24,27,28,30,31,34,31,30,30,29,28,29,31,29,28,28,27,26,28,28,28,28,26,24,26,24,25,25,24,24,26,24,26,27,28,28,30,30,31,31,30,29,27,40,45,47,48,48,39,30,28,27,28,24,25,26,25,25,35,47,49,49,51,45,32,33,35,32,32,34,28,26,29,29,28,39,40,40,51,53,48,48,47,36,32,34,34,33,32,32,29,27,27,35,33,33,35,35,29,29,28,31,29,29,30,33,30,31,32,30,29,35,35,34,36,36,28,27,28,25,25,28,28,28,29,29,27,33,31,31,30,34,30,29,29,30,27,28,28,27,26,24,24,24,24,25,29,27,29,29,27,27,27,27,26,27,25,33,31,32,32,34,26,27],[36,36,36,34,31,31,32,35,37,37,36,35,33,26,30,32,33,35,36,36,39,36,35,34,34,30,31,33,32,33,31,34,33,39,38,39,40,39,37,38,37,34,34,31,34,35,37,35,38,35,34,31,33,30,28,31,32,28,31,33,34,35,35,35,32,31,32,35,35,36,40,39,41,43,43,39,40,37,34,33,31,35,34,37,38,38,34,33,33,33,36,34,41,39,39,38,39,33,34,35,35,34,35,31,31,28,31,31,31,31,32,31,36,36,36,37,36,31,31,30,28,29,32,32,35,35,33,30,33,34,34,35,36,33,28,32,32,32,42,41,43,44,43,34,34,30,28,29,29,33,33,34,34,36,34,34,32,32,33,33,32,33,31,33,33,34,37,38,35,36,34,30,31,33,32,32,34,32,31,31,33,32,33,34,36,35,35,35,34,35,35,34]]}},\"id\":\"6763e751-70e9-4166-806e-82631d899515\",\"type\":\"ColumnDataSource\"},{\"attributes\":{\"formatter\":{\"id\":\"9897521d-2176-420a-9ce0-9ec680da3ebc\",\"type\":\"BasicTickFormatter\"},\"plot\":{\"id\":\"438cd2e7-ed22-4bb2-9df1-ab6cbddfa04e\",\"subtype\":\"Figure\",\"type\":\"Plot\"},\"ticker\":{\"id\":\"6a2f8974-4bb8-4cfd-8693-45dee376a2bd\",\"type\":\"BasicTicker\"}},\"id\":\"17c68f43-8152-444e-95d6-5e9f3b719e94\",\"type\":\"LinearAxis\"},{\"attributes\":{\"plot\":{\"id\":\"60cb5a8e-520f-4fd5-8768-328e6e704bb3\",\"subtype\":\"Figure\",\"type\":\"Plot\"},\"ticker\":{\"id\":\"f23f038e-a410-4eb8-8119-9baeba49b756\",\"type\":\"BasicTicker\"}},\"id\":\"3fa8434a-eada-4543-99f0-2221f8e62d72\",\"type\":\"Grid\"},{\"attributes\":{},\"id\":\"5335f09d-0236-4b00-8b2f-59a1bfd53907\",\"type\":\"BasicTickFormatter\"},{\"attributes\":{},\"id\":\"b1b34c3a-3287-44ff-90b0-f277706e3231\",\"type\":\"BasicTicker\"},{\"attributes\":{\"callback\":null,\"column_names\":[\"xs\",\"ys\"],\"data\":{\"xs\":[[0,1,2,3,4,5,6,7,8,9,10,11,12,13,14,15,16,17,18,19,20,21,22,23,24,25,26,27,28,29,30,31,32,33,34,35,36,37,38,39,40,41,42,43,44,45,46,47,48,49,50,51,52,53,54,55,56,57,58,59,60,61,62,63,64,65,66,67,68,69,70,71,72,73,74,75,76,77,78,79,80,81,82,83,84,85,86,87,88,89,90,91,92,93,94,95,96,97,98,99,100,101,102,103,104,105,106,107,108,109,110,111,112,113,114,115,116,117,118,119,120,121,122,123,124,125,126,127,128,129,130,131,132,133,134,135,136,137,138,139,140,141,142,143,144,145,146,147,148,149,150,151,152,153,154,155,156,157,158,159,160,161,162,163,164,165,166,167,168,169,170,171,172,173,174,175,176,177,178,179,180,181,182,183,184,185,186,187,188,189,190,191,192,193,194,195,196,197,198,199,200,201,202,203,204,205,206,207,208,209,210,211,212,213,214,215,216,217,218,219,220,221,222,223,224,225,226,227,228,229,230,231,232,233,234,235,236,237,238,239,240,241,242,243,244,245,246,247,248,249,250,251,252,253,254,255,256,257,258,259,260,261,262,263,264,265,266,267,268,269,270,271,272,273,274,275,276,277,278,279,280,281,282,283,284,285,286,287,288,289,290,291,292,293,294,295,296,297,298,299,300,301,302,303,304,305,306,307,308,309,310,311,312,313,314,315,316,317,318,319,320,321,322,323,324,325,326,327,328,329,330,331,332,333,334,335,336,337,338,339,340,341,342,343,344,345,346,347,348,349,350,351,352,353,354,355,356,357,358,359,360,361,362,363,364,365,366,367,368,369,370,371,372,373,374,375,376,377,378,379,380,381,382,383,384,385,386,387,388,389,390,391,392,393,394,395,396,397,398,399,400,401,402,403,404,405,406,407,408,409,410,411,412,413,414,415,416,417,418,419,420,421,422,423,424,425,426,427,428,429,430,431,432,433,434,435,436,437,438,439,440,441,442,443,444,445,446,447,448,449,450,451,452,453,454,455,456,457,458,459,460,461,462,463,464,465,466,467,468,469,470,471,472,473,474,475,476,477,478,479,480,481,482,483,484,485,486,487,488,489,490,491,492,493,494,495,496,497,498,499,500,501,502,503,504,505,506,507,508,509,510,511,512,513,514,515,516,517,518,519,520,521,522,523,524,525,526,527,528,529,530,531,532,533,534,535,536,537,538,539,540,541,542,543,544,545,546,547,548,549,550,551,552,553,554,555,556,557,558,559,560,561,562,563,564,565,566,567,568,569,570,571,572,573,574,575,576,577,578,579,580,581,582,583,584,585,586,587,588,589,590,591,592,593,594,595,596,597,598,599,600,601,602,603,604,605,606,607,608,609,610,611,612,613,614,615,616,617,618,619],[0,1,2,3,4,5,6,7,8,9,10,11,12,13,14,15,16,17,18,19,20,21,22,23,24,25,26,27,28,29,30,31,32,33,34,35,36,37,38,39,40,41,42,43,44,45,46,47,48,49,50,51,52,53,54,55,56,57,58,59,60,61,62,63,64,65,66,67,68,69,70,71,72,73,74,75,76,77,78,79,80,81,82,83,84,85,86,87,88,89,90,91,92,93,94,95,96,97,98,99,100,101,102,103,104,105,106,107,108,109,110,111,112,113,114,115,116,117,118,119,120,121,122,123,124,125,126,127,128,129,130,131,132,133,134,135,136,137,138,139,140,141,142,143,144,145,146,147,148,149,150,151,152,153,154,155,156,157,158,159,160,161,162,163,164,165,166,167,168,169,170,171,172,173,174,175,176,177,178,179,180,181,182,183,184,185,186,187,188,189,190,191]],\"ys\":[[22,23,23,24,23,22,22,22,21,22,23,20,21,19,20,19,21,21,21,21,21,21,21,20,22,23,23,24,26,24,21,22,20,20,22,24,24,24,24,24,22,23,24,23,23,24,23,22,22,20,20,20,21,21,22,21,21,21,20,20,21,20,21,20,21,20,20,20,22,22,21,23,23,23,23,23,23,23,22,22,22,22,21,21,22,21,20,22,21,22,21,23,22,23,21,23,21,21,22,23,22,22,22,22,24,24,23,24,24,20,19,21,20,19,20,22,20,20,22,23,23,24,23,21,22,24,23,26,25,24,21,22,18,20,20,20,18,20,19,20,21,22,21,20,19,20,21,23,23,23,21,20,20,21,24,24,23,23,24,21,24,25,24,23,21,22,21,21,21,22,20,25,25,24,24,23,20,24,31,31,32,32,29,23,23,23,21,20,21,20,18,19,21,20,21,22,22,21,22,22,22,21,22,22,21,21,21,20,21,21,22,22,23,22,22,21,21,22,21,21,22,22,21,21,23,22,22,24,23,22,22,23,21,21,20,20,19,19,20,21,21,21,23,21,21,20,19,19,21,22,24,23,26,23,24,23,23,20,20,20,20,22,22,24,22,24,23,22,23,23,22,22,22,23,23,23,21,22,20,20,19,20,22,22,22,23,21,18,17,18,19,20,22,22,23,22,22,22,22,20,21,21,22,22,24,23,25,23,24,24,23,22,21,22,21,21,20,22,21,22,22,23,24,24,25,24,24,22,23,21,22,21,22,20,19,19,18,18,18,19,19,20,19,21,19,21,21,23,22,23,21,21,20,21,23,24,25,23,23,24,23,21,22,23,23,23,25,24,23,23,22,21,21,21,20,19,20,22,22,22,23,23,22,22,21,22,24,22,23,24,23,21,22,21,21,21,21,21,21,21,20,20,21,21,20,22,21,20,21,21,21,21,22,21,22,22,22,22,22,22,22,22,22,24,23,22,23,23,20,20,21,21,22,22,22,22,22,21,21,22,21,22,21,22,21,22,23,23,23,23,22,22,23,22,25,25,24,24,25,21,21,22,22,26,25,25,27,24,21,22,23,22,24,24,24,23,23,21,22,22,22,21,22,20,21,20,20,20,21,18,19,21,21,21,23,24,24,24,24,24,24,21,21,22,21,22,23,24,23,23,22,23,21,20,21,20,19,21,21,22,23,23,21,21,21,19,19,21,21,20,21,22,22,22,22,20,21,19,19,19,20,18,19,19,20,20,20,20,22,24,25,25,25,24,21,20,20,20,18,17,21,22,22,24,24,23,22,23,22,21,21,22,21,20,22,21,20,21,22,21,21,22,21,21,22,21,21,21,20,21,20,21,23,22,23,25,25,23,23,23,22,23,24,23,22,21,20,20,21,21,21,20,20,21,21,23,23,22,22,21],[21,22,20,21,20,21,22,22,23,25,23,24,25,22,21,22,19,20,20,21,22,25,24,25,24,23,22,22,21,24,24,23,23,23,21,23,23,24,25,25,23,22,22,20,22,20,22,20,22,23,26,25,26,25,23,19,22,22,22,23,23,20,21,20,19,20,21,20,22,22,21,21,24,22,24,24,24,22,22,20,21,22,23,23,24,24,23,22,20,20,20,22,30,32,33,33,33,28,26,25,24,23,21,20,21,21,20,21,21,22,23,23,22,22,22,22,23,24,25,23,25,25,24,24,25,24,23,22,23,23,22,23,24,24,22,23,24,22,22,23,23,21,21,21,20,21,20,20,21,22,23,24,23,22,22,21,21,21,22,22,22,22,22,22,22,20,20,21,21,22,22,23,23,24,24,24,22,23,20,21,20,20,20,22,21,21,22,20,21,21,22,22]]}},\"id\":\"55cd2aee-dfb8-4062-8315-023cf7fb2feb\",\"type\":\"ColumnDataSource\"},{\"attributes\":{\"dimension\":1,\"plot\":{\"id\":\"438cd2e7-ed22-4bb2-9df1-ab6cbddfa04e\",\"subtype\":\"Figure\",\"type\":\"Plot\"},\"ticker\":{\"id\":\"6a2f8974-4bb8-4cfd-8693-45dee376a2bd\",\"type\":\"BasicTicker\"}},\"id\":\"6a973d7f-c9e3-4a2b-a11e-bd24dbe8c08d\",\"type\":\"Grid\"},{\"attributes\":{\"active_drag\":\"auto\",\"active_scroll\":\"auto\",\"active_tap\":\"auto\",\"tools\":[{\"id\":\"f45e41a4-59ab-41ca-85e3-c37ca7e1616d\",\"type\":\"PanTool\"},{\"id\":\"543d37ea-21f5-4376-a0d9-924a1b10ea75\",\"type\":\"WheelZoomTool\"},{\"id\":\"4ffddb70-c9c8-4bab-a095-abf0cea8ee7d\",\"type\":\"BoxZoomTool\"},{\"id\":\"6d5e207b-859c-4205-bc0d-9dc7a475ae38\",\"type\":\"SaveTool\"},{\"id\":\"3d1d3cc6-d679-4f7a-9fcd-0ae5775c0a02\",\"type\":\"ResetTool\"},{\"id\":\"caa54063-f00b-4b12-8d9c-d99166d630e6\",\"type\":\"HelpTool\"}]},\"id\":\"d379bf1a-9c86-4267-b511-378dfbeb79c4\",\"type\":\"Toolbar\"},{\"attributes\":{\"below\":[{\"id\":\"6b81b26c-af40-444b-8bbd-082c99c23bcc\",\"type\":\"LinearAxis\"}],\"left\":[{\"id\":\"77864ae8-4a8a-470f-ab4f-5d8d10462b20\",\"type\":\"LinearAxis\"}],\"plot_height\":100,\"renderers\":[{\"id\":\"6b81b26c-af40-444b-8bbd-082c99c23bcc\",\"type\":\"LinearAxis\"},{\"id\":\"36162c61-47a1-407b-9e22-95d4555908b9\",\"type\":\"Grid\"},{\"id\":\"77864ae8-4a8a-470f-ab4f-5d8d10462b20\",\"type\":\"LinearAxis\"},{\"id\":\"29a29c77-912b-4023-a4e5-c81dcd63a349\",\"type\":\"Grid\"},{\"id\":\"4bc75437-6bc8-48bd-a59a-a15ceb3377d2\",\"type\":\"BoxAnnotation\"},{\"id\":\"efe28d55-ecb0-4557-96be-0ab2664065d3\",\"type\":\"GlyphRenderer\"}],\"title\":{\"id\":\"dcf2fc23-303c-46b4-9358-40407c33367e\",\"type\":\"Title\"},\"tool_events\":{\"id\":\"084d4cf5-db29-43b1-9424-48ed5912fdc5\",\"type\":\"ToolEvents\"},\"toolbar\":{\"id\":\"f1895aa6-a6e8-4c1f-93af-1ef07fcb0069\",\"type\":\"Toolbar\"},\"x_range\":{\"id\":\"121fae34-559f-490e-9e7a-32c9202cea51\",\"type\":\"Range1d\"},\"y_range\":{\"id\":\"c13b7b9b-26f2-428b-9eda-7dfd79ed5f2e\",\"type\":\"Range1d\"}},\"id\":\"ebed09d2-df63-4254-a43f-0eea088709c2\",\"subtype\":\"Figure\",\"type\":\"Plot\"},{\"attributes\":{},\"id\":\"14f8fe46-6a0c-4d5d-8102-54367d44ce4b\",\"type\":\"BasicTickFormatter\"},{\"attributes\":{},\"id\":\"f23f038e-a410-4eb8-8119-9baeba49b756\",\"type\":\"BasicTicker\"},{\"attributes\":{\"plot\":null,\"text\":\"2\"},\"id\":\"dcf2fc23-303c-46b4-9358-40407c33367e\",\"type\":\"Title\"},{\"attributes\":{},\"id\":\"75c5a406-69fa-4981-bcdf-8a1ff27be402\",\"type\":\"BasicTicker\"},{\"attributes\":{\"line_color\":{\"value\":\"#a65628\"},\"xs\":{\"field\":\"xs\"},\"ys\":{\"field\":\"ys\"}},\"id\":\"a00e7415-82b9-44d2-9cf8-734f4cb7b48c\",\"type\":\"MultiLine\"},{\"attributes\":{\"bottom_units\":\"screen\",\"fill_alpha\":{\"value\":0.5},\"fill_color\":{\"value\":\"lightgrey\"},\"left_units\":\"screen\",\"level\":\"overlay\",\"line_alpha\":{\"value\":1.0},\"line_color\":{\"value\":\"black\"},\"line_dash\":[4,4],\"line_width\":{\"value\":2},\"plot\":null,\"render_mode\":\"css\",\"right_units\":\"screen\",\"top_units\":\"screen\"},\"id\":\"90f8f0f6-aa37-49e7-a2ed-4bfa5498ea2b\",\"type\":\"BoxAnnotation\"},{\"attributes\":{\"line_alpha\":{\"value\":0.1},\"line_color\":{\"value\":\"#1f77b4\"},\"xs\":{\"field\":\"xs\"},\"ys\":{\"field\":\"ys\"}},\"id\":\"647103b1-fc70-4e23-83bf-2c8a866e9bfa\",\"type\":\"MultiLine\"},{\"attributes\":{\"plot\":null,\"text\":\"7\"},\"id\":\"665be26e-c877-4637-905c-85afddd68b75\",\"type\":\"Title\"},{\"attributes\":{\"dimension\":1,\"plot\":{\"id\":\"60cb5a8e-520f-4fd5-8768-328e6e704bb3\",\"subtype\":\"Figure\",\"type\":\"Plot\"},\"ticker\":{\"id\":\"75c5a406-69fa-4981-bcdf-8a1ff27be402\",\"type\":\"BasicTicker\"}},\"id\":\"7d8c9ca5-9946-42d6-bc4a-52c218515763\",\"type\":\"Grid\"},{\"attributes\":{\"plot\":{\"id\":\"438cd2e7-ed22-4bb2-9df1-ab6cbddfa04e\",\"subtype\":\"Figure\",\"type\":\"Plot\"}},\"id\":\"0c9e212a-7070-43d2-bdf4-61e24232fb0a\",\"type\":\"PanTool\"},{\"attributes\":{\"data_source\":{\"id\":\"55cd2aee-dfb8-4062-8315-023cf7fb2feb\",\"type\":\"ColumnDataSource\"},\"glyph\":{\"id\":\"a00e7415-82b9-44d2-9cf8-734f4cb7b48c\",\"type\":\"MultiLine\"},\"hover_glyph\":null,\"muted_glyph\":null,\"nonselection_glyph\":{\"id\":\"647103b1-fc70-4e23-83bf-2c8a866e9bfa\",\"type\":\"MultiLine\"},\"selection_glyph\":null},\"id\":\"282e2b61-7c78-4c7e-a674-95f3796e837f\",\"type\":\"GlyphRenderer\"},{\"attributes\":{\"callback\":null,\"end\":619},\"id\":\"121fae34-559f-490e-9e7a-32c9202cea51\",\"type\":\"Range1d\"},{\"attributes\":{\"children\":[{\"id\":\"712c9d8c-0755-449a-9384-c827beb6f067\",\"subtype\":\"Figure\",\"type\":\"Plot\"},{\"id\":\"438cd2e7-ed22-4bb2-9df1-ab6cbddfa04e\",\"subtype\":\"Figure\",\"type\":\"Plot\"},{\"id\":\"ebed09d2-df63-4254-a43f-0eea088709c2\",\"subtype\":\"Figure\",\"type\":\"Plot\"},{\"id\":\"eef39e49-4aa2-4269-8ca2-4e6679a0aef7\",\"subtype\":\"Figure\",\"type\":\"Plot\"},{\"id\":\"271ced19-a880-43fc-b85b-50651dd89e0f\",\"subtype\":\"Figure\",\"type\":\"Plot\"},{\"id\":\"5207b84b-c3dd-4c59-822b-4ec74d9ab010\",\"subtype\":\"Figure\",\"type\":\"Plot\"},{\"id\":\"60cb5a8e-520f-4fd5-8768-328e6e704bb3\",\"subtype\":\"Figure\",\"type\":\"Plot\"},{\"id\":\"99e9aa5e-fe87-4771-8896-17bd7912bca7\",\"subtype\":\"Figure\",\"type\":\"Plot\"}]},\"id\":\"cd3f27ec-a570-4f56-84b2-c06b64864c8b\",\"type\":\"Column\"},{\"attributes\":{\"callback\":null,\"end\":57,\"start\":17},\"id\":\"c13b7b9b-26f2-428b-9eda-7dfd79ed5f2e\",\"type\":\"Range1d\"}],\"root_ids\":[\"cd3f27ec-a570-4f56-84b2-c06b64864c8b\"]},\"title\":\"Bokeh Application\",\"version\":\"0.12.5\"}};\n",
       "            var render_items = [{\"docid\":\"1a353718-4644-42c8-9cbd-27fea82563d0\",\"elementid\":\"8bbda024-bd66-4617-b974-213e63290922\",\"modelid\":\"cd3f27ec-a570-4f56-84b2-c06b64864c8b\"}];\n",
       "            \n",
       "            Bokeh.embed.embed_items(docs_json, render_items);\n",
       "          };\n",
       "          if (document.readyState != \"loading\") fn();\n",
       "          else document.addEventListener(\"DOMContentLoaded\", fn);\n",
       "        })();\n",
       "      },\n",
       "      function(Bokeh) {\n",
       "      }\n",
       "    ];\n",
       "  \n",
       "    function run_inline_js() {\n",
       "      \n",
       "      if ((window.Bokeh !== undefined) || (force === true)) {\n",
       "        for (var i = 0; i < inline_js.length; i++) {\n",
       "          inline_js[i](window.Bokeh);\n",
       "        }if (force === true) {\n",
       "          display_loaded();\n",
       "        }} else if (Date.now() < window._bokeh_timeout) {\n",
       "        setTimeout(run_inline_js, 100);\n",
       "      } else if (!window._bokeh_failed_load) {\n",
       "        console.log(\"Bokeh: BokehJS failed to load within specified timeout.\");\n",
       "        window._bokeh_failed_load = true;\n",
       "      } else if (force !== true) {\n",
       "        var cell = $(document.getElementById(\"8bbda024-bd66-4617-b974-213e63290922\")).parents('.cell').data().cell;\n",
       "        cell.output_area.append_execute_result(NB_LOAD_WARNING)\n",
       "      }\n",
       "  \n",
       "    }\n",
       "  \n",
       "    if (window._bokeh_is_loading === 0) {\n",
       "      console.log(\"Bokeh: BokehJS loaded, going straight to plotting\");\n",
       "      run_inline_js();\n",
       "    } else {\n",
       "      load_libs(js_urls, function() {\n",
       "        console.log(\"Bokeh: BokehJS plotting callback run at\", now());\n",
       "        run_inline_js();\n",
       "      });\n",
       "    }\n",
       "  }(this));\n",
       "</script>"
      ]
     },
     "metadata": {},
     "output_type": "display_data"
    }
   ],
   "source": [
    "gesture = 5\n",
    "print(dic[feed_dic[its[1]][gesture-1][0]])\n",
    "plotdf(feed_dic[its[1]][gesture-1][1])"
   ]
  },
  {
   "cell_type": "code",
   "execution_count": 10,
   "metadata": {},
   "outputs": [
    {
     "name": "stderr",
     "output_type": "stream",
     "text": [
      "Using TensorFlow backend.\n"
     ]
    }
   ],
   "source": [
    "from keras.layers.convolutional import Conv1D\n",
    "import keras\n",
    "from keras.models import Sequential\n",
    "from keras.layers import Dense, Dropout, Activation, Flatten, LocallyConnected2D\n",
    "from keras.layers import Conv2D, MaxPooling2D, LSTM\n",
    "from keras.layers.normalization import BatchNormalization\n",
    "from IPython.display import SVG\n",
    "from keras.utils.vis_utils import model_to_dot\n",
    "\n"
   ]
  },
  {
   "cell_type": "code",
   "execution_count": 75,
   "metadata": {},
   "outputs": [
    {
     "data": {
      "image/svg+xml": [
       "<svg height=\"304pt\" viewBox=\"0.00 0.00 302.00 304.00\" width=\"302pt\" xmlns=\"http://www.w3.org/2000/svg\" xmlns:xlink=\"http://www.w3.org/1999/xlink\">\n",
       "<g class=\"graph\" id=\"graph0\" transform=\"scale(1 1) rotate(0) translate(4 300)\">\n",
       "<title>G</title>\n",
       "<polygon fill=\"white\" points=\"-4,4 -4,-300 298,-300 298,4 -4,4\" stroke=\"none\"/>\n",
       "<!-- 139665828343480 -->\n",
       "<g class=\"node\" id=\"node1\"><title>139665828343480</title>\n",
       "<polygon fill=\"none\" points=\"0,-249.5 0,-295.5 294,-295.5 294,-249.5 0,-249.5\" stroke=\"black\"/>\n",
       "<text font-family=\"Times,serif\" font-size=\"14.00\" text-anchor=\"middle\" x=\"85\" y=\"-268.8\">dense_11_input: InputLayer</text>\n",
       "<polyline fill=\"none\" points=\"170,-249.5 170,-295.5 \" stroke=\"black\"/>\n",
       "<text font-family=\"Times,serif\" font-size=\"14.00\" text-anchor=\"middle\" x=\"197.5\" y=\"-280.3\">input:</text>\n",
       "<polyline fill=\"none\" points=\"170,-272.5 225,-272.5 \" stroke=\"black\"/>\n",
       "<text font-family=\"Times,serif\" font-size=\"14.00\" text-anchor=\"middle\" x=\"197.5\" y=\"-257.3\">output:</text>\n",
       "<polyline fill=\"none\" points=\"225,-249.5 225,-295.5 \" stroke=\"black\"/>\n",
       "<text font-family=\"Times,serif\" font-size=\"14.00\" text-anchor=\"middle\" x=\"259.5\" y=\"-280.3\">(None, 8)</text>\n",
       "<polyline fill=\"none\" points=\"225,-272.5 294,-272.5 \" stroke=\"black\"/>\n",
       "<text font-family=\"Times,serif\" font-size=\"14.00\" text-anchor=\"middle\" x=\"259.5\" y=\"-257.3\">(None, 8)</text>\n",
       "</g>\n",
       "<!-- 139665828343144 -->\n",
       "<g class=\"node\" id=\"node2\"><title>139665828343144</title>\n",
       "<polygon fill=\"none\" points=\"27,-166.5 27,-212.5 267,-212.5 267,-166.5 27,-166.5\" stroke=\"black\"/>\n",
       "<text font-family=\"Times,serif\" font-size=\"14.00\" text-anchor=\"middle\" x=\"81.5\" y=\"-185.8\">dense_11: Dense</text>\n",
       "<polyline fill=\"none\" points=\"136,-166.5 136,-212.5 \" stroke=\"black\"/>\n",
       "<text font-family=\"Times,serif\" font-size=\"14.00\" text-anchor=\"middle\" x=\"163.5\" y=\"-197.3\">input:</text>\n",
       "<polyline fill=\"none\" points=\"136,-189.5 191,-189.5 \" stroke=\"black\"/>\n",
       "<text font-family=\"Times,serif\" font-size=\"14.00\" text-anchor=\"middle\" x=\"163.5\" y=\"-174.3\">output:</text>\n",
       "<polyline fill=\"none\" points=\"191,-166.5 191,-212.5 \" stroke=\"black\"/>\n",
       "<text font-family=\"Times,serif\" font-size=\"14.00\" text-anchor=\"middle\" x=\"229\" y=\"-197.3\">(None, 8)</text>\n",
       "<polyline fill=\"none\" points=\"191,-189.5 267,-189.5 \" stroke=\"black\"/>\n",
       "<text font-family=\"Times,serif\" font-size=\"14.00\" text-anchor=\"middle\" x=\"229\" y=\"-174.3\">(None, 16)</text>\n",
       "</g>\n",
       "<!-- 139665828343480&#45;&gt;139665828343144 -->\n",
       "<g class=\"edge\" id=\"edge1\"><title>139665828343480-&gt;139665828343144</title>\n",
       "<path d=\"M147,-249.366C147,-241.152 147,-231.658 147,-222.725\" fill=\"none\" stroke=\"black\"/>\n",
       "<polygon fill=\"black\" points=\"150.5,-222.607 147,-212.607 143.5,-222.607 150.5,-222.607\" stroke=\"black\"/>\n",
       "</g>\n",
       "<!-- 139665828727048 -->\n",
       "<g class=\"node\" id=\"node3\"><title>139665828727048</title>\n",
       "<polygon fill=\"none\" points=\"7.5,-83.5 7.5,-129.5 286.5,-129.5 286.5,-83.5 7.5,-83.5\" stroke=\"black\"/>\n",
       "<text font-family=\"Times,serif\" font-size=\"14.00\" text-anchor=\"middle\" x=\"81.5\" y=\"-102.8\">activation_8: Activation</text>\n",
       "<polyline fill=\"none\" points=\"155.5,-83.5 155.5,-129.5 \" stroke=\"black\"/>\n",
       "<text font-family=\"Times,serif\" font-size=\"14.00\" text-anchor=\"middle\" x=\"183\" y=\"-114.3\">input:</text>\n",
       "<polyline fill=\"none\" points=\"155.5,-106.5 210.5,-106.5 \" stroke=\"black\"/>\n",
       "<text font-family=\"Times,serif\" font-size=\"14.00\" text-anchor=\"middle\" x=\"183\" y=\"-91.3\">output:</text>\n",
       "<polyline fill=\"none\" points=\"210.5,-83.5 210.5,-129.5 \" stroke=\"black\"/>\n",
       "<text font-family=\"Times,serif\" font-size=\"14.00\" text-anchor=\"middle\" x=\"248.5\" y=\"-114.3\">(None, 16)</text>\n",
       "<polyline fill=\"none\" points=\"210.5,-106.5 286.5,-106.5 \" stroke=\"black\"/>\n",
       "<text font-family=\"Times,serif\" font-size=\"14.00\" text-anchor=\"middle\" x=\"248.5\" y=\"-91.3\">(None, 16)</text>\n",
       "</g>\n",
       "<!-- 139665828343144&#45;&gt;139665828727048 -->\n",
       "<g class=\"edge\" id=\"edge2\"><title>139665828343144-&gt;139665828727048</title>\n",
       "<path d=\"M147,-166.366C147,-158.152 147,-148.658 147,-139.725\" fill=\"none\" stroke=\"black\"/>\n",
       "<polygon fill=\"black\" points=\"150.5,-139.607 147,-129.607 143.5,-139.607 150.5,-139.607\" stroke=\"black\"/>\n",
       "</g>\n",
       "<!-- 139665828527576 -->\n",
       "<g class=\"node\" id=\"node4\"><title>139665828527576</title>\n",
       "<polygon fill=\"none\" points=\"27,-0.5 27,-46.5 267,-46.5 267,-0.5 27,-0.5\" stroke=\"black\"/>\n",
       "<text font-family=\"Times,serif\" font-size=\"14.00\" text-anchor=\"middle\" x=\"81.5\" y=\"-19.8\">dense_12: Dense</text>\n",
       "<polyline fill=\"none\" points=\"136,-0.5 136,-46.5 \" stroke=\"black\"/>\n",
       "<text font-family=\"Times,serif\" font-size=\"14.00\" text-anchor=\"middle\" x=\"163.5\" y=\"-31.3\">input:</text>\n",
       "<polyline fill=\"none\" points=\"136,-23.5 191,-23.5 \" stroke=\"black\"/>\n",
       "<text font-family=\"Times,serif\" font-size=\"14.00\" text-anchor=\"middle\" x=\"163.5\" y=\"-8.3\">output:</text>\n",
       "<polyline fill=\"none\" points=\"191,-0.5 191,-46.5 \" stroke=\"black\"/>\n",
       "<text font-family=\"Times,serif\" font-size=\"14.00\" text-anchor=\"middle\" x=\"229\" y=\"-31.3\">(None, 16)</text>\n",
       "<polyline fill=\"none\" points=\"191,-23.5 267,-23.5 \" stroke=\"black\"/>\n",
       "<text font-family=\"Times,serif\" font-size=\"14.00\" text-anchor=\"middle\" x=\"229\" y=\"-8.3\">(None, 1)</text>\n",
       "</g>\n",
       "<!-- 139665828727048&#45;&gt;139665828527576 -->\n",
       "<g class=\"edge\" id=\"edge3\"><title>139665828727048-&gt;139665828527576</title>\n",
       "<path d=\"M147,-83.3664C147,-75.1516 147,-65.6579 147,-56.7252\" fill=\"none\" stroke=\"black\"/>\n",
       "<polygon fill=\"black\" points=\"150.5,-56.6068 147,-46.6068 143.5,-56.6069 150.5,-56.6068\" stroke=\"black\"/>\n",
       "</g>\n",
       "</g>\n",
       "</svg>"
      ],
      "text/plain": [
       "<IPython.core.display.SVG object>"
      ]
     },
     "execution_count": 75,
     "metadata": {},
     "output_type": "execute_result"
    }
   ],
   "source": [
    "model = Sequential()\n",
    "model.add(Dense(16,input_shape=(8,)))\n",
    "model.add(Activation('relu'))\n",
    "#model.add(Dense(16))\n",
    "#model.add(Activation('relu'))\n",
    "#model.add(Dense(16))\n",
    "#model.add(Activation('relu'))\n",
    "model.add(Dense(1,activation='sigmoid'))\n",
    "model.compile(optimizer='adam', loss='binary_crossentropy', metrics=['accuracy'], class_mode=\"binary\" )\n",
    "SVG(model_to_dot(model, show_shapes=True).create(prog='dot', format='svg'))\n"
   ]
  },
  {
   "cell_type": "code",
   "execution_count": 66,
   "metadata": {},
   "outputs": [
    {
     "name": "stdout",
     "output_type": "stream",
     "text": [
      "_________________________________________________________________\n",
      "Layer (type)                 Output Shape              Param #   \n",
      "=================================================================\n",
      "dense_9 (Dense)              (None, 16)                144       \n",
      "_________________________________________________________________\n",
      "activation_7 (Activation)    (None, 16)                0         \n",
      "_________________________________________________________________\n",
      "dense_10 (Dense)             (None, 1)                 17        \n",
      "=================================================================\n",
      "Total params: 161.0\n",
      "Trainable params: 161.0\n",
      "Non-trainable params: 0.0\n",
      "_________________________________________________________________\n"
     ]
    }
   ],
   "source": [
    "model.summary()"
   ]
  },
  {
   "cell_type": "code",
   "execution_count": 67,
   "metadata": {},
   "outputs": [
    {
     "name": "stdout",
     "output_type": "stream",
     "text": [
      "(11824, 8)\n"
     ]
    }
   ],
   "source": [
    "# prep data:\n",
    "\n",
    "x = list()\n",
    "y = list()\n",
    "for f in its:\n",
    "    for k in feed_dic[f]:\n",
    "        if k[1]:\n",
    "            a = np.concatenate([np.array(i) for i in k[1] ], axis= 0 )\n",
    "            b = np.resize(np.array(k[0]), (a.shape[0],1))\n",
    "            x.append(a)\n",
    "            y.append(b)\n",
    "\n",
    "y = np.concatenate(y)\n",
    "x = np.concatenate(x)\n",
    "print(x.shape)"
   ]
  },
  {
   "cell_type": "code",
   "execution_count": 68,
   "metadata": {},
   "outputs": [
    {
     "name": "stdout",
     "output_type": "stream",
     "text": [
      "(6592, 8)\n",
      "[[1]\n",
      " [1]\n",
      " [1]\n",
      " ..., \n",
      " [0]\n",
      " [0]\n",
      " [0]]\n"
     ]
    }
   ],
   "source": [
    "# prep data further\n",
    "x_cut = x[ np.in1d(y[:,0], (2,4,8,9)) ]\n",
    "y_cut = y[ np.in1d(y[:,0], (2,4,8,9)) ]\n",
    "y_cut[ np.in1d(y_cut[:,0], (2,4) ) ] = 1\n",
    "y_cut[ np.in1d(y_cut[:,0], (8,9) ) ] = 0\n",
    "\n",
    "#from keras.utils.np_utils import to_categorical\n",
    "#y_cut_binary = to_categorical(y_cut)\n",
    "y_cut_binary = y_cut\n",
    "\n",
    "split_size = int(x_cut.shape[0]*0.1)\n",
    "\n",
    "y_cut_train, y_cut_test = y_cut_binary[split_size:], y_cut_binary[:split_size]\n",
    "x_cut_train, x_cut_test = x_cut[split_size:], x_cut[:split_size]\n",
    "\n",
    "print(x_cut_train.shape)\n",
    "print(y_cut_train)"
   ]
  },
  {
   "cell_type": "code",
   "execution_count": 69,
   "metadata": {},
   "outputs": [
    {
     "name": "stderr",
     "output_type": "stream",
     "text": [
      "/home/myo/anaconda3/envs/tensorflow/lib/python3.6/site-packages/keras/backend/tensorflow_backend.py:2094: UserWarning: Expected no kwargs, you passed 1\n",
      "kwargs passed to function are ignored with Tensorflow backend\n",
      "  warnings.warn('\\n'.join(msg))\n"
     ]
    },
    {
     "name": "stdout",
     "output_type": "stream",
     "text": [
      "Train on 5273 samples, validate on 1319 samples\n",
      "Epoch 1/50\n",
      "5273/5273 [==============================] - 0s - loss: 0.0955 - acc: 0.9892 - val_loss: 0.0145 - val_acc: 0.9985\n",
      "Epoch 2/50\n",
      "5273/5273 [==============================] - 0s - loss: 0.0775 - acc: 0.9917 - val_loss: 0.0134 - val_acc: 0.9985\n",
      "Epoch 3/50\n",
      "5273/5273 [==============================] - 0s - loss: 0.0618 - acc: 0.9934 - val_loss: 0.0088 - val_acc: 0.9985\n",
      "Epoch 4/50\n",
      "5273/5273 [==============================] - 0s - loss: 0.0547 - acc: 0.9953 - val_loss: 0.0122 - val_acc: 0.9985\n",
      "Epoch 5/50\n",
      "5273/5273 [==============================] - 0s - loss: 0.0499 - acc: 0.9958 - val_loss: 0.0112 - val_acc: 0.9977\n",
      "Epoch 6/50\n",
      "5273/5273 [==============================] - 0s - loss: 0.0386 - acc: 0.9966 - val_loss: 0.0156 - val_acc: 0.9947\n",
      "Epoch 7/50\n",
      "5273/5273 [==============================] - 0s - loss: 0.0254 - acc: 0.9972 - val_loss: 0.0128 - val_acc: 0.9955\n",
      "Epoch 8/50\n",
      "5273/5273 [==============================] - 0s - loss: 0.0250 - acc: 0.9975 - val_loss: 0.0114 - val_acc: 0.9962\n",
      "Epoch 9/50\n",
      "5273/5273 [==============================] - 0s - loss: 0.0232 - acc: 0.9981 - val_loss: 0.0150 - val_acc: 0.9955\n",
      "Epoch 10/50\n",
      "5273/5273 [==============================] - 0s - loss: 0.0226 - acc: 0.9985 - val_loss: 0.0102 - val_acc: 0.9962\n",
      "Epoch 11/50\n",
      "5273/5273 [==============================] - 0s - loss: 0.0228 - acc: 0.9985 - val_loss: 0.0165 - val_acc: 0.9955\n",
      "Epoch 12/50\n",
      "5273/5273 [==============================] - 0s - loss: 0.0223 - acc: 0.9987 - val_loss: 0.0082 - val_acc: 0.9977\n",
      "Epoch 13/50\n",
      "5273/5273 [==============================] - 0s - loss: 0.0225 - acc: 0.9983 - val_loss: 0.0103 - val_acc: 0.9962\n",
      "Epoch 14/50\n",
      "5273/5273 [==============================] - 0s - loss: 0.0226 - acc: 0.9983 - val_loss: 0.0095 - val_acc: 0.9962\n",
      "Epoch 15/50\n",
      "5273/5273 [==============================] - 0s - loss: 0.0223 - acc: 0.9987 - val_loss: 0.0078 - val_acc: 0.9977\n",
      "Epoch 16/50\n",
      "5273/5273 [==============================] - 0s - loss: 0.0222 - acc: 0.9987 - val_loss: 0.0085 - val_acc: 0.9977\n",
      "Epoch 17/50\n",
      "5273/5273 [==============================] - 0s - loss: 0.0233 - acc: 0.9977 - val_loss: 0.0209 - val_acc: 0.9947\n",
      "Epoch 18/50\n",
      "5273/5273 [==============================] - 0s - loss: 0.0203 - acc: 0.9985 - val_loss: 0.0120 - val_acc: 0.9962\n",
      "Epoch 19/50\n",
      "5273/5273 [==============================] - 0s - loss: 0.0191 - acc: 0.9989 - val_loss: 0.0117 - val_acc: 0.9962\n",
      "Epoch 20/50\n",
      "5273/5273 [==============================] - 0s - loss: 0.0189 - acc: 0.9989 - val_loss: 0.0128 - val_acc: 0.9962\n",
      "Epoch 21/50\n",
      "5273/5273 [==============================] - 0s - loss: 0.0190 - acc: 0.9987 - val_loss: 0.0110 - val_acc: 0.9962\n",
      "Epoch 22/50\n",
      "5273/5273 [==============================] - 0s - loss: 0.0192 - acc: 0.9989 - val_loss: 0.0080 - val_acc: 0.9977\n",
      "Epoch 23/50\n",
      "5273/5273 [==============================] - 0s - loss: 0.0188 - acc: 0.9989 - val_loss: 0.0085 - val_acc: 0.9977\n",
      "Epoch 24/50\n",
      "5273/5273 [==============================] - 0s - loss: 0.0187 - acc: 0.9989 - val_loss: 0.0086 - val_acc: 0.9977\n",
      "Epoch 25/50\n",
      "5273/5273 [==============================] - 0s - loss: 0.0187 - acc: 0.9989 - val_loss: 0.0084 - val_acc: 0.9977\n",
      "Epoch 26/50\n",
      "5273/5273 [==============================] - 0s - loss: 0.0187 - acc: 0.9989 - val_loss: 0.0075 - val_acc: 0.9977\n",
      "Epoch 27/50\n",
      "5273/5273 [==============================] - 0s - loss: 0.0186 - acc: 0.9989 - val_loss: 0.0074 - val_acc: 0.9977\n",
      "Epoch 28/50\n",
      "5273/5273 [==============================] - 0s - loss: 0.0186 - acc: 0.9989 - val_loss: 0.0077 - val_acc: 0.9977\n",
      "Epoch 29/50\n",
      "5273/5273 [==============================] - 0s - loss: 0.0186 - acc: 0.9989 - val_loss: 0.0083 - val_acc: 0.9977\n",
      "Epoch 30/50\n",
      "5273/5273 [==============================] - 0s - loss: 0.0186 - acc: 0.9989 - val_loss: 0.0069 - val_acc: 0.9977\n",
      "Epoch 31/50\n",
      "5273/5273 [==============================] - 0s - loss: 0.0186 - acc: 0.9989 - val_loss: 0.0078 - val_acc: 0.9977\n",
      "Epoch 32/50\n",
      "5273/5273 [==============================] - 0s - loss: 0.0186 - acc: 0.9989 - val_loss: 0.0071 - val_acc: 0.9977\n",
      "Epoch 33/50\n",
      "5273/5273 [==============================] - 0s - loss: 0.0186 - acc: 0.9989 - val_loss: 0.0064 - val_acc: 0.9977\n",
      "Epoch 34/50\n",
      "5273/5273 [==============================] - 0s - loss: 0.0186 - acc: 0.9989 - val_loss: 0.0079 - val_acc: 0.9977\n",
      "Epoch 35/50\n",
      "5273/5273 [==============================] - 0s - loss: 0.0186 - acc: 0.9989 - val_loss: 0.0065 - val_acc: 0.9977\n",
      "Epoch 36/50\n",
      "5273/5273 [==============================] - 0s - loss: 0.0185 - acc: 0.9989 - val_loss: 0.0072 - val_acc: 0.9977\n",
      "Epoch 37/50\n",
      "5273/5273 [==============================] - 0s - loss: 0.0185 - acc: 0.9989 - val_loss: 0.0062 - val_acc: 0.9977\n",
      "Epoch 38/50\n",
      "5273/5273 [==============================] - 0s - loss: 0.0185 - acc: 0.9989 - val_loss: 0.0060 - val_acc: 0.9977\n",
      "Epoch 39/50\n",
      "5273/5273 [==============================] - 0s - loss: 0.0185 - acc: 0.9989 - val_loss: 0.0059 - val_acc: 0.9977\n",
      "Epoch 40/50\n",
      "5273/5273 [==============================] - 0s - loss: 0.0185 - acc: 0.9989 - val_loss: 0.0055 - val_acc: 0.9977\n",
      "Epoch 41/50\n",
      "5273/5273 [==============================] - 0s - loss: 0.0185 - acc: 0.9989 - val_loss: 0.0067 - val_acc: 0.9977\n",
      "Epoch 42/50\n",
      "5273/5273 [==============================] - 0s - loss: 0.0185 - acc: 0.9989 - val_loss: 0.0064 - val_acc: 0.9977\n",
      "Epoch 43/50\n",
      "5273/5273 [==============================] - 0s - loss: 0.0185 - acc: 0.9989 - val_loss: 0.0060 - val_acc: 0.9977\n",
      "Epoch 44/50\n",
      "5273/5273 [==============================] - 0s - loss: 0.0185 - acc: 0.9989 - val_loss: 0.0061 - val_acc: 0.9977\n",
      "Epoch 45/50\n",
      "5273/5273 [==============================] - 0s - loss: 0.0185 - acc: 0.9989 - val_loss: 0.0055 - val_acc: 0.9977\n",
      "Epoch 46/50\n",
      "5273/5273 [==============================] - 0s - loss: 0.0185 - acc: 0.9989 - val_loss: 0.0060 - val_acc: 0.9977\n",
      "Epoch 47/50\n",
      "5273/5273 [==============================] - 0s - loss: 0.0185 - acc: 0.9989 - val_loss: 0.0055 - val_acc: 0.9977\n",
      "Epoch 48/50\n",
      "5273/5273 [==============================] - 0s - loss: 0.0185 - acc: 0.9989 - val_loss: 0.0057 - val_acc: 0.9977\n",
      "Epoch 49/50\n",
      "5273/5273 [==============================] - 0s - loss: 0.0185 - acc: 0.9989 - val_loss: 0.0052 - val_acc: 0.9977\n",
      "Epoch 50/50\n",
      "5273/5273 [==============================] - 0s - loss: 0.0185 - acc: 0.9989 - val_loss: 0.0050 - val_acc: 0.9985\n"
     ]
    },
    {
     "data": {
      "text/plain": [
       "<keras.callbacks.History at 0x7f067c1bceb8>"
      ]
     },
     "execution_count": 69,
     "metadata": {},
     "output_type": "execute_result"
    }
   ],
   "source": [
    "model.fit(x_cut_train,y_cut_train,epochs = 50, batch_size = 100, validation_split=0.2, shuffle=True)"
   ]
  },
  {
   "cell_type": "code",
   "execution_count": 70,
   "metadata": {},
   "outputs": [
    {
     "name": "stdout",
     "output_type": "stream",
     "text": [
      "700/732 [===========================>..] - ETA: 0s"
     ]
    }
   ],
   "source": [
    "scores = model.evaluate(x_cut_test, y_cut_test, batch_size=10)"
   ]
  },
  {
   "cell_type": "code",
   "execution_count": 72,
   "metadata": {},
   "outputs": [
    {
     "name": "stdout",
     "output_type": "stream",
     "text": [
      "['loss', 'acc']\n",
      "[2.3549161963744846e-07, 1.0]\n"
     ]
    }
   ],
   "source": [
    "print(model.metrics_names)\n",
    "print(scores)"
   ]
  },
  {
   "cell_type": "code",
   "execution_count": 74,
   "metadata": {},
   "outputs": [
    {
     "name": "stdout",
     "output_type": "stream",
     "text": [
      "_________________________________________________________________\n",
      "Layer (type)                 Output Shape              Param #   \n",
      "=================================================================\n",
      "dense_9 (Dense)              (None, 16)                144       \n",
      "_________________________________________________________________\n",
      "activation_7 (Activation)    (None, 16)                0         \n",
      "_________________________________________________________________\n",
      "dense_10 (Dense)             (None, 1)                 17        \n",
      "=================================================================\n",
      "Total params: 161.0\n",
      "Trainable params: 161.0\n",
      "Non-trainable params: 0.0\n",
      "_________________________________________________________________\n"
     ]
    }
   ],
   "source": [
    "model.summary()"
   ]
  },
  {
   "cell_type": "code",
   "execution_count": 77,
   "metadata": {
    "collapsed": true
   },
   "outputs": [],
   "source": [
    "model.save(\"/home/myo/models/v1.h5\")"
   ]
  },
  {
   "cell_type": "code",
   "execution_count": 79,
   "metadata": {},
   "outputs": [],
   "source": [
    "from keras.models import load_model\n",
    "m2 = load_model(\"/home/myo/models/v1.h5\")"
   ]
  },
  {
   "cell_type": "code",
   "execution_count": 97,
   "metadata": {
    "collapsed": true
   },
   "outputs": [],
   "source": [
    "np.array?"
   ]
  },
  {
   "cell_type": "code",
   "execution_count": 102,
   "metadata": {},
   "outputs": [
    {
     "data": {
      "text/plain": [
       "(1, 8)"
      ]
     },
     "execution_count": 102,
     "metadata": {},
     "output_type": "execute_result"
    }
   ],
   "source": [
    "kk = list(range(0,8))\n",
    "np.array(kk,ndmin=2).shape"
   ]
  },
  {
   "cell_type": "code",
   "execution_count": 104,
   "metadata": {},
   "outputs": [],
   "source": [
    "r2d2 = m2.predict(np.array(kk,ndmin=2))"
   ]
  },
  {
   "cell_type": "code",
   "execution_count": 108,
   "metadata": {},
   "outputs": [
    {
     "name": "stdout",
     "output_type": "stream",
     "text": [
      "0.738821268081665\n"
     ]
    }
   ],
   "source": [
    "print(np.squeeze(r2d2))"
   ]
  },
  {
   "cell_type": "code",
   "execution_count": 110,
   "metadata": {},
   "outputs": [
    {
     "data": {
      "text/plain": [
       "3.5"
      ]
     },
     "execution_count": 110,
     "metadata": {},
     "output_type": "execute_result"
    }
   ],
   "source": [
    "np.mean(kk)"
   ]
  },
  {
   "cell_type": "code",
   "execution_count": null,
   "metadata": {
    "collapsed": true
   },
   "outputs": [],
   "source": []
  }
 ],
 "metadata": {
  "kernelspec": {
   "display_name": "Python 3",
   "language": "python",
   "name": "python3"
  },
  "language_info": {
   "codemirror_mode": {
    "name": "ipython",
    "version": 3
   },
   "file_extension": ".py",
   "mimetype": "text/x-python",
   "name": "python",
   "nbconvert_exporter": "python",
   "pygments_lexer": "ipython3",
   "version": "3.6.1"
  }
 },
 "nbformat": 4,
 "nbformat_minor": 2
}
