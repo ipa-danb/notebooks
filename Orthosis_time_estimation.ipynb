{
 "cells": [
  {
   "cell_type": "code",
   "execution_count": 5,
   "metadata": {
    "collapsed": true
   },
   "outputs": [],
   "source": [
    "import numpy as np"
   ]
  },
  {
   "cell_type": "code",
   "execution_count": 1,
   "metadata": {
    "collapsed": true
   },
   "outputs": [],
   "source": [
    "JM    = 0.325      # kg/m^2   \n",
    "JRKvG = 0.335e-05  # kg/m^2   \n",
    "JAKvG = 0.176e-05  # kg/m^2   \n",
    "JRZ19 = 2.00e-11   # kg/m^2   \n",
    "JFL   = 1.00e-06   # kg/m^2   \n",
    "JZM   = 0.0228e-05 # kg/m^2   \n",
    "JRZ48 = 2.4e-09    # kg/m^2\n",
    "JSP   = 0.25e-05   # kg/m^2\n",
    "JLMu  = 2.45e-08   # kg/m^2"
   ]
  },
  {
   "cell_type": "code",
   "execution_count": 2,
   "metadata": {
    "collapsed": true
   },
   "outputs": [],
   "source": [
    "ig  = 2.5   # -\n",
    "isp = 51.52 # -"
   ]
  },
  {
   "cell_type": "code",
   "execution_count": 3,
   "metadata": {
    "collapsed": true
   },
   "outputs": [],
   "source": [
    "JgesPM = JM + JRKvG + JAKvG + 3*JRZ19 + JFL + JZM + JRZ48/ig**2 + JSP/ig**2 + JLMu/(ig**2 + isp**2)"
   ]
  },
  {
   "cell_type": "markdown",
   "metadata": {},
   "source": [
    "![alt text](https://abload.de/img/t249po2.png)\n"
   ]
  },
  {
   "cell_type": "code",
   "execution_count": 58,
   "metadata": {},
   "outputs": [
    {
     "name": "stdout",
     "output_type": "stream",
     "text": [
      "Needed  3.06161183816  ms\n"
     ]
    }
   ],
   "source": [
    "K = 93.143*2                 # N/mm Spring constant\n",
    "M_b_max = 94                 # Nm Max Torque from\n",
    "ho = 0.25                    # m länge hebel\n",
    "hh = 0.5                     # m länge arm\n",
    "d_gel = 65.5/1000            # m durchmesser gelenk\n",
    "\n",
    "r_bieg = (hh - ho + ho/2)/2  # m radius für das moment\n",
    "F_max = M_b_max/r_bieg       # N Maximale Kraft die Wirken darf durch die orthese\n",
    "M_o = F_max*ho/2             # Nm Maximales Drehmoment an der Orthese\n",
    "F_zug = M_o/(d_gel/2)        # N Kraft im Seil\n",
    "x_max = min(F_zug/(K),9.00)  # Protection\n",
    "\n",
    "m_federn = 0.5               # kg\n",
    "Fr       = 1852\n",
    "a        = (Fr + Fr - min(891.843*2,F_zug))/(m_federn)\n",
    "t        = np.sqrt(x_max/1000 *4 / a)\n",
    "print(\"Needed \" , t*1000 , \" ms\")"
   ]
  },
  {
   "cell_type": "code",
   "execution_count": 57,
   "metadata": {},
   "outputs": [
    {
     "data": {
      "text/plain": [
       "9.58"
      ]
     },
     "execution_count": 57,
     "metadata": {},
     "output_type": "execute_result"
    }
   ],
   "source": [
    "x_max"
   ]
  },
  {
   "cell_type": "markdown",
   "metadata": {},
   "source": [
    "[1] Pintar, F. A., & Yoganandan, N. (2002, March). Dynamic Bending Tolerance of the Human Forearm. Traffic Injury Prevention. Informa UK Limited. https://doi.org/10.1080/15389580210520"
   ]
  }
 ],
 "metadata": {
  "kernelspec": {
   "display_name": "Python 3",
   "language": "python",
   "name": "python3"
  },
  "language_info": {
   "codemirror_mode": {
    "name": "ipython",
    "version": 3
   },
   "file_extension": ".py",
   "mimetype": "text/x-python",
   "name": "python",
   "nbconvert_exporter": "python",
   "pygments_lexer": "ipython3",
   "version": "3.6.1"
  }
 },
 "nbformat": 4,
 "nbformat_minor": 2
}
